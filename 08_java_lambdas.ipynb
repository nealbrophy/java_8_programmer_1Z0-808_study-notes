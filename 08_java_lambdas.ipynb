{
 "cells": [
  {
   "cell_type": "markdown",
   "id": "0e6bf946",
   "metadata": {},
   "source": [
    "# Lambda Expressions\n",
    "Java 8 introduced *lambda expressions* which is essentially an anonymous function that gets passed around by other methods/functions. They have parameters and a body like normal methods but they don't have a name. In other languages they're often referred to as *closures*.\n",
    "\n",
    "A very simple lambda expression might look something like this:\n",
    "<br>`param -> param.doSomething()`\n",
    "\n",
    "The above is a function that takes the parameter `param` and returns the result of calling the `doSomething()` method on `param`. We could rewrite it like this:\n",
    "<br>`(Object param) -> { return param.doSomething(); }`\n",
    "\n",
    "The parentheses around the parameter can be omitted if there's only a single paramater and it's type isn't being explicitly declared. Likewise the curly-braces and `return` keyword can be omitted when there's only a single statement."
   ]
  },
  {
   "cell_type": "markdown",
   "id": "c7a11904",
   "metadata": {},
   "source": [
    "The below table lists some examples of Lambda expressions:\n",
    "\n",
    "Lambda Expression|Notes\n",
    ":--|:--\n",
    "`(Integer i1, Integer i2) -> { return i1 * i2; }`|This is the full syntax\n",
    "`(Double d1, Double d2) -> d1 * d2`|Curly braces and *return* keyword can be omitted if the body is a single statement\n",
    "`s -> { return s.charAt(2); }`|Parentheses around parameter can be omitted if there's only one param and it's *type* is not stated\n",
    "`(String s) -> { return s.indexOf('a'); }`|If there's a single param but it's type is specified, parentheses are required\n",
    "`(s1, s2) -> { String part1 = s1; String part2 = s2; if (part1.equals(part2) { return part1; } else {return part1 + part 2; }}`| Multi-statement body must be enclosed in braces\n",
    "`() -> 12`|*Runnable* and *Callable* Functional Interfaces have abstract methods without params, so no target type is included"
   ]
  },
  {
   "cell_type": "markdown",
   "id": "dab7af63",
   "metadata": {},
   "source": [
    "Lamda's can appear in any of the following contexts:\n",
    "- assignments\n",
    "- array initializers\n",
    "- cast expressions\n",
    "- constructor arguments\n",
    "- lambda bodies\n",
    "- method arguments\n",
    "- return statements\n",
    "- ternery expressions\n",
    "- variable declarations"
   ]
  },
  {
   "cell_type": "markdown",
   "id": "979df0ac",
   "metadata": {},
   "source": [
    "## Lambdas accessing variables\n",
    "If lambdas are anonymous functions and functions often manipulate variables, then what variables can a lambda function access? This depends on the context but it's possible for lambdas to access instance & static variables and also method parameters & local variables as long as they're not trying to redeclare them."
   ]
  },
  {
   "cell_type": "markdown",
   "id": "967690f3",
   "metadata": {},
   "source": [
    "## Functional Interfaces in Java\n",
    "Lambda expressions need to have a *Functional Interface* (also known as a *single abstract method (SAM)*). *Functional Interfaces* provide target *types* (i.e. the return type) for lambda expressions in addition to method references. Functional Interfaces must have exactly one abstract method (`test`) and since the name of this method is known, the method name is excluded from the lambda expression.\n",
    "\n",
    "A Functional Interface can have one or more default methods and one or more static methods. Default methods allow for the addition of new code to the interface. An example of a Functional Interface that includes default methods is the *Predicate* interface from `java.util.function`"
   ]
  },
  {
   "cell_type": "markdown",
   "id": "8b4da97c",
   "metadata": {},
   "source": [
    "## Predicates\n",
    "`Predicate` is an interface provided by Java in the `java.util.function` package and looks like this:\n",
    "<br>\n",
    "<br>`public interface Predicate<T> {`\n",
    "<br>&nbsp;&nbsp;&nbsp;&nbsp;`boolean test(T t);`\n",
    "<br>`}`\n",
    "\n",
    "So, a `Predicate` takes a single input and returns a boolean.\n",
    "\n",
    "An example of a method which uses the *Predicate* interface is *ArrayList's* `removeIf()` method which removes all elements of an *ArrayList* that satisfy the expression."
   ]
  },
  {
   "cell_type": "code",
   "execution_count": 3,
   "id": "17811ab1",
   "metadata": {},
   "outputs": [
    {
     "name": "stdout",
     "output_type": "stream",
     "text": [
      "[Superman, Wonder Woman, Batman, Hawkman]\n",
      "[Batman]\n"
     ]
    },
    {
     "data": {
      "text/plain": [
       "null"
      ]
     },
     "execution_count": 3,
     "metadata": {},
     "output_type": "execute_result"
    }
   ],
   "source": [
    "import java.util.ArrayList;\n",
    "\n",
    "ArrayList<String> justiceLeague = new ArrayList<>();\n",
    "justiceLeague.add(\"Superman\");\n",
    "justiceLeague.add(\"Wonder Woman\");\n",
    "justiceLeague.add(\"Batman\");\n",
    "justiceLeague.add(\"Hawkman\");\n",
    "System.out.println(justiceLeague);\n",
    "justiceLeague.removeIf(hero -> hero.charAt(0) != 'B'); // lambda expression passed to removeIf()\n",
    "System.out.println(justiceLeague);"
   ]
  },
  {
   "cell_type": "markdown",
   "id": "0144b1da",
   "metadata": {},
   "source": [
    "### Lambda Types\n",
    "A lambda *type*, specifies the type of expression a method is expecting. For example, the `.replaceAll()` method from `java.util.List` has a signature like this:\n",
    "<br>`.replaceAll(UnaryOperator<E> operator)`\n",
    "\n",
    "This tells us that *replaceAll* takes a *UnaryOperator* type expression. A *UnaryOperator* has a single input and returns a value of the same *type* as the input i.e. if passed a `String` it will return a `String`."
   ]
  },
  {
   "cell_type": "code",
   "execution_count": null,
   "id": "1eb48f01",
   "metadata": {},
   "outputs": [],
   "source": []
  }
 ],
 "metadata": {
  "kernelspec": {
   "display_name": "Java",
   "language": "java",
   "name": "java"
  },
  "language_info": {
   "codemirror_mode": "text/x-java",
   "file_extension": ".java",
   "mimetype": "",
   "name": "Java",
   "nbconverter_exporter": "",
   "version": "1.8.0_121"
  },
  "toc": {
   "base_numbering": 1,
   "nav_menu": {},
   "number_sections": false,
   "sideBar": false,
   "skip_h1_title": false,
   "title_cell": "Table of Contents",
   "title_sidebar": "Contents",
   "toc_cell": false,
   "toc_position": {},
   "toc_section_display": false,
   "toc_window_display": false
  }
 },
 "nbformat": 4,
 "nbformat_minor": 5
}
