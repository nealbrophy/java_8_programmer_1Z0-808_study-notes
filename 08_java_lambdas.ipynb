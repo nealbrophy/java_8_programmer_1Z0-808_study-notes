{
 "cells": [
  {
   "cell_type": "markdown",
   "id": "0e6bf946",
   "metadata": {},
   "source": [
    "# Lambda Expressions\n",
    "Java 8 introduced *lambda expressions* which is essentially an anonymous function that gets passed around by other methods/functions. They have parameters and a body like normal methods but they don't have a name. In other languages they're often referred to as *closures*.\n",
    "\n",
    "A very simple lambda expression might look something like this:\n",
    "<br>`param -> param.doSomething()`\n",
    "\n",
    "The above is a function that takes the parameter `param` and returns the result of calling the `doSomething()` method on `param`. We could rewrite it like this:\n",
    "<br>`(Object param) -> { return param.doSomething(); }`\n",
    "\n",
    "The parentheses around the parameter can be omitted if there's only a single paramater and it's type isn't being explicitly declared. Likewise the curly-braces and `return` keyword can be omitted when there's only a single statement."
   ]
  },
  {
   "cell_type": "markdown",
   "id": "979df0ac",
   "metadata": {},
   "source": [
    "## Lambdas accessing variables\n",
    "If lambdas are anonymous functions and functions often manipulate variables, then what variables can a lambda function access? This depends on the context but it's possible for lambdas to access instance & static variables and also method parameters & local variables as long as they're not trying to redeclare them."
   ]
  },
  {
   "cell_type": "markdown",
   "id": "8b4da97c",
   "metadata": {},
   "source": [
    "## Predicates\n",
    "`Predicate` is an interface provided by Java in the `java.util.function` package and looks like this:\n",
    "<br>\n",
    "<br>`public interface Predicate<T> {`\n",
    "<br>&nbsp;&nbsp;&nbsp;&nbsp;`boolean test(T t);`\n",
    "<br>`}`\n",
    "\n",
    "It's intended use is as a quick fix interface to use when you need a lambda which tests a condition and returns a boolean. An example of a method which uses the *Predicate* interface is *ArrayList's* `removeIf()` method."
   ]
  },
  {
   "cell_type": "code",
   "execution_count": 3,
   "id": "17811ab1",
   "metadata": {},
   "outputs": [
    {
     "name": "stdout",
     "output_type": "stream",
     "text": [
      "[Superman, Wonder Woman, Batman, Hawkman]\n",
      "[Batman]\n"
     ]
    },
    {
     "data": {
      "text/plain": [
       "null"
      ]
     },
     "execution_count": 3,
     "metadata": {},
     "output_type": "execute_result"
    }
   ],
   "source": [
    "import java.util.ArrayList;\n",
    "\n",
    "ArrayList<String> justiceLeague = new ArrayList<>();\n",
    "justiceLeague.add(\"Superman\");\n",
    "justiceLeague.add(\"Wonder Woman\");\n",
    "justiceLeague.add(\"Batman\");\n",
    "justiceLeague.add(\"Hawkman\");\n",
    "System.out.println(justiceLeague);\n",
    "justiceLeague.removeIf(hero -> hero.charAt(0) != 'B');\n",
    "System.out.println(justiceLeague);"
   ]
  },
  {
   "cell_type": "code",
   "execution_count": null,
   "id": "0d08b5de",
   "metadata": {},
   "outputs": [],
   "source": []
  }
 ],
 "metadata": {
  "kernelspec": {
   "display_name": "Java",
   "language": "java",
   "name": "java"
  },
  "language_info": {
   "codemirror_mode": "text/x-java",
   "file_extension": ".java",
   "mimetype": "",
   "name": "Java",
   "nbconverter_exporter": "",
   "version": "1.8.0_121"
  },
  "toc": {
   "base_numbering": 1,
   "nav_menu": {},
   "number_sections": false,
   "sideBar": false,
   "skip_h1_title": false,
   "title_cell": "Table of Contents",
   "title_sidebar": "Contents",
   "toc_cell": false,
   "toc_position": {},
   "toc_section_display": false,
   "toc_window_display": false
  }
 },
 "nbformat": 4,
 "nbformat_minor": 5
}
