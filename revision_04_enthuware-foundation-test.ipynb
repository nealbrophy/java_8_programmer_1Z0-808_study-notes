{
 "cells": [
  {
   "cell_type": "markdown",
   "id": "8287729a",
   "metadata": {},
   "source": [
    "# Revision Notes from the Enthuware Foundation Test"
   ]
  },
  {
   "cell_type": "markdown",
   "id": "1654af71",
   "metadata": {},
   "source": [
    "## `if/else` can have empty statements\n",
    "`if` and `else` clauses can be empty (i.e. just `;` separating them):"
   ]
  },
  {
   "cell_type": "code",
   "execution_count": 2,
   "id": "058ac8f6",
   "metadata": {},
   "outputs": [
    {
     "data": {
      "text/plain": [
       "null"
      ]
     },
     "execution_count": 2,
     "metadata": {},
     "output_type": "execute_result"
    }
   ],
   "source": [
    "if (true); else;"
   ]
  },
  {
   "cell_type": "markdown",
   "id": "15defe43",
   "metadata": {},
   "source": [
    "## An exception throw in an initializer block will cause `ExceptionInInitializerError` to be thrown\n",
    "Regardless of what error is thrown within an initializer block Java will throw an `ExceptionInInitializerError`. Essentially overwriting the error within the initializer."
   ]
  },
  {
   "cell_type": "code",
   "execution_count": 5,
   "id": "30078935",
   "metadata": {},
   "outputs": [
    {
     "data": {
      "text/plain": [
       "test.beaker.Example"
      ]
     },
     "execution_count": 5,
     "metadata": {},
     "output_type": "execute_result"
    }
   ],
   "source": [
    "package test.beaker;\n",
    "\n",
    "class Example {\n",
    "    static {\n",
    "        if(true) throw new NullPointerException();\n",
    "    }\n",
    "}"
   ]
  },
  {
   "cell_type": "code",
   "execution_count": 6,
   "id": "b12396c2",
   "metadata": {},
   "outputs": [
    {
     "ename": "ERROR",
     "evalue": " java.lang.ExceptionInInitializerError",
     "output_type": "error",
     "traceback": [
      "\u001b[1;31mERROR: java.lang.ExceptionInInitializerError\u001b[0;0m"
     ]
    }
   ],
   "source": [
    "package test.beaker;\n",
    "\n",
    "Example e = new Example();"
   ]
  },
  {
   "cell_type": "markdown",
   "id": "97b9b4a7",
   "metadata": {},
   "source": [
    "## An exception can only be explicitly thrown in an initializer block if.. \n",
    "..it's possible for the intializer to complete normally. This means that you can't only include `throw new <exception name>();` between the curly-braces and nothing else as Java will detect that it's not possible for the initializer to ever complete successfully and throw compile error (`IllegalStateException`). The reason it works in the above example is that the `throw new NullPointerException();` is enclosed within an if clause."
   ]
  },
  {
   "cell_type": "code",
   "execution_count": 41,
   "id": "e371584b",
   "metadata": {},
   "outputs": [
    {
     "ename": "ERROR",
     "evalue": " java.lang.IllegalStateException",
     "output_type": "error",
     "traceback": [
      "\u001b[1;31mERROR: java.lang.IllegalStateException: initializer must be able to complete normally\u001b[0;0m",
      "\u001b[1;31m static { throw new NullPointerException(); }\u001b[0;0m",
      "\u001b[1;31m ^                                           ^ \u001b[0;0m"
     ]
    }
   ],
   "source": [
    "class Example {\n",
    "    static {\n",
    "        throw new NullPointerException();\n",
    "    }\n",
    "}"
   ]
  },
  {
   "cell_type": "markdown",
   "id": "513aa489",
   "metadata": {},
   "source": [
    "## `ClassNotFoundException` vs `NoClassDefFoundError` \n",
    "Both are runtime exceptions relating to a class not being found. The causes are:\n",
    "\n",
    "`ClassNotFoundException` is thrown when you try to load a class at runtime using `Class.forName()` or `loadClass()` and the requested class is not found in *classpath*. The most common cause is trying to run an application without updating the *classpath* with *JAR* files. It is a *checked* exception that inherits from `java.lang.Exception`.\n",
    "\n",
    "`NoClassDefFoundError` occurs when a program was compiled successfully but the class is no longer present at runtime. It is an *error* rather than an *exception* and inherits from `LinkageError`."
   ]
  },
  {
   "cell_type": "markdown",
   "id": "16e78f29",
   "metadata": {},
   "source": [
    "## floats are not precise to nine significant digits\n",
    "This means that there will always be a loss of data when casting from float to int if the number has 9 or more digits:"
   ]
  },
  {
   "cell_type": "code",
   "execution_count": 10,
   "id": "fc0e9f9c",
   "metadata": {},
   "outputs": [
    {
     "name": "stdout",
     "output_type": "stream",
     "text": [
      "1.23456792E8\n",
      "123456789\n",
      "123456792\n",
      "-3\n"
     ]
    },
    {
     "data": {
      "text/plain": [
       "null"
      ]
     },
     "execution_count": 10,
     "metadata": {},
     "output_type": "execute_result"
    }
   ],
   "source": [
    "int i = 123456789;\n",
    "float f = i;\n",
    "System.out.println(f);\n",
    "System.out.println(i);\n",
    "System.out.println((int) f);\n",
    "System.out.println(i - (int)f);"
   ]
  },
  {
   "cell_type": "markdown",
   "id": "2a51779b",
   "metadata": {},
   "source": [
    "## Overriding methods can change return type to any subclass of original return type\n",
    "An overriding method can change the return type providing the new return type is a subclass of the return type from the method being overridden (*covariant return type*). This does not apply when the return type of the original method is a *primitive* type (because primitives don't have subclasses)."
   ]
  },
  {
   "cell_type": "markdown",
   "id": "43c9ffab",
   "metadata": {},
   "source": [
    "## The *synchronized* keyword can only be applied to a method or block\n",
    "This keyword relates to *threads* & *monitors* so you don't need to know the details yet just know that it can only be used with methods or blocks."
   ]
  },
  {
   "cell_type": "markdown",
   "id": "8a293511",
   "metadata": {},
   "source": [
    "## Rules for switch statement\n",
    "1. Only `String`, `byte`, `char`, `short`,`int` (and their wrapper classes `Integer`, `Short` etc) and `enum` can be used as types of switch variable.\n",
    "2. The *case* constants must be assignable to the switch variable. E.g. if the variable is `String` then the *case* constants must be `String`.\n",
    "3. The switch variable must be large enough to hold all the *case* constants. E.g. if the variable is `int` then none of the *case* constants can exceed the max `int` value.\n",
    "4. All *case* constants should be *compile time constants*. This means they can be *literals* such as `5`, `0.3`, `'x'`, or a `final` variable the value of which is computed at compile time.\n",
    "5. No two *case* constants can have the same value.\n",
    "6. Can have 0-1 *default* labels (i.e. none or one)."
   ]
  },
  {
   "cell_type": "markdown",
   "id": "2ee1103b",
   "metadata": {},
   "source": [
    "## `LocalDate`, `LocalTime`, `LocalDateTime` implement `TemporalAccessor` and have no relation to the old `java.util.Date`\n",
    "It's easy to mistakenly believe that the new Date/Time classes introduced in Java 8 are extension of the old ones (`java.util.Date`, `java.sql.Date`), however, they have no relation. They implement the `TemporalAccessor` interface. Nor do they have any parent/child relationship to each other.\n",
    "\n",
    "These classes use the calendar system defined in *ISO-8601* as the default calendar (this is based on the Gregorian calendar and is a used globally as a defacto standard). To make use of different calendar systems you can use the `java.time.chrono` package or create your own."
   ]
  },
  {
   "cell_type": "markdown",
   "id": "bd53d994",
   "metadata": {},
   "source": [
    "## `LocalDate`, `LocalTime`, `LocalDateTime` are *immutable*\n",
    "These classes are all immutable and cannot be instantiated directly. To create objects of this type you need to use the static factory methods provided by the classes (e.g. `.of()`)."
   ]
  },
  {
   "cell_type": "code",
   "execution_count": 13,
   "id": "22fdfe22",
   "metadata": {},
   "outputs": [
    {
     "name": "stdout",
     "output_type": "stream",
     "text": [
      "2028-03-15\n"
     ]
    },
    {
     "data": {
      "text/plain": [
       "null"
      ]
     },
     "execution_count": 13,
     "metadata": {},
     "output_type": "execute_result"
    }
   ],
   "source": [
    "import java.time.*;\n",
    "\n",
    "LocalDate d = LocalDate.of(2028, Month.MARCH, 15);\n",
    "System.out.println(d);"
   ]
  },
  {
   "cell_type": "markdown",
   "id": "76a9f510",
   "metadata": {},
   "source": [
    "## Only `ZonedDateTime` contains time-zone info\n",
    "The above Date/Time classes do not contain time-zone info. To make use of time-zones you need to use the `java.time.ZonedDateTime` class which is another immutable DateTime class but also records a time-zone with a zone offset used to handle ambiguous local date-times."
   ]
  },
  {
   "cell_type": "markdown",
   "id": "3d4b9b78",
   "metadata": {},
   "source": [
    "## `Duration` and `Period` classes\n",
    "The `java.time` package, in addition to the above date/time classes, provides the `Duration` and `Period` classes.\n",
    "\n",
    "`Duration` is used for quantities of time in terms of hours, minutes, and seconds.\n",
    "<br>`Period` is used for quantities of time in terms of years, months, and days.\n",
    "\n",
    "__NOTE__: *Duration* and *Period* differ in their treatment of daylight savings time when added to `ZonedDateTime`. A *Duration* will add an exact number of seconds, thus duration of one day is always exactly 24hrs whereas *Period* will add a \"conceptual\" day treying to maintain the local time."
   ]
  },
  {
   "cell_type": "markdown",
   "id": "6f317b8e",
   "metadata": {},
   "source": [
    "## The `~` operator only operates on integral types\n",
    "This is the *bitwise complement* operator which only operates on integral types (i.e. byte, short, char, int, long) and inverts the bits."
   ]
  },
  {
   "cell_type": "markdown",
   "id": "9bfd21fd",
   "metadata": {},
   "source": [
    "## The `&` operator operates on integral and boolean types\n",
    "The bitwise AND operator copies a bit if it exists in both operands. The specifics of bitwise operators are outside the scope of this exam. Just know that it operates on both integral and boolean types."
   ]
  },
  {
   "cell_type": "code",
   "execution_count": 25,
   "id": "45e8fe31",
   "metadata": {},
   "outputs": [
    {
     "name": "stdout",
     "output_type": "stream",
     "text": [
      "2\n",
      "0\n",
      "445\n",
      "444\n",
      "22\n",
      "false\n"
     ]
    },
    {
     "data": {
      "text/plain": [
       "null"
      ]
     },
     "execution_count": 25,
     "metadata": {},
     "output_type": "execute_result"
    }
   ],
   "source": [
    "System.out.println(2 & 2);\n",
    "System.out.println(2 & 1);\n",
    "System.out.println(445 & 445);\n",
    "System.out.println(445 & 444);\n",
    "System.out.println(22 & 22);\n",
    "System.out.println(true & false);"
   ]
  },
  {
   "cell_type": "markdown",
   "id": "0b69af0a",
   "metadata": {},
   "source": [
    "## `Boolean` wrapper class\n",
    "1. `Boolean` has two constructors:\n",
    "    - `Boolean(String)`: allocates a Boolean object representing the String value *true* if the string is not `null` and is equal (ignoring case) to `true`. Otherwise allocates object representing `false`.\n",
    "    - `Boolean(boolean)`: allocates a Boolean object representing the boolean passed in.\n",
    "2. `Boolean` has two static helper methods for creating booleans:\n",
    "    - `Boolean.parseBoolean(String)`: returns a primitive boolean of `true` if not `null` and is equal (ignoring case) to *true*, else returns `false`\n",
    "    - `Boolean.valueOf(String)`/`Boolean.valueOf(boolean)`: return a reference to either `Boolean.TRUE` or `Boolean.FALSE` wrapper objects/static constants (NOT new Boolean objects).\n",
    "3. When using the equality operator (`==`) with booleans, if exactly one of the operands is a Boolean wrapper, it is first unboxed into a boolean primitive and then compared. If both are Boolean wrappers only their references are compared (as with  other objects)."
   ]
  },
  {
   "cell_type": "markdown",
   "id": "08ca23a2",
   "metadata": {},
   "source": [
    "## The `.equals()` method first checks if the two objects are of the same class\n",
    "Before unboxing, where applicable, and comparing values the `.equals()` method first checks if the object being passed and the calling object are of the same class. If not, it immediately returns `false`."
   ]
  },
  {
   "cell_type": "markdown",
   "id": "d7d09d43",
   "metadata": {},
   "source": [
    "## The equality operator (`==`) knows at compile time if it's not possible to compare its operands\n",
    "If you try to use the `==` to compare two objects of different, unrelated classes you will get a compile error because the operator already knows that its not possible to test the equality of the objects."
   ]
  },
  {
   "cell_type": "markdown",
   "id": "ddab1446",
   "metadata": {},
   "source": [
    "## A `private` member can only be accessed within the class it is declared\n",
    "Instantiating an object of the class does not grant access to private members."
   ]
  },
  {
   "cell_type": "markdown",
   "id": "5902de1a",
   "metadata": {},
   "source": [
    "## `package private` aka *default* (no access modifier stated) members can only be accessed from within the same package\n",
    "So, once again, instantiating an object of the class does not grant access if the class where instantiation is happening is in a different package."
   ]
  },
  {
   "cell_type": "markdown",
   "id": "707ad8ec",
   "metadata": {},
   "source": [
    "## A `protected` member is inherited by a subclass and is accessible within the subclass...however\n",
    "Per the Java Language Specification: \"*protected members of a class are accessible outside the package only in subclasses of that class and only when they are fields of objects that are being implemented by the code that is accessing them*\". In other words, a protected member is accessible in a subclass outside the package only using a reference whose declared type is of the same subclass (or a subclass of the subclass).\n",
    "\n",
    "This is a tough one to wrap your head around so lets look at some examples:"
   ]
  },
  {
   "cell_type": "code",
   "execution_count": 27,
   "id": "80b608bf",
   "metadata": {},
   "outputs": [
    {
     "data": {
      "text/plain": [
       "com.twosigma.beaker.javash.bkrd8b66df4.A"
      ]
     },
     "execution_count": 27,
     "metadata": {},
     "output_type": "execute_result"
    }
   ],
   "source": [
    "// in package com.myexamples\n",
    "class A {\n",
    "    protected void sayHello() {\n",
    "        System.out.println(\"Hello\");\n",
    "    }\n",
    "}\n",
    "\n",
    "// in package come.yourexamples\n",
    "// import com.myexamples.A;\n",
    "class B extends A {\n",
    "    public static void main(String [] args) {\n",
    "        A a = new A();\n",
    "        a.sayHello(); // this will not work because:\n",
    "                      // 1.) class B is in a different package AND\n",
    "                      // 2.) the reference 'a' is of type A which is not the same type as the class from which we're trying to access the protected member (B)\n",
    "        \n",
    "        B b = new B(); // this will work as B is the same type as the class from which we're trying to access the protected member\n",
    "        \n",
    "    }\n",
    "}"
   ]
  },
  {
   "cell_type": "markdown",
   "id": "cf4cc6e1",
   "metadata": {},
   "source": [
    "## In the case of *abstract* methods overriding is the same thing as implementing\n",
    "The terminology can be a little confusing, in the case of *abstract* methods \"implementing\" such a method and \"overriding\" it are effectively the same. Abstract methods are meant to be overridden, they are methods which describe behaviour but don't implement it. So any concrete subclasses extending the abstract class must implement/override the abstract methods."
   ]
  },
  {
   "cell_type": "markdown",
   "id": "6ebb55aa",
   "metadata": {},
   "source": [
    "## A `short`/`char` *variable* can never be assigned to a `char`/`short` without explicit casting\n",
    "Whereas a `short`/`char` CONSTANT *can* be assigned to a `char`/`short` IF the value fits."
   ]
  },
  {
   "cell_type": "markdown",
   "id": "76be5f48",
   "metadata": {},
   "source": [
    "## Although `char` and `short` are both 16-bit, `short` is *signed* and thus is technically \"larger\"\n",
    "This is why explicit casting is always needed to convert between the two.\n",
    "\n",
    "Primitive|Value range\n",
    ":--|:--\n",
    "`char` | `0` to `65,535`\n",
    "`short` | `-32,768` to `32,767`"
   ]
  },
  {
   "cell_type": "markdown",
   "id": "54bae900",
   "metadata": {},
   "source": [
    "## A constructor can call *either* `super()` or `this()` but NOT both...\n",
    "..and whichever is called must be the first line in the constructor."
   ]
  },
  {
   "cell_type": "markdown",
   "id": "c26d522c",
   "metadata": {},
   "source": [
    "## REMEMBER: Constructors are NOT inherited\n",
    "If no constructor is declared the default constructor is implicitly called by Java but that's not the same thing as inheritance."
   ]
  },
  {
   "cell_type": "markdown",
   "id": "c8ed4ac9",
   "metadata": {},
   "source": [
    "## Auto-unboxing happens when performing operations on wrapper class Objects \n",
    "When trying to perform operations such as `+`,`-`, `*`, `/` on objects of primitive wrapper classes (`Integer`, `Byte`, `Short`, `Long`, `Float`, `Double`) providing the objects are of the same class (or a subclass) *auto-unboxing* will be done automatically to allow the operations."
   ]
  },
  {
   "cell_type": "code",
   "execution_count": 31,
   "id": "f5b73379",
   "metadata": {},
   "outputs": [
    {
     "name": "stdout",
     "output_type": "stream",
     "text": [
      "3\n"
     ]
    },
    {
     "data": {
      "text/plain": [
       "null"
      ]
     },
     "execution_count": 31,
     "metadata": {},
     "output_type": "execute_result"
    }
   ],
   "source": [
    "Integer i1 = new Integer(1);\n",
    "Integer i2 = new Integer(2);\n",
    "int a = i1 + i2; // no issue assigning the addition of two objects since to a primitive var because auto-unboxing converts the wrapper objects to their corresponding primitive\n",
    "System.out.println(a);"
   ]
  },
  {
   "cell_type": "markdown",
   "id": "cdc4b150",
   "metadata": {},
   "source": [
    "## Arrays of length zero are permitted\n",
    "You can create zero length arrays easily in Java:;"
   ]
  },
  {
   "cell_type": "code",
   "execution_count": 33,
   "id": "f77da14e",
   "metadata": {},
   "outputs": [
    {
     "name": "stdout",
     "output_type": "stream",
     "text": [
      "0\n",
      "0\n"
     ]
    },
    {
     "data": {
      "text/plain": [
       "null"
      ]
     },
     "execution_count": 33,
     "metadata": {},
     "output_type": "execute_result"
    }
   ],
   "source": [
    "int [] zeroInts = new int[0];\n",
    "String [] zeroStrs = new String[0];\n",
    "System.out.println(zeroInts.length);\n",
    "System.out.println(zeroStrs.length);"
   ]
  },
  {
   "cell_type": "markdown",
   "id": "07a4663d",
   "metadata": {},
   "source": [
    "## A zero length array is NOT the same as a `null` array\n",
    "A `null` array is an array reference that has been initialized to `null` (i.e. no object exists in memory) whereas as zero-length array is a valid array Object which just has no items in it."
   ]
  },
  {
   "cell_type": "code",
   "execution_count": 37,
   "id": "5791aff0",
   "metadata": {},
   "outputs": [
    {
     "name": "stdout",
     "output_type": "stream",
     "text": [
      "false\n",
      "true\n"
     ]
    },
    {
     "data": {
      "text/plain": [
       "null"
      ]
     },
     "execution_count": 37,
     "metadata": {},
     "output_type": "execute_result"
    }
   ],
   "source": [
    "int [] zeroInts = new int[0];\n",
    "int [] nullArr = null;\n",
    "System.out.println(zeroInts == null);\n",
    "System.out.println(nullArr == null);"
   ]
  },
  {
   "cell_type": "markdown",
   "id": "1cd15b7d",
   "metadata": {},
   "source": [
    "## Private methods cannot be overridden in subclasses\n",
    "Only methods which are inherited can be overridden and since `private` methods are not inherited they cannot be overridden."
   ]
  },
  {
   "cell_type": "markdown",
   "id": "627a87d6",
   "metadata": {},
   "source": [
    "## A *functional interface* must have exactly ONE `static` method..\n",
    ".. and may have other `default` or `abstract` methods"
   ]
  },
  {
   "cell_type": "markdown",
   "id": "5d6e762a",
   "metadata": {},
   "source": []
  }
 ],
 "metadata": {
  "kernelspec": {
   "display_name": "Java",
   "language": "java",
   "name": "java"
  },
  "language_info": {
   "codemirror_mode": "text/x-java",
   "file_extension": ".java",
   "mimetype": "",
   "name": "Java",
   "nbconverter_exporter": "",
   "version": "1.8.0_121"
  },
  "toc": {
   "base_numbering": 1,
   "nav_menu": {},
   "number_sections": false,
   "sideBar": false,
   "skip_h1_title": false,
   "title_cell": "Table of Contents",
   "title_sidebar": "Contents",
   "toc_cell": false,
   "toc_position": {},
   "toc_section_display": false,
   "toc_window_display": false
  }
 },
 "nbformat": 4,
 "nbformat_minor": 5
}
