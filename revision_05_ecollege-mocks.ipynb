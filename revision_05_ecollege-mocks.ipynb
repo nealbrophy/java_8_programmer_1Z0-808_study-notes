{
 "cells": [
  {
   "cell_type": "markdown",
   "id": "f7c8957e",
   "metadata": {},
   "source": [
    "# Revision Notes for eCollege/Skillsoft Mock Exams"
   ]
  },
  {
   "cell_type": "markdown",
   "id": "4cd8ebc7",
   "metadata": {},
   "source": [
    "## *Top-level* class access modifiers\n",
    "A \"top-level\" class, that is any class you define which doesn't inherit/extend another class can only be declared with `<default>` (i.e. no modifier) or `public`. You cannot use *private* or *protected* modifiers (however, you can use them with nested classes and/or subclasses)."
   ]
  },
  {
   "cell_type": "markdown",
   "id": "32f5eecc",
   "metadata": {},
   "source": [
    "## ArrayList's `.remove()` will remove the item at the index passed to it\n",
    "The `.remove()` method takes an integer argument representing the index of the item to be removed, not the value of the item."
   ]
  },
  {
   "cell_type": "code",
   "execution_count": 25,
   "id": "97a2d546",
   "metadata": {},
   "outputs": [
    {
     "name": "stdout",
     "output_type": "stream",
     "text": [
      "[0, Foo]\n"
     ]
    },
    {
     "data": {
      "text/plain": [
       "null"
      ]
     },
     "execution_count": 25,
     "metadata": {},
     "output_type": "execute_result"
    }
   ],
   "source": [
    "import java.util.ArrayList;\n",
    "\n",
    "ArrayList<String> sa = new ArrayList<>();\n",
    "sa.add(\"Hello World\");\n",
    "sa.add(\"0\");\n",
    "sa.add(\"Foo\");\n",
    "sa.remove(0);\n",
    "System.out.println(sa);"
   ]
  },
  {
   "cell_type": "markdown",
   "id": "601469a5",
   "metadata": {},
   "source": [
    "## `java.util.regex.Pattern` class\n",
    "The `Pattern` class from `java.util.regex` creates a compiled pattern object which represents a regular expression. The pattern object can then be used to a `Matcher` object that can match sequences of characters against the regular expression.\n",
    "\n",
    "*Pattern* objects aren't instantiated like most classes but use *Pattern*'s `.compile()` static method.\n",
    "\n",
    "An simple example of using the *Pattern* class to split a string (mirroring the functionality of `String`'s `.split()` method:"
   ]
  },
  {
   "cell_type": "code",
   "execution_count": 44,
   "id": "be36e62b",
   "metadata": {},
   "outputs": [
    {
     "name": "stdout",
     "output_type": "stream",
     "text": [
      "Hello\n",
      "there\n",
      "world\n"
     ]
    },
    {
     "data": {
      "text/plain": [
       "null"
      ]
     },
     "execution_count": 44,
     "metadata": {},
     "output_type": "execute_result"
    }
   ],
   "source": [
    "import java.util.regex.Pattern;\n",
    "\n",
    "String s = \"Hello,there,world\";\n",
    "Pattern p = Pattern.compile(\",\");\n",
    "String[] sa = p.split(s);\n",
    "for (String st: sa) {\n",
    "    System.out.println(st);\n",
    "}"
   ]
  },
  {
   "cell_type": "markdown",
   "id": "45538abc",
   "metadata": {},
   "source": [
    "## Unboxing/Autounboxing only applies to the primitive wrapper-classes (e.g. `Integer`, `Float` etc)\n",
    "It's tempting to think that StringBuilder functions like a wrapper classes and will *unbox* the String within when needed (for example if you try to assign a StringBuilder to a String) but you must remember that String and StringBuilder are two different types of Object."
   ]
  },
  {
   "cell_type": "code",
   "execution_count": 45,
   "id": "729801ba",
   "metadata": {},
   "outputs": [
    {
     "ename": "incompatible types",
     "evalue": " java.lang.StringBuilder cannot be converted to java.lang.String",
     "output_type": "error",
     "traceback": [
      "\u001b[1;31mincompatible types: java.lang.StringBuilder cannot be converted to java.lang.String\u001b[0;0m",
      "\u001b[1;31m s = sb\u001b[0;0m",
      "\u001b[1;31m     ^ ^ \u001b[0;0m"
     ]
    }
   ],
   "source": [
    "String s;\n",
    "StringBuilder sb = new StringBuilder(\"Hello\");\n",
    "s = sb;"
   ]
  },
  {
   "cell_type": "markdown",
   "id": "dab07701",
   "metadata": {},
   "source": [
    "## `ArrayList` does not have an `.insert()` method\n",
    "To add an item to an *ArrayList* at a specified index you simply use the `.add()` method and pass an index as the first argument."
   ]
  },
  {
   "cell_type": "code",
   "execution_count": 48,
   "id": "d85613a0",
   "metadata": {},
   "outputs": [
    {
     "name": "stdout",
     "output_type": "stream",
     "text": [
      "[ABC, DEF, GHI]\n"
     ]
    },
    {
     "data": {
      "text/plain": [
       "null"
      ]
     },
     "execution_count": 48,
     "metadata": {},
     "output_type": "execute_result"
    }
   ],
   "source": [
    "import java.util.ArrayList;\n",
    "\n",
    "ArrayList<String> al = new ArrayList<>();\n",
    "al.add(\"ABC\");\n",
    "al.add(\"GHI\");\n",
    "al.add(1, \"DEF\");\n",
    "System.out.println(al);"
   ]
  },
  {
   "cell_type": "markdown",
   "id": "ed7cf22d",
   "metadata": {},
   "source": [
    "## The initial capacity of `ArrayList` if no argument is passed to the constructor is `10`\n",
    "If you create an *ArrayList* using the no-argument constructor, an empty ArrayList with an initial capacity of `10` is created."
   ]
  },
  {
   "cell_type": "markdown",
   "id": "98261ab5",
   "metadata": {},
   "source": [
    "## *Interface* methods are assumed to be `public abstract` unless the `default` modifier is used\n",
    "Whether you specifiy `public abstract` or not when creating methods in an *interface*, they are assumed to be public and abstract unless you use the `default` modifier (in which case you also need to implement the method within the interface).\n",
    "\n",
    "Keep this in mind for questions on the exam that relate to implementing methods, as you could have an interface method declared simply as:\n",
    "<br>`void myAbMethod();`\n",
    "\n",
    "Which might lead you to think implementing the method in a concrete class as `void myAbMethod() {}` would work but remember, you can't specify a more strict access modifier than the method you're overriding/implementing. Since `public abstract` are implicitly present in the interface you would need to implement the method in your concrete class as `public void myAbMethod() {}` or `protected void myAbMethod() {}`."
   ]
  },
  {
   "cell_type": "markdown",
   "id": "fcb49a92",
   "metadata": {},
   "source": [
    "## REMEMBER:  A variable declared within a loop is only available within the loopIt's quite easy when you're working with a mixture of scopes to forget/overlook this."
   ]
  },
  {
   "cell_type": "code",
   "execution_count": 57,
   "id": "b278e6a8",
   "metadata": {},
   "outputs": [
    {
     "ename": "cannot find symbol",
     "evalue": "cannot find symbol",
     "output_type": "error",
     "traceback": [
      "\u001b[1;31mcannot find symbol\u001b[0;0m",
      "\u001b[1;31m  symbol:   variable b\u001b[0;0m",
      "\u001b[0;31m  location: class com.twosigma.beaker.javash.bkr349c436c.BeakerWrapperClass1261714175Id0411d56d21134ed78cdb4b61787f316f\u001b[0;0m",
      "\u001b[0;31mn(\"a is \" + a + \" and b is \" + b)\u001b[0;0m",
      "\u001b[0;31m                               ^^  \u001b[0;0m"
     ]
    }
   ],
   "source": [
    "int a = 0;\n",
    "for (int b = 0; b < 4; b++) {\n",
    "    a++;\n",
    "}\n",
    "\n",
    "System.out.println(\"a is \" + a + \" and b is \" + b); // b was a local variable declared within the for loop and no longer exists"
   ]
  },
  {
   "cell_type": "code",
   "execution_count": null,
   "id": "dd057a56",
   "metadata": {},
   "outputs": [],
   "source": []
  }
 ],
 "metadata": {
  "kernelspec": {
   "display_name": "Java",
   "language": "java",
   "name": "java"
  },
  "language_info": {
   "codemirror_mode": "text/x-java",
   "file_extension": ".java",
   "mimetype": "",
   "name": "Java",
   "nbconverter_exporter": "",
   "version": "1.8.0_121"
  },
  "toc": {
   "base_numbering": 1,
   "nav_menu": {},
   "number_sections": false,
   "sideBar": false,
   "skip_h1_title": false,
   "title_cell": "Table of Contents",
   "title_sidebar": "Contents",
   "toc_cell": false,
   "toc_position": {},
   "toc_section_display": false,
   "toc_window_display": false
  }
 },
 "nbformat": 4,
 "nbformat_minor": 5
}
