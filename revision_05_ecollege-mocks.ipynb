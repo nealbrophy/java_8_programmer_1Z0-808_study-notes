{
 "cells": [
  {
   "cell_type": "markdown",
   "id": "f7c8957e",
   "metadata": {},
   "source": [
    "# Revision Notes for eCollege/Skillsoft Mock Exams"
   ]
  },
  {
   "cell_type": "markdown",
   "id": "4cd8ebc7",
   "metadata": {},
   "source": [
    "## *Top-level* class access modifiers\n",
    "A \"top-level\" class, that is any class you define which doesn't inherit/extend another class can only be declared with `<default>` (i.e. no modifier) or `public`. You cannot use *private* or *protected* modifiers (however, you can use them with nested classes and/or subclasses)."
   ]
  },
  {
   "cell_type": "markdown",
   "id": "32f5eecc",
   "metadata": {},
   "source": [
    "## ArrayList's `.remove()` will remove the item at the index passed to it\n",
    "The `.remove()` method takes an integer argument representing the index of the item to be removed, not the value of the item."
   ]
  },
  {
   "cell_type": "code",
   "execution_count": 25,
   "id": "97a2d546",
   "metadata": {},
   "outputs": [
    {
     "name": "stdout",
     "output_type": "stream",
     "text": [
      "[0, Foo]\n"
     ]
    },
    {
     "data": {
      "text/plain": [
       "null"
      ]
     },
     "execution_count": 25,
     "metadata": {},
     "output_type": "execute_result"
    }
   ],
   "source": [
    "import java.util.ArrayList;\n",
    "\n",
    "ArrayList<String> sa = new ArrayList<>();\n",
    "sa.add(\"Hello World\");\n",
    "sa.add(\"0\");\n",
    "sa.add(\"Foo\");\n",
    "sa.remove(0);\n",
    "System.out.println(sa);"
   ]
  },
  {
   "cell_type": "markdown",
   "id": "601469a5",
   "metadata": {},
   "source": [
    "## `java.util.regex.Pattern` class\n",
    "The `Pattern` class from `java.util.regex` creates a compiled pattern object which represents a regular expression. The pattern object can then be used to a `Matcher` object that can match sequences of characters against the regular expression.\n",
    "\n",
    "*Pattern* objects aren't instantiated like most classes but use *Pattern*'s `.compile()` static method.\n",
    "\n",
    "An simple example of using the *Pattern* class to split a string (mirroring the functionality of `String`'s `.split()` method:"
   ]
  },
  {
   "cell_type": "code",
   "execution_count": 44,
   "id": "be36e62b",
   "metadata": {},
   "outputs": [
    {
     "name": "stdout",
     "output_type": "stream",
     "text": [
      "Hello\n",
      "there\n",
      "world\n"
     ]
    },
    {
     "data": {
      "text/plain": [
       "null"
      ]
     },
     "execution_count": 44,
     "metadata": {},
     "output_type": "execute_result"
    }
   ],
   "source": [
    "import java.util.regex.Pattern;\n",
    "\n",
    "String s = \"Hello,there,world\";\n",
    "Pattern p = Pattern.compile(\",\");\n",
    "String[] sa = p.split(s);\n",
    "for (String st: sa) {\n",
    "    System.out.println(st);\n",
    "}"
   ]
  },
  {
   "cell_type": "markdown",
   "id": "45538abc",
   "metadata": {},
   "source": [
    "## Unboxing/Autounboxing only applies to the primitive wrapper-classes (e.g. `Integer`, `Float` etc)\n",
    "It's tempting to think that StringBuilder functions like a wrapper classes and will *unbox* the String within when needed (for example if you try to assign a StringBuilder to a String) but you must remember that String and StringBuilder are two different types of Object."
   ]
  },
  {
   "cell_type": "code",
   "execution_count": 45,
   "id": "729801ba",
   "metadata": {},
   "outputs": [
    {
     "ename": "incompatible types",
     "evalue": " java.lang.StringBuilder cannot be converted to java.lang.String",
     "output_type": "error",
     "traceback": [
      "\u001b[1;31mincompatible types: java.lang.StringBuilder cannot be converted to java.lang.String\u001b[0;0m",
      "\u001b[1;31m s = sb\u001b[0;0m",
      "\u001b[1;31m     ^ ^ \u001b[0;0m"
     ]
    }
   ],
   "source": [
    "String s;\n",
    "StringBuilder sb = new StringBuilder(\"Hello\");\n",
    "s = sb;"
   ]
  },
  {
   "cell_type": "markdown",
   "id": "dab07701",
   "metadata": {},
   "source": [
    "## `ArrayList` does not have an `.insert()` method\n",
    "To add an item to an *ArrayList* at a specified index you simply use the `.add()` method and pass an index as the first argument."
   ]
  },
  {
   "cell_type": "code",
   "execution_count": 48,
   "id": "d85613a0",
   "metadata": {},
   "outputs": [
    {
     "name": "stdout",
     "output_type": "stream",
     "text": [
      "[ABC, DEF, GHI]\n"
     ]
    },
    {
     "data": {
      "text/plain": [
       "null"
      ]
     },
     "execution_count": 48,
     "metadata": {},
     "output_type": "execute_result"
    }
   ],
   "source": [
    "import java.util.ArrayList;\n",
    "\n",
    "ArrayList<String> al = new ArrayList<>();\n",
    "al.add(\"ABC\");\n",
    "al.add(\"GHI\");\n",
    "al.add(1, \"DEF\");\n",
    "System.out.println(al);"
   ]
  },
  {
   "cell_type": "markdown",
   "id": "ed7cf22d",
   "metadata": {},
   "source": [
    "## The initial capacity of `ArrayList` if no argument is passed to the constructor is `10`\n",
    "If you create an *ArrayList* using the no-argument constructor, an empty ArrayList with an initial capacity of `10` is created."
   ]
  },
  {
   "cell_type": "markdown",
   "id": "98261ab5",
   "metadata": {},
   "source": [
    "## *Interface* methods are assumed to be `public abstract` unless the `default` modifier is used\n",
    "Whether you specifiy `public abstract` or not when creating methods in an *interface*, they are assumed to be public and abstract unless you use the `default` modifier (in which case you also need to implement the method within the interface).\n",
    "\n",
    "Keep this in mind for questions on the exam that relate to implementing methods, as you could have an interface method declared simply as:\n",
    "<br>`void myAbMethod();`\n",
    "\n",
    "Which might lead you to think implementing the method in a concrete class as `void myAbMethod() {}` would work but remember, you can't specify a more strict access modifier than the method you're overriding/implementing. Since `public abstract` are implicitly present in the interface you would need to implement the method in your concrete class as `public void myAbMethod() {}` or `protected void myAbMethod() {}`."
   ]
  },
  {
   "cell_type": "markdown",
   "id": "fcb49a92",
   "metadata": {},
   "source": [
    "## REMEMBER:  A variable declared within a loop is only available within the loopIt's quite easy when you're working with a mixture of scopes to forget/overlook this."
   ]
  },
  {
   "cell_type": "code",
   "execution_count": 1,
   "id": "b278e6a8",
   "metadata": {},
   "outputs": [
    {
     "ename": "cannot find symbol",
     "evalue": "cannot find symbol",
     "output_type": "error",
     "traceback": [
      "\u001b[1;31mcannot find symbol\u001b[0;0m",
      "\u001b[1;31m  symbol:   variable b\u001b[0;0m",
      "\u001b[0;31m  location: class com.twosigma.beaker.javash.bkrdb9e8a43.BeakerWrapperClass1261714175Id0041bac53d7f4afda87ae39a4ac8d392\u001b[0;0m",
      "\u001b[0;31mn(\"a is \" + a + \" and b is \" + b)\u001b[0;0m",
      "\u001b[0;31m                               ^^  \u001b[0;0m"
     ]
    }
   ],
   "source": [
    "int a = 0;\n",
    "for (int b = 0; b < 4; b++) {\n",
    "    a++;\n",
    "}\n",
    "\n",
    "System.out.println(\"a is \" + a + \" and b is \" + b); // b was a local variable declared within the for loop and no longer exists"
   ]
  },
  {
   "cell_type": "markdown",
   "id": "13124470",
   "metadata": {},
   "source": [
    "## `$` and `_` are valid (if inadvisable) variable/method/class names\n",
    "Java 8 will not prevent you from using `$` or `_` as identifiers, though the compiler may show a warning, and it's definintely not recommended."
   ]
  },
  {
   "cell_type": "code",
   "execution_count": 2,
   "id": "a2dc7d6e",
   "metadata": {},
   "outputs": [
    {
     "name": "stdout",
     "output_type": "stream",
     "text": [
      "42\n"
     ]
    },
    {
     "data": {
      "text/plain": [
       "null"
      ]
     },
     "execution_count": 2,
     "metadata": {},
     "output_type": "execute_result"
    }
   ],
   "source": [
    "int $ = 42;\n",
    "int _ = 1;\n",
    "System.out.println($*_);"
   ]
  },
  {
   "cell_type": "markdown",
   "id": "6a46806d",
   "metadata": {},
   "source": [
    "## REMEMBER: the lack of an access modifier before a variable/method/class means `default` *package private*\n",
    "Keep in mind that a method, variable, or class which has no access modifier (e.g. `public`, `private` etc) means that it has `default` access which is *package private*. *Package private* is the second most restrictive access after `private`.\n",
    "\n",
    "If you see a question on the exam which has clearly marked two classes with specific package names, it's likely that the question includes an element of inter-package access so you should keep that in the forefront of your mind when reading the code."
   ]
  },
  {
   "cell_type": "markdown",
   "id": "535c3427",
   "metadata": {},
   "source": [
    "## A subclass which `implements` an interface that was already implemented in the parent class doesn't necessarily need to implement abstract methods\n",
    "This one is a little confusing; if you have a subclass which declares that is implementing an interface but the parent class also implemented that interface, the subclass doesn't have to implement any of the abstract methods (since they were already implemented in the parent class). I'm not entirely sure what the point is of implementing an interface in a subclass where the parent-class already implemented it but this is a scenario that came up on the mock test."
   ]
  },
  {
   "cell_type": "code",
   "execution_count": 4,
   "id": "77b261f7",
   "metadata": {},
   "outputs": [
    {
     "data": {
      "text/plain": [
       "test.beaker.Foo"
      ]
     },
     "execution_count": 4,
     "metadata": {},
     "output_type": "execute_result"
    }
   ],
   "source": [
    "package test.beaker;\n",
    "\n",
    "interface Foo {\n",
    "    void bar(); // abstract method \"bar\"\n",
    "}\n",
    "\n",
    "class Parent implements Foo { // parent class\n",
    "    public void bar() { // \"bar\" method implemented in Parent class\n",
    "        System.out.println(\"I am the bar method\"); \n",
    "    }\n",
    "}\n",
    "\n",
    "class Child extends Parent implements Foo { // Child class which extends Parent but also declares that it implements Foo\n",
    "    // no implementation of \"bar\" method, yet no error message (because the parent class already implemented \"bar\" and that implementation is inherited by Child)\n",
    "}"
   ]
  },
  {
   "cell_type": "code",
   "execution_count": 5,
   "id": "facf40c6",
   "metadata": {},
   "outputs": [
    {
     "name": "stdout",
     "output_type": "stream",
     "text": [
      "I am the bar method\n"
     ]
    },
    {
     "data": {
      "text/plain": [
       "null"
      ]
     },
     "execution_count": 5,
     "metadata": {},
     "output_type": "execute_result"
    }
   ],
   "source": [
    "package test.beaker;\n",
    "\n",
    "Child ch = new Child();\n",
    "ch.bar();"
   ]
  },
  {
   "cell_type": "markdown",
   "id": "13bcf66d",
   "metadata": {},
   "source": [
    "## REMEMBER: Non-static methods cannot be called directly from a static context\n",
    "This is a frustrating one because it's so basic and yet so easy to overlook/forget. If you have a method which isn't explicitly declared as `static`, trying to directly call the method (i.e. without instantiating an object of the class to which the method belongs) from *a static context* (e.g. from within a static method, for example the *main* method) you will get an error message."
   ]
  },
  {
   "cell_type": "code",
   "execution_count": 6,
   "id": "eaf1abe6",
   "metadata": {},
   "outputs": [
    {
     "data": {
      "text/plain": [
       "test.beaker.NoStaticMethods"
      ]
     },
     "execution_count": 6,
     "metadata": {},
     "output_type": "execute_result"
    }
   ],
   "source": [
    "package test.beaker;\n",
    "\n",
    "class NoStaticMethods {\n",
    "    public void nsMethod() {\n",
    "        System.out.println(\"I am not static\");\n",
    "    }\n",
    "}"
   ]
  },
  {
   "cell_type": "code",
   "execution_count": 9,
   "id": "74bf02f0",
   "metadata": {},
   "outputs": [
    {
     "ename": "non-static method nsMethod() cannot be referenced from a static context",
     "evalue": "non-static method nsMethod() cannot be referenced from a static context",
     "output_type": "error",
     "traceback": [
      "\u001b[1;31mnon-static method nsMethod() cannot be referenced from a static context\u001b[0;0m",
      "\u001b[1;31m NoStaticMethods.nsMethod()\u001b[0;0m",
      "\u001b[1;31m ^                       ^   \u001b[0;0m"
     ]
    }
   ],
   "source": [
    "package test.beaker;\n",
    "\n",
    "// each of these cells in beakerX is essentially a main method, so this is a \"static context\"\n",
    "\n",
    "NoStaticMethods.nsMethod();"
   ]
  },
  {
   "cell_type": "markdown",
   "id": "ae062677",
   "metadata": {},
   "source": [
    "## Execution order for initializers and constructors\n",
    "As we know, Java has `static` and instance *initializer blocks*. So, what if you have a class with *static initializers*, *instance initializers*, and a *constructor* each of which performs some actions? How do you know which action will happen first?\n",
    "\n",
    "The order of execution is:\n",
    "1. static initializer blocks\n",
    "2. instance initializer blocks\n",
    "3. constructor\n",
    "\n",
    "If you have multiple initializers of each type then they execute in the order they appear (e.g. first static block, second static block, first instance block, second instance block etc).\n",
    "\n",
    "__NOTE__: in the example below the main method's *\"When will I print\"* will print first but that won't necessarily happen via the command line (e.g. if you have several classes and compile & execute with javac/java), it depends on where the main method is located. For example, if the main method is declared within the top-level class then the main method's prints will run first. However, if the main method is declared inside a non-top-level class then the top-level (and any parent-class) static initializers will execute first.\n",
    "\n",
    "This can be a tricky one to get your head around I'd suggest writing some code in a .java file to test this and executing via command-line (or an IDE if you prefer) to help get your head around it. Try creating several classes and then moving the main method between the classes to see how it changes the output."
   ]
  },
  {
   "cell_type": "code",
   "execution_count": 15,
   "id": "b079f147",
   "metadata": {},
   "outputs": [
    {
     "data": {
      "text/plain": [
       "test.beaker.ExOrder"
      ]
     },
     "execution_count": 15,
     "metadata": {},
     "output_type": "execute_result"
    }
   ],
   "source": [
    "package test.beaker;\n",
    "\n",
    "class ExOrder {\n",
    "    static { System.out.println(\"STATIC Initializer\"); }\n",
    "    { System.out.println(\"INSTANCE Initializer\"); }\n",
    "    public ExOrder() {\n",
    "        System.out.println(\"CONSTRUCTOR\");\n",
    "    }\n",
    "    { System.out.println(\"ANOTHER INSTANCE Initializer\"); }\n",
    "    static { System.out.println(\"Oh dear....a second STATIC Initializer too?!\"); }\n",
    "}"
   ]
  },
  {
   "cell_type": "code",
   "execution_count": 16,
   "id": "158601ac",
   "metadata": {},
   "outputs": [
    {
     "name": "stdout",
     "output_type": "stream",
     "text": [
      "When will I print?\n",
      "STATIC Initializer\n",
      "Oh dear....a second STATIC Initializer too?!\n",
      "INSTANCE Initializer\n",
      "ANOTHER INSTANCE Initializer\n",
      "CONSTRUCTOR\n"
     ]
    },
    {
     "data": {
      "text/plain": [
       "null"
      ]
     },
     "execution_count": 16,
     "metadata": {},
     "output_type": "execute_result"
    }
   ],
   "source": [
    "package test.beaker;\n",
    "\n",
    "System.out.println(\"When will I print?\");\n",
    "ExOrder eo = new ExOrder();"
   ]
  },
  {
   "cell_type": "markdown",
   "id": "e2e4d6a8",
   "metadata": {},
   "source": [
    "## Trying to call a non-existant method is a COMPILE time error *not* RUNTIME\n",
    "If, for example, you have try to call a child-class method using a parent-class reference that will cause a compile time error not a runtime exception."
   ]
  },
  {
   "cell_type": "code",
   "execution_count": 14,
   "id": "f517b133",
   "metadata": {},
   "outputs": [
    {
     "data": {
      "text/plain": [
       "test.beaker.NewParent"
      ]
     },
     "execution_count": 14,
     "metadata": {},
     "output_type": "execute_result"
    }
   ],
   "source": [
    "package test.beaker;\n",
    "\n",
    "class NewParent {\n",
    "    public void doParenting() {\n",
    "        System.out.println(\"I am parenting\");\n",
    "    }\n",
    "}\n",
    "\n",
    "class NewChild extends NewParent {\n",
    "    public void doChildStuff() {\n",
    "        System.out.println(\"I'm doing childish things\");\n",
    "    }\n",
    "}"
   ]
  },
  {
   "cell_type": "code",
   "execution_count": 17,
   "id": "8a2489ca",
   "metadata": {},
   "outputs": [
    {
     "ename": "cannot find symbol",
     "evalue": "cannot find symbol",
     "output_type": "error",
     "traceback": [
      "\u001b[1;31mcannot find symbol\u001b[0;0m",
      "\u001b[1;31m  symbol:   method doChildStuff()\u001b[0;0m",
      "\u001b[1;31m  location: variable np of type test.beaker.NewParent\u001b[0;0m",
      "\u001b[1;31m np.doChildStuff()\u001b[0;0m",
      "\u001b[1;31m ^              ^   \u001b[0;0m"
     ]
    }
   ],
   "source": [
    "package test.beaker;\n",
    "\n",
    "NewParent np = new NewParent();\n",
    "NewChild nc = new NewChild();\n",
    "np.doParenting();\n",
    "nc.doChildStuff();\n",
    "np.doChildStuff(); // notice that there's no output from the above correct method calls, because this is a compile error so no execution has happened"
   ]
  },
  {
   "cell_type": "markdown",
   "id": "1566263a",
   "metadata": {},
   "source": [
    "## Objects created within a function/method and assigned to a variable declared in a method are eligible for gc at completion of method\n",
    "If an object is created within a method and assigned to a variable defined within a method, the object is then eligible for garbage collection upon completion of the method."
   ]
  },
  {
   "cell_type": "markdown",
   "id": "92fc47c8",
   "metadata": {},
   "source": [
    "## Watch out for questions about garbage collection where one of the object class fields is a `static` reference\n",
    "On the mock test there was a question about *garbage collection* where one of the classes had a `static` object reference field. Since static fields are shared by all objects when the rest of the objects references pointed to null, that static field will still be pointing to an object and thus that object is not yet eligible for gc."
   ]
  },
  {
   "cell_type": "code",
   "execution_count": 33,
   "id": "ec02ced4",
   "metadata": {},
   "outputs": [
    {
     "data": {
      "text/plain": [
       "test.beaker.Example"
      ]
     },
     "execution_count": 33,
     "metadata": {},
     "output_type": "execute_result"
    }
   ],
   "source": [
    "package test.beaker;\n",
    "\n",
    "class Example {\n",
    "    static Example ex0;\n",
    "    Example o;\n",
    "}"
   ]
  },
  {
   "cell_type": "code",
   "execution_count": 34,
   "id": "52f88b93",
   "metadata": {},
   "outputs": [
    {
     "data": {
      "text/plain": [
       "null"
      ]
     },
     "execution_count": 34,
     "metadata": {},
     "output_type": "execute_result"
    }
   ],
   "source": [
    "package test.beaker;\n",
    "\n",
    "Example ex1 = new Example(); // create a new object and assign to ref \"ex1\"\n",
    "Example ex2 = new Example(); // create a new object and assign to ref \"ex2\"\n",
    "Example ex3 = new Example(); // create a new object and assign to ref \"ex3\"\n",
    "Example ex4 = new Example(); // create a new object and assign to ref \"ex4\"\n",
    "\n",
    "ex2.ex0 = ex4; // assigne the \"ex0\" field to point to the same object as ex4, remember ex0 is a static field so it's shared by ALL objects of class ExampleOne\n",
    "ex1.o = ex3; // assign ex1's \"o\" field to point to the same object as ex3\n",
    "ex2=null; // change ex2 to point to nothing\n",
    "ex3=null; // change ex3 to point to nothing\n",
    "ex4=null; // change ex4 to point to nothing\n",
    "\n",
    "// So how many objects are eligible for garbage collection?\n",
    "// ANSWER: 1\n",
    "// 4 objects were created\n",
    "// ex1 still exists \n",
    "// ex2 was changed to null\n",
    "// ex3 was changed to null but not before the object it pointed to was also assigned to ex1.o. So ex1.o still points to the object created for ex3.\n",
    "// ex4 was changed to null but not before the object it pointed to was assigned to the static ex0 field\n",
    "// so 1.) ex1 still exists\n",
    "//    2.) ex1.o points to the object from ex3\n",
    "//    3.) ex0 (the static field shared by all objects) still points to ex4\n",
    "// Since ex1, ex3, and ex4 objects still have valid references the only object eligible for collection is ex2"
   ]
  },
  {
   "cell_type": "markdown",
   "id": "c9471d92",
   "metadata": {},
   "source": [
    "## Arrays are Objects\n",
    "Remember that in Java all classes at some level inherit from `Object` as that's the ultimate top-level class. This means that you can assign an object of virtually any other class to an `Object` reference."
   ]
  },
  {
   "cell_type": "code",
   "execution_count": 42,
   "id": "6973dd4f",
   "metadata": {},
   "outputs": [
    {
     "data": {
      "text/plain": [
       "null"
      ]
     },
     "execution_count": 42,
     "metadata": {},
     "output_type": "execute_result"
    }
   ],
   "source": [
    "import java.util.ArrayList;\n",
    "import java.util.Scanner;\n",
    "import java.time.LocalDate;\n",
    "\n",
    "Object o1 = new int[1]; // assign an array to object ref\n",
    "Object o2 = new ArrayList<>(); // assign an ArrayList to object ref\n",
    "Object o3 = new Scanner(System.in); // assign a Scanner to an object ref\n",
    "Object o4 = LocalDate.of(11, 01, 5); // assign a LocalDate to an object ref"
   ]
  },
  {
   "cell_type": "markdown",
   "id": "28b90221",
   "metadata": {},
   "source": [
    "## Since arrays are objects, if an object has an array field there are two objects in memory (one for the object and one for the array object within)\n",
    "This is one to watch out for in *garbage collection* questions. If you have a class which includes an instance field of type array any object of that class will create two objects in memory: the object itself and an array object which is referenced within the object."
   ]
  },
  {
   "cell_type": "markdown",
   "id": "0dcee5f1",
   "metadata": {},
   "source": [
    "## The rules for garbage collecting String literals is the same as other objects...\n",
    "..namely that the garbage-collector will clear them if it finds them unreachable (i.e. no live/active references pointing to them)."
   ]
  },
  {
   "cell_type": "markdown",
   "id": "a9b8ca39",
   "metadata": {},
   "source": [
    "## To be considered \"well encapsulated\" a getter must return reference to *copies* of mutable objects not the actual object reference\n",
    "Watch out for questions about whether or not a class is *\"well encapsulated\"* where one of the class fields is a mutable object like an array or ArrayList. In such cases, to be considered well encapsulated the class, in addition to all the usual encapsulation steps like private fields & setters/getters, should have any getters return a reference to a __copy__ of the mutable object and not a reference to the actual object itself.\n",
    "\n",
    "The reason being that a mutable object like an ArrayList is still mutable even if declared `final`; all that does is prevent the reference from being reassigned. So if your getter method returns a reference to the actual object, it can still be edited using mutator methods. Thus you should return a reference to a copy of the object not a reference to the actual object."
   ]
  },
  {
   "cell_type": "markdown",
   "id": "197d9725",
   "metadata": {},
   "source": [
    "## Overriding methods which throw exceptions\n",
    "Remember that if you're overriding a method you can only throw a checked exception of the same type or a subtype of that thrown by the original method. This means you can't throw a more broad/general checked exception but also that you can't throw a checked exception of a type which the original doesn't throw (and thus you also can't throw a checked exception if no checked exception was thrown by the original)."
   ]
  },
  {
   "cell_type": "code",
   "execution_count": 47,
   "id": "a1c40cb8",
   "metadata": {},
   "outputs": [
    {
     "ename": "ERROR",
     "evalue": " java.lang.IllegalStateException",
     "output_type": "error",
     "traceback": [
      "\u001b[0;31mERROR: java.lang.IllegalStateException: print() in com.twosigma.beaker.javash.bkr2a2643b9.Bar cannot override print() in com.twosigma.beaker.javash.bkr2a2643b9.Foo\u001b[0;0m",
      "\u001b[0;31m  overridden method does not throw java.lang.Exception\u001b[0;0m",
      "\u001b[0;31m public void print() throws Exception {} }\u001b[0;0m",
      "\u001b[0;31m ^                                      ^   \u001b[0;0m"
     ]
    }
   ],
   "source": [
    "class Foo {\n",
    "    public void print() throws NoSuchFieldException { // this exception is a child of Exception\n",
    "        \n",
    "    }\n",
    "}\n",
    "\n",
    "class Bar extends Foo {\n",
    "    public void print() throws Exception {} // since the original threw NoSuchFieldException which is a child of Exception, we can't throw Exception here\n",
    "                                            // as Exception is more broad/general than NoSuchFieldException\n",
    "}"
   ]
  },
  {
   "cell_type": "code",
   "execution_count": 49,
   "id": "b26027fa",
   "metadata": {},
   "outputs": [
    {
     "data": {
      "text/plain": [
       "com.twosigma.beaker.javash.bkr2a2643b9.Foo"
      ]
     },
     "execution_count": 49,
     "metadata": {},
     "output_type": "execute_result"
    }
   ],
   "source": [
    "// same example as above but with the exceptions reversed\n",
    "class Foo {\n",
    "    public void print() throws Exception {} // original method throws Exception\n",
    "}\n",
    "\n",
    "class Bar extends Foo {\n",
    "    public void print() throws NoSuchFieldException {} // overriding the original with a child of Exception...no errors\n",
    "}"
   ]
  },
  {
   "cell_type": "markdown",
   "id": "ec965f80",
   "metadata": {},
   "source": [
    "## A switch statement's cases must be *compile-time constants* or *enum* values\n",
    "The *case* labels in a `switch` must be *compile-time constants* or `enum` values. You can use other values for the switch expression but not the case labels. So, for example you can have String literals as the case labels but not a variable which points to a String literal."
   ]
  },
  {
   "cell_type": "code",
   "execution_count": 52,
   "id": "ab931db5",
   "metadata": {},
   "outputs": [
    {
     "name": "stdout",
     "output_type": "stream",
     "text": [
      "Here\n"
     ]
    },
    {
     "data": {
      "text/plain": [
       "null"
      ]
     },
     "execution_count": 52,
     "metadata": {},
     "output_type": "execute_result"
    }
   ],
   "source": [
    "// switch with string literal label\n",
    "String s = \"Hello\";\n",
    "switch (s) {\n",
    "    case \"Hello\":\n",
    "        System.out.println(\"Here\");\n",
    "}"
   ]
  },
  {
   "cell_type": "code",
   "execution_count": 56,
   "id": "6c367b9d",
   "metadata": {},
   "outputs": [
    {
     "ename": "constant string expression required",
     "evalue": "constant string expression required",
     "output_type": "error",
     "traceback": [
      "\u001b[1;31mconstant string expression required\u001b[0;0m",
      "\u001b[1;31m case s:\u001b[0;0m",
      "\u001b[1;31m      ^^  \u001b[0;0m"
     ]
    }
   ],
   "source": [
    "// switch with string variable\n",
    "String s = \"Hello\";\n",
    "switch(s) {\n",
    "    case s:\n",
    "        System.out.println(\"Here\");\n",
    "}"
   ]
  },
  {
   "cell_type": "markdown",
   "id": "56210e31",
   "metadata": {},
   "source": [
    "## The Period class takes a character sequences representing the period in question\n",
    "The format of the character sequence is `P<number of years>Y<number of months>M<number of weeks>W<number of days>D`.\n",
    "\n",
    "Example|Meaning\n",
    ":--|:--\n",
    "`P2Y`| Period.ofYears(2)\n",
    "`P3M`| Period.ofMonths(3)\n",
    "`P4W`| Period.ofWeeks(4)\n",
    "`P5D`| Period.ofDays(5)\n",
    "`P1Y2M3D`| Period.of(1, 2, 3)\n",
    "`P1Y2M3W4D`| Period.of(1, 2, 25)\n",
    "`P-1Y2M`| Period.of(-1, 2, 0)\n",
    "`-P1Y2M`| Period.of(-1, -2, 0)"
   ]
  },
  {
   "cell_type": "code",
   "execution_count": 65,
   "id": "de0a7a63",
   "metadata": {},
   "outputs": [
    {
     "name": "stdout",
     "output_type": "stream",
     "text": [
      "0\n"
     ]
    },
    {
     "data": {
      "text/plain": [
       "null"
      ]
     },
     "execution_count": 65,
     "metadata": {},
     "output_type": "execute_result"
    }
   ],
   "source": [
    "import java.time.Period;\n",
    "\n",
    "Period p = Period.parse(\"P12Y\");\n",
    "System.out.println(p.getMonths());"
   ]
  },
  {
   "cell_type": "markdown",
   "id": "78d9fc1d",
   "metadata": {},
   "source": [
    "## `Runnable` and `Callable` interfaces do not have target types"
   ]
  },
  {
   "cell_type": "markdown",
   "id": "c591d47b",
   "metadata": {},
   "source": [
    "## List inherits the `.stream()` method from the `java.util.Collection` interface\n",
    "This method creates a sequential stream using the Collection it was called on as the source."
   ]
  },
  {
   "cell_type": "markdown",
   "id": "d2581e66",
   "metadata": {},
   "source": [
    "## Java doesn't have any problem with multiple semi-colons\n",
    "The JVM will not object if you have a bunch of semi-colons `;` one after the other."
   ]
  },
  {
   "cell_type": "code",
   "execution_count": 74,
   "id": "25c36016",
   "metadata": {},
   "outputs": [
    {
     "data": {
      "text/plain": [
       "com.twosigma.beaker.javash.bkr2a2643b9.MyClass"
      ]
     },
     "execution_count": 74,
     "metadata": {},
     "output_type": "execute_result"
    }
   ],
   "source": [
    "class MyClass {\n",
    "    public void myMethod() {;;;;;;;;}\n",
    "}"
   ]
  },
  {
   "cell_type": "markdown",
   "id": "1f49e9a9",
   "metadata": {},
   "source": [
    "## A *functional interface* must contain exactly *ONE* abstract method\n",
    "The interface can contain multiple default methods but can have only ONE `abstract` method."
   ]
  },
  {
   "cell_type": "code",
   "execution_count": null,
   "id": "795dfedc",
   "metadata": {},
   "outputs": [],
   "source": []
  }
 ],
 "metadata": {
  "kernelspec": {
   "display_name": "Java",
   "language": "java",
   "name": "java"
  },
  "language_info": {
   "codemirror_mode": "text/x-java",
   "file_extension": ".java",
   "mimetype": "",
   "name": "Java",
   "nbconverter_exporter": "",
   "version": "1.8.0_121"
  },
  "toc": {
   "base_numbering": 1,
   "nav_menu": {},
   "number_sections": false,
   "sideBar": false,
   "skip_h1_title": false,
   "title_cell": "Table of Contents",
   "title_sidebar": "Contents",
   "toc_cell": false,
   "toc_position": {},
   "toc_section_display": false,
   "toc_window_display": false
  }
 },
 "nbformat": 4,
 "nbformat_minor": 5
}
