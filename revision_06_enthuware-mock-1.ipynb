{
 "cells": [
  {
   "cell_type": "markdown",
   "id": "a9b8bb5c",
   "metadata": {},
   "source": [
    "# Revision based on results from Enthuware Mock Exam 01"
   ]
  },
  {
   "cell_type": "markdown",
   "id": "393901dc",
   "metadata": {},
   "source": [
    "## Using `System.out.println(<exception>)` does NOT print a *stack trace*\n",
    "When printing an exception using by passing the exception to`System.out.println()` a *stack trace* is __NOT__ printed. To print the stack trace you can use the `.printStackTrace()` method that all exceptions inherit from *Throwable*."
   ]
  },
  {
   "cell_type": "code",
   "execution_count": 13,
   "id": "4251883d",
   "metadata": {},
   "outputs": [
    {
     "name": "stdout",
     "output_type": "stream",
     "text": [
      "Printing the exception using System.out.println:\n",
      "\tjava.lang.Exception\n",
      "\n",
      "Printing the stack trace using .printStackTrace:\n"
     ]
    },
    {
     "name": "stderr",
     "output_type": "stream",
     "text": [
      "java.lang.Exception\n",
      "\tat com.twosigma.beaker.javash.bkr7e3cf724.BeakerWrapperClass1261714175Ida8b59e2ffc3e4b4996d685648aff4581.beakerRun(BeakerWrapperClass1261714175Ida8b59e2ffc3e4b4996d685648aff4581.java:35)\n",
      "\tat sun.reflect.NativeMethodAccessorImpl.invoke0(Native Method)\n",
      "\tat sun.reflect.NativeMethodAccessorImpl.invoke(NativeMethodAccessorImpl.java:62)\n",
      "\tat sun.reflect.DelegatingMethodAccessorImpl.invoke(DelegatingMethodAccessorImpl.java:43)\n",
      "\tat java.lang.reflect.Method.invoke(Method.java:498)\n",
      "\tat com.twosigma.beakerx.javash.evaluator.JavaCodeRunner.compileAndRunCode(JavaCodeRunner.java:121)\n",
      "\tat com.twosigma.beakerx.javash.evaluator.JavaCodeRunner.compileCode(JavaCodeRunner.java:99)\n",
      "\tat com.twosigma.beakerx.javash.evaluator.JavaCodeRunner.runCode(JavaCodeRunner.java:84)\n",
      "\tat com.twosigma.beakerx.javash.evaluator.JavaCodeRunner.call(JavaCodeRunner.java:58)\n",
      "\tat com.twosigma.beakerx.javash.evaluator.JavaCodeRunner.call(JavaCodeRunner.java:39)\n",
      "\tat java.util.concurrent.FutureTask.run(FutureTask.java:266)\n",
      "\tat java.lang.Thread.run(Thread.java:745)\n"
     ]
    },
    {
     "data": {
      "text/plain": [
       "null"
      ]
     },
     "execution_count": 13,
     "metadata": {},
     "output_type": "execute_result"
    }
   ],
   "source": [
    "try {\n",
    "    throw new Exception();\n",
    "}\n",
    "catch (Exception e) {\n",
    "    System.out.println(\"Printing the exception using System.out.println:\");\n",
    "    System.out.println(\"\\t\"+e);\n",
    "    System.out.println();\n",
    "    System.out.println(\"Printing the stack trace using .printStackTrace:\");\n",
    "    e.printStackTrace();\n",
    "}"
   ]
  },
  {
   "cell_type": "markdown",
   "id": "f7424f6b",
   "metadata": {},
   "source": [
    "## Wrapper class' `.valueOf()` method returns an object of the type parsed from the String passed to it\n",
    "Each of the wrapper classes (Integer, Float, Long etc) has a `.valueOf()` method which takes a String and will return an object of the class parsed from the String. So for example the following will assign an Integer object representing the value 4 to the variable *foo*:"
   ]
  },
  {
   "cell_type": "code",
   "execution_count": 25,
   "id": "6133b3e4",
   "metadata": {},
   "outputs": [
    {
     "name": "stdout",
     "output_type": "stream",
     "text": [
      "foo is an object of class java.lang.Integer representing the int 4\n"
     ]
    },
    {
     "data": {
      "text/plain": [
       "null"
      ]
     },
     "execution_count": 25,
     "metadata": {},
     "output_type": "execute_result"
    }
   ],
   "source": [
    "Integer foo = Integer.valueOf(\"4\");\n",
    "System.out.println(\"foo is an object of \" + foo.getClass() + \" representing the int \" + foo);"
   ]
  },
  {
   "cell_type": "markdown",
   "id": "1d7b36cc",
   "metadata": {},
   "source": [
    "## Objects are passed by reference meaning...\n",
    "...that you can make changes to an object using a local variable within a method, however, if the local variable within the method is re-assigned all that does is re-assign the local variable. The original variable that held the reference which was passed to the method continues to point to the original reference unless directly reassigned within the method."
   ]
  },
  {
   "cell_type": "code",
   "execution_count": 36,
   "id": "1244ec34",
   "metadata": {},
   "outputs": [
    {
     "data": {
      "text/plain": [
       "test.beaker.MyWord"
      ]
     },
     "execution_count": 36,
     "metadata": {},
     "output_type": "execute_result"
    }
   ],
   "source": [
    "package test.beaker;\n",
    "\n",
    "class MyWord {\n",
    "    String innerWord;\n",
    "    public MyWord(String w) {\n",
    "        innerWord = w;\n",
    "    }\n",
    "    \n",
    "    public static void muddleWords(MyWord m1, MyWord m2) { // this method takes in the object references\n",
    "        MyWord.changeWord(m2, \"NewWord\"); // use changeWord on m2 which changes the innerWord of that object (i.e. we're acting directly on the object the reference points to)\n",
    "        m1 = m2; // but here all we're doing is re-assigning the local variable m1 to point to the same reference as m2\n",
    "    }\n",
    "    \n",
    "    public static void changeWord(MyWord mw, String newWord) {\n",
    "        mw.innerWord = newWord;\n",
    "    }\n",
    "}"
   ]
  },
  {
   "cell_type": "code",
   "execution_count": 37,
   "id": "729b742e",
   "metadata": {},
   "outputs": [
    {
     "name": "stdout",
     "output_type": "stream",
     "text": [
      "word1 contains: Original, word2 contains: NewWord\n"
     ]
    },
    {
     "data": {
      "text/plain": [
       "null"
      ]
     },
     "execution_count": 37,
     "metadata": {},
     "output_type": "execute_result"
    }
   ],
   "source": [
    "package test.beaker;\n",
    "\n",
    "MyWord word1 = new MyWord(\"Original\");\n",
    "MyWord word2 = new MyWord(\"AlsoOriginal\");\n",
    "\n",
    "MyWord.muddleWords(word1, word2); // since the muddleWords method didn't make any changes to the object referenced by word1 it still contains the original innerWord\n",
    "\n",
    "System.out.println(\"word1 contains: \" + word1.innerWord + \", word2 contains: \" + word2.innerWord);\n",
    "\n",
    "// so, within muddleWords we go:\n",
    "// \"Hey, changeWord() method go to the object that m2 points to and change its innerWord variable\"\n",
    "// then we say \"Now lets change the variable m1 so it points to the same reference as m2\", we haven't told word1 to point somewhere else so it stays the same"
   ]
  },
  {
   "cell_type": "markdown",
   "id": "30f03289",
   "metadata": {},
   "source": [
    "## Strings computed at runtime\n",
    "Strings computed at runtime are treated as newly created. Strings which are computed at runtime __by constant expressions__ (i.e. using *literals* or *final* variables) are newly created __*but are treated as if they were literals*__."
   ]
  },
  {
   "cell_type": "code",
   "execution_count": 44,
   "id": "80ee429b",
   "metadata": {},
   "outputs": [
    {
     "name": "stdout",
     "output_type": "stream",
     "text": [
      "false\n",
      "true\n",
      "true\n",
      "false\n"
     ]
    },
    {
     "data": {
      "text/plain": [
       "null"
      ]
     },
     "execution_count": 44,
     "metadata": {},
     "output_type": "execute_result"
    }
   ],
   "source": [
    "String s1 = \"Hello\"; // s1 is a compile-time variable (not constant)\n",
    "final String s2 = \"World\"; // final variable, this is a compile-time constant\n",
    "\n",
    "String s3 = s1 + \" \" + s2; // s3 is concatenating a compile-time variable (s1) and a compile-time constant (s2)\n",
    "String s4 = \"Hello \" + s2; // s4 is concatenating two compile-time constants; the final variable s2 and the String literal \"Hello\"\n",
    "\n",
    "\n",
    "System.out.println((s1+\" \"+s2) == \"Hello World\"); // FALSE because concatenating s1 (not a constant) with s2 is a newly created string object\n",
    "System.out.println((\"Hello \" + s2) == \"Hello World\"); // TRUE because a literal and a final variable are both compile-time constants\n",
    "System.out.println((\"Hel\" + \"lo\" + \" \" + \"Wor\" + \"ld\") == \"Hello World\"); // TRUE because these are all literals (compile-time constants)\n",
    "System.out.println(s3 == s4); // FALSE because s3 is a compile-time variable (not constant)\n"
   ]
  },
  {
   "cell_type": "markdown",
   "id": "8fadf3c1",
   "metadata": {},
   "source": [
    "## REMEMBER: Co-Variant return types are acceptable when overriding methods\n",
    "Watch out for questions where overriding methods change the return type to a *co-variant return type* (a type which is a subclass of the type returned by the original method) and nothing else. It's easy to mistakenly think this is a case of invalid overloading but when we're dealing with inheritance the changing of a return type to a co-variant type is a valid form of method overriding."
   ]
  },
  {
   "cell_type": "code",
   "execution_count": 48,
   "id": "1092e2b4",
   "metadata": {},
   "outputs": [
    {
     "ename": "ERROR",
     "evalue": " java.lang.IllegalStateException",
     "output_type": "error",
     "traceback": [
      "\u001b[0;31mERROR: java.lang.IllegalStateException: myMethod() in com.twosigma.beaker.javash.bkr7e3cf724.Bar cannot override myMethod() in com.twosigma.beaker.javash.bkr7e3cf724.Foo\u001b[0;0m",
      "\u001b[0;31m  return type java.lang.String is not compatible with void\u001b[0;0m",
      "\u001b[0;31m public String myMethod() { return \"bar\"; }\u001b[0;0m",
      "\u001b[0;31m ^                                         ^ \u001b[0;0m"
     ]
    }
   ],
   "source": [
    "// bad example\n",
    "class Foo {\n",
    "    public void myMethod() {\n",
    "        System.out.println(\"foo\");\n",
    "    }\n",
    "}\n",
    "\n",
    "class Bar extends Foo {\n",
    "    public String myMethod() { // since the original method returns nothing changing the return type to String is invalid, if we added a parameter this would work as overloading\n",
    "        return \"bar\";\n",
    "    }\n",
    "}"
   ]
  },
  {
   "cell_type": "code",
   "execution_count": 52,
   "id": "4981f1fd",
   "metadata": {},
   "outputs": [
    {
     "data": {
      "text/plain": [
       "com.twosigma.beaker.javash.bkr7e3cf724.Foo"
      ]
     },
     "execution_count": 52,
     "metadata": {},
     "output_type": "execute_result"
    }
   ],
   "source": [
    "// good example\n",
    "class Foo {\n",
    "    public Object myMethod() {\n",
    "        return new Object();\n",
    "    }\n",
    "}\n",
    "\n",
    "class Bar extends Foo {\n",
    "    public String myMethod() { // since String is a subclass of object this is a co-variant return type and a valid example of overriding\n",
    "        return new String(\"bar\");\n",
    "    }\n",
    "}"
   ]
  },
  {
   "cell_type": "markdown",
   "id": "7110b622",
   "metadata": {},
   "source": [
    "## `java.lang.SecurityException` is a *RuntimeException*\n",
    "*SecurityException* extends `RuntimeException` and is thrown by the *security manager* upon security violation (e.g. if a sandboxed java app tries to use a prohibited API such as file I/O)."
   ]
  },
  {
   "cell_type": "markdown",
   "id": "48800129",
   "metadata": {},
   "source": [
    "Q30"
   ]
  }
 ],
 "metadata": {
  "kernelspec": {
   "display_name": "Java",
   "language": "java",
   "name": "java"
  },
  "language_info": {
   "codemirror_mode": "text/x-java",
   "file_extension": ".java",
   "mimetype": "",
   "name": "Java",
   "nbconverter_exporter": "",
   "version": "1.8.0_121"
  },
  "toc": {
   "base_numbering": 1,
   "nav_menu": {},
   "number_sections": false,
   "sideBar": false,
   "skip_h1_title": false,
   "title_cell": "Table of Contents",
   "title_sidebar": "Contents",
   "toc_cell": false,
   "toc_position": {},
   "toc_section_display": false,
   "toc_window_display": false
  }
 },
 "nbformat": 4,
 "nbformat_minor": 5
}
