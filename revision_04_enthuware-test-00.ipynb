{
 "cells": [
  {
   "cell_type": "markdown",
   "id": "5aa13e97",
   "metadata": {},
   "source": [
    "# Revision Notes from the Enthuware Foundation Test"
   ]
  },
  {
   "cell_type": "markdown",
   "id": "4212f0b9",
   "metadata": {},
   "source": [
    "## `if/else` can have empty statements\n",
    "`if` and `else` clauses can be empty (i.e. just `;` separating them):"
   ]
  },
  {
   "cell_type": "code",
   "execution_count": 2,
   "id": "824df81d",
   "metadata": {},
   "outputs": [
    {
     "data": {
      "text/plain": [
       "null"
      ]
     },
     "execution_count": 2,
     "metadata": {},
     "output_type": "execute_result"
    }
   ],
   "source": [
    "if (true); else;"
   ]
  },
  {
   "cell_type": "markdown",
   "id": "645567ac",
   "metadata": {},
   "source": [
    "## An exception is throw in an initializer block will cause `ExceptionInInitializerError` to be thrown\n",
    "Regardless of what error is thrown within an initializer block Java will throw an `ExceptionInInitializerError`. Essentially overwriting the error within the initializer."
   ]
  },
  {
   "cell_type": "code",
   "execution_count": 5,
   "id": "9ede6642",
   "metadata": {},
   "outputs": [
    {
     "data": {
      "text/plain": [
       "test.beaker.Example"
      ]
     },
     "execution_count": 5,
     "metadata": {},
     "output_type": "execute_result"
    }
   ],
   "source": [
    "package test.beaker;\n",
    "\n",
    "class Example {\n",
    "    static {\n",
    "        if(true) throw new NullPointerException();\n",
    "    }\n",
    "}"
   ]
  },
  {
   "cell_type": "code",
   "execution_count": 6,
   "id": "21531dd7",
   "metadata": {},
   "outputs": [
    {
     "ename": "ERROR",
     "evalue": " java.lang.ExceptionInInitializerError",
     "output_type": "error",
     "traceback": [
      "\u001b[1;31mERROR: java.lang.ExceptionInInitializerError\u001b[0;0m"
     ]
    }
   ],
   "source": [
    "package test.beaker;\n",
    "\n",
    "Example e = new Example();"
   ]
  },
  {
   "cell_type": "markdown",
   "id": "f03a3482",
   "metadata": {},
   "source": [
    "## `ClassNotFoundException` vs `NoClassDefFoundError` \n",
    "Both are runtime exceptions relating to a class not being found. The causes are:\n",
    "\n",
    "`ClassNotFoundException` is thrown when you try to load a class at runtime using `Class.forName()` or `loadClass()` and the requested class is not found in *classpath*. The most common cause is trying to run an application without update the *classpath* with *JAR* files. It is a *checked* exception that inherits from `java.lang.Exception`.\n",
    "\n",
    "`NoClassDefFoundError` occurs when a program was compiled successfully but the class is no longer present at runtime. It is an *error* rather than an *exception* and inherits from `LinkageError`."
   ]
  },
  {
   "cell_type": "markdown",
   "id": "2664219d",
   "metadata": {},
   "source": [
    "## floats are not precise to nine significant digits\n",
    "This means that there will always be a loss of data when casting from float to int if the number has 9 or more digits:"
   ]
  },
  {
   "cell_type": "code",
   "execution_count": 10,
   "id": "f13e7e4d",
   "metadata": {},
   "outputs": [
    {
     "name": "stdout",
     "output_type": "stream",
     "text": [
      "1.23456792E8\n",
      "123456789\n",
      "123456792\n",
      "-3\n"
     ]
    },
    {
     "data": {
      "text/plain": [
       "null"
      ]
     },
     "execution_count": 10,
     "metadata": {},
     "output_type": "execute_result"
    }
   ],
   "source": [
    "int i = 123456789;\n",
    "float f = i;\n",
    "System.out.println(f);\n",
    "System.out.println(i);\n",
    "System.out.println((int) f);\n",
    "System.out.println(i - (int)f);"
   ]
  },
  {
   "cell_type": "markdown",
   "id": "ee73dba4",
   "metadata": {},
   "source": [
    "## Overriding methods can change return type to any subclass of original return type\n",
    "An overriding method can change the return type providing the new return type is a subclass of the return type from the method being overridden (*covariant return type*). This does not apply when the return type of the original method is a *primitive* type (because primitives don't have subclasses)."
   ]
  },
  {
   "cell_type": "markdown",
   "id": "043c7ffa",
   "metadata": {},
   "source": [
    "## The *synchronized* keyword can only be applied to a method or block\n",
    "This keyword relates to *threads* & *monitors* so you don't need to know the details yet just know that it can only be used with methods or blocks."
   ]
  },
  {
   "cell_type": "markdown",
   "id": "d751be14",
   "metadata": {},
   "source": [
    "## Rules for switch statement\n",
    "1. Only `String`, `byte`, `char`, `short`,`int` (and their wrapper classes `Integer`, `Short` etc) and `enum` can be used as types of switch variable.\n",
    "2. The *case* constants must be assignable to the switch variable. E.g. if the variable is `String` then the *case* constants must be `String`.\n",
    "3. The switch variable must be large enough to hold all the *case* constants. E.g. if the variable is `int` then none of the *case* constants can exceed the max `int` value.\n",
    "4. All *case* constants should be *compile time constants*. This means they can be *literals* such as `5`, `0.3`, `'x'`, or a `final` variable the value of which is computed at compile time.\n",
    "5. No two *case* constants can have the same value.\n",
    "6. Can have 0-1 *default* labels (i.e. none or one)."
   ]
  },
  {
   "cell_type": "markdown",
   "id": "cbc21d38",
   "metadata": {},
   "source": [
    "## `LocalDate`, `LocalTime`, `LocalDateTime` implement `TemporalAccessor` and have no relation to the old `java.util.Date`\n",
    "It's easy to mistakenly believe that the new Date/Time classes introduced in Java 8 are extension of the old ones (`java.util.Date`, `java.sql.Date`), however, they have no relation. They implement the `TemporalAccessor` interface. Nor do they have any parent/child relationship to each other.\n",
    "\n",
    "These classes use the calendar system defined in *ISO-8601* as the default calendar (this is based on the Gregorian calendar and is a used globally as a defacto standard). To make use of different calendar systems you can use the `java.time.chrono` package or create your own."
   ]
  },
  {
   "cell_type": "markdown",
   "id": "70c3be85",
   "metadata": {},
   "source": [
    "## `LocalDate`, `LocalTime`, `LocalDateTime` are *immutable*\n",
    "These classes are all immutable and cannot be instantiated directly. To create objects of this type you need to use the static factory methods provided by the classes (e.g. `.of()`)."
   ]
  },
  {
   "cell_type": "code",
   "execution_count": 13,
   "id": "c34acfce",
   "metadata": {},
   "outputs": [
    {
     "name": "stdout",
     "output_type": "stream",
     "text": [
      "2028-03-15\n"
     ]
    },
    {
     "data": {
      "text/plain": [
       "null"
      ]
     },
     "execution_count": 13,
     "metadata": {},
     "output_type": "execute_result"
    }
   ],
   "source": [
    "import java.time.*;\n",
    "\n",
    "LocalDate d = LocalDate.of(2028, Month.MARCH, 15);\n",
    "System.out.println(d);"
   ]
  },
  {
   "cell_type": "markdown",
   "id": "567d9f8f",
   "metadata": {},
   "source": [
    "## Only `ZonedDateTime` contains time-zone info\n",
    "The above Date/Time classes do not contain time-zone info. To make use of time-zones you need to use the `java.time.ZonedDateTime` class which is another immutable DateTime class but also records a time-zone with a zone offset used to handle ambiguous local date-times."
   ]
  },
  {
   "cell_type": "markdown",
   "id": "82699e58",
   "metadata": {},
   "source": [
    "## `Duration` and `Period` classes\n",
    "The `java.time` package, in addition to the above date/time classes, provides the `Duration` and `Period` classes.\n",
    "\n",
    "`Duration` is used for quantities of time in terms of hours, minutes, and seconds.\n",
    "<br>`Period` is used for quantities of time in terms of years, months, and days.\n",
    "\n",
    "__NOTE__: *Duration* and *Period* differ in their treatment of daylight savings time when added to `ZonedDateTime`. A *Duration* will add an exact number of seconds, thus duration of one day is always exactly 24hrs whereas *Period* will add a \"conceptual\" day treying to maintain the local time."
   ]
  },
  {
   "cell_type": "markdown",
   "id": "3dde67ac",
   "metadata": {},
   "source": [
    "## The `~` operator only operates on integral types\n",
    "This is the *bitwise complement* operator which only operates on integral types (i.e. byte, short, char, int, long) and inverts the bits."
   ]
  },
  {
   "cell_type": "markdown",
   "id": "64341e0e",
   "metadata": {},
   "source": [
    "## The `&` operator operates on integral and boolean types\n",
    "The bitwise AND operator copies a bit if it exists in both operands. The specifics of bitwise operators are outside the scope of this exam. Just know that it operates on both integral and boolean types."
   ]
  },
  {
   "cell_type": "code",
   "execution_count": 25,
   "id": "ac97c86a",
   "metadata": {},
   "outputs": [
    {
     "name": "stdout",
     "output_type": "stream",
     "text": [
      "2\n",
      "0\n",
      "445\n",
      "444\n",
      "22\n",
      "false\n"
     ]
    },
    {
     "data": {
      "text/plain": [
       "null"
      ]
     },
     "execution_count": 25,
     "metadata": {},
     "output_type": "execute_result"
    }
   ],
   "source": [
    "System.out.println(2 & 2);\n",
    "System.out.println(2 & 1);\n",
    "System.out.println(445 & 445);\n",
    "System.out.println(445 & 444);\n",
    "System.out.println(22 & 22);\n",
    "System.out.println(true & false);"
   ]
  },
  {
   "cell_type": "markdown",
   "id": "deb3249e",
   "metadata": {},
   "source": [
    "## `Boolean` wrapper class\n",
    "1. `Boolean` has two constructors:\n",
    "    - `Boolean(String)`: allocates a Boolean object representing the String value *true* if the string is not `null` and is equal (ignoring case) to `true`. Otherwise allocates object representing `false`.\n",
    "    - `Boolean(boolean)`: allocates a Boolean object representing the boolean passed in.\n",
    "2. `Boolean` has two static helper methods for creating booleans:\n",
    "    - `Boolean.parseBoolean(String)`: returns a primitive boolean of `true` if not `null` and is equal (ignoring case) to *true*, else returns `false`\n",
    "    - `Boolean.valueOf(String)`/`Boolean.valueOf(boolean)`: return a reference to either `Boolean.TRUE` or `Boolean.FALSE` wrapper objects/static constants (NOT new Boolean objects).\n",
    "3. When using the equality operator (`==`) with booleans, if exactly one of the operands is a Boolean wrapper, it is first unboxed into a boolean primitive and then compared. If both are Boolean wrappers only their references are compared (as with  other objects)."
   ]
  },
  {
   "cell_type": "code",
   "execution_count": null,
   "id": "5238eb83",
   "metadata": {},
   "outputs": [],
   "source": []
  }
 ],
 "metadata": {
  "kernelspec": {
   "display_name": "Java",
   "language": "java",
   "name": "java"
  },
  "language_info": {
   "codemirror_mode": "text/x-java",
   "file_extension": ".java",
   "mimetype": "",
   "name": "Java",
   "nbconverter_exporter": "",
   "version": "1.8.0_121"
  },
  "toc": {
   "base_numbering": 1,
   "nav_menu": {},
   "number_sections": false,
   "sideBar": false,
   "skip_h1_title": false,
   "title_cell": "Table of Contents",
   "title_sidebar": "Contents",
   "toc_cell": false,
   "toc_position": {},
   "toc_section_display": false,
   "toc_window_display": false
  }
 },
 "nbformat": 4,
 "nbformat_minor": 5
}
