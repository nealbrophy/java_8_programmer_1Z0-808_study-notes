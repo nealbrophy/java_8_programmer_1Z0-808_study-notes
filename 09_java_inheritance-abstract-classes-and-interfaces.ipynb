{
 "cells": [
  {
   "cell_type": "markdown",
   "id": "75a4c79d",
   "metadata": {},
   "source": [
    "# Inheritance in Java\n",
    "*Inheritance* is the process by which sub/child-classes can inherit existing fields/variables/methods from it's super/parent-class. Java supports *single-inheritance* meaning a class may inherit from only __ONE__ direct parent. However you can have multiple levels of inheritance such as class A extending class B which in turn extends class C.\n",
    "\n",
    "At it's most basic the concept of inheritance is often described as being an *'is a'* relationship: \n",
    "- *a car __is a__ motor vehicle* thus it would be appropriate for a *car* class to inherit from *motor vehicle* parent class\n",
    "- *a bear __is a__ mammal* thus it would be appropriate for a *bear* class to be a child of a *mammal* class\n",
    "- *a human __is NOT an__ island* therefore it would not make sense to have a *human* class as a child of an *island* class"
   ]
  },
  {
   "cell_type": "markdown",
   "id": "c7f00703",
   "metadata": {},
   "source": [
    "## Extending a class\n",
    "If you write a class which doesn't explicitly extend another class Java will automatically set your class to be a child of the top-level `java.lang.Object` class. So if you define a class like `public class MyClass {}` Java will automatically insert `extends java.lang.Object` at compile time. However, since `Object` is the top-most class essentially all classes inherit from it even if just indirectly.\n",
    "\n",
    "To extend a class in Java you use the `extends` keyword in your class declaration:\n",
    "<br>`public class Foo extends Bar {}`"
   ]
  },
  {
   "cell_type": "code",
   "execution_count": 8,
   "id": "276d55b8",
   "metadata": {},
   "outputs": [
    {
     "data": {
      "text/plain": [
       "test.beaker.Airplane"
      ]
     },
     "execution_count": 8,
     "metadata": {},
     "output_type": "execute_result"
    }
   ],
   "source": [
    "// PARENT CLASS\n",
    "package test.beaker;\n",
    "\n",
    "public class Airplane {\n",
    "    final static boolean hasWings = true;\n",
    "    int numberOfEngines = 2;\n",
    "    boolean hasPropeller = false;\n",
    "    \n",
    "    public Airplane(int numberOfEngines) {\n",
    "        this.hasPropeller = hasPropeller;\n",
    "        this.numberOfEngines = numberOfEngines;\n",
    "    }\n",
    "}"
   ]
  },
  {
   "cell_type": "code",
   "execution_count": 9,
   "id": "00ee3595",
   "metadata": {},
   "outputs": [
    {
     "data": {
      "text/plain": [
       "test.beaker.JumboJet"
      ]
     },
     "execution_count": 9,
     "metadata": {},
     "output_type": "execute_result"
    }
   ],
   "source": [
    "// CHILD CLASS\n",
    "package test.beaker;\n",
    "\n",
    "public class JumboJet extends Airplane {\n",
    "    final static int numberOfPassengers = 524;\n",
    "    \n",
    "    public JumboJet() {\n",
    "        super(2);\n",
    "    }\n",
    "}"
   ]
  },
  {
   "cell_type": "code",
   "execution_count": 12,
   "id": "08bebb60",
   "metadata": {},
   "outputs": [
    {
     "name": "stdout",
     "output_type": "stream",
     "text": [
      "true\n",
      "2\n",
      "524\n"
     ]
    },
    {
     "data": {
      "text/plain": [
       "null"
      ]
     },
     "execution_count": 12,
     "metadata": {},
     "output_type": "execute_result"
    }
   ],
   "source": [
    "package test.beaker;\n",
    "\n",
    "JumboJet B747 = new JumboJet(); // instantiate JumboJet object\n",
    "System.out.println(B747.hasWings); // access Airplane's hasWings variable\n",
    "System.out.println(B747.numberOfEngines); // access JumboJet's numberOfEngines\n",
    "System.out.println(B747.numberOfPassengers); // access JumboJet's numberOfPassengers (set using Airplane's contructor)"
   ]
  },
  {
   "cell_type": "markdown",
   "id": "0730827a",
   "metadata": {},
   "source": [
    "## Constructor Rules\n",
    "It's worth revisiting the following contructor definition rules:\n",
    "- The first statement of every constructor is either a call to another constructor within the same class (using `this()`), or a call to a parent-class constructor (using `super()`).\n",
    "- `super()`, if used, must be the first statement in a constructor.\n",
    "- If no `super()` call is present, Java will insert a no-argument one at the start of the constructor at compile time.\n",
    "- If the parent-class doesn't have a no-argument constructor, and the child-class doesn't impliment one (by calling `super()` with the needed arguments), an error will be thrown at compile time."
   ]
  },
  {
   "cell_type": "markdown",
   "id": "f90b76cb",
   "metadata": {},
   "source": [
    "So if you define a class like this:"
   ]
  },
  {
   "cell_type": "code",
   "execution_count": 4,
   "id": "2247924f",
   "metadata": {
    "scrolled": true
   },
   "outputs": [
    {
     "data": {
      "text/plain": [
       "com.twosigma.beaker.javash.bkrf2685cb9.Mouse"
      ]
     },
     "execution_count": 4,
     "metadata": {},
     "output_type": "execute_result"
    }
   ],
   "source": [
    "public class Mouse {}"
   ]
  },
  {
   "cell_type": "markdown",
   "id": "6d7aa432",
   "metadata": {},
   "source": [
    "Java will convert it to this at compile time:"
   ]
  },
  {
   "cell_type": "code",
   "execution_count": 5,
   "id": "7196dc64",
   "metadata": {},
   "outputs": [
    {
     "data": {
      "text/plain": [
       "com.twosigma.beaker.javash.bkrf2685cb9.Mouse"
      ]
     },
     "execution_count": 5,
     "metadata": {},
     "output_type": "execute_result"
    }
   ],
   "source": [
    "public class Mouse {\n",
    "    public Mouse() { // no argument constructor for mouse added\n",
    "        super(); // call to Object's (or another parent class) constructor within\n",
    "    }\n",
    "}"
   ]
  },
  {
   "cell_type": "markdown",
   "id": "2f58f32d",
   "metadata": {},
   "source": [
    "## Inherited class members"
   ]
  },
  {
   "cell_type": "markdown",
   "id": "11f3bdb7",
   "metadata": {},
   "source": [
    "Java classes can use any `public` or `protected` members of the parent-class. If the parent and child are in the same *package*, the child can also use any default (*package protected*) members. A child class can never __directly__ access any `private` members of its parent.\n",
    "\n",
    "To access inherited members of a class you can use the keywords `super` or `this`. `this` will access the inherited member within the current class whereas `super` will directy access members within the parent class. If you try to use `super` to access a member of the current class which was NOT inherited from the parent, you'll get a compile error.\n",
    "\n",
    "### `super` vs `super()` and `this` vs `this()`\n",
    "It's easy to confuse `super` with `super()` and `this` with `this()`, however, they're not interchangeable. `super()` is a call to the parent class' constructor whereas `super` is a keyword used to access members of the parent class. Likewise, `this()` is a call to the current class constructor and `this` is a keyword used to access instance variables/methods. If you override a parent-class' member in your child-class you can still access the parent-class' version (providing it's not `private`) by using `super`."
   ]
  },
  {
   "cell_type": "code",
   "execution_count": 14,
   "id": "22b647f2",
   "metadata": {},
   "outputs": [
    {
     "data": {
      "text/plain": [
       "test.beaker.Human"
      ]
     },
     "execution_count": 14,
     "metadata": {},
     "output_type": "execute_result"
    }
   ],
   "source": [
    "package test.beaker; // beakerx magic\n",
    "\n",
    "public class Human { // parent class\n",
    "    public static final String genus = \"homo\";\n",
    "    public static final String species = \"homo sapiens\";\n",
    "    private String name;\n",
    "    private int age;\n",
    "    \n",
    "    public Human(String name) {\n",
    "        System.out.println(\"Creating human...\");\n",
    "        this.name = name;\n",
    "        this.age = 0;\n",
    "        System.out.println(\"Human \" + this.name + \" created.\");\n",
    "    }\n",
    "    \n",
    "    public void setName(String name) {\n",
    "        this.name = name;\n",
    "    }\n",
    "    \n",
    "    public void setAge(int age) {\n",
    "        this.age = age;\n",
    "    }\n",
    "    \n",
    "    public String getName(){\n",
    "        return this.name;\n",
    "    }\n",
    "    \n",
    "    public int getAge() {\n",
    "        return this.age;\n",
    "    }\n",
    "    \n",
    "    public String toString() {\n",
    "        return (\"Name: \" + this.name + \"\\nAge: \" + this.age);\n",
    "    }\n",
    "}"
   ]
  },
  {
   "cell_type": "code",
   "execution_count": 20,
   "id": "e80ab7b5",
   "metadata": {},
   "outputs": [
    {
     "data": {
      "text/plain": [
       "test.beaker.NationalHuman"
      ]
     },
     "execution_count": 20,
     "metadata": {},
     "output_type": "execute_result"
    }
   ],
   "source": [
    "package test.beaker;\n",
    "\n",
    "public class NationalHuman extends Human { // child class of human\n",
    "    private String nationality;\n",
    "    \n",
    "    public NationalHuman(String name, String nationality) {\n",
    "        super(name);\n",
    "        this.nationality = nationality;\n",
    "    }\n",
    "    \n",
    "    public void setNationality(String nationality) {\n",
    "        this.nationality = nationality;\n",
    "    }\n",
    "    \n",
    "    public String getNationality() {\n",
    "        return (super.getName() + \" is \" + this.nationality); // uses SUPER keyword to access getName method and THIS keyword to access nationality variable\n",
    "    }\n",
    "}"
   ]
  },
  {
   "cell_type": "code",
   "execution_count": 24,
   "id": "6fa87fcd",
   "metadata": {},
   "outputs": [
    {
     "name": "stdout",
     "output_type": "stream",
     "text": [
      "Creating human...\n",
      "Human Dave created.\n",
      "Creating human...\n",
      "Human Susan created.\n",
      "Creating human...\n",
      "Human Antje created.\n",
      "\n",
      "Dave is Australian\n",
      "\n",
      "homo sapiens\n",
      "\n",
      "Name: Antje\n",
      "Age: 0\n"
     ]
    },
    {
     "data": {
      "text/plain": [
       "null"
      ]
     },
     "execution_count": 24,
     "metadata": {},
     "output_type": "execute_result"
    }
   ],
   "source": [
    "package test.beaker;\n",
    "\n",
    "NationalHuman dave = new NationalHuman(\"Dave\", \"Australian\");\n",
    "NationalHuman susan = new NationalHuman(\"Susan\", \"Irish\");\n",
    "NationalHuman antje = new NationalHuman(\"Antje\", \"German\");\n",
    "\n",
    "System.out.println(\"\\n\" + dave.getNationality());\n",
    "System.out.println(\"\\n\" + susan.species);\n",
    "System.out.println(\"\\n\" + antje);"
   ]
  },
  {
   "cell_type": "markdown",
   "id": "6801cd98",
   "metadata": {},
   "source": [
    "## Overriding inherited methods\n",
    "If you have a method in the child-class with the same method-signature as in the parent-class (i.e. same name, parameters, return type) that's called overriding. In order to successfully override an inherited method the following conditions must be met (the JVM will check at compile-time):\n",
    "- Must have the same *method-signature*\n",
    "- Must have the same or more permissive access\n",
    "- Must not throw a new or more broad __checked__ exception (i.e. if different, the checked exception in the child's overriding method must be a more specific version of the parents)\n",
    "- If the method returns a value it has to be the same type (or a subclass of) the type returned by the parent's method\n",
    "\n",
    "If the method in the child class has the same name but different signature it is *overloading* not *overriding*."
   ]
  },
  {
   "cell_type": "code",
   "execution_count": 32,
   "id": "1ed4d199",
   "metadata": {},
   "outputs": [
    {
     "data": {
      "text/plain": [
       "test.beaker.Pet"
      ]
     },
     "execution_count": 32,
     "metadata": {},
     "output_type": "execute_result"
    }
   ],
   "source": [
    "package test.beaker; // beakerx magic\n",
    "\n",
    "class Pet {\n",
    "    private String name;\n",
    "    \n",
    "    public Pet(String name) {\n",
    "        this.name = name;\n",
    "    }\n",
    "    \n",
    "    public String getName() {\n",
    "        return this.name;\n",
    "    }\n",
    "}\n",
    "\n",
    "class Dog extends Pet {\n",
    "    private String breed;\n",
    "    \n",
    "    public Dog(String name, String breed) {\n",
    "        super(name);\n",
    "        this.breed = breed;\n",
    "    }\n",
    "    \n",
    "    public void bark() {\n",
    "        System.out.println(\"Woof woof!\");\n",
    "    }\n",
    "    \n",
    "    public String toString() {\n",
    "        return (this.getName() + \" is a \" + this.breed);\n",
    "    }\n",
    "}\n",
    "\n",
    "class MiniatureDog extends Dog {\n",
    "    public MiniatureDog(String name, String breed) {\n",
    "        super(name, (\"miniature \" + breed));\n",
    "    }\n",
    "    \n",
    "    public void bark() { // overrides the bark method from parent\n",
    "        System.out.println(\"Yip Yip!\");\n",
    "    }\n",
    "}"
   ]
  },
  {
   "cell_type": "code",
   "execution_count": 33,
   "id": "dac3954f",
   "metadata": {},
   "outputs": [
    {
     "name": "stdout",
     "output_type": "stream",
     "text": [
      "Woof woof!\n",
      "Yip Yip!\n",
      "Dexter is a weimaraner-cross\n",
      "Pebbles is a miniature poodle\n"
     ]
    },
    {
     "data": {
      "text/plain": [
       "null"
      ]
     },
     "execution_count": 33,
     "metadata": {},
     "output_type": "execute_result"
    }
   ],
   "source": [
    "package test.beaker;\n",
    "\n",
    "Pet nibblesTheBunny = new Pet(\"Nibbles\");\n",
    "Dog dexter = new Dog(\"Dexter\", \"weimaraner-cross\");\n",
    "MiniatureDog pebble = new MiniatureDog(\"Pebbles\", \"poodle\");\n",
    "\n",
    "dexter.bark();\n",
    "pebble.bark();\n",
    "System.out.println(dexter);\n",
    "System.out.println(pebble);"
   ]
  },
  {
   "cell_type": "markdown",
   "id": "87db5ded",
   "metadata": {},
   "source": [
    "### Virtual Method Invocation (VMI)\n",
    "Virtual Method Invocation (or Virtual Method Calling) is the process Java uses at runtime to determine which method should be executed in cases where a method was overridden. Without this process, inheritance likely wouldn't work at all and Java would always call the original parent-class version of the method."
   ]
  },
  {
   "cell_type": "markdown",
   "id": "470f819b",
   "metadata": {},
   "source": [
    "## Hiding a method\n",
    "If a child-class defines a static method with the same *method-signature* as a static method in its parent, this is known as a *hidden method*. Method hiding is similar to method overriding and as such the rules for successfully doing so are almost the same but with the additional requirement that both methods must be `static`.\n",
    "\n",
    "If you try to use the same method signature for a method in the child-class but change from `static` you will receive a compiler error. Likewise, if you try to declare a signature with the same signature as in the parent but declared as `static` when the parent version was non-static, you will get a compiler error.\n",
    "\n",
    "__NOTE__: while permitted, method-hiding is not recommended as it can lead to confusing and hard-to-read code."
   ]
  },
  {
   "cell_type": "markdown",
   "id": "d3eb6159",
   "metadata": {},
   "source": [
    "### Overriding vs Hiding\n",
    "A key difference between overriding methods and hiding methods, is that hiding a method will keep access to the original version of the method providing that the call to the method is defined in the parent class even if the method is called from an instance of the child class. Overriding a method will replace the parent version of the method even if the call to the method is in the parent class, providing that it's being accessed from an instance of the child.\n",
    "\n",
    "This sounds very confusing so lets look at some examples.\n",
    "\n",
    "OVERRIDING:"
   ]
  },
  {
   "cell_type": "code",
   "execution_count": 45,
   "id": "e14c91a6",
   "metadata": {},
   "outputs": [
    {
     "data": {
      "text/plain": [
       "test.beaker.Greeting"
      ]
     },
     "execution_count": 45,
     "metadata": {},
     "output_type": "execute_result"
    }
   ],
   "source": [
    "// OVERRIDING EXAMPLE\n",
    "package test.beaker;\n",
    "\n",
    "class Greeting {\n",
    "    public String greetword() { // method in parent class\n",
    "        return \"Hello\";\n",
    "    }\n",
    "    \n",
    "    public String normalGreet() { \n",
    "        return (greetword() + \" there!\");\n",
    "    }\n",
    "}\n",
    "\n",
    "class FormalGreeting extends Greeting {\n",
    "    public String greetword() { // overridden method that replaces parent version of greetword in any instance of child class\n",
    "        return \"Good day\";\n",
    "    }\n",
    "    \n",
    "    public String formalGreet() { // \n",
    "        return (greetword() + \" to you.\");\n",
    "    }\n",
    "}"
   ]
  },
  {
   "cell_type": "code",
   "execution_count": 52,
   "id": "06ba8191",
   "metadata": {},
   "outputs": [
    {
     "name": "stdout",
     "output_type": "stream",
     "text": [
      "Good day to you.\n",
      "Good day there!\n"
     ]
    },
    {
     "data": {
      "text/plain": [
       "null"
      ]
     },
     "execution_count": 52,
     "metadata": {},
     "output_type": "execute_result"
    }
   ],
   "source": [
    "package test.beaker;\n",
    "\n",
    "FormalGreeting formal = new FormalGreeting();\n",
    "\n",
    "// note that both of the below output the same greetword of \"Good day\" even though one is the parent method, one is the child method\n",
    "System.out.println(formal.formalGreet()); // call child's greeting from child instance\n",
    "System.out.println(formal.normalGreet()); // call parent's greeting from child instance"
   ]
  },
  {
   "cell_type": "markdown",
   "id": "9f123169",
   "metadata": {},
   "source": [
    "HIDING:"
   ]
  },
  {
   "cell_type": "code",
   "execution_count": 49,
   "id": "ca4a8d2f",
   "metadata": {},
   "outputs": [
    {
     "data": {
      "text/plain": [
       "test.beaker.NationalGreeting"
      ]
     },
     "execution_count": 49,
     "metadata": {},
     "output_type": "execute_result"
    }
   ],
   "source": [
    "// HIDING EXAMPLE\n",
    "package test.beaker;\n",
    "\n",
    "class NationalGreeting {\n",
    "    public static String getGreetWord() { // static String in parent class\n",
    "        return \"Hello\";\n",
    "    }\n",
    "    \n",
    "    public String getGenericGreeting() {\n",
    "        return getGreetWord();\n",
    "    }\n",
    "}\n",
    "\n",
    "class IrishGreeting extends NationalGreeting {\n",
    "    public static String getGreetWord() { // hiding static method from parent class\n",
    "        return \"Howya\";\n",
    "    }\n",
    "    \n",
    "    public String getIrishGreeting() {\n",
    "        return getGreetWord();\n",
    "    }\n",
    "}"
   ]
  },
  {
   "cell_type": "code",
   "execution_count": 53,
   "id": "9daa7b7b",
   "metadata": {},
   "outputs": [
    {
     "name": "stdout",
     "output_type": "stream",
     "text": [
      "Howya\n",
      "Hello\n"
     ]
    },
    {
     "data": {
      "text/plain": [
       "null"
      ]
     },
     "execution_count": 53,
     "metadata": {},
     "output_type": "execute_result"
    }
   ],
   "source": [
    "package test.beaker;\n",
    "\n",
    "IrishGreeting irish = new IrishGreeting();\n",
    "\n",
    "// note that below outputs the respective greetword\n",
    "System.out.println(irish.getIrishGreeting()); // call child's greeting method from child instance\n",
    "System.out.println(irish.getGenericGreeting());// call parent's greeting method from child instance"
   ]
  },
  {
   "cell_type": "markdown",
   "id": "89220d00",
   "metadata": {},
   "source": [
    "## Final methods\n",
    "As you might expect, `final` methods cannot be overridden nor hidden by a child class. It doesn't matter if the child class redeclares the method as `final` also, it will still not compile."
   ]
  },
  {
   "cell_type": "markdown",
   "id": "80ec3fad",
   "metadata": {},
   "source": [
    "## Hiding variables\n",
    "Variables, unlike methods, cannot be overridden by a child class; they can only be hidden. As with method hiding, the parent variable will be available within the parent class (and subclasses & instances thereof) and the overridden version will be available within the child class (and instances & subclasses thereof). Unlike methods, hiding variables is not limited only to `static` variables, you can also hide instance variables.\n",
    "\n",
    "__NOTE__: variable hiding is also not recommended for the same reason as method hiding."
   ]
  },
  {
   "cell_type": "markdown",
   "id": "f269fb51",
   "metadata": {},
   "source": [
    "## Abstract classes\n",
    "*Abstract* classes are classes which cannot be instantiated. You can use abstract classes to define a parent class which is intended to be extended only and provide variables/methods which will be inherited. Obviously, since they exist to be extended, abstract classes cannot be `final` (otherwise it wouldn't be possible to extend them) nor can they be `private`.\n",
    "\n",
    "### Abstract methods\n",
    "You can also declare methods to be *abstract* which is essentially a placeholder for a method which __must__ be implemented by the class which extends the class. It's worth noting that:\n",
    "1. You cannonot have abstract methods in a non-abstract class (but you can have non-abstract methods in an abstract class)\n",
    "2. You must implement any abstract methods declared in an abstract class if you wish to extend that class\n",
    "\n",
    "So, if you want to extend an abstract class and it contains abstract methods, you have to implement those methods in your class otherwise you'll get a compiler error. To declare an abstract method you simply declare the name and return type (access modifiers etc can also be included) followed by parentheses and a semi-colon (no curly braces or method body can be included). Similar to abstract classes, abstract methods cannot be `final` or `private`."
   ]
  },
  {
   "cell_type": "code",
   "execution_count": 1,
   "id": "51ea17bc",
   "metadata": {},
   "outputs": [
    {
     "data": {
      "text/plain": [
       "test.beaker.Bottle"
      ]
     },
     "execution_count": 1,
     "metadata": {},
     "output_type": "execute_result"
    }
   ],
   "source": [
    "package test.beaker;\n",
    "\n",
    "public abstract class Bottle { // abstract class\n",
    "    protected int volume; // standard variables\n",
    "    protected String lidType;\n",
    "    \n",
    "    public abstract String pour(); // abstract method\n",
    "    \n",
    "    public abstract String toString(); // abstract method\n",
    "}\n",
    "\n",
    "class Beer extends Bottle {\n",
    "    public String producer;\n",
    "    public String fluid;\n",
    "    public String pour() { // implement the abstract \"pour\" method\n",
    "        return \"Tilt glass as you pour, slowly decreasing the glass tilt as you increase the bottle tilt.\";\n",
    "    }\n",
    "    \n",
    "    public Beer(String producer, String lidType, int volume) {\n",
    "        this.volume = volume;\n",
    "        this.lidType = lidType;\n",
    "        this.producer = producer;\n",
    "        this.fluid = \"Beer\";\n",
    "    }\n",
    "    \n",
    "    public String toString() { // implement the abstract \"toString\" method\n",
    "        return (\"A \" + this.volume + \"ml \" + this.lidType + \" \" + this.fluid + \" made by \" + this.producer);\n",
    "    }\n",
    "}"
   ]
  },
  {
   "cell_type": "code",
   "execution_count": 2,
   "id": "aab07dd6",
   "metadata": {},
   "outputs": [
    {
     "name": "stdout",
     "output_type": "stream",
     "text": [
      "A 330ml crown cork lid Beer made by Heineken N.V.\n"
     ]
    },
    {
     "data": {
      "text/plain": [
       "null"
      ]
     },
     "execution_count": 2,
     "metadata": {},
     "output_type": "execute_result"
    }
   ],
   "source": [
    "package test.beaker;\n",
    "\n",
    "Beer heineken = new Beer(\"Heineken N.V.\", \"crown cork lid\", 330);\n",
    "System.out.println(heineken);"
   ]
  },
  {
   "cell_type": "code",
   "execution_count": 3,
   "id": "38969ef2",
   "metadata": {},
   "outputs": [
    {
     "ename": "test.beaker.Bottle is abstract; cannot be instantiated",
     "evalue": "test.beaker.Bottle is abstract; cannot be instantiated",
     "output_type": "error",
     "traceback": [
      "\u001b[1;31mtest.beaker.Bottle is abstract; cannot be instantiated\u001b[0;0m",
      "\u001b[1;31m Bottle wine = new Bottle()\u001b[0;0m",
      "\u001b[1;31m               ^           ^ \u001b[0;0m"
     ]
    }
   ],
   "source": [
    "package test.beaker;\n",
    "\n",
    "Bottle wine = new Bottle(); // will throw an error as you can't instantiate an abstract class"
   ]
  },
  {
   "cell_type": "markdown",
   "id": "1f2444db",
   "metadata": {},
   "source": [
    "### Concrete classes\n",
    "A *concrete* class is the first non-abstract subclass that extends an abstract class and is thus required to implement all inherited abstract methods."
   ]
  },
  {
   "cell_type": "markdown",
   "id": "7f7bf0db",
   "metadata": {},
   "source": [
    "### Extending an abstract class with another abstract class\n",
    "It's possible to extend one *abstract* class with another *abstract* class. In such a scenario, since the class doing the extended is also *abstract* it is __not__ required to implement any abstract methods present.\n",
    "\n",
    "One interesting additional scenario is this: can abstract sub-class (which extends an abstract parent) implements a method which was abstract in the parent? Yes! If an abstract subclass implements an abstract method from it's parent, then any concrete subclass of that child class is no longer required to implement the method (since it was implemented by its abstract parent)."
   ]
  },
  {
   "cell_type": "code",
   "execution_count": 4,
   "id": "ea8a243c",
   "metadata": {},
   "outputs": [
    {
     "data": {
      "text/plain": [
       "com.twosigma.beaker.javash.bkrc393cf9f.Peripheral"
      ]
     },
     "execution_count": 4,
     "metadata": {},
     "output_type": "execute_result"
    }
   ],
   "source": [
    "public abstract class Peripheral { // abstract parent\n",
    "    public abstract void getDrivers();\n",
    "}\n",
    "\n",
    "abstract class InputDevice extends Peripheral { // abstract child of Peripheral\n",
    "    public abstract void doInputStuff(); // abstract method\n",
    "}\n",
    "\n",
    "abstract class Mouse extends InputDevice {// abstract child of abstract child\n",
    "    public void doInputStuff() { // this method was abstract in the parent but has been made concrete, that is implemented, here in another abstract class\n",
    "        System.out.println(\"Click clickety click\");\n",
    "    }\n",
    "} \n",
    "\n",
    "class TwoButtonMouse extends Mouse { // concrete child of abstract child\n",
    "    public String [] buttons = {\"Left-click\", \"Right-click\"};\n",
    "    public void getDrivers() { // this method must be implemented since it was declared abstract in Peripheral\n",
    "        System.out.println(\"Searching for drivers...\");\n",
    "        System.out.println(\"Downloading driver...\");\n",
    "        }\n",
    "    // NOTE since doInputStuff was implemented in Mouse (the parent-class of this class) it doesn't need to be re-implemented here\n",
    "}"
   ]
  },
  {
   "cell_type": "markdown",
   "id": "95ea5156",
   "metadata": {},
   "source": [
    "### Summary of abstract class & method rules\n",
    "Below is a summary of the rules for abstract classes & methods.\n",
    "\n",
    "#### Abstract classes\n",
    "- Cannot be instantiated directly\n",
    "- Can be declared with any number (including zero) of abstract and/or non-abstract methods\n",
    "- Cannot be declared as `private` or `final`\n",
    "- If extending another abstract class, it inherits all of its abstract methods as its own\n",
    "- The first *concrete* class of an abstract class must implement all abstract methods present\n",
    "\n",
    "#### Abstract methods\n",
    "- Can only be declared in abstract classes (i.e. you can't have an abstract method in a non-abstract class)\n",
    "- Cannot be declared as `private` or `final`\n",
    "- Cannot provide a method body or include curly braces\n",
    "- Implementing an abstract method in a subclass follows the same rules as for overriding a method"
   ]
  },
  {
   "cell_type": "markdown",
   "id": "6f38d5c1",
   "metadata": {},
   "source": [
    "## Interfaces\n",
    "As mentioned above, Java doesn't allow multiple inheritance. However, it does allow classes to implement any number of *interfaces*. An *interface* is an abstract data type that defines a list of abstract public methods which any class implementing the interface must provide. Interfaces can also include a list of constant variables and default methods.\n",
    "\n",
    "You declare interfaces with the keyword `interface` where you would normally see `class`. All interfaces are automatically `public` and `abstract`. So even if you don't declare your interface to be `public abstract` Java will insert that for you at compile time. Interfaces have the following characteristics:\n",
    "- Methods are implicitly abstract (except `default` methods, more below)\n",
    "- Classes do not `extend` interfaces but `implement` them\n",
    "- Classes can implement more than one `interface`\n",
    "\n",
    "Similarly, any variables in your interface are automatically `public static` and any methods are automaticallly `public abstract`.\n",
    "\n",
    "__NOTE__: Although Java will insert `public`, `abstract`, and `static` as needed, it's considered best practice to include them yourself."
   ]
  },
  {
   "cell_type": "code",
   "execution_count": 12,
   "id": "0ced8202",
   "metadata": {},
   "outputs": [
    {
     "data": {
      "text/plain": [
       "com.twosigma.beaker.javash.bkrc393cf9f.BoosterVaccine"
      ]
     },
     "execution_count": 12,
     "metadata": {},
     "output_type": "execute_result"
    }
   ],
   "source": [
    "public abstract interface BoosterVaccine {\n",
    "    public static final float DOSE = 23.4f;\n",
    "    \n",
    "    boolean amVaxxed();\n",
    "}\n",
    "\n",
    "class ThirdDose implements BoosterVaccine {\n",
    "    public boolean amVaxxed() {\n",
    "        return true;\n",
    "    }\n",
    "}"
   ]
  },
  {
   "cell_type": "markdown",
   "id": "76069305",
   "metadata": {},
   "source": [
    "A class can implement many interfaces. To do so you use the same `extends` keyword but follow with all interfaces being implemented (each interface should be separated by a comma)."
   ]
  },
  {
   "cell_type": "code",
   "execution_count": 11,
   "id": "6203d196",
   "metadata": {},
   "outputs": [
    {
     "data": {
      "text/plain": [
       "com.twosigma.beaker.javash.bkrc393cf9f.LiquidMetal"
      ]
     },
     "execution_count": 11,
     "metadata": {},
     "output_type": "execute_result"
    }
   ],
   "source": [
    "interface LiquidMetal {\n",
    "    boolean isLiquidMetal = true;\n",
    "}\n",
    "\n",
    "interface CannotBeStopped {\n",
    "    boolean isStoppable = false;\n",
    "    \n",
    "    public void whenShot();\n",
    "}\n",
    "\n",
    "interface Mission {\n",
    "    String mission = \"Kill John Connor\"; \n",
    "}\n",
    "\n",
    "interface HowsWolfy {\n",
    "    String answer = \"Wolfy's fine, dear\";\n",
    "}\n",
    "\n",
    "class T1000 implements LiquidMetal, CannotBeStopped, Mission, HowsWolfy {\n",
    "    public void whenShot() {\n",
    "        System.out.println(\"[Your shots do nothing. T1000 automatically heals]\");\n",
    "    }\n",
    "} // class implements all of the above interfaces"
   ]
  },
  {
   "cell_type": "markdown",
   "id": "4704bdbf",
   "metadata": {},
   "source": [
    "### Rules for defining an a interface\n",
    "Like abstract classes, there are certain rules for creating interfaces:\n",
    "1. Cannot be instantiated directly\n",
    "2. Is not required to have any methods\n",
    "3. Cannot be `final` or `private`\n",
    "4. All \"top-level\" interfaces are assumed to have `public abstract` as part of their declaration\n",
    "5. Non-default methods in an interface are assumed to have `public abstract` in their method signature"
   ]
  },
  {
   "cell_type": "markdown",
   "id": "a07cfac6",
   "metadata": {},
   "source": [
    "### Inheriting an interface\n",
    "Like abstract classes extending abstract classes, an interface can extend another interface and in fact can extend multiple interfaces.\n",
    "<br>`public interface Garfunkel {}`\n",
    "<br>`public interface Simon {}`\n",
    "<br>`public interface FeelingGroovy extends Simon, Garfunkel {}`\n",
    "\n",
    "An abstract class can also extend an interface and in such a case the abstract classes is treated like another interface extended the interface (i.e. inherits the abstract methods but is not required to implement them).\n",
    "\n",
    "Two important rules to bear in mind when extending interfaces:\n",
    "- An interface that extends another interface (also abstract classes that implement an interface) inherit all of the interface's abstract methods as it's own abstract methods\n",
    "- The first concrete class which implements an interface (or extends an abstract class which implements an interface), must provide implementations for all abstract methods"
   ]
  },
  {
   "cell_type": "markdown",
   "id": "381240c7",
   "metadata": {},
   "source": [
    "### CAUTION: Classes, Abstract Classes, and Interfaces\n",
    "Although it can seem like clases, abstract classes, and interfaces are all mixed around & can be used liberally, it should be noted that:\n",
    "- a class cannot `extend` an interface, it must `implement` it\n",
    "- an interface can `extend` another interface but it cannot `implement` an interface\n",
    "- an interface cannot `extend` a class or abstract class"
   ]
  },
  {
   "cell_type": "markdown",
   "id": "7de46cea",
   "metadata": {},
   "source": [
    "### Interface Variables\n",
    "Interface variables are assumed to be `public`, `static`, and `final`. The value of an interface variable must be set when it is declared since the variable is `final`. All of that means that interface variables are:\n",
    "- essentially constants\n",
    "- accessible directly from the interface (i.e. don't require an instance)"
   ]
  },
  {
   "cell_type": "markdown",
   "id": "effe46e5",
   "metadata": {},
   "source": [
    "### Default Methods\n",
    "Java 8 introduced *default* methods to *interfaces*. *Default* methods are methods defined in the interface with the `default` keyword and which contain a method body (unlike normal methods within interfaces which are assumed to be `abstract` and thus cannot include a method body).\n",
    "\n",
    "A default method is a type of abstract method which includes a default implementation. Any classes which implement the interface can override the default method if needed (though they're not required to do so). If not overridden the default implementation provided by the interface will be used. An interface can have multiple `default` methods.\n",
    "\n",
    "Unlike interface variables which are assumed to be `static` and can thus be access without an instance, `default` methods are assumed to be instance methods and require an instance.\n",
    "\n",
    "One unusual aspect of default methods is that a child interface (i.e. an interface that extends another interface) can redeclare a `default` method to be `abstract` thus requiring that any children of this new interface implement the previously default method. So, the child interface would essentially be saying, *\"this default method in my parent interface is no longer default, it's abstract and my children need to reimplement it themselves\"*."
   ]
  },
  {
   "cell_type": "code",
   "execution_count": 15,
   "id": "c327813e",
   "metadata": {},
   "outputs": [
    {
     "data": {
      "text/plain": [
       "test.beaker.Hello"
      ]
     },
     "execution_count": 15,
     "metadata": {},
     "output_type": "execute_result"
    }
   ],
   "source": [
    "package test.beaker;\n",
    "\n",
    "public abstract interface Hello { // interface\n",
    "    public default void print() { // default method\n",
    "        System.out.println(\"Hello World!\");\n",
    "    }\n",
    "}\n",
    "\n",
    "class Hi implements Hello {} // class implements Hello but doesn't override print()\n",
    "\n",
    "class Hey implements Hello { // class implements Hello and overrides print()\n",
    "    public void print() {\n",
    "        System.out.println(\"Hey World!\");\n",
    "    }\n",
    "}"
   ]
  },
  {
   "cell_type": "code",
   "execution_count": 16,
   "id": "7fdabf34",
   "metadata": {},
   "outputs": [
    {
     "name": "stdout",
     "output_type": "stream",
     "text": [
      "Hello World!\n",
      "Hey World!\n"
     ]
    },
    {
     "data": {
      "text/plain": [
       "null"
      ]
     },
     "execution_count": 16,
     "metadata": {},
     "output_type": "execute_result"
    }
   ],
   "source": [
    "package test.beaker;\n",
    "\n",
    "Hi hi = new Hi();\n",
    "hi.print(); // uses default method\n",
    "\n",
    "Hey hey = new Hey();\n",
    "hey.print(); // uses its own overridden version of method"
   ]
  },
  {
   "cell_type": "markdown",
   "id": "9204fc20",
   "metadata": {},
   "source": [
    "#### Summary of Default Method rules\n",
    "The following are rules for Interface' default methods:\n",
    "1. A `default` method can only be declared in an interface (not in a class or abstract class)\n",
    "2. A default method must be declared with the `default` keyword\n",
    "3. Unlike standard, non-default interface methods, a default method is NOT assumed to be `static`, `final`, or `abstract`\n",
    "4. Default methods __are__, however, assumed to be `public` and cannot be `private` or `protected`"
   ]
  },
  {
   "cell_type": "markdown",
   "id": "8ddc055f",
   "metadata": {},
   "source": [
    "### Conflicting Default Methods\n",
    "Since a class can implement multiple interfaces, what happens if two interfaces have the default methods with the same name? In short, a compiler error. The only way to avoid a compiler error would be for the class which is implementing the conflicting default methods to override them with it's on version:"
   ]
  },
  {
   "cell_type": "code",
   "execution_count": 19,
   "id": "0de82423",
   "metadata": {},
   "outputs": [
    {
     "data": {
      "text/plain": [
       "com.twosigma.beaker.javash.bkrc393cf9f.ImTheBoss"
      ]
     },
     "execution_count": 19,
     "metadata": {},
     "output_type": "execute_result"
    }
   ],
   "source": [
    "interface ImTheBoss {\n",
    "    public default void whosBoss() {\n",
    "        System.out.println(\"I'm the boss!\");\n",
    "    }\n",
    "}\n",
    "\n",
    "interface NoImTheBoss {\n",
    "    public default void whosBoss() {\n",
    "        System.out.println(\"No, I am the one who is boss!\");\n",
    "    }\n",
    "}\n",
    "\n",
    "class ActualBoss implements ImTheBoss, NoImTheBoss {\n",
    "    public void whosBoss() {\n",
    "        System.out.println(\"Actually, it is I whom is boss.\");\n",
    "    }\n",
    "}"
   ]
  },
  {
   "cell_type": "markdown",
   "id": "b4e3ba63",
   "metadata": {},
   "source": [
    "### Static Methods in Interfaces\n",
    "In addition to default methods, Java 8 also introduced `static` methods for interfaces. *Static* interface methods are virtually identical to normal *static* class methods except that the interface methods are NOT inherited by any children.\n",
    "\n",
    "#### Rules for static methods\n",
    "1. Are assumed to be `public` and cannot be `private` or `protected`\n",
    "2. To access a interface's static method you must refer to it using the interface name (since it is not inherited by any children)"
   ]
  },
  {
   "cell_type": "code",
   "execution_count": 20,
   "id": "c103e922",
   "metadata": {},
   "outputs": [
    {
     "data": {
      "text/plain": [
       "test.beaker.Hoola"
      ]
     },
     "execution_count": 20,
     "metadata": {},
     "output_type": "execute_result"
    }
   ],
   "source": [
    "package test.beaker;\n",
    "\n",
    "public abstract interface Hoola {\n",
    "    public static void doHoola() { // static method\n",
    "        System.out.println(\"I'm hoola-ing my heart out! *hoola-hoola-hoola*\");\n",
    "    }\n",
    "}\n",
    "\n",
    "class Hoop implements Hoola {\n",
    "    \n",
    "}"
   ]
  },
  {
   "cell_type": "code",
   "execution_count": 24,
   "id": "1d3dfc54",
   "metadata": {},
   "outputs": [
    {
     "name": "stdout",
     "output_type": "stream",
     "text": [
      "I'm hoola-ing my heart out! *hoola-hoola-hoola*\n"
     ]
    },
    {
     "data": {
      "text/plain": [
       "null"
      ]
     },
     "execution_count": 24,
     "metadata": {},
     "output_type": "execute_result"
    }
   ],
   "source": [
    "package test.beaker;\n",
    "\n",
    "Hoop myHoop = new Hoop();\n",
    "\n",
    "Hoola.doHoola(); // OUTPUT: I'm hoola-ing my heart out! *hoola-hoola-hoola*\n",
    "// uncomment the below to see it's output (an error)\n",
    "// myHoop.doHoola();"
   ]
  },
  {
   "cell_type": "markdown",
   "id": "d546b645",
   "metadata": {},
   "source": [
    "## Polymorphism\n",
    "Polymorphism is a principle of inheritance whereby objects can **a.)** take many forms and **b.)** inherit & change methods/variables from a parent. Essentially, it means that that you can call the same method in two different (but related) objects/classes and get different results. Additionally, polymorphism means that a Java object can be accessed using:\n",
    "- a reference with the same type as the object\n",
    "- a reference that is a superclass of the object\n",
    "- a reference that defines an interface which the object implements"
   ]
  },
  {
   "cell_type": "code",
   "execution_count": 31,
   "id": "d5e24ccd",
   "metadata": {},
   "outputs": [
    {
     "data": {
      "text/plain": [
       "test.beaker.SirenSound"
      ]
     },
     "execution_count": 31,
     "metadata": {},
     "output_type": "execute_result"
    }
   ],
   "source": [
    "package test.beaker;\n",
    "\n",
    "class SirenSound {\n",
    "    public boolean isSirenLoud() {\n",
    "        return true;\n",
    "    }\n",
    "    public String flashingLight = \"Flashing Light!\";\n",
    "}\n",
    "\n",
    "abstract interface Siren {\n",
    "    public boolean hasSiren();\n",
    "}\n",
    "\n",
    "class RoadWorks extends SirenSound implements Siren {\n",
    "    public String lights = \"*FLASHING YELLOW LIGHTS*\";\n",
    "    public boolean hasSiren() {\n",
    "        return true;\n",
    "    }\n",
    "    public boolean isSirenLoud() {\n",
    "        return false;\n",
    "    }\n",
    "}"
   ]
  },
  {
   "cell_type": "code",
   "execution_count": 36,
   "id": "42022f4d",
   "metadata": {},
   "outputs": [
    {
     "name": "stdout",
     "output_type": "stream",
     "text": [
      "*FLASHING YELLOW LIGHTS*\n",
      "true\n",
      "Flashing Light!\n"
     ]
    },
    {
     "data": {
      "text/plain": [
       "null"
      ]
     },
     "execution_count": 36,
     "metadata": {},
     "output_type": "execute_result"
    }
   ],
   "source": [
    "package test.beaker;\n",
    "\n",
    "RoadWorks roadworks = new RoadWorks(); // create a RoadWorks object\n",
    "SirenSound sirensound = roadworks; // pass rw instance to SirenSound reference\n",
    "Siren siren = roadworks; // pass rw instance to Siren reference\n",
    "\n",
    "System.out.println(roadworks.lights); // accessing lights variable from rw object\n",
    "System.out.println(siren.hasSiren()); // access hasSiren method\n",
    "System.out.println(sirensound.flashingLight); // access isSirenLoud method"
   ]
  },
  {
   "cell_type": "markdown",
   "id": "9baeb05c",
   "metadata": {},
   "source": [
    "In the above example we only create one object instance (`new RoadWorks()`). We then assign that instance to a `SirenSound` type reference and a `Siren` type reference. There's still only one object instance in memory but by assigning it to different types we change what properties exist within the object when it's accessed via those types (e.g. if we try to access the `lights` variable using `siren` or `sirensound` references we'll get an error because it only exists in RoadWorks type references).\n",
    "\n",
    "Remember:\n",
    "- The type of the __object__ determines the content of the object in memory\n",
    "- The type of the __reference__ *to* the object determines what methods/vars are accessible via that reference"
   ]
  },
  {
   "cell_type": "code",
   "execution_count": 42,
   "id": "f18ac57a",
   "metadata": {},
   "outputs": [
    {
     "ename": "cannot find symbol",
     "evalue": "cannot find symbol",
     "output_type": "error",
     "traceback": [
      "\u001b[1;31mcannot find symbol\u001b[0;0m",
      "\u001b[1;31m  symbol:   variable light\u001b[0;0m",
      "\u001b[1;31m  location: variable ss of type test.beaker.SirenSound\u001b[0;0m",
      "\u001b[1;31m System.out.println(ss.light)\u001b[0;0m",
      "\u001b[1;31m                    ^       ^  \u001b[0;0m"
     ]
    }
   ],
   "source": [
    "package test.beaker;\n",
    "\n",
    "RoadWorks rw = new RoadWorks();\n",
    "SirenSound ss = rw;\n",
    "Siren s = rw;\n",
    "\n",
    "System.out.println(ss.light);"
   ]
  },
  {
   "cell_type": "markdown",
   "id": "9fc7fa81",
   "metadata": {},
   "source": [
    "### Polymorphic parameters\n",
    "One common use of polymorphism, is defining functions which accept an instance of an interface to which you can then pass any class that implements the interface (as that would be casting from subtype, the class that implements the interface, to supertype, the insterface itself).\n",
    "\n",
    "__NOTE__: When defining a method which takes polymorphic parameters that will be accessible outside the class it's defined in (either via subclasses or objects), it is considered good practice to use the superclass or interface type as the input parameters. This potentially allows the method to be reused/repurposed more easily because it can accept a wider range of argument types. For example, you might use the `List` interface as a parameter rather than the `ArrayList` class which implements `List` that way the method can accept both `List` and any class which implements it (not just `ArrayList` and it's children)."
   ]
  },
  {
   "cell_type": "code",
   "execution_count": 46,
   "id": "a3d014c0",
   "metadata": {},
   "outputs": [
    {
     "data": {
      "text/plain": [
       "test.beaker.Siren"
      ]
     },
     "execution_count": 46,
     "metadata": {},
     "output_type": "execute_result"
    }
   ],
   "source": [
    "package test.beaker;\n",
    "\n",
    "class Siren {\n",
    "    public String makeNoise() {\n",
    "        return \"[LOUD SIREN NOISE]\";\n",
    "    }\n",
    "}\n",
    "\n",
    "class Ambulance extends Siren {\n",
    "    public String makeNoise() {\n",
    "        return \"MEE-MAW..MEE-MAW..\";\n",
    "    }\n",
    "}\n",
    "\n",
    "class Police extends Siren {\n",
    "    public String makeNoise() {\n",
    "        return \"WEE-OOH..WEE-OOH..\";\n",
    "    }\n",
    "}\n",
    "\n",
    "class NormalCar {\n",
    "    public static void hearsSiren(Siren siren) { // method takes a Siren type object and calls it's makeNoise method\n",
    "        System.out.println(\"is that a siren?...\" + siren.makeNoise());\n",
    "    }\n",
    "}"
   ]
  },
  {
   "cell_type": "code",
   "execution_count": 47,
   "id": "f3d46b75",
   "metadata": {},
   "outputs": [
    {
     "name": "stdout",
     "output_type": "stream",
     "text": [
      "is that a siren?...[LOUD SIREN NOISE]\n",
      "is that a siren?...MEE-MAW..MEE-MAW..\n",
      "is that a siren?...WEE-OOH..WEE-OOH..\n"
     ]
    },
    {
     "data": {
      "text/plain": [
       "null"
      ]
     },
     "execution_count": 47,
     "metadata": {},
     "output_type": "execute_result"
    }
   ],
   "source": [
    "package test.beaker;\n",
    "\n",
    "NormalCar.hearsSiren(new Siren()); // passing a new Siren object\n",
    "NormalCar.hearsSiren(new Ambulance()); // passing a new Ambulance object (which is a subclass of Siren)\n",
    "NormalCar.hearsSiren(new Police()); // passing a new Police object (which is a subclass of Siren)"
   ]
  },
  {
   "cell_type": "code",
   "execution_count": null,
   "id": "c7ed6852",
   "metadata": {},
   "outputs": [],
   "source": []
  }
 ],
 "metadata": {
  "kernelspec": {
   "display_name": "Java",
   "language": "java",
   "name": "java"
  },
  "language_info": {
   "codemirror_mode": "text/x-java",
   "file_extension": ".java",
   "mimetype": "",
   "name": "Java",
   "nbconverter_exporter": "",
   "version": "1.8.0_121"
  },
  "toc": {
   "base_numbering": 1,
   "nav_menu": {},
   "number_sections": false,
   "sideBar": false,
   "skip_h1_title": false,
   "title_cell": "Table of Contents",
   "title_sidebar": "Contents",
   "toc_cell": false,
   "toc_position": {},
   "toc_section_display": false,
   "toc_window_display": false
  }
 },
 "nbformat": 4,
 "nbformat_minor": 5
}
