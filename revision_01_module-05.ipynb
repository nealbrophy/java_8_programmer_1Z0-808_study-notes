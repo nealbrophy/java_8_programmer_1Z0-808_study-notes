{
 "cells": [
  {
   "cell_type": "markdown",
   "id": "5c5193bb",
   "metadata": {},
   "source": [
    "# Revision Notes from Module 5 Quiz\n",
    "These are revision notes specific to questions on the eCollege Module 5 quiz"
   ]
  },
  {
   "cell_type": "markdown",
   "id": "77e44184",
   "metadata": {},
   "source": [
    "## Remember: You cannot call access a non-static method/variable from a static context\n",
    "Static methods/variables exist on the class itself and do not belong to any specific instance. You can access static methods/vars from an instance method but you cannot do the reverse (since static methods/vars live on the class and its possible to use them without ever instantiating an object, instance methods/vars are effectively invisible to static/class methods/vars)."
   ]
  },
  {
   "cell_type": "code",
   "execution_count": 1,
   "id": "c2ec1a95",
   "metadata": {},
   "outputs": [
    {
     "data": {
      "text/plain": [
       "test.beaker.Foo"
      ]
     },
     "execution_count": 1,
     "metadata": {},
     "output_type": "execute_result"
    }
   ],
   "source": [
    "package test.beaker; // required for beakerx magics\n",
    "\n",
    "public class Foo {\n",
    "    private int myNum = 0; // instance variable\n",
    "    private static int yourNum = 1; // static variable\n",
    "    \n",
    "    public int getMyNum() { // instance method\n",
    "        return this.myNum;\n",
    "    }\n",
    "    \n",
    "    public static int getYourNum() { // static method\n",
    "        return yourNum;\n",
    "    }\n",
    "}"
   ]
  },
  {
   "cell_type": "code",
   "execution_count": 4,
   "id": "b65bc5f1",
   "metadata": {},
   "outputs": [
    {
     "name": "stdout",
     "output_type": "stream",
     "text": [
      "Calling static method from an instance: 1\n",
      "Calling static method from the class: 1\n",
      "Calling a non-static method from an instance: 0\n"
     ]
    },
    {
     "data": {
      "text/plain": [
       "null"
      ]
     },
     "execution_count": 4,
     "metadata": {},
     "output_type": "execute_result"
    }
   ],
   "source": [
    "// ACCESS STATIC FROM NON-STATIC (INSTANCE)\n",
    "package test.beaker; // beakerx magic\n",
    "\n",
    "Foo f1 = new Foo(); // create an instance\n",
    "System.out.println(\"Calling static method from an instance: \" + f1.getYourNum()); // call static method from instance\n",
    "System.out.println(\"Calling static method from the class: \" + Foo.getYourNum()); // call static method from class\n",
    "System.out.println(\"Calling a non-static method from an instance: \" + f1.getMyNum()); // call non-static method from instance"
   ]
  },
  {
   "cell_type": "code",
   "execution_count": 5,
   "id": "0a31ad7b",
   "metadata": {},
   "outputs": [
    {
     "ename": "non-static method getMyNum() cannot be referenced from a static context",
     "evalue": "non-static method getMyNum() cannot be referenced from a static context",
     "output_type": "error",
     "traceback": [
      "\u001b[1;31mnon-static method getMyNum() cannot be referenced from a static context\u001b[0;0m",
      "\u001b[1;31m Foo.getMyNum()\u001b[0;0m",
      "\u001b[1;31m ^           ^   \u001b[0;0m"
     ]
    }
   ],
   "source": [
    "// ACCESS NON-STATIC FROM STATIC\n",
    "package test.beaker; // beakerx magic\n",
    "\n",
    "Foo.getMyNum(); // access non-static method from static context (i.e. the class)...will throw an error,"
   ]
  },
  {
   "cell_type": "markdown",
   "id": "d01ce916",
   "metadata": {},
   "source": [
    "## Labels are not permitted within method signature\n",
    "*Labels* in Java allow you to add a user-defined label a to a looping construct which allows you to user `break <label>;` or `continue <label>;`. This can give you some more fine-grained control when nesting loops. However, you cannot use labels as part of a method signature or to simply label a method (though you can use labels inside a method)."
   ]
  },
  {
   "cell_type": "markdown",
   "id": "94e2ccca",
   "metadata": {},
   "source": [
    "## Wrapper classes for primitives are subclasses of `Object`\n",
    "It's worth repeating that wrapper classes for primitives (e.g. `Integer` for `int`, `Float` for `float`, `Boolean` for `boolean`) are subclasses of Java's `Object` class. This means that autoboxing will allow a constructor which expects an Object argument to accept a primitive (as the primitive will be autoboxed to it's wrapper class, which is recognized by the constructor as an object)."
   ]
  },
  {
   "cell_type": "code",
   "execution_count": 8,
   "id": "b24f3a7c",
   "metadata": {},
   "outputs": [
    {
     "data": {
      "text/plain": [
       "test.beaker.WrapperTest"
      ]
     },
     "execution_count": 8,
     "metadata": {},
     "output_type": "execute_result"
    }
   ],
   "source": [
    "package test.beaker; // beakerx magic\n",
    "\n",
    "public class WrapperTest {\n",
    "    public WrapperTest(Object o) { // constructor which expects an object\n",
    "        System.out.println(\"I have received an object\");\n",
    "    }\n",
    "    \n",
    "    public WrapperTest(int i) { // constructor which expects an int\n",
    "        System.out.println(\"I have received an int\");\n",
    "    }\n",
    "}"
   ]
  },
  {
   "cell_type": "code",
   "execution_count": 12,
   "id": "bb1a7bd0",
   "metadata": {},
   "outputs": [
    {
     "name": "stdout",
     "output_type": "stream",
     "text": [
      "I have received an int\n",
      "I have received an object\n",
      "I have received an object\n",
      "I have received an object\n"
     ]
    },
    {
     "data": {
      "text/plain": [
       "null"
      ]
     },
     "execution_count": 12,
     "metadata": {},
     "output_type": "execute_result"
    }
   ],
   "source": [
    "package test.beaker; // beakerx magic\n",
    "\n",
    "WrapperTest wt1 = new WrapperTest(5);\n",
    "WrapperTest wt2 = new WrapperTest(false);\n",
    "WrapperTest wt3 = new WrapperTest(0.5f);\n",
    "WrapperTest wt4 = new WrapperTest(6.4);"
   ]
  },
  {
   "cell_type": "markdown",
   "id": "49d8b37e",
   "metadata": {},
   "source": [
    "## Watch out for instance initializers immediately after a static initializer\n",
    "Exam questions may ask you to determine a specific output which is defined by the time that different initializers run:\n",
    "- static initializers run once when the class is first loaded\n",
    "<br>`static {}`\n",
    "- instance initializers run every time an object is instantiated __BEFORE__ the constructor\n",
    "<br>`{}`\n",
    "- constructor runs every time an object is instantiated __AFTER__ instance initializers\n",
    "\n",
    "It can be easy to mistakenly see an instance initializer which is immediately after a static initializer as part of the static initializer, like this:"
   ]
  },
  {
   "cell_type": "code",
   "execution_count": 2,
   "id": "23b54eca",
   "metadata": {
    "scrolled": true
   },
   "outputs": [
    {
     "data": {
      "text/plain": [
       "com.twosigma.beaker.javash.bkr6eba67e1.Hello"
      ]
     },
     "execution_count": 2,
     "metadata": {},
     "output_type": "execute_result"
    }
   ],
   "source": [
    "public class Hello {\n",
    "    public static String msg = \"Hello\"; // static variable\n",
    "    int number = 0; // instance variable\n",
    "    float decimal = 0.0f; // instance variable\n",
    "    {\n",
    "        number++; // first INSTANCE initializer block\n",
    "    }\n",
    "    static\n",
    "    {msg = msg + \" World!\";} // this is the STATIC initializer\n",
    "    {decimal = 1.5f;} // this is another INSTANCE initializer\n",
    "}"
   ]
  },
  {
   "cell_type": "markdown",
   "id": "3a179743",
   "metadata": {},
   "source": [
    "## `static final` variables must be set exactly once\n",
    "If there are `static final` variables in a class, they must be set __ONCE__ (and only once) in the declaration line or a static initializer block. If you fail to initialize a `static final` variable in either location the compiler will throw an error."
   ]
  },
  {
   "cell_type": "code",
   "execution_count": null,
   "id": "67735c13",
   "metadata": {},
   "outputs": [],
   "source": []
  }
 ],
 "metadata": {
  "kernelspec": {
   "display_name": "Java",
   "language": "java",
   "name": "java"
  },
  "language_info": {
   "codemirror_mode": "text/x-java",
   "file_extension": ".java",
   "mimetype": "",
   "name": "Java",
   "nbconverter_exporter": "",
   "version": "1.8.0_121"
  },
  "toc": {
   "base_numbering": 1,
   "nav_menu": {},
   "number_sections": false,
   "sideBar": false,
   "skip_h1_title": false,
   "title_cell": "Table of Contents",
   "title_sidebar": "Contents",
   "toc_cell": false,
   "toc_position": {},
   "toc_section_display": false,
   "toc_window_display": false
  }
 },
 "nbformat": 4,
 "nbformat_minor": 5
}
