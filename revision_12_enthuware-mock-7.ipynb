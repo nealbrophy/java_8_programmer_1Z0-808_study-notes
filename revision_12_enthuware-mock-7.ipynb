{
 "cells": [
  {
   "cell_type": "markdown",
   "id": "84fd4b79",
   "metadata": {},
   "source": [
    "# Revision notes from Enthuware Mock Test 7"
   ]
  },
  {
   "cell_type": "markdown",
   "id": "267e8760",
   "metadata": {},
   "source": [
    "## If you have an overloaded method that takes either a `Integer` wrapper object or a `long` primitive...\n",
    "..and you pass an `int` primitive to that method, will Java autobox the `int` to an `Integer` object or will it widen the `int` to make it a `long`?\n",
    "\n",
    "Well, since *widening* pre-dates the availability of wrapper classes, Java will first try to widen."
   ]
  },
  {
   "cell_type": "code",
   "execution_count": 1,
   "id": "724e3a55",
   "metadata": {},
   "outputs": [
    {
     "data": {
      "text/plain": [
       "test.beaker.MyFoo"
      ]
     },
     "execution_count": 1,
     "metadata": {},
     "output_type": "execute_result"
    }
   ],
   "source": [
    "package test.beaker;\n",
    "\n",
    "class MyFoo {\n",
    "    public void myMethod(Integer i) { // Integer wrapper method\n",
    "        System.out.println(\"Integer wrapper object method!\");\n",
    "    }\n",
    "    \n",
    "    public void myMethod(long l) { // long primitive method\n",
    "        System.out.println(\"long primitive method!\");\n",
    "    }\n",
    "}"
   ]
  },
  {
   "cell_type": "code",
   "execution_count": 2,
   "id": "1cc879c3",
   "metadata": {},
   "outputs": [
    {
     "name": "stdout",
     "output_type": "stream",
     "text": [
      "long primitive method!\n"
     ]
    },
    {
     "data": {
      "text/plain": [
       "null"
      ]
     },
     "execution_count": 2,
     "metadata": {},
     "output_type": "execute_result"
    }
   ],
   "source": [
    "package test.beaker;\n",
    "\n",
    "MyFoo mf = new MyFoo();\n",
    "\n",
    "mf.myMethod(4); // pass the method an int primitive"
   ]
  },
  {
   "cell_type": "markdown",
   "id": "9e3e04d5",
   "metadata": {},
   "source": [
    "## If a method makes use of a static member but accesses it via an instance...\n",
    "..the compiler will instruct the JVM to access the static member directly via the class rather than via the instance (which doesn't exist yet during compilation). This means that even if the instance which you're accessing the member via is `null`, you will still be able to make use of the static member."
   ]
  },
  {
   "cell_type": "code",
   "execution_count": 3,
   "id": "b9a1c60a",
   "metadata": {},
   "outputs": [
    {
     "data": {
      "text/plain": [
       "test.beaker.ExampleClass"
      ]
     },
     "execution_count": 3,
     "metadata": {},
     "output_type": "execute_result"
    }
   ],
   "source": [
    "package test.beaker;\n",
    "\n",
    "class ExampleClass {\n",
    "    static String greet = \"Hello\";\n",
    "    static ExampleClass getEx() { // this method returns null\n",
    "        return null;\n",
    "    }\n",
    "}"
   ]
  },
  {
   "cell_type": "code",
   "execution_count": 5,
   "id": "1f25caf6",
   "metadata": {},
   "outputs": [
    {
     "name": "stdout",
     "output_type": "stream",
     "text": [
      "Hello\n"
     ]
    },
    {
     "data": {
      "text/plain": [
       "null"
      ]
     },
     "execution_count": 5,
     "metadata": {},
     "output_type": "execute_result"
    }
   ],
   "source": [
    "package test.beaker;\n",
    "\n",
    "System.out.println(ExampleClass.getEx().greet); // works even though we're calling greet on what we know will be a null object at runtime"
   ]
  },
  {
   "cell_type": "markdown",
   "id": "3419aa03",
   "metadata": {},
   "source": [
    "## A for loop's expression consists of three parts\n",
    "1. Initialization: where you declare/initialize the variable to be used for iteration e.g. `int i = 0;`\n",
    "2. Condition: the test of your variable e.g. `i < 10;`\n",
    "3. Update: the increment/decrement of your variable e.g. `i++`\n",
    "\n",
    "The update part of the expression can accept the following statements:\n",
    "- Assignment\n",
    "- Preincrement/decrement\n",
    "- Postincrement/decrement\n",
    "- Method invocation\n",
    "- Class instance creation expression\n",
    "\n",
    "This means that a for loop who's update section calls a method which doesn't return anything will work (though it may cause an infinite loop if you don't increment/decrement your variable elsewhere in the loop."
   ]
  },
  {
   "cell_type": "code",
   "execution_count": 2,
   "id": "cc66bf5c",
   "metadata": {},
   "outputs": [
    {
     "name": "stdout",
     "output_type": "stream",
     "text": [
      "Boop\n",
      "Boop\n",
      "Boop\n",
      "Boop\n",
      "Boop\n",
      "Boop\n",
      "Boop\n",
      "Boop\n",
      "Boop\n",
      "Boop\n"
     ]
    },
    {
     "data": {
      "text/plain": [
       "null"
      ]
     },
     "execution_count": 2,
     "metadata": {},
     "output_type": "execute_result"
    }
   ],
   "source": [
    "for (int i = 0; i < 10; System.out.println(\"Boop\")) {\n",
    "    i++; // without this we'd enter an infinite loop\n",
    "}"
   ]
  },
  {
   "cell_type": "markdown",
   "id": "b133368e",
   "metadata": {},
   "source": [
    "## The true/false sections of the `? :` operator must return some value\n",
    "The `? :` operation looks like this `<some condition> ? <if true> : <if false>;`. The true/false parts must return some value. If for example you try to use `System.out.println()` to print something to the screen depending on what the outcome is, the return will be `void` in both cases since `println` returns nothing."
   ]
  },
  {
   "cell_type": "code",
   "execution_count": 7,
   "id": "81f16238",
   "metadata": {},
   "outputs": [
    {
     "ename": "incompatible types",
     "evalue": " bad type in conditional expression",
     "output_type": "error",
     "traceback": [
      "\u001b[1;31mincompatible types: bad type in conditional expression\u001b[0;0m",
      "\u001b[1;31m    void cannot be converted to int\u001b[0;0m",
      "\u001b[1;31m int j = i < 6? System.out.println(\"Yes\"): System.out.println(\"No\")\u001b[0;0m",
      "\u001b[1;31m                ^                        ^                           \u001b[0;0m",
      "\u001b[1;31m\u001b[0;0m",
      "\u001b[1;31mincompatible types: bad type in conditional expression\u001b[0;0m",
      "\u001b[1;31m    void cannot be converted to int\u001b[0;0m",
      "\u001b[1;31m 6? System.out.println(\"Yes\"): System.out.println(\"No\")\u001b[0;0m",
      "\u001b[1;31m                               ^                       ^ \u001b[0;0m"
     ]
    }
   ],
   "source": [
    "int i = 5;\n",
    "int j = i < 6? System.out.println(\"Yes\"): System.out.println(\"No\");"
   ]
  },
  {
   "cell_type": "markdown",
   "id": "b9b86d51",
   "metadata": {},
   "source": [
    "## REMEMBER: Arrays are objects, and objects are passed by reference\n",
    "So, if you have a method which takes an array reference and makes some changes to it (e.g. increments an `int` element) the actual array will be updated. However, as with objects if you reassign the reference within the method you're just reassigning the local variable pointing to the reference and not the original."
   ]
  },
  {
   "cell_type": "markdown",
   "id": "d12cfc60",
   "metadata": {},
   "source": [
    "## REMEMBER: You cannot have two case labels with the same value in a `switch`\n",
    "In this case the question was a little sneaky in that it used two differently formatted integers (`1_000_000` and `1000000`) so I should have noticed that."
   ]
  },
  {
   "cell_type": "markdown",
   "id": "bed83a2d",
   "metadata": {},
   "source": [
    "## `Period` manipulates dates in terms of *days*/*months*/*years*. `Duration` manipulates dates in terms of *hours*/*minutes*/*seconds*\n",
    "This means that `Period` may not take Daylight Savings into account when adjusting a date, whereas `Duration` will."
   ]
  },
  {
   "cell_type": "markdown",
   "id": "caa94e94",
   "metadata": {},
   "source": [
    "## `StringBuilder`'s `.toString()` method will always return a new string\n",
    "So, if you assign the output of `toString()` from the same `StringBuilder` object to two different variables and then compare them using `==` the result will be false (since each call to `toString` created a new String)."
   ]
  },
  {
   "cell_type": "markdown",
   "id": "8ad68a1f",
   "metadata": {},
   "source": [
    "## REMEMBER: The dot operator `.` has higher precedence than the cast operator `(<cast>)` \n",
    "So anytime you see a dot operation (e.g. the calling of a method) which is dependent upon a cast happening first, the cast must be encased in parens. For example lets imagine the class `Foo` below has variable `greet` containing the string *Hello* but the class `Bar` which is a child of `Foo` sets it's version of `greet` to *Goodbye*:\n",
    "<br>`System.out.println( (Foo) b.greet );` // will not compile as you're essentially trying to cast the output of *b.greet* (a String) to *Foo*\n",
    "<br>`System.out.println( ((Foo) b).greet );` // will print *Hello*"
   ]
  },
  {
   "cell_type": "code",
   "execution_count": 8,
   "id": "5412f41a",
   "metadata": {},
   "outputs": [
    {
     "data": {
      "text/plain": [
       "test.beaker.Foo"
      ]
     },
     "execution_count": 8,
     "metadata": {},
     "output_type": "execute_result"
    }
   ],
   "source": [
    "package test.beaker;\n",
    "\n",
    "class Foo {\n",
    "    public String greet = \"Hello\";\n",
    "}\n",
    "\n",
    "class Bar extends Foo {\n",
    "    public String greet = \"Goodbye\";\n",
    "}"
   ]
  },
  {
   "cell_type": "code",
   "execution_count": 11,
   "id": "889d78e2",
   "metadata": {},
   "outputs": [
    {
     "name": "stdout",
     "output_type": "stream",
     "text": [
      "Goodbye\n",
      "Hello\n"
     ]
    },
    {
     "data": {
      "text/plain": [
       "null"
      ]
     },
     "execution_count": 11,
     "metadata": {},
     "output_type": "execute_result"
    }
   ],
   "source": [
    "package test.beaker;\n",
    "\n",
    "Bar b = new Bar();\n",
    "System.out.println(b.greet);\n",
    "System.out.println(((Foo) b).greet);\n",
    "// System.out.println((Foo) b.greet); // uncomment this line to see compile error"
   ]
  },
  {
   "cell_type": "code",
   "execution_count": null,
   "id": "85c8ce81",
   "metadata": {},
   "outputs": [],
   "source": []
  }
 ],
 "metadata": {
  "kernelspec": {
   "display_name": "Java",
   "language": "java",
   "name": "java"
  },
  "language_info": {
   "codemirror_mode": "text/x-java",
   "file_extension": ".java",
   "mimetype": "",
   "name": "Java",
   "nbconverter_exporter": "",
   "version": "1.8.0_121"
  },
  "toc": {
   "base_numbering": 1,
   "nav_menu": {},
   "number_sections": false,
   "sideBar": false,
   "skip_h1_title": false,
   "title_cell": "Table of Contents",
   "title_sidebar": "Contents",
   "toc_cell": false,
   "toc_position": {},
   "toc_section_display": false,
   "toc_window_display": false
  }
 },
 "nbformat": 4,
 "nbformat_minor": 5
}
