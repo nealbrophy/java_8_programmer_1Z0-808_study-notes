{
 "cells": [
  {
   "cell_type": "markdown",
   "id": "dd45a2d7",
   "metadata": {},
   "source": [
    "# Operators and Decision Constructs in Java"
   ]
  },
  {
   "cell_type": "markdown",
   "id": "bdd5df3e",
   "metadata": {},
   "source": [
    "## Java Operators\n",
    "An operator is a special symbol that applies certain actions to the values/variables/literals, referred to as *operands*, it's used with and returns a result. In Java there are 3 types of operators:\n",
    "- `unary`: applied to *one* operand\n",
    "- `binary`: applied to *two* operands\n",
    "- `ternary`: applied to *three* operands\n",
    "\n",
    "Operator name | Symbols | Examples\n",
    ":--|:--|:--|\n",
    "Post-unary | `expression++` and `expression--` | `x--;`\n",
    "Pre-unary | `++expression` and `--expression` | `++y`\n",
    "Other unary | `+`, `-`, `!` | `-5` (literal negative five), `!true` (literal false)\n",
    "Multiplication/Division/Modulus | `*`, `/`, `%` | `x * y`\n",
    "Addition/Subtraction | `+` and `-` | `x - y`\n",
    "Shift operators | `<<`, `>>`, `>>>` |\n",
    "Relational operators | `<`, `>`, `<=`, `>=`, `instanceof` | `obj instanceof Class`\n",
    "Equality | `==` and `!=` | `x != y`\n",
    "Bitwise Logical | `&`, `^`, `|` |\n",
    "Short-circuit logical | `&&` and `||` |\n",
    "Ternary | `[boolean expression] ? [if true] : [if false]` | `x < y ? x : y`\n",
    "Assignment | `=`, `+=`, `-=`, `/=`, `%=`, `&=`, `^=`, `!=`, `<<=`, `>>=`, `>>>=`|"
   ]
  },
  {
   "cell_type": "markdown",
   "id": "3fc9fc1a",
   "metadata": {},
   "source": [
    "## Numeric Promotion\n",
    "In Java, literals will sometimes be promoted to a larger data type if needed. The following are some general numeric promotion rules:\n",
    "- If two values have different data types, java will automatically promote the smaller to a larger data type.\n",
    "    - `long * int = long` in this case the int is promoted to a double as part of the operation.\n",
    "- If one of the values is integral and the other is floating-point, Java will promote the integral to the same type as the floating-point.\n",
    "    - `double * short = double` in this instance the short is promoted to a double\n",
    "- `byte`, `short`, and `char` are first promoted to `int` any time they're used with a binary arithmetic operator, even if neither operand is an `int`\n",
    "- After all promotions have been done and the operands have the same type, the resulting value will also have the same type."
   ]
  },
  {
   "cell_type": "markdown",
   "id": "d9e53518",
   "metadata": {},
   "source": [
    "## Literal Assumptions\n",
    "Java makes certain assumptions about literals which are worth keeping in mind:\n",
    "1. integral literals are assumed to be of type `int` (as opposed to byte, short, char, or long)\n",
    "2. floating-point literals are assumed to be of type `double` (unless appended with `f` or `F`)"
   ]
  },
  {
   "cell_type": "markdown",
   "id": "16d4a76b",
   "metadata": {},
   "source": [
    "## Decision Constructs\n",
    "Decision Constructs are methods of evaluating data to enable different actions depending on the result of the evaluation."
   ]
  },
  {
   "cell_type": "markdown",
   "id": "3bc4ee90",
   "metadata": {},
   "source": [
    "### `if` statement (aka `if-then` statement)\n",
    "The most basic decision construct is an `if` statement (sometimes referred to as an `if-then` statement), where we tell Java to do something *if* a condition evaluates to true."
   ]
  },
  {
   "cell_type": "code",
   "execution_count": 5,
   "id": "4a738a4f",
   "metadata": {},
   "outputs": [
    {
     "name": "stdout",
     "output_type": "stream",
     "text": [
      "I'm hungry!\n"
     ]
    },
    {
     "data": {
      "text/plain": [
       "null"
      ]
     },
     "execution_count": 5,
     "metadata": {},
     "output_type": "execute_result"
    }
   ],
   "source": [
    "boolean hungry = true;\n",
    "\n",
    "if(hungry) {\n",
    "    System.out.println(\"I'm hungry!\");\n",
    "}"
   ]
  },
  {
   "cell_type": "markdown",
   "id": "dd342fe7",
   "metadata": {},
   "source": [
    "### `if-else` statement (aka `if-then-else` statement)\n",
    "The `if-else` statement expands upon the `if` statement to allow you to specify an action if the initial expression is not true."
   ]
  },
  {
   "cell_type": "code",
   "execution_count": 6,
   "id": "5f5697f0",
   "metadata": {},
   "outputs": [
    {
     "name": "stdout",
     "output_type": "stream",
     "text": [
      "I'm ok, thanks.\n"
     ]
    },
    {
     "data": {
      "text/plain": [
       "null"
      ]
     },
     "execution_count": 6,
     "metadata": {},
     "output_type": "execute_result"
    }
   ],
   "source": [
    "boolean thirsty = false;\n",
    "\n",
    "if(thirsty) {\n",
    "    System.out.println(\"Yes, I'd like some water please\");\n",
    "} else {\n",
    "    System.out.println(\"I'm ok, thanks.\");\n",
    "}"
   ]
  },
  {
   "cell_type": "markdown",
   "id": "6b3fed8d",
   "metadata": {},
   "source": [
    "### The Ternary Operator\n",
    "Java provides a nice shorthand for the `if-else` in the form of the *ternary operator*. The ternary operator consists of a conditional expression followed by `?`, then the action you want if the expression returns true, followed by `:`, and finally the action you want if the expression returns false. So, the form looks like this:\n",
    "`<question> ? <if true> : <if false>`"
   ]
  },
  {
   "cell_type": "code",
   "execution_count": 7,
   "id": "04320c4e",
   "metadata": {},
   "outputs": [
    {
     "name": "stdout",
     "output_type": "stream",
     "text": [
      "Yes, bring an umbrella\n"
     ]
    },
    {
     "data": {
      "text/plain": [
       "null"
      ]
     },
     "execution_count": 7,
     "metadata": {},
     "output_type": "execute_result"
    }
   ],
   "source": [
    "boolean isRaining = true;\n",
    "\n",
    "String doINeedAnUmbrella = isRaining ? \"Yes, bring an umbrella\" : \"No umbrella necessary\";\n",
    "\n",
    "System.out.println(doINeedAnUmbrella);"
   ]
  },
  {
   "cell_type": "markdown",
   "id": "52675133",
   "metadata": {},
   "source": [
    "### `switch` statement\n",
    "The `switch` statement allows you to evaluate a single value and redirect to an appropriate branch. Each branch is representated by the `case` keyword. Two other important, though not mandatory, components of a switch statement are the `break` keyword and the `default` branch. `break` is used to tell Java to exit the switch statement after a particular branch has been executed (excluding the `break` keyword can cause *fall-through* where subsequent branches get executed until a `break` or the end of the switch. `default` allows you to set a default branch to be followed if none of the other branches execute.\n",
    "\n",
    "__NOTE__\n",
    "1. Switch can only evaluate the following data types:\n",
    "- `int` and the `Integer` wrapper class\n",
    "- `byte` and the `Byte` wrapper class\n",
    "- `short` and the `Short` wrapper class\n",
    "- `char` and the `Character` wrapper class\n",
    "- `String`\n",
    "- `enum` values\n",
    "2. The `case` statement value must be one of the following:\n",
    "- a literal\n",
    "- enum constant\n",
    "- final constant"
   ]
  },
  {
   "cell_type": "code",
   "execution_count": 10,
   "id": "d3214716",
   "metadata": {},
   "outputs": [
    {
     "name": "stdout",
     "output_type": "stream",
     "text": [
      "Doggy want a belly rub?\n"
     ]
    },
    {
     "data": {
      "text/plain": [
       "null"
      ]
     },
     "execution_count": 10,
     "metadata": {},
     "output_type": "execute_result"
    }
   ],
   "source": [
    "String pet = \"dog\";\n",
    "\n",
    "switch(pet) {\n",
    "    case \"cat\":\n",
    "        System.out.println(\"Kitty want some string?\");\n",
    "        break;\n",
    "    case \"bird\":\n",
    "        System.out.println(\"Polly want a cracker?\");\n",
    "        break;\n",
    "    case \"dog\":\n",
    "        System.out.println(\"Doggy want a belly rub?\");\n",
    "        break;\n",
    "    default:\n",
    "        System.out.println(\"I don't have any pets :(\");\n",
    "}"
   ]
  },
  {
   "cell_type": "markdown",
   "id": "5e261f46",
   "metadata": {},
   "source": [
    "### `while` statement\n",
    "The `while` statement will execute repeatedly as long as it's condition evaluates to true."
   ]
  },
  {
   "cell_type": "code",
   "execution_count": 12,
   "id": "9e235525",
   "metadata": {},
   "outputs": [
    {
     "name": "stdout",
     "output_type": "stream",
     "text": [
      "I'll take 1 scratchcard please\n",
      "I'll take 1 scratchcard please\n",
      "I'll take 1 scratchcard please\n",
      "I'll take 1 scratchcard please\n",
      "Better save my last 1 for the bus.\n"
     ]
    },
    {
     "data": {
      "text/plain": [
       "null"
      ]
     },
     "execution_count": 12,
     "metadata": {},
     "output_type": "execute_result"
    }
   ],
   "source": [
    "int cash = 5;\n",
    "while(cash > 1) {\n",
    "    System.out.println(\"I'll take 1 scratchcard please\");\n",
    "    cash--;\n",
    "}\n",
    "System.out.println(\"Better save my last 1 for the bus.\");"
   ]
  },
  {
   "cell_type": "markdown",
   "id": "0414689a",
   "metadata": {},
   "source": [
    "### `do-while` statement\n",
    "The `do-while` is a little like a reverse `while`, where you want the code to execute something and *then* evaluate if the expression is true. Very useful in cases where you want something to happen at least once."
   ]
  },
  {
   "cell_type": "code",
   "execution_count": 13,
   "id": "302a1df8",
   "metadata": {},
   "outputs": [
    {
     "name": "stdout",
     "output_type": "stream",
     "text": [
      "Sit on bus...\n",
      "Sit on bus...\n",
      "Sit on bus...\n",
      "Sit on bus...\n",
      "Sit on bus...\n",
      "Sit on bus...\n",
      "Sit on bus...\n",
      "Time to get off!\n"
     ]
    },
    {
     "data": {
      "text/plain": [
       "null"
      ]
     },
     "execution_count": 13,
     "metadata": {},
     "output_type": "execute_result"
    }
   ],
   "source": [
    "int stopNum = 0;\n",
    "int myStop = 7;\n",
    "\n",
    "do {\n",
    "    System.out.println(\"Sit on bus...\");\n",
    "    stopNum++;\n",
    "} while(stopNum < myStop);\n",
    "System.out.println(\"Time to get off!\");"
   ]
  },
  {
   "cell_type": "code",
   "execution_count": null,
   "id": "0c53a14a",
   "metadata": {},
   "outputs": [],
   "source": []
  }
 ],
 "metadata": {
  "kernelspec": {
   "display_name": "Java",
   "language": "java",
   "name": "java"
  },
  "language_info": {
   "codemirror_mode": "text/x-java",
   "file_extension": ".java",
   "mimetype": "",
   "name": "Java",
   "nbconverter_exporter": "",
   "version": "1.8.0_121"
  },
  "toc": {
   "base_numbering": 1,
   "nav_menu": {},
   "number_sections": false,
   "sideBar": false,
   "skip_h1_title": false,
   "title_cell": "Table of Contents",
   "title_sidebar": "Contents",
   "toc_cell": false,
   "toc_position": {},
   "toc_section_display": false,
   "toc_window_display": false
  }
 },
 "nbformat": 4,
 "nbformat_minor": 5
}
