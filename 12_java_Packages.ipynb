{
 "cells": [
  {
   "cell_type": "markdown",
   "id": "a787433e",
   "metadata": {},
   "source": [
    "# Packages\n",
    "Classes are generally grouped into packages, usually grouped based on the functionality they provide (for example the `java.time` package contains sub-packages & classes related to the handling of dates/times). Packages represent a directory structure with each package being a directory/folder that can contain sub-folders and/or class files.\n",
    "\n",
    "An example structure might look like this:\n",
    "<br>`com.example.Automobiles` (package)\n",
    "<br>&nbsp;&nbsp;&nbsp;&nbsp;&nbsp;&nbsp;&nbsp;&nbsp;&nbsp;&nbsp;`|__com.example.Automobiles.Car` (package)\n",
    "<br>&nbsp;&nbsp;&nbsp;&nbsp;&nbsp;&nbsp;&nbsp;&nbsp;&nbsp;&nbsp;&nbsp;&nbsp;&nbsp;&nbsp;&nbsp;&nbsp;&nbsp;&nbsp;&nbsp;&nbsp;&nbsp;&nbsp;`>PeopleCarrier.class` (class)\n",
    "<br>&nbsp;&nbsp;&nbsp;&nbsp;&nbsp;&nbsp;&nbsp;&nbsp;&nbsp;&nbsp;&nbsp;&nbsp;&nbsp;&nbsp;&nbsp;&nbsp;&nbsp;&nbsp;&nbsp;&nbsp;&nbsp;&nbsp;`>Utility.class` (class)\n",
    "<br>&nbsp;&nbsp;&nbsp;&nbsp;&nbsp;&nbsp;&nbsp;&nbsp;&nbsp;&nbsp;&nbsp;&nbsp;&nbsp;&nbsp;&nbsp;&nbsp;&nbsp;&nbsp;&nbsp;&nbsp;&nbsp;&nbsp;`>Saloon.class` (class)\n",
    "<br>&nbsp;&nbsp;&nbsp;&nbsp;&nbsp;&nbsp;&nbsp;&nbsp;&nbsp;&nbsp;`|__com.example.Automobiles.Truck`\n",
    "<br>&nbsp;&nbsp;&nbsp;&nbsp;&nbsp;&nbsp;&nbsp;&nbsp;&nbsp;&nbsp;&nbsp;&nbsp;&nbsp;&nbsp;&nbsp;&nbsp;&nbsp;&nbsp;&nbsp;&nbsp;&nbsp;&nbsp;`>Lorry.class` (class)\n",
    "<br>&nbsp;&nbsp;&nbsp;&nbsp;&nbsp;&nbsp;&nbsp;&nbsp;&nbsp;&nbsp;&nbsp;&nbsp;&nbsp;&nbsp;&nbsp;&nbsp;&nbsp;&nbsp;&nbsp;&nbsp;&nbsp;&nbsp;`>HeavyGoods.class` (class)\n",
    "<br>&nbsp;&nbsp;&nbsp;&nbsp;&nbsp;&nbsp;&nbsp;&nbsp;&nbsp;&nbsp;`|__com.example.Motorbike`\n",
    "<br>&nbsp;&nbsp;&nbsp;&nbsp;&nbsp;&nbsp;&nbsp;&nbsp;&nbsp;&nbsp;&nbsp;&nbsp;&nbsp;&nbsp;&nbsp;&nbsp;&nbsp;&nbsp;&nbsp;&nbsp;&nbsp;&nbsp;`>Scooter.class` (class)\n",
    "<br>&nbsp;&nbsp;&nbsp;&nbsp;&nbsp;&nbsp;&nbsp;&nbsp;&nbsp;&nbsp;&nbsp;&nbsp;&nbsp;&nbsp;&nbsp;&nbsp;&nbsp;&nbsp;&nbsp;&nbsp;&nbsp;&nbsp;`>Sports.class` (class)\n",
    "<br>&nbsp;&nbsp;&nbsp;&nbsp;&nbsp;&nbsp;&nbsp;&nbsp;&nbsp;&nbsp;&nbsp;&nbsp;&nbsp;&nbsp;&nbsp;&nbsp;&nbsp;&nbsp;&nbsp;&nbsp;&nbsp;&nbsp;`>OffRoad.class` (class)"
   ]
  },
  {
   "cell_type": "markdown",
   "id": "0e297005",
   "metadata": {},
   "source": [
    "## JAR Files\n",
    "Deploying Java apps is usually done by bundling the necessary files into a `.jar` file (which is like `.zip` file specifically for Java, JAR=Java Archive). Jar files also include a `META-INF` directory which contains a `MANIFEST.MF` file. The manifest file tells Java which of the files contains the main method.\n",
    "\n",
    "### Creating a JAR file\n",
    "Many modern IDEs provide a simple interface for creating JAR files. However, you can also do so via the command line. To create a jar file you can use the follow:\n",
    "<br>`jar cf <jar-file-name> <input-files>`\n",
    "\n",
    "### List content of JAR file\n",
    "You can list the contents of a JAR file with the `tf`:\n",
    "<br>`jar tf <jar-file-name>`\n",
    "\n",
    "### Running a JAR file\n",
    "To run a JAR from the command line run:\n",
    "<br>`java -jar <jar-file-name>`\n",
    "\n",
    "If you're running a jar file in a different directory and need to use the file PATH, you would encase the path in double quotes:\n",
    "<br>`java -jar <path/to/the/jar/file.jar>`"
   ]
  },
  {
   "cell_type": "code",
   "execution_count": null,
   "id": "6d1ba608",
   "metadata": {},
   "outputs": [],
   "source": []
  }
 ],
 "metadata": {
  "kernelspec": {
   "display_name": "Java",
   "language": "java",
   "name": "java"
  },
  "language_info": {
   "codemirror_mode": "text/x-java",
   "file_extension": ".java",
   "mimetype": "",
   "name": "Java",
   "nbconverter_exporter": "",
   "version": "1.8.0_121"
  },
  "toc": {
   "base_numbering": 1,
   "nav_menu": {},
   "number_sections": false,
   "sideBar": false,
   "skip_h1_title": false,
   "title_cell": "Table of Contents",
   "title_sidebar": "Contents",
   "toc_cell": false,
   "toc_position": {},
   "toc_section_display": false,
   "toc_window_display": false
  }
 },
 "nbformat": 4,
 "nbformat_minor": 5
}
