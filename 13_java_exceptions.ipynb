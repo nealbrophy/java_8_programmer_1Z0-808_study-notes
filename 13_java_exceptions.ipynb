{
 "cells": [
  {
   "cell_type": "markdown",
   "id": "e0870721",
   "metadata": {},
   "source": [
    "# Exceptions"
   ]
  },
  {
   "cell_type": "markdown",
   "id": "0b23c8f0",
   "metadata": {},
   "source": [
    "## What are exceptions?\n",
    "Exceptions are Java's way of telling you that it encountered a problem during execution. There are three main types of exception:\n",
    "- __Checked Exceptions__: these are exceptions which must either be __handled__ or __thrown__. These are all descendents of the `Exception` class (except any which extend the `RuntimeException` class)\n",
    "- __Runtime Exceptions__ (aka Unchecked Exceptions): these are unexpected errors, often due to typos/bad syntax. They are unchecked (don't need to be handled or thrown).\n",
    "- __Errors__: these are critical errors outside the control of Java e.g. *network connection dropped* or *ran out of memory*\n",
    "\n",
    "__NOTE__: Compiler errors are NOT exceptions\n",
    "\n",
    "Type|Features|Can be caught?|Required to *handle* or *throw*?\n",
    ":--|:--|:--|:--\n",
    "Runtime exceptions|subclass of `RuntimeException`|Yes|No\n",
    "Checked exception|subclass of `Exception` but not `RuntimeException`|Yes|Yes\n",
    "Error|subclass of `Error`|No|No"
   ]
  },
  {
   "cell_type": "markdown",
   "id": "75c40f1e",
   "metadata": {},
   "source": [
    "## Exception family tree\n",
    "As with almost everything in Java, exceptions are classes which ultimately find their root in `java.lang.Object`. The actual lineage of exceptions is something like this:"
   ]
  },
  {
   "cell_type": "markdown",
   "id": "cb730a7b",
   "metadata": {},
   "source": [
    "&nbsp;&nbsp;&nbsp;&nbsp;&nbsp;&nbsp;&nbsp;&nbsp;&nbsp;&nbsp;&nbsp;&nbsp;&nbsp;&nbsp;&nbsp;&nbsp;&nbsp;&nbsp;&nbsp;&nbsp;&nbsp;&nbsp;&nbsp;&nbsp;&nbsp;&nbsp;`java.lang.Object`\n",
    "<br>&nbsp;&nbsp;&nbsp;&nbsp;&nbsp;&nbsp;&nbsp;&nbsp;&nbsp;&nbsp;&nbsp;&nbsp;&nbsp;&nbsp;&nbsp;&nbsp;&nbsp;&nbsp;&nbsp;&nbsp;&nbsp;&nbsp;&nbsp;&nbsp;&nbsp;&nbsp;&nbsp;&nbsp;&nbsp;&nbsp;&nbsp;&nbsp;&nbsp;&nbsp;&nbsp;&nbsp;&nbsp;&nbsp;&nbsp;&nbsp;&nbsp;&nbsp;`|`\n",
    "<br>&nbsp;&nbsp;&nbsp;&nbsp;&nbsp;&nbsp;&nbsp;&nbsp;&nbsp;&nbsp;&nbsp;&nbsp;&nbsp;&nbsp;&nbsp;&nbsp;&nbsp;&nbsp;&nbsp;&nbsp;&nbsp;&nbsp;&nbsp;&nbsp;&nbsp;&nbsp;`java.lang.Throwable`\n",
    "<br>&nbsp;&nbsp;&nbsp;&nbsp;&nbsp;&nbsp;&nbsp;&nbsp;&nbsp;&nbsp;&nbsp;&nbsp;&nbsp;&nbsp;&nbsp;&nbsp;&nbsp;&nbsp;&nbsp;&nbsp;&nbsp;&nbsp;&nbsp;&nbsp;&nbsp;&nbsp;&nbsp;&nbsp;`/`&nbsp;&nbsp;&nbsp;&nbsp;&nbsp;&nbsp;&nbsp;&nbsp;&nbsp;&nbsp;&nbsp;&nbsp;&nbsp;&nbsp;&nbsp;&nbsp;&nbsp;&nbsp;&nbsp;&nbsp;&nbsp;&nbsp;&nbsp;&nbsp;`\\`\n",
    "<br>`java.lang.Exception`&nbsp;&nbsp;&nbsp;&nbsp;&nbsp;&nbsp;&nbsp;&nbsp;&nbsp;&nbsp;&nbsp;&nbsp;&nbsp;&nbsp;&nbsp;&nbsp;`java.lang.Error`\n",
    "<br>&nbsp;&nbsp;&nbsp;&nbsp;&nbsp;&nbsp;&nbsp;&nbsp;&nbsp;&nbsp;&nbsp;&nbsp;`|`\n",
    "<br>`java.lang.RuntimeException`"
   ]
  },
  {
   "cell_type": "markdown",
   "id": "2dab61b5",
   "metadata": {},
   "source": [
    "## Dealing with exceptions\n",
    "There are two ways of dealing with checked exceptions; Java has a rule called the \"*handle or declare rule*\" which essentially states that there are two options:\n",
    "1. __Throw__ the exception - i.e. pass the exception back up the chain to the code which invoked the function/method/variable/operation that caused the exception.\n",
    "2. __Handle__ the exception - deal with it in place, within the method where the exception was raised."
   ]
  },
  {
   "cell_type": "markdown",
   "id": "d8490e50",
   "metadata": {},
   "source": [
    "## Declaring that an exception will be thrown\n",
    "If you're not going to *handle* a checked exception then you need to declare that your method will *throw* it, if encountered. This is done by adding `throws <exception name>` to your method signature:\n",
    "<br>\n",
    "<br>`public void myMethod() throws Exception {}`\n",
    "\n",
    "When throwing an exception you will then need to either *throw* or *handle* it in the method to which you are throwing. For example, you can't do this:\n",
    "<br>\n",
    "<br>`public void parentMethod() {`\n",
    "<br>&nbsp;&nbsp;&nbsp;&nbsp;`childMethod();`// call child method\n",
    "<br>`}`\n",
    "<br>\n",
    "<br>`public void childMethod() throws Exception {}`\n",
    "\n",
    "Java will give you an error as you've thrown the exception (in this case from `childMethod()` to `parentMethod()` but you haven't thrown or handled it within `parentMethod`."
   ]
  },
  {
   "cell_type": "markdown",
   "id": "e72b15f0",
   "metadata": {},
   "source": [
    "## Throwing exceptions\n",
    "Outside of the JVM throwing exceptions you can throw them yourself using the following syntax:\n",
    "<br>\n",
    "<br>`throw new <exception name>();`\n",
    "\n",
    "Here you're using the `throw` keyword and then instantiating a new exception object to be thrown using `new <exception name>();` for example:\n",
    "<br>\n",
    "<br>`throw new Exception();` // throwing a new instance of the `Exception` class"
   ]
  },
  {
   "cell_type": "markdown",
   "id": "b74b2ad0",
   "metadata": {},
   "source": [
    "## Handling exceptions with `try/catch`\n",
    "We've seen how to *throw* exceptions, so how to we *handle* them? We use a construct called a *try/catch statement*. First, the code which is likely to throw an exception is encased in a `try` block like this:\n",
    "<br>\n",
    "<br>`try {`\n",
    "<br>&nbsp;&nbsp;&nbsp;&nbsp;`//code that may error`\n",
    "<br>`}`\n",
    "\n",
    "Then you follow that immediately with one (or more) `catch` blocks:\n",
    "<br>\n",
    "<br>`catch(<exception name> e) {`\n",
    "<br>&nbsp;&nbsp;&nbsp;&nbsp;`// do something with the exception, e.g. print info to screen`\n",
    "<br>`}`\n",
    "\n",
    "So all together it would look something like this:"
   ]
  },
  {
   "cell_type": "code",
   "execution_count": 3,
   "id": "1df2d568",
   "metadata": {},
   "outputs": [
    {
     "name": "stdout",
     "output_type": "stream",
     "text": [
      "Uh oh, encountered an error: java.lang.Exception\n"
     ]
    },
    {
     "data": {
      "text/plain": [
       "null"
      ]
     },
     "execution_count": 3,
     "metadata": {},
     "output_type": "execute_result"
    }
   ],
   "source": [
    "try {\n",
    "    throw new Exception(); // throw an Exception here just as an example\n",
    "}\n",
    "catch(Exception e) { // you don't have to use \"e\" here, it's just a variable to hold the exception object\n",
    "    System.out.println(\"Uh oh, encountered an error: \" + e);\n",
    "}"
   ]
  },
  {
   "cell_type": "markdown",
   "id": "1cb1dc77",
   "metadata": {},
   "source": [
    "### Chaining `catch` blocks\n",
    "In the event that your try block may throw a number of different exceptions, you can include different *catch* blocks for each; there's an important caveat - you must list the catch blocks from *MOST* specific exception type to *LEAST* specific.\n",
    "\n",
    "For example, lets say we have some code which may throw a custom `FooException` (more on custom exceptions later), but also might throw an `ArrayIndexOutOfBoundsException`(this is an unchecked exception I'm just using it for convenience here), or it may throw some other exception that you're not thinking of. You might handle this scenario by doing something like this:\n",
    "<br>`try {`\n",
    "<br>&nbsp;&nbsp;&nbsp;&nbsp;`// do something to throw an exception`\n",
    "<br>`}`\n",
    "<br>`catch (FooException fe) {`\n",
    "<br>&nbsp;&nbsp;&nbsp;&nbsp;`// do something with FooException`\n",
    "<br>`}`\n",
    "<br>`catch (ArrayIndexOutOfBoundsException aioob) {`\n",
    "<br>&nbsp;&nbsp;&nbsp;&nbsp;`// do something with ArrayIndex exception`\n",
    "<br>`}`\n",
    "<br>`catch (Exception e) {`\n",
    "<br>&nbsp;&nbsp;&nbsp;&nbsp;`// do something with Exception`\n",
    "<br>`}`\n",
    "\n",
    "Here we've gone from most specific exception down to least specific. If we put `Exception` at the top, Java would give us an error message."
   ]
  },
  {
   "cell_type": "markdown",
   "id": "226461db",
   "metadata": {},
   "source": [
    "### Adding a `finally` block\n",
    "`finally` allows you to add a block of code to the end of your *try/catch* which will __always__ be executed, even if an exception is thrown. Normally, after an exception is thrown Java will do whatever you put in the *catch* block and then stop. *Finally* allows you to have some code which will always run regardless. If no exception is thrown the *finally* block executes after the *try* block is finished. If an exception is throw, the *finally* block runs after the *catch* block is finished.\n",
    "<br>\n",
    "<br>`try {`\n",
    "<br>&nbsp;&nbsp;&nbsp;&nbsp;`// do something to throw an exception`\n",
    "<br>`}`\n",
    "<br>`catch (FooException fe) {`\n",
    "<br>&nbsp;&nbsp;&nbsp;&nbsp;`// do something with FooException`\n",
    "<br>`}`\n",
    "<br>`finally {`\n",
    "<br>&nbsp;&nbsp;&nbsp;&nbsp;`// this code will always execute, exception or no`\n",
    "<br>`}`\n",
    "\n",
    "__NOTE__: There is an exception to the idea that `finally` always executes - Java has a `System.exit(int)` method which tells Java to stop *immediately*."
   ]
  },
  {
   "cell_type": "code",
   "execution_count": 5,
   "id": "fbae4fd6",
   "metadata": {},
   "outputs": [
    {
     "name": "stdout",
     "output_type": "stream",
     "text": [
      "Doing something...\n",
      "I only execute if an exception is thrown...\n",
      "Well what do you know...an exception: java.lang.Exception\n",
      "I will always run, regardless of whether or not an exception is thrown.\n"
     ]
    },
    {
     "data": {
      "text/plain": [
       "null"
      ]
     },
     "execution_count": 5,
     "metadata": {},
     "output_type": "execute_result"
    }
   ],
   "source": [
    "try {\n",
    "    System.out.println(\"Doing something...\");\n",
    "    throw new Exception();\n",
    "} catch (Exception e) {\n",
    "    System.out.println(\"I only execute if an exception is thrown...\");\n",
    "    System.out.println(\"Well what do you know...an exception: \" + e);\n",
    "} finally {\n",
    "    System.out.println(\"I will always run, regardless of whether or not an exception is thrown.\");\n",
    "}"
   ]
  },
  {
   "cell_type": "markdown",
   "id": "fffae90d",
   "metadata": {},
   "source": [
    "## Throwing an error within a `catch` or `finally` block\n",
    "So, you've caught an exception in your thrown within your `try` block in your fancy `catch` block. That's that? All good? Not necessarily. It's possible for an exception to be thrown within your *catch* block (or your *finally* block)! So what do we do now?\n",
    "\n",
    "Well, you could add another *try/catch* within your *catch* block.\n",
    "\n",
    "What if *BOTH* the `catch` block and the `finally` block throw exceptions? The last exception throw is the important one in such a case; the finally block's exception will essentially override the catch exception. This is often handled by, again, nesting another `try/catch` within the `finally` block (so any exception thrown by `catch` doesn't get lost)."
   ]
  },
  {
   "cell_type": "markdown",
   "id": "f22f865e",
   "metadata": {},
   "source": [
    "## Common exceptions"
   ]
  },
  {
   "cell_type": "code",
   "execution_count": null,
   "id": "5722de96",
   "metadata": {},
   "outputs": [],
   "source": []
  }
 ],
 "metadata": {
  "kernelspec": {
   "display_name": "Java",
   "language": "java",
   "name": "java"
  },
  "language_info": {
   "codemirror_mode": "text/x-java",
   "file_extension": ".java",
   "mimetype": "",
   "name": "Java",
   "nbconverter_exporter": "",
   "version": "1.8.0_121"
  },
  "toc": {
   "base_numbering": 1,
   "nav_menu": {},
   "number_sections": false,
   "sideBar": false,
   "skip_h1_title": false,
   "title_cell": "Table of Contents",
   "title_sidebar": "Contents",
   "toc_cell": false,
   "toc_position": {},
   "toc_section_display": false,
   "toc_window_display": false
  }
 },
 "nbformat": 4,
 "nbformat_minor": 5
}
