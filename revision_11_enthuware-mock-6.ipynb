{
 "cells": [
  {
   "cell_type": "markdown",
   "id": "9ed83b92",
   "metadata": {},
   "source": [
    "# Revision notes from Enthuware Mock Test 6"
   ]
  },
  {
   "cell_type": "markdown",
   "id": "6940625c",
   "metadata": {},
   "source": [
    "## `Period`'s `of...` methods are *static*\n",
    "The `Period` class has methods such as `.ofMonths()` and `.ofDays()` but these are *static* methods and cannot be chained. So, for example `Period.ofMonths(2).ofDays(12)` will return `12 days` only as that's the last method called on the class."
   ]
  },
  {
   "cell_type": "markdown",
   "id": "68ebbe94",
   "metadata": {},
   "source": [
    "## To get a period of multiple inputs (days *and* months *and* years) you can use the `.of(int years, int months, int days)` method\n",
    "This method will provide an *instance* based on the passed arguments."
   ]
  },
  {
   "cell_type": "code",
   "execution_count": 7,
   "id": "19a96402",
   "metadata": {},
   "outputs": [
    {
     "name": "stdout",
     "output_type": "stream",
     "text": [
      "2011-01-17\n"
     ]
    },
    {
     "data": {
      "text/plain": [
       "null"
      ]
     },
     "execution_count": 7,
     "metadata": {},
     "output_type": "execute_result"
    }
   ],
   "source": [
    "import java.time.*;\n",
    "\n",
    "LocalDate ld = LocalDate.of(2010, 11, 5);\n",
    "ld = ld.plus(Period.of(0, 2, 12));\n",
    "System.out.println(ld);"
   ]
  },
  {
   "cell_type": "markdown",
   "id": "99589bf4",
   "metadata": {},
   "source": [
    "## Exceptions are a mechanism for...\n",
    "...among other things:\n",
    "- Determining what to do when something unexpected happens\n",
    "- Logging unexpected behaviour"
   ]
  },
  {
   "cell_type": "markdown",
   "id": "57ac5768",
   "metadata": {},
   "source": [
    "## Any exception thrown in a *static initializer block* will be wrapped into an `ExceptionInInitializerError` which will then be thrown\n",
    "So, even if you get a `RuntimeException` in your initializer block the exception output will actualy be an `ExceptionInInitializerBlock`."
   ]
  },
  {
   "cell_type": "code",
   "execution_count": 11,
   "id": "887f6128",
   "metadata": {},
   "outputs": [
    {
     "data": {
      "text/plain": [
       "test.beaker.InitErrorExample"
      ]
     },
     "execution_count": 11,
     "metadata": {},
     "output_type": "execute_result"
    }
   ],
   "source": [
    "package test.beaker;\n",
    "\n",
    "class InitErrorExample {\n",
    "    static int[] ia = new int[0];\n",
    "    static int x;\n",
    "    static {x=ia[1];} // cause an ArrayIndexOutOfBounds error within the static initializer\n",
    "}"
   ]
  },
  {
   "cell_type": "code",
   "execution_count": 12,
   "id": "d890c335",
   "metadata": {},
   "outputs": [
    {
     "ename": "ERROR",
     "evalue": " java.lang.ExceptionInInitializerError",
     "output_type": "error",
     "traceback": [
      "\u001b[1;31mERROR: java.lang.ExceptionInInitializerError\u001b[0;0m"
     ]
    }
   ],
   "source": [
    "package test.beaker;\n",
    "\n",
    "InitErrorExample iee = new InitErrorExample(); // even though the error raised in the initializer was ArrayIndexOutOfBounds the output will show ExceptionInInitializerError"
   ]
  },
  {
   "cell_type": "markdown",
   "id": "46fcae0c",
   "metadata": {},
   "source": [
    "## *static* and *instance* initializer blocks can only throw `RuntimeException`s by default\n",
    "If you try to throw a checked exception from within an a initializer block your code will not compile.\n",
    "\n",
    "However, you can throw a checked exception from an *instance* initializer __IF__ you first declare that the constructor(s) of the class `throw` that exception."
   ]
  },
  {
   "cell_type": "markdown",
   "id": "4e36b017",
   "metadata": {},
   "source": [
    "Q20"
   ]
  },
  {
   "cell_type": "code",
   "execution_count": null,
   "id": "b31c7a7e",
   "metadata": {},
   "outputs": [],
   "source": []
  }
 ],
 "metadata": {
  "kernelspec": {
   "display_name": "Java",
   "language": "java",
   "name": "java"
  },
  "language_info": {
   "codemirror_mode": "text/x-java",
   "file_extension": ".java",
   "mimetype": "",
   "name": "Java",
   "nbconverter_exporter": "",
   "version": "1.8.0_121"
  },
  "toc": {
   "base_numbering": 1,
   "nav_menu": {},
   "number_sections": false,
   "sideBar": false,
   "skip_h1_title": false,
   "title_cell": "Table of Contents",
   "title_sidebar": "Contents",
   "toc_cell": false,
   "toc_position": {},
   "toc_section_display": false,
   "toc_window_display": false
  }
 },
 "nbformat": 4,
 "nbformat_minor": 5
}
