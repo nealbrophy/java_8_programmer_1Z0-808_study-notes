{
 "cells": [
  {
   "cell_type": "markdown",
   "id": "b519534d",
   "metadata": {},
   "source": [
    "# Exceptions\n",
    "## What are exceptions?\n",
    "Exceptions are Java's way of handling errors both expected and unexpected. When something goes wrong during program execution Java will gather some information about the error (when it happened, the location in the code that it occurred, what message was returned) and creates an `Exception` which is *thrown* to the code that invoked the problematic method. \n",
    "\n",
    "`Exception` is a class and is the base Java exception (in much the same way that `Object` is the base class from which all others derive). Java has a library of exceptions defined for different scenarios, some common exceptions are:\n",
    "- `java.lang.ArrayIndexOutOfBoundsException`: thrown when you attempt to acces a nonexistent array index\n",
    "- `java.lang.ClassCastException`: thrown when attempting to case an object to an illegal type\n",
    "- `java.lang.NullPointerException`: thrown when attempting to use an object reference which hasn't been instantiated\n",
    "\n",
    "Additionally, Java allows you to create your own exceptions. For example:"
   ]
  },
  {
   "cell_type": "code",
   "execution_count": 4,
   "id": "9ec922c8",
   "metadata": {},
   "outputs": [
    {
     "data": {
      "text/plain": [
       "com.twosigma.beaker.javash.bkr7441b011.MyCoolException"
      ]
     },
     "execution_count": 4,
     "metadata": {},
     "output_type": "execute_result"
    }
   ],
   "source": [
    "public class MyCoolException extends Exception {}"
   ]
  },
  {
   "cell_type": "markdown",
   "id": "c87843a8",
   "metadata": {},
   "source": [
    "## Stack trace\n",
    "A *stack trace* is the output from an error which tells you whereabouts in the code that an error was encountered. A stack trace might look something like this:\n",
    "<br><br>`Exception in thread \"main\"`\n",
    "<br>`java.lang.ArrayIndexOutOfBoundsException: 5`' // name of the exception\n",
    "<br>&nbsp;&nbsp;&nbsp;&nbsp;`at MyArray.addElement(MyArray.java:19)` // the code that caused the exception is line 19 in MyArray.java\n",
    "<br>&nbsp;&nbsp;&nbsp;&nbsp;`at MyException.main(MyException.java:20)` // the place where the bad code was called, line 20 of MyException.java"
   ]
  },
  {
   "cell_type": "markdown",
   "id": "9f52bb71",
   "metadata": {},
   "source": [
    "## What does *throw* mean in the context of exceptions?\n",
    "Java refers to the passing of errors as *throwing*. So, a method might *throw* a certain exception. This comes from the parent-class of `Exception` which is `Throwable`. `Throwable` has three main subclasses:\n",
    "- `Error`: Usually an unrecoverable external error. This is an *unchecked* exception.\n",
    "- `RuntimeException`: Usually due to a programming error such as bad syntax. This is an *unchecked* exception.\n",
    "- `Exception`: A recoverable error. This is a *checked* exception."
   ]
  },
  {
   "cell_type": "markdown",
   "id": "b8396626",
   "metadata": {},
   "source": [
    "## Checked vs Unchecked\n",
    "An unchecked exception is an exception which doesn't need to be explicitly taken care of by the developer. Java will happily output this kind of error to the user. A checked exception, however, must be either *caught* (handled by special code included by the developer) or *thrown* (explicitly passed to the method which invoked the bad code that code will in turn need to either *catch* or *throw*)."
   ]
  },
  {
   "cell_type": "markdown",
   "id": "155e5687",
   "metadata": {},
   "source": [
    "## How to `throw` and `catch` exceptions\n",
    "Throwing and catching exceptions is done by using the keywords `throw` and `catch`.\n",
    "\n",
    "### Throwing an exception\n",
    "If a method is going to throw an exception rather than handle it, the method signature should include `throws` and the exception type that might be thrown."
   ]
  },
  {
   "cell_type": "code",
   "execution_count": 16,
   "id": "7a7a0f59",
   "metadata": {},
   "outputs": [
    {
     "data": {
      "text/plain": [
       "test.beaker.ExampleClass"
      ]
     },
     "execution_count": 16,
     "metadata": {},
     "output_type": "execute_result"
    }
   ],
   "source": [
    "package test.beaker;\n",
    "\n",
    "class ExampleClass {\n",
    "    public String isThisCool(String input) throws CoolException { // method signature states that this method might throw CoolException\n",
    "        if (input != \"Magic Word\") {\n",
    "            throw new CoolException(\"This is a cool exception\"); // use the \"throw\" keyword to throw a new instance of CoolException\n",
    "        } else {\n",
    "            return \"Cool\";\n",
    "        }\n",
    "    }\n",
    "}\n",
    "\n",
    "class CoolException extends Exception {\n",
    "    public CoolException(String input) {\n",
    "        super(input);\n",
    "    }\n",
    "}"
   ]
  },
  {
   "cell_type": "code",
   "execution_count": 17,
   "id": "d15b9266",
   "metadata": {},
   "outputs": [
    {
     "ename": "ERROR",
     "evalue": " test.beaker.CoolException",
     "output_type": "error",
     "traceback": [
      "\u001b[1;31mERROR: test.beaker.CoolException: This is a cool exception\u001b[0;0m"
     ]
    }
   ],
   "source": [
    "package test.beaker;\n",
    "\n",
    "ExampleClass ec = new ExampleClass();\n",
    "System.out.println(ec.isThisCool(\"foo\"));"
   ]
  },
  {
   "cell_type": "markdown",
   "id": "7d41e4ba",
   "metadata": {},
   "source": [
    "### Catching an exception\n",
    "In order to catch an exception you need to use a `try/catch` block which looks a little like an if/else:\n",
    "<br>`try {`\n",
    "<br>&nbsp;&nbsp;&nbsp;&nbsp;`code that might error`\n",
    "<br>`}`\n",
    "<br>`catch (Exception e) {`\n",
    "<br>&nbsp;&nbsp;&nbsp;&nbsp;`do something with the error`\n",
    "<br>`}`\n",
    "\n",
    "The `try` block is where you place the code which might run into problems and cause an error. There are multiple places that you can put the try/catch, for example you could put it inside the method which may have an exception, in which case you wouldn't need to have `throws <Exception>` in the method signature, because you'll be handling it. The `catch` block then receives the error info, providing that the exception type it's expecting is the same or more general than the exception thrown, and performs whatever actions the developer implemented.\n",
    "\n",
    "Since `Exception` is the base exception, a lazy method is to use `Exception` as the input to `catch` (this is not considered a best practice but can be useful when troubleshooting):\n",
    "<br>`catch (Exception e) {}` // here we're saying to catch any exception of type `Exception` and save to a variable `e`"
   ]
  },
  {
   "cell_type": "code",
   "execution_count": 42,
   "id": "4f91963b",
   "metadata": {},
   "outputs": [
    {
     "data": {
      "text/plain": [
       "test.beaker.ExTest"
      ]
     },
     "execution_count": 42,
     "metadata": {},
     "output_type": "execute_result"
    }
   ],
   "source": [
    "package test.beaker;\n",
    "\n",
    "class ExTest {\n",
    "    public void doSomething() {\n",
    "        try {\n",
    "            ExampleClass e = new ExampleClass(); // we're going to use the class we defined above to get an exception\n",
    "            e.isThisCool(\"foo\");\n",
    "        }\n",
    "        catch (CoolException ce) { // here we're catching the specific exception CoolException\n",
    "            System.out.println(\"Encountered an Exception. Error Message: \" + ce.getMessage()); // now we use Exceptions .getMessage() method to print a nice message\n",
    "        }\n",
    "    }\n",
    "}"
   ]
  },
  {
   "cell_type": "code",
   "execution_count": 41,
   "id": "c53cf05a",
   "metadata": {},
   "outputs": [
    {
     "name": "stdout",
     "output_type": "stream",
     "text": [
      "Encountered an Exception. Error Message: This is a cool exception\n"
     ]
    },
    {
     "data": {
      "text/plain": [
       "null"
      ]
     },
     "execution_count": 41,
     "metadata": {},
     "output_type": "execute_result"
    }
   ],
   "source": [
    "package test.beaker;\n",
    "\n",
    "ExTest et = new ExTest();\n",
    "et.doSomething();"
   ]
  },
  {
   "cell_type": "markdown",
   "id": "33d4e7db",
   "metadata": {},
   "source": [
    "### Best practices for exception handling\n",
    "1. Catch the actual exception expected to be thown NOT a superclass.\n",
    "2. Examine the exception to try recovering cleanly by determining the exact problem.\n",
    "3. Not all exceptions need to be handled."
   ]
  },
  {
   "cell_type": "markdown",
   "id": "338915d7",
   "metadata": {},
   "source": [
    "### Handling multiple exceptions\n",
    "What if your code has a risk of throwing various exceptions at different points? Well, you could include separate try/catch blocks at each point where an exception may occur. Or you can include multiple `catch` blocks to code for various possible exceptions. When doing the latter the `catch` blocks should proceed from most specific to least specific."
   ]
  },
  {
   "cell_type": "code",
   "execution_count": 48,
   "id": "5d4df09b",
   "metadata": {},
   "outputs": [
    {
     "data": {
      "text/plain": [
       "com.twosigma.beaker.javash.bkr7441b011.MultiEx"
      ]
     },
     "execution_count": 48,
     "metadata": {},
     "output_type": "execute_result"
    }
   ],
   "source": [
    "class MultiEx {\n",
    "    public String myMethod() {\n",
    "        try {\n",
    "        Object o = new Object();\n",
    "        }\n",
    "        catch (IllegalArgumentException iae) { // list the most specific exception first\n",
    "            System.out.println(\"Got an Illegal Argument Exception: \" + iae.getMessage());\n",
    "        }\n",
    "        catch (Exception e) { // then you can code for less specific exceptions\n",
    "            System.out.println(\"Got an Exception: \" + e.getMessage());\n",
    "        }\n",
    "        \n",
    "    }\n",
    "}"
   ]
  },
  {
   "cell_type": "code",
   "execution_count": null,
   "id": "3e529f62",
   "metadata": {},
   "outputs": [],
   "source": []
  }
 ],
 "metadata": {
  "kernelspec": {
   "display_name": "Java",
   "language": "java",
   "name": "java"
  },
  "language_info": {
   "codemirror_mode": "text/x-java",
   "file_extension": ".java",
   "mimetype": "",
   "name": "Java",
   "nbconverter_exporter": "",
   "version": "1.8.0_121"
  },
  "toc": {
   "base_numbering": 1,
   "nav_menu": {},
   "number_sections": false,
   "sideBar": false,
   "skip_h1_title": false,
   "title_cell": "Table of Contents",
   "title_sidebar": "Contents",
   "toc_cell": false,
   "toc_position": {},
   "toc_section_display": false,
   "toc_window_display": false
  }
 },
 "nbformat": 4,
 "nbformat_minor": 5
}
