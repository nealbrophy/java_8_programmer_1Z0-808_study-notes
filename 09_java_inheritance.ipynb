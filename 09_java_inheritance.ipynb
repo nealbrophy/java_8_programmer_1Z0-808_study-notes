{
 "cells": [
  {
   "cell_type": "markdown",
   "id": "75a4c79d",
   "metadata": {},
   "source": [
    "# Inheritance in Java\n",
    "*Inheritance* is the process by which sub/child-classes can inherit existing fields/variables/methods from it's super/parent-class. Java supports *single-inheritance* meaning a class may inherit from only __ONE__ direct parent. However you can have multiple levels of inheritance such as class A extending class B which in turn extends class C."
   ]
  },
  {
   "cell_type": "markdown",
   "id": "c7f00703",
   "metadata": {},
   "source": [
    "## Extending a class\n",
    "If you write a class which doesn't explicitly extend another class Java will automatically set your class to be a child of the top-level `java.lang.Object` class. So if you define a class like `public class MyClass {}` Java will automatically insert `extends java.lang.Object` at compile time. However, since `Object` is the top-most class essentially all classes inherit from it even if just indirectly.\n",
    "\n",
    "To extend a class in Java you use the `extends` keyword in your class declaration:\n",
    "<br>`public class Foo extends Bar {}`"
   ]
  },
  {
   "cell_type": "code",
   "execution_count": 8,
   "id": "276d55b8",
   "metadata": {},
   "outputs": [
    {
     "data": {
      "text/plain": [
       "test.beaker.Airplane"
      ]
     },
     "execution_count": 8,
     "metadata": {},
     "output_type": "execute_result"
    }
   ],
   "source": [
    "// PARENT CLASS\n",
    "package test.beaker;\n",
    "\n",
    "public class Airplane {\n",
    "    final static boolean hasWings = true;\n",
    "    int numberOfEngines = 2;\n",
    "    boolean hasPropeller = false;\n",
    "    \n",
    "    public Airplane(int numberOfEngines) {\n",
    "        this.hasPropeller = hasPropeller;\n",
    "        this.numberOfEngines = numberOfEngines;\n",
    "    }\n",
    "}"
   ]
  },
  {
   "cell_type": "code",
   "execution_count": 9,
   "id": "00ee3595",
   "metadata": {},
   "outputs": [
    {
     "data": {
      "text/plain": [
       "test.beaker.JumboJet"
      ]
     },
     "execution_count": 9,
     "metadata": {},
     "output_type": "execute_result"
    }
   ],
   "source": [
    "// CHILD CLASS\n",
    "package test.beaker;\n",
    "\n",
    "public class JumboJet extends Airplane {\n",
    "    final static int numberOfPassengers = 524;\n",
    "    \n",
    "    public JumboJet() {\n",
    "        super(2);\n",
    "    }\n",
    "}"
   ]
  },
  {
   "cell_type": "code",
   "execution_count": 12,
   "id": "08bebb60",
   "metadata": {},
   "outputs": [
    {
     "name": "stdout",
     "output_type": "stream",
     "text": [
      "true\n",
      "2\n",
      "524\n"
     ]
    },
    {
     "data": {
      "text/plain": [
       "null"
      ]
     },
     "execution_count": 12,
     "metadata": {},
     "output_type": "execute_result"
    }
   ],
   "source": [
    "package test.beaker;\n",
    "\n",
    "JumboJet B747 = new JumboJet(); // instantiate JumboJet object\n",
    "System.out.println(B747.hasWings); // access Airplane's hasWings variable\n",
    "System.out.println(B747.numberOfEngines); // access JumboJet's numberOfEngines\n",
    "System.out.println(B747.numberOfPassengers); // access JumboJet's numberOfPassengers (set using Airplane's contructor)"
   ]
  },
  {
   "cell_type": "markdown",
   "id": "0730827a",
   "metadata": {},
   "source": [
    "## Constructor Rules\n",
    "It's worth revisiting the following contructor definition rules:\n",
    "- The first statement of every constructor is either a call to another constructor within the same class (using `this()`), or a call to a parent-class constructor (using `super()`).\n",
    "- `super()`, if used, must be the first statement in a constructor.\n",
    "- If no `super()` call is present, Java will insert a no-argument one at the start of the constructor at compile time.\n",
    "- If the parent-class doesn't have a no-argument constructor, and the child-class doesn't impliment one (by calling `super()` with the needed arguments), an error will be thrown at compile time."
   ]
  },
  {
   "cell_type": "markdown",
   "id": "2f58f32d",
   "metadata": {},
   "source": [
    "## Inherited class members"
   ]
  },
  {
   "cell_type": "code",
   "execution_count": null,
   "id": "0716e053",
   "metadata": {},
   "outputs": [],
   "source": []
  }
 ],
 "metadata": {
  "kernelspec": {
   "display_name": "Java",
   "language": "java",
   "name": "java"
  },
  "language_info": {
   "codemirror_mode": "text/x-java",
   "file_extension": ".java",
   "mimetype": "",
   "name": "Java",
   "nbconverter_exporter": "",
   "version": "1.8.0_121"
  },
  "toc": {
   "base_numbering": 1,
   "nav_menu": {},
   "number_sections": false,
   "sideBar": false,
   "skip_h1_title": false,
   "title_cell": "Table of Contents",
   "title_sidebar": "Contents",
   "toc_cell": false,
   "toc_position": {},
   "toc_section_display": false,
   "toc_window_display": false
  }
 },
 "nbformat": 4,
 "nbformat_minor": 5
}
