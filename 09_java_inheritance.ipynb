{
 "cells": [
  {
   "cell_type": "markdown",
   "id": "75a4c79d",
   "metadata": {},
   "source": [
    "# Inheritance in Java\n",
    "*Inheritance* is the process by which sub/child-classes can inherit existing fields/variables/methods from it's super/parent-class. Java supports *single-inheritance* meaning a class may inherit from only __ONE__ direct parent. However you can have multiple levels of inheritance such as class A extending class B which in turn extends class C."
   ]
  },
  {
   "cell_type": "markdown",
   "id": "c7f00703",
   "metadata": {},
   "source": [
    "## Extending a class\n",
    "If you write a class which doesn't explicitly extend another class Java will automatically set your class to be a child of the top-level `java.lang.Object` class. So if you define a class like `public class MyClass {}` Java will automatically insert `extends java.lang.Object` at compile time. However, since `Object` is the top-most class essentially all classes inherit from it even if just indirectly.\n",
    "\n",
    "To extend a class in Java you use the `extends` keyword in your class declaration:\n",
    "<br>`public class Foo extends Bar {}`"
   ]
  },
  {
   "cell_type": "code",
   "execution_count": 8,
   "id": "276d55b8",
   "metadata": {},
   "outputs": [
    {
     "data": {
      "text/plain": [
       "test.beaker.Airplane"
      ]
     },
     "execution_count": 8,
     "metadata": {},
     "output_type": "execute_result"
    }
   ],
   "source": [
    "// PARENT CLASS\n",
    "package test.beaker;\n",
    "\n",
    "public class Airplane {\n",
    "    final static boolean hasWings = true;\n",
    "    int numberOfEngines = 2;\n",
    "    boolean hasPropeller = false;\n",
    "    \n",
    "    public Airplane(int numberOfEngines) {\n",
    "        this.hasPropeller = hasPropeller;\n",
    "        this.numberOfEngines = numberOfEngines;\n",
    "    }\n",
    "}"
   ]
  },
  {
   "cell_type": "code",
   "execution_count": 9,
   "id": "00ee3595",
   "metadata": {},
   "outputs": [
    {
     "data": {
      "text/plain": [
       "test.beaker.JumboJet"
      ]
     },
     "execution_count": 9,
     "metadata": {},
     "output_type": "execute_result"
    }
   ],
   "source": [
    "// CHILD CLASS\n",
    "package test.beaker;\n",
    "\n",
    "public class JumboJet extends Airplane {\n",
    "    final static int numberOfPassengers = 524;\n",
    "    \n",
    "    public JumboJet() {\n",
    "        super(2);\n",
    "    }\n",
    "}"
   ]
  },
  {
   "cell_type": "code",
   "execution_count": 12,
   "id": "08bebb60",
   "metadata": {},
   "outputs": [
    {
     "name": "stdout",
     "output_type": "stream",
     "text": [
      "true\n",
      "2\n",
      "524\n"
     ]
    },
    {
     "data": {
      "text/plain": [
       "null"
      ]
     },
     "execution_count": 12,
     "metadata": {},
     "output_type": "execute_result"
    }
   ],
   "source": [
    "package test.beaker;\n",
    "\n",
    "JumboJet B747 = new JumboJet(); // instantiate JumboJet object\n",
    "System.out.println(B747.hasWings); // access Airplane's hasWings variable\n",
    "System.out.println(B747.numberOfEngines); // access JumboJet's numberOfEngines\n",
    "System.out.println(B747.numberOfPassengers); // access JumboJet's numberOfPassengers (set using Airplane's contructor)"
   ]
  },
  {
   "cell_type": "markdown",
   "id": "0730827a",
   "metadata": {},
   "source": [
    "## Constructor Rules\n",
    "It's worth revisiting the following contructor definition rules:\n",
    "- The first statement of every constructor is either a call to another constructor within the same class (using `this()`), or a call to a parent-class constructor (using `super()`).\n",
    "- `super()`, if used, must be the first statement in a constructor.\n",
    "- If no `super()` call is present, Java will insert a no-argument one at the start of the constructor at compile time.\n",
    "- If the parent-class doesn't have a no-argument constructor, and the child-class doesn't impliment one (by calling `super()` with the needed arguments), an error will be thrown at compile time."
   ]
  },
  {
   "cell_type": "markdown",
   "id": "311ba5bd",
   "metadata": {},
   "source": [
    "So if you define a class like this:"
   ]
  },
  {
   "cell_type": "code",
   "execution_count": 4,
   "id": "e6a6f905",
   "metadata": {
    "scrolled": true
   },
   "outputs": [
    {
     "data": {
      "text/plain": [
       "com.twosigma.beaker.javash.bkrf2685cb9.Mouse"
      ]
     },
     "execution_count": 4,
     "metadata": {},
     "output_type": "execute_result"
    }
   ],
   "source": [
    "public class Mouse {}"
   ]
  },
  {
   "cell_type": "markdown",
   "id": "eea594d8",
   "metadata": {},
   "source": [
    "Java will convert it to this at compile time:"
   ]
  },
  {
   "cell_type": "code",
   "execution_count": 5,
   "id": "3b9a5b80",
   "metadata": {},
   "outputs": [
    {
     "data": {
      "text/plain": [
       "com.twosigma.beaker.javash.bkrf2685cb9.Mouse"
      ]
     },
     "execution_count": 5,
     "metadata": {},
     "output_type": "execute_result"
    }
   ],
   "source": [
    "public class Mouse {\n",
    "    public Mouse() { // no argument constructor for mouse added\n",
    "        super(); // call to Object's (or another parent class) constructor within\n",
    "    }\n",
    "}"
   ]
  },
  {
   "cell_type": "markdown",
   "id": "2f58f32d",
   "metadata": {},
   "source": [
    "## Inherited class members"
   ]
  },
  {
   "cell_type": "markdown",
   "id": "30580133",
   "metadata": {},
   "source": [
    "Java classes can use any `public` or `protected` members of the parent-class. If the parent and child are in the same *package*, the child can also use any default (*package protected*) members. A child class can never __directly__ access any `private` members of its parent.\n",
    "\n",
    "To access inherited members of a class you can use the keywords `super` or `this`. `this` will access the inherited member within the current class whereas `super` will directy access members within the parent class. If you try to use `super` to access a member of the current class which was NOT inherited from the parent, you'll get a compile error.\n",
    "\n",
    "### `super` vs `super()` and `this` vs `this()`\n",
    "It's easy to confuse `super` with `super()` and `this` with `this()`, however, they're not interchangeable. `super()` is a call to the parent class' constructor whereas `super` is a keyword used to access members of the parent class. Likewise, `this()` is a call to the current class constructor and `this` is a keyword used to access instance variables/methods. If you override a parent-class' member in your child-class you can still access the parent-class' version (providing it's not `private`) by using `super`."
   ]
  },
  {
   "cell_type": "code",
   "execution_count": 14,
   "id": "38cb654d",
   "metadata": {},
   "outputs": [
    {
     "data": {
      "text/plain": [
       "test.beaker.Human"
      ]
     },
     "execution_count": 14,
     "metadata": {},
     "output_type": "execute_result"
    }
   ],
   "source": [
    "package test.beaker; // beakerx magic\n",
    "\n",
    "public class Human { // parent class\n",
    "    public static final String genus = \"homo\";\n",
    "    public static final String species = \"homo sapiens\";\n",
    "    private String name;\n",
    "    private int age;\n",
    "    \n",
    "    public Human(String name) {\n",
    "        System.out.println(\"Creating human...\");\n",
    "        this.name = name;\n",
    "        this.age = 0;\n",
    "        System.out.println(\"Human \" + this.name + \" created.\");\n",
    "    }\n",
    "    \n",
    "    public void setName(String name) {\n",
    "        this.name = name;\n",
    "    }\n",
    "    \n",
    "    public void setAge(int age) {\n",
    "        this.age = age;\n",
    "    }\n",
    "    \n",
    "    public String getName(){\n",
    "        return this.name;\n",
    "    }\n",
    "    \n",
    "    public int getAge() {\n",
    "        return this.age;\n",
    "    }\n",
    "    \n",
    "    public String toString() {\n",
    "        return (\"Name: \" + this.name + \"\\nAge: \" + this.age);\n",
    "    }\n",
    "}"
   ]
  },
  {
   "cell_type": "code",
   "execution_count": 20,
   "id": "aca50850",
   "metadata": {},
   "outputs": [
    {
     "data": {
      "text/plain": [
       "test.beaker.NationalHuman"
      ]
     },
     "execution_count": 20,
     "metadata": {},
     "output_type": "execute_result"
    }
   ],
   "source": [
    "package test.beaker;\n",
    "\n",
    "public class NationalHuman extends Human { // child class of human\n",
    "    private String nationality;\n",
    "    \n",
    "    public NationalHuman(String name, String nationality) {\n",
    "        super(name);\n",
    "        this.nationality = nationality;\n",
    "    }\n",
    "    \n",
    "    public void setNationality(String nationality) {\n",
    "        this.nationality = nationality;\n",
    "    }\n",
    "    \n",
    "    public String getNationality() {\n",
    "        return (super.getName() + \" is \" + this.nationality); // uses SUPER keyword to access getName method and THIS keyword to access nationality variable\n",
    "    }\n",
    "}"
   ]
  },
  {
   "cell_type": "code",
   "execution_count": 24,
   "id": "e955dc2b",
   "metadata": {},
   "outputs": [
    {
     "name": "stdout",
     "output_type": "stream",
     "text": [
      "Creating human...\n",
      "Human Dave created.\n",
      "Creating human...\n",
      "Human Susan created.\n",
      "Creating human...\n",
      "Human Antje created.\n",
      "\n",
      "Dave is Australian\n",
      "\n",
      "homo sapiens\n",
      "\n",
      "Name: Antje\n",
      "Age: 0\n"
     ]
    },
    {
     "data": {
      "text/plain": [
       "null"
      ]
     },
     "execution_count": 24,
     "metadata": {},
     "output_type": "execute_result"
    }
   ],
   "source": [
    "package test.beaker;\n",
    "\n",
    "NationalHuman dave = new NationalHuman(\"Dave\", \"Australian\");\n",
    "NationalHuman susan = new NationalHuman(\"Susan\", \"Irish\");\n",
    "NationalHuman antje = new NationalHuman(\"Antje\", \"German\");\n",
    "\n",
    "System.out.println(\"\\n\" + dave.getNationality());\n",
    "System.out.println(\"\\n\" + susan.species);\n",
    "System.out.println(\"\\n\" + antje);"
   ]
  },
  {
   "cell_type": "markdown",
   "id": "dd38791c",
   "metadata": {},
   "source": [
    "## Overriding inherited methods\n",
    "If you have a method in the child-class with the same method-signature as in the parent-class (i.e. same name, parameters, return type) that's called overriding. In order to successfully override an inherited method the following conditions must be met (the JVM will check at compile-time):\n",
    "- Must have the same *method-signature*\n",
    "- Must have the same or more permissive access\n",
    "- Must not throw a new or more broad __checked__ exception (i.e. if different, the checked exception in the child's overriding method must be a more specific version of the parents)\n",
    "- If the method returns a value it has to be the same type (or a subclass of) the type returned by the parent's method\n",
    "\n",
    "If the method in the child class has the same name but different signature it is *overloading* not *overriding*."
   ]
  },
  {
   "cell_type": "code",
   "execution_count": 32,
   "id": "888dd978",
   "metadata": {},
   "outputs": [
    {
     "data": {
      "text/plain": [
       "test.beaker.Pet"
      ]
     },
     "execution_count": 32,
     "metadata": {},
     "output_type": "execute_result"
    }
   ],
   "source": [
    "package test.beaker; // beakerx magic\n",
    "\n",
    "class Pet {\n",
    "    private String name;\n",
    "    \n",
    "    public Pet(String name) {\n",
    "        this.name = name;\n",
    "    }\n",
    "    \n",
    "    public String getName() {\n",
    "        return this.name;\n",
    "    }\n",
    "}\n",
    "\n",
    "class Dog extends Pet {\n",
    "    private String breed;\n",
    "    \n",
    "    public Dog(String name, String breed) {\n",
    "        super(name);\n",
    "        this.breed = breed;\n",
    "    }\n",
    "    \n",
    "    public void bark() {\n",
    "        System.out.println(\"Woof woof!\");\n",
    "    }\n",
    "    \n",
    "    public String toString() {\n",
    "        return (this.getName() + \" is a \" + this.breed);\n",
    "    }\n",
    "}\n",
    "\n",
    "class MiniatureDog extends Dog {\n",
    "    public MiniatureDog(String name, String breed) {\n",
    "        super(name, (\"miniature \" + breed));\n",
    "    }\n",
    "    \n",
    "    public void bark() { // overrides the bark method from parent\n",
    "        System.out.println(\"Yip Yip!\");\n",
    "    }\n",
    "}"
   ]
  },
  {
   "cell_type": "code",
   "execution_count": 33,
   "id": "b131acae",
   "metadata": {},
   "outputs": [
    {
     "name": "stdout",
     "output_type": "stream",
     "text": [
      "Woof woof!\n",
      "Yip Yip!\n",
      "Dexter is a weimaraner-cross\n",
      "Pebbles is a miniature poodle\n"
     ]
    },
    {
     "data": {
      "text/plain": [
       "null"
      ]
     },
     "execution_count": 33,
     "metadata": {},
     "output_type": "execute_result"
    }
   ],
   "source": [
    "package test.beaker;\n",
    "\n",
    "Pet nibblesTheBunny = new Pet(\"Nibbles\");\n",
    "Dog dexter = new Dog(\"Dexter\", \"weimaraner-cross\");\n",
    "MiniatureDog pebble = new MiniatureDog(\"Pebbles\", \"poodle\");\n",
    "\n",
    "dexter.bark();\n",
    "pebble.bark();\n",
    "System.out.println(dexter);\n",
    "System.out.println(pebble);"
   ]
  },
  {
   "cell_type": "markdown",
   "id": "871aa15b",
   "metadata": {},
   "source": [
    "## Hiding a method\n",
    "If a child-class defines a static method with the same *method-signature* as a static method in its parent, this is known as a *hidden method*. Method hiding is similar to method overriding and as such the rules for successfully doing so are almost the same but with the additional requirement that both methods must be `static`.\n",
    "\n",
    "If you try to use the same method signature for a method in the child-class but change from `static` you will receive a compiler error. Likewise, if you try to declare a signature with the same signature as in the parent but declared as `static` when the parent version was non-static, you will get a compiler error.\n",
    "\n",
    "__NOTE__: while permitted, method-hiding is not recommended as it can lead to confusing and hard-to-read code."
   ]
  },
  {
   "cell_type": "markdown",
   "id": "15c07b11",
   "metadata": {},
   "source": [
    "### Overriding vs Hiding\n",
    "A key difference between overriding methods and hiding methods, is that hiding a method will keep access to the original version of the method providing that the call to the method is defined in the parent class even if the method is called from an instance of the child class. Overriding a method will replace the parent version of the method even if the call to the method is in the parent class, providing that it's being accessed from an instance of the child.\n",
    "\n",
    "This sounds very confusing so lets look at some examples.\n",
    "\n",
    "OVERRIDING:"
   ]
  },
  {
   "cell_type": "code",
   "execution_count": 45,
   "id": "fbd87fa6",
   "metadata": {},
   "outputs": [
    {
     "data": {
      "text/plain": [
       "test.beaker.Greeting"
      ]
     },
     "execution_count": 45,
     "metadata": {},
     "output_type": "execute_result"
    }
   ],
   "source": [
    "// OVERRIDING EXAMPLE\n",
    "package test.beaker;\n",
    "\n",
    "class Greeting {\n",
    "    public String greetword() { // method in parent class\n",
    "        return \"Hello\";\n",
    "    }\n",
    "    \n",
    "    public String normalGreet() { \n",
    "        return (greetword() + \" there!\");\n",
    "    }\n",
    "}\n",
    "\n",
    "class FormalGreeting extends Greeting {\n",
    "    public String greetword() { // overridden method that replaces parent version of greetword in any instance of child class\n",
    "        return \"Good day\";\n",
    "    }\n",
    "    \n",
    "    public String formalGreet() { // \n",
    "        return (greetword() + \" to you.\");\n",
    "    }\n",
    "}"
   ]
  },
  {
   "cell_type": "code",
   "execution_count": 52,
   "id": "5f64ac72",
   "metadata": {},
   "outputs": [
    {
     "name": "stdout",
     "output_type": "stream",
     "text": [
      "Good day to you.\n",
      "Good day there!\n"
     ]
    },
    {
     "data": {
      "text/plain": [
       "null"
      ]
     },
     "execution_count": 52,
     "metadata": {},
     "output_type": "execute_result"
    }
   ],
   "source": [
    "package test.beaker;\n",
    "\n",
    "FormalGreeting formal = new FormalGreeting();\n",
    "\n",
    "// note that both of the below output the same greetword of \"Good day\" even though one is the parent method, one is the child method\n",
    "System.out.println(formal.formalGreet()); // call child's greeting from child instance\n",
    "System.out.println(formal.normalGreet()); // call parent's greeting from child instance"
   ]
  },
  {
   "cell_type": "markdown",
   "id": "8b729cbd",
   "metadata": {},
   "source": [
    "HIDING:"
   ]
  },
  {
   "cell_type": "code",
   "execution_count": 49,
   "id": "5ed1cac2",
   "metadata": {},
   "outputs": [
    {
     "data": {
      "text/plain": [
       "test.beaker.NationalGreeting"
      ]
     },
     "execution_count": 49,
     "metadata": {},
     "output_type": "execute_result"
    }
   ],
   "source": [
    "// HIDING EXAMPLE\n",
    "package test.beaker;\n",
    "\n",
    "class NationalGreeting {\n",
    "    public static String getGreetWord() { // static String in parent class\n",
    "        return \"Hello\";\n",
    "    }\n",
    "    \n",
    "    public String getGenericGreeting() {\n",
    "        return getGreetWord();\n",
    "    }\n",
    "}\n",
    "\n",
    "class IrishGreeting extends NationalGreeting {\n",
    "    public static String getGreetWord() { // hiding static method from parent class\n",
    "        return \"Howya\";\n",
    "    }\n",
    "    \n",
    "    public String getIrishGreeting() {\n",
    "        return getGreetWord();\n",
    "    }\n",
    "}"
   ]
  },
  {
   "cell_type": "code",
   "execution_count": 53,
   "id": "518524a3",
   "metadata": {},
   "outputs": [
    {
     "name": "stdout",
     "output_type": "stream",
     "text": [
      "Howya\n",
      "Hello\n"
     ]
    },
    {
     "data": {
      "text/plain": [
       "null"
      ]
     },
     "execution_count": 53,
     "metadata": {},
     "output_type": "execute_result"
    }
   ],
   "source": [
    "package test.beaker;\n",
    "\n",
    "IrishGreeting irish = new IrishGreeting();\n",
    "\n",
    "// note that below outputs the respective greetword\n",
    "System.out.println(irish.getIrishGreeting()); // call child's greeting method from child instance\n",
    "System.out.println(irish.getGenericGreeting());// call parent's greeting method from child instance"
   ]
  },
  {
   "cell_type": "markdown",
   "id": "5d9f08dd",
   "metadata": {},
   "source": [
    "## Final methods"
   ]
  },
  {
   "cell_type": "code",
   "execution_count": null,
   "id": "99f0aa91",
   "metadata": {},
   "outputs": [],
   "source": []
  }
 ],
 "metadata": {
  "kernelspec": {
   "display_name": "Java",
   "language": "java",
   "name": "java"
  },
  "language_info": {
   "codemirror_mode": "text/x-java",
   "file_extension": ".java",
   "mimetype": "",
   "name": "Java",
   "nbconverter_exporter": "",
   "version": "1.8.0_121"
  },
  "toc": {
   "base_numbering": 1,
   "nav_menu": {},
   "number_sections": false,
   "sideBar": false,
   "skip_h1_title": false,
   "title_cell": "Table of Contents",
   "title_sidebar": "Contents",
   "toc_cell": false,
   "toc_position": {},
   "toc_section_display": false,
   "toc_window_display": false
  }
 },
 "nbformat": 4,
 "nbformat_minor": 5
}
