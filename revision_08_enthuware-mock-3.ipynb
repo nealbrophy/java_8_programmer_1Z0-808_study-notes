{
 "cells": [
  {
   "cell_type": "markdown",
   "id": "55ba3c50",
   "metadata": {},
   "source": [
    "# Revision notes from Enthuware Mock Test 3"
   ]
  },
  {
   "cell_type": "markdown",
   "id": "4a7608d2",
   "metadata": {},
   "source": [
    "## The default format when printing a `LocalDate` is `YYYY-MM-DD`"
   ]
  },
  {
   "cell_type": "code",
   "execution_count": 8,
   "id": "dccd40b9",
   "metadata": {},
   "outputs": [
    {
     "name": "stdout",
     "output_type": "stream",
     "text": [
      "2022-12-24\n",
      "2022-12-24\n"
     ]
    },
    {
     "data": {
      "text/plain": [
       "null"
      ]
     },
     "execution_count": 8,
     "metadata": {},
     "output_type": "execute_result"
    }
   ],
   "source": [
    "import java.time.*;\n",
    "import java.time.format.*;\n",
    "\n",
    "LocalDate date1 = LocalDate.of(2022, 12, 24);\n",
    "LocalDate date2 = LocalDate.parse(\"24/12/2022\", DateTimeFormatter.ofPattern(\"dd/MM/yyyy\"));\n",
    "System.out.println(date1);\n",
    "System.out.println(date2);"
   ]
  },
  {
   "cell_type": "markdown",
   "id": "094e9a46",
   "metadata": {},
   "source": [
    "## When creating a multi-dimensional array, the expression is evaluated from left to right in sequence...\n",
    ".. which means that if you define the length of the array using a variable, the value of that variable can potentially change between each dimension resulting in differing array lengths.\n",
    "\n",
    "For example, imagine we create a variable `arrayLength` and set it to value `2`, then we create a multi-dimensional array and set the first dimension to a length of `arrayLength`, then within the second array-length bracket we change the value of `arrayLength` to `11`. Now we have an array of length `2` where each of the inner arrays have a length of `11`."
   ]
  },
  {
   "cell_type": "code",
   "execution_count": 13,
   "id": "15a0547e",
   "metadata": {},
   "outputs": [
    {
     "name": "stdout",
     "output_type": "stream",
     "text": [
      "Outer Array Length: 2\n",
      "Inner Array Length: 11\n",
      "So we have an array containing 2 arrays which each can contain 11 ints.\n"
     ]
    },
    {
     "data": {
      "text/plain": [
       "null"
      ]
     },
     "execution_count": 13,
     "metadata": {},
     "output_type": "execute_result"
    }
   ],
   "source": [
    "int arrayLength = 2;\n",
    "\n",
    "int intArray [][] = new int[arrayLength][arrayLength=11];\n",
    "System.out.println(\"Outer Array Length: \" + intArray.length);\n",
    "System.out.println(\"Inner Array Length: \" + intArray[0].length);\n",
    "System.out.println(\"So we have an array containing \" + intArray.length + \" arrays which each can contain \" + intArray[0].length + \" ints.\");"
   ]
  },
  {
   "cell_type": "markdown",
   "id": "1e3f1082",
   "metadata": {},
   "source": [
    "## If a Java program runs out of memory the error that will be thrown is `java.lang.OutOfMemoryError` which is a subclass of `java.lang.Error`\n",
    "Additionally, an error will only print a stack trace if:\n",
    "a.) The error was not caught\n",
    "b.) The *catch* block explicitly prints the trace, for example using the `printStackTrace()` method"
   ]
  },
  {
   "cell_type": "markdown",
   "id": "4fef88eb",
   "metadata": {},
   "source": [
    "## The `String` class does not contain an `append()` method\n",
    "`append()` is not one of the methods that both `String` and `StringBuilder` have (unlike, `replace()` for example)."
   ]
  },
  {
   "cell_type": "code",
   "execution_count": 20,
   "id": "cda9b903",
   "metadata": {},
   "outputs": [
    {
     "name": "stdout",
     "output_type": "stream",
     "text": [
      "Hello\n",
      "World\n"
     ]
    },
    {
     "data": {
      "text/plain": [
       "null"
      ]
     },
     "execution_count": 20,
     "metadata": {},
     "output_type": "execute_result"
    }
   ],
   "source": [
    "String s = \"World\";\n",
    "s = s.replace(\"World\", \"Hello\");\n",
    "System.out.println(s);\n",
    "\n",
    "StringBuilder sb = new StringBuilder(\"Hello\");\n",
    "sb.replace(0, sb.length(),\"World\");\n",
    "System.out.println(sb);"
   ]
  },
  {
   "cell_type": "code",
   "execution_count": 21,
   "id": "403a1a25",
   "metadata": {},
   "outputs": [
    {
     "ename": "cannot find symbol",
     "evalue": "cannot find symbol",
     "output_type": "error",
     "traceback": [
      "\u001b[1;31mcannot find symbol\u001b[0;0m",
      "\u001b[1;31m  symbol:   method append(java.lang.String)\u001b[0;0m",
      "\u001b[1;31m  location: variable s of type java.lang.String\u001b[0;0m",
      "\u001b[1;31m s = s.append(\" World\")\u001b[0;0m",
      "\u001b[1;31m     ^       ^           \u001b[0;0m"
     ]
    }
   ],
   "source": [
    "String s = \"Hello\";\n",
    "s = s.append(\" World\");"
   ]
  },
  {
   "cell_type": "markdown",
   "id": "b95ceb32",
   "metadata": {},
   "source": [
    "## You cannot auto-box an `int` primitive into a `Double` object\n",
    "Auto-boxing only occurs between a primitive and it's matching wrapper-class."
   ]
  },
  {
   "cell_type": "markdown",
   "id": "7483f611",
   "metadata": {},
   "source": [
    "## Java allows you to use a class name as a variable name\n",
    "It's not best practice but you won't receive an error. If there's a conflict between the variable name and class name, Java will use *scope* to determine which is used (i.e. whichever has the closest scope will be used)."
   ]
  },
  {
   "cell_type": "code",
   "execution_count": 26,
   "id": "56acf271",
   "metadata": {},
   "outputs": [
    {
     "name": "stdout",
     "output_type": "stream",
     "text": [
      "String\n",
      "4.0\n"
     ]
    },
    {
     "data": {
      "text/plain": [
       "null"
      ]
     },
     "execution_count": 26,
     "metadata": {},
     "output_type": "execute_result"
    }
   ],
   "source": [
    "String String = \"String\";\n",
    "Double Double = 4.0;\n",
    "System.out.println(String);\n",
    "System.out.println(Double);"
   ]
  },
  {
   "cell_type": "markdown",
   "id": "d7b6b52e",
   "metadata": {},
   "source": [
    "## Access modifiers (`public`/`private`/`protected`) are only valid inside the scope of a class, NOT of a method\n",
    "You can use these modifiers to control the access of a class but not for methods or fields/variables."
   ]
  },
  {
   "cell_type": "markdown",
   "id": "6c992b60",
   "metadata": {},
   "source": [
    "## `main` is not a keyword\n",
    "Although `main` is the name of a commonly used method, it is NOT reserved/a keyword. So you can use `main` as a variable name and also as a method (however, it won't function as *the* main method which gives JVM a start point to execute the program)."
   ]
  },
  {
   "cell_type": "code",
   "execution_count": 31,
   "id": "dc73e6ef",
   "metadata": {},
   "outputs": [
    {
     "name": "stdout",
     "output_type": "stream",
     "text": [
      "4\n"
     ]
    },
    {
     "data": {
      "text/plain": [
       "null"
      ]
     },
     "execution_count": 31,
     "metadata": {},
     "output_type": "execute_result"
    }
   ],
   "source": [
    "int main = 4;\n",
    "System.out.println(main);"
   ]
  },
  {
   "cell_type": "code",
   "execution_count": 29,
   "id": "170a93c8",
   "metadata": {},
   "outputs": [
    {
     "data": {
      "text/plain": [
       "com.twosigma.beaker.javash.bkr29df5702.Foo"
      ]
     },
     "execution_count": 29,
     "metadata": {},
     "output_type": "execute_result"
    }
   ],
   "source": [
    "class Foo {\n",
    "    public String main() {\n",
    "        return \"Foo\";\n",
    "    }\n",
    "}"
   ]
  },
  {
   "cell_type": "markdown",
   "id": "7542045b",
   "metadata": {},
   "source": [
    "## `.charAt()` can take a *char* as an argument\n",
    "Though `.charAt()` expects an *int*, you can pass it a *char* without issue because the *char* will be implicitly promoted to an *int*."
   ]
  },
  {
   "cell_type": "markdown",
   "id": "9fe857c2",
   "metadata": {},
   "source": [
    "## A `static` method cannot be overridden by a non-static method *and vice versa*\n",
    "Overriding methods is when you declare a method in a subclass using the same name as a method in the it's parent class. However, there are rules and one of them is that you can't override a *static* method with a *non-static* AND you can't override a *non-static* method with a *static* one."
   ]
  },
  {
   "cell_type": "code",
   "execution_count": 33,
   "id": "f49ec669",
   "metadata": {},
   "outputs": [
    {
     "ename": "ERROR",
     "evalue": " java.lang.IllegalStateException",
     "output_type": "error",
     "traceback": [
      "\u001b[0;31mERROR: java.lang.IllegalStateException: bar() in com.twosigma.beaker.javash.bkr29df5702.Foobar cannot override bar() in com.twosigma.beaker.javash.bkr29df5702.Foo\u001b[0;0m",
      "\u001b[0;31m  overriding method is static\u001b[0;0m",
      "\u001b[0;31m static String bar() {}\u001b[0;0m",
      "\u001b[0;31m ^                     ^ \u001b[0;0m"
     ]
    }
   ],
   "source": [
    "class Foo {\n",
    "    public void bar() {}\n",
    "}\n",
    "\n",
    "class Foobar extends Foo {\n",
    "    static String bar() {}\n",
    "}\n",
    "\n"
   ]
  },
  {
   "cell_type": "markdown",
   "id": "ccbab21e",
   "metadata": {},
   "source": [
    "## Watch out for questions that use `true` and `false` reversed in an expression to throw you off\n",
    "A simple but effective trick. Questions may reverse the boolean primitives `true` and `false` such that `false` appears as the output if the expression evaluates to `true` and vice versa."
   ]
  },
  {
   "cell_type": "code",
   "execution_count": 35,
   "id": "bb9c9753",
   "metadata": {},
   "outputs": [
    {
     "name": "stdout",
     "output_type": "stream",
     "text": [
      "true\n"
     ]
    },
    {
     "data": {
      "text/plain": [
       "null"
      ]
     },
     "execution_count": 35,
     "metadata": {},
     "output_type": "execute_result"
    }
   ],
   "source": [
    "boolean var = false;\n",
    "\n",
    "boolean evaluate = var? false: true;\n",
    "\n",
    "System.out.println(evaluate);"
   ]
  },
  {
   "cell_type": "markdown",
   "id": "23e3e437",
   "metadata": {},
   "source": [
    "## REMEMBER: If you leave a local variable unassigned and place it's assignment within an if/else loop...\n",
    "Java will throw an error when you try to make use of the variable *if there's a chance that it hasn't been initialized*.\n",
    "\n",
    "__NOTE__: You could make the following sample work by changing `numOfAttendees` to a `final` and assigning a value greater-than or equal to `15`; that would make it a compile-time constant and the compiler would know the outcome of the `if` statement."
   ]
  },
  {
   "cell_type": "code",
   "execution_count": 9,
   "id": "6c62bcd8",
   "metadata": {},
   "outputs": [
    {
     "ename": "ERROR",
     "evalue": " java.lang.IllegalStateException",
     "output_type": "error",
     "traceback": [
      "\u001b[1;31mERROR: java.lang.IllegalStateException: variable pizzaBudget might not have been initialized\u001b[0;0m",
      "\u001b[1;31m return (pizzaBudget+beerBudget+gamesBudget)\u001b[0;0m",
      "\u001b[1;31m         ^          ^                         \u001b[0;0m",
      "\u001b[1;31m\u001b[0;0m",
      "\u001b[1;31mvariable beerBudget might not have been initialized\u001b[0;0m",
      "\u001b[1;31m return (pizzaBudget+beerBudget+gamesBudget)\u001b[0;0m",
      "\u001b[1;31m                     ^         ^              \u001b[0;0m",
      "\u001b[1;31m\u001b[0;0m",
      "\u001b[1;31mvariable gamesBudget might not have been initialized\u001b[0;0m",
      "\u001b[1;31mreturn (pizzaBudget+beerBudget+gamesBudget)\u001b[0;0m",
      "\u001b[1;31m                               ^          ^  \u001b[0;0m"
     ]
    }
   ],
   "source": [
    "class Party {\n",
    "    static int numOfAttendees; // this is a static variable so will get a default value, since here it's an `int` the default is `0`\n",
    "    int minNumOfBeers = 20, minNumOfPizzas = 5; // these are instance vars so will get default values also but lets give them a value just to be different\n",
    "    public static double calcBudget() { // calcBudget method\n",
    "        int pizzaBudget, beerBudget, gamesBudget; // we're inside a method now so these are LOCAL vars and DO NOT get default values\n",
    "        if (numOfAttendees > 15) { // we're using an if statement to determine if anyone will be attending the party before assigning values\n",
    "            pizzaBudget = 50;\n",
    "            beerBudget = 100;\n",
    "            gamesBudget = 80;\n",
    "        }\n",
    "        return (pizzaBudget+beerBudget+gamesBudget); // now we're still inside the method and we're trying to use the LOCAL vars but since their assignment\n",
    "                                                     // is inside an IF statement there's a chance that they won't be assigned, so the compiler will throw an error\n",
    "    }\n",
    "}"
   ]
  },
  {
   "cell_type": "markdown",
   "id": "08c576f7",
   "metadata": {},
   "source": [
    "## Any exception that is not a subclass of `Error` or `RuntimeException` is a *checked-exception* and must either be declared in the method signature or handled\n",
    "To me, it's easy to forget that `Exception` is itself a *checked-exception* since `RuntimeException` is a subclass of `Exception`, however, you must either declare or handle `Exception` and any subclass which isn't a child of `Error` or `RuntimeException`."
   ]
  },
  {
   "cell_type": "markdown",
   "id": "137a7d0f",
   "metadata": {},
   "source": [
    "## An overriding method only needs to specify a subset of exception classes that the *overridden method may throw*\n",
    "You don't necessarily have to re-throw the same exceptions that the original method threw unless there's a chance that your overriding method may throw such a *checked-exception* and doesn't handle it.\n",
    "\n",
    "So, for example if you have a method which does some I/O operations and throws `IOException`, then you override that method with another which instead of throwing the exception handles it that's perfectly valid. Or if the overriding method doesn't perform any I/O operations that require declaring/handling a checked-exception."
   ]
  },
  {
   "cell_type": "code",
   "execution_count": 15,
   "id": "7bc8b610",
   "metadata": {},
   "outputs": [
    {
     "data": {
      "text/plain": [
       "com.twosigma.beaker.javash.bkr2e82c42b.Foo"
      ]
     },
     "execution_count": 15,
     "metadata": {},
     "output_type": "execute_result"
    }
   ],
   "source": [
    "import java.io.*;\n",
    "\n",
    "class Foo {\n",
    "    public void fooMethod() throws IOException {\n",
    "        File f = new File(\"/Users/neal/Documents/foo.txt\");\n",
    "        FileReader fr = new FileReader(f);\n",
    "        // some IO operations\n",
    "    }\n",
    "}\n",
    "\n",
    "class Bar extends Foo {\n",
    "    public void fooMethod() {\n",
    "        try {\n",
    "            File f = new File(\"/Users/neal/Documents/foo.txt\");\n",
    "            FileReader fr = new FileReader(f);\n",
    "        }\n",
    "        catch(IOException e) {\n",
    "            System.out.println(e);\n",
    "        }\n",
    "    }\n",
    "}"
   ]
  },
  {
   "cell_type": "markdown",
   "id": "abd797f4",
   "metadata": {},
   "source": [
    "## Leaving the test part of a `for` loop blank creates an infinite loop unless a break condition is included elsewhere within the loop\n",
    "If you see a for loop that looks like `for (;;i--)` (presuming that `i` has been initialise before the loop), it's tempting to think that it will either not execute or only execute once since no test is provided. However, it actually creates an infinite loop and will only terminate if you include a break condition elsewhere within the loop."
   ]
  },
  {
   "cell_type": "code",
   "execution_count": 18,
   "id": "002a767c",
   "metadata": {},
   "outputs": [
    {
     "name": "stdout",
     "output_type": "stream",
     "text": [
      "i is 0. j is 15\n",
      "i is 0. j is 14\n",
      "i is 0. j is 13\n",
      "i is 0. j is 12\n",
      "i is 0. j is 11\n",
      "i is 0. j is 10\n",
      "i is 0. j is 9\n",
      "i is 0. j is 8\n",
      "i is 0. j is 7\n",
      "i is 0. j is 6\n",
      "i is 0. j is 5\n",
      "i is 0. j is 4\n",
      "i is 0. j is 3\n",
      "i is 0. j is 2\n",
      "i is 0. j is 1\n",
      "i is 0. j is 0\n",
      "i is 0. j is -1\n"
     ]
    },
    {
     "data": {
      "text/plain": [
       "null"
      ]
     },
     "execution_count": 18,
     "metadata": {},
     "output_type": "execute_result"
    }
   ],
   "source": [
    "int i = 0;\n",
    "int j = 15;\n",
    "LOOP:\n",
    "    for (;;--j) {\n",
    "        System.out.println(\"i is \" + i + \". j is \" + j);\n",
    "        if (j<i) break LOOP;\n",
    "    }"
   ]
  },
  {
   "cell_type": "markdown",
   "id": "b362a041",
   "metadata": {},
   "source": [
    "## REMEMBER: Although objects passed as arguments to a method are passed by reference, if you reassign the variable within the method...\n",
    "..You're actually re-assigning the LOCAL variable. You can make changes to the actualy object since the actual object reference was passed to the method but as soon as you try to reassign the variable to point to a different object you're only changing the local version NOT the original."
   ]
  },
  {
   "cell_type": "code",
   "execution_count": 23,
   "id": "f68f1e5d",
   "metadata": {},
   "outputs": [
    {
     "data": {
      "text/plain": [
       "test.beaker.ReferenceFun"
      ]
     },
     "execution_count": 23,
     "metadata": {},
     "output_type": "execute_result"
    }
   ],
   "source": [
    "package test.beaker;\n",
    "\n",
    "class ReferenceFun {\n",
    "    StringBuilder original = new StringBuilder(\"I'm the original?\");\n",
    "    \n",
    "    public void fiddleWithRef(StringBuilder sb) {\n",
    "        sb.replace(sb.indexOf(\"?\"), sb.indexOf(\"?\")+1, \"!\"); // successfully perform some operations on the actual object since we're working with it's reference\n",
    "        sb = new StringBuilder(\"I'm NOT the original!\"); // as soon as you reassign like this, what you're actually saying is \n",
    "                                                         // \"reassign this local variable sb to point to a new obj\" but the original remains unchanged\n",
    "    }\n",
    "}\n",
    "\n"
   ]
  },
  {
   "cell_type": "code",
   "execution_count": 24,
   "id": "7c927a97",
   "metadata": {},
   "outputs": [
    {
     "name": "stdout",
     "output_type": "stream",
     "text": [
      "I'm the original?\n",
      "I'm the original!\n"
     ]
    },
    {
     "data": {
      "text/plain": [
       "null"
      ]
     },
     "execution_count": 24,
     "metadata": {},
     "output_type": "execute_result"
    }
   ],
   "source": [
    "package test.beaker;\n",
    "\n",
    "ReferenceFun rf = new ReferenceFun();\n",
    "System.out.println(rf.original);\n",
    "rf.fiddleWithRef(rf.original);\n",
    "System.out.println(rf.original);"
   ]
  }
 ],
 "metadata": {
  "kernelspec": {
   "display_name": "Java",
   "language": "java",
   "name": "java"
  },
  "language_info": {
   "codemirror_mode": "text/x-java",
   "file_extension": ".java",
   "mimetype": "",
   "name": "Java",
   "nbconverter_exporter": "",
   "version": "1.8.0_121"
  },
  "toc": {
   "base_numbering": 1,
   "nav_menu": {},
   "number_sections": false,
   "sideBar": false,
   "skip_h1_title": false,
   "title_cell": "Table of Contents",
   "title_sidebar": "Contents",
   "toc_cell": false,
   "toc_position": {},
   "toc_section_display": false,
   "toc_window_display": false
  }
 },
 "nbformat": 4,
 "nbformat_minor": 5
}
