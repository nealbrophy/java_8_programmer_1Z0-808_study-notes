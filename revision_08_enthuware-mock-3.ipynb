{
 "cells": [
  {
   "cell_type": "markdown",
   "id": "55ba3c50",
   "metadata": {},
   "source": [
    "# Revision notes from Enthuware Mock Test 3"
   ]
  },
  {
   "cell_type": "markdown",
   "id": "4a7608d2",
   "metadata": {},
   "source": [
    "## The default format when printing a `LocalDate` is `YYYY-MM-DD`"
   ]
  },
  {
   "cell_type": "code",
   "execution_count": 8,
   "id": "dccd40b9",
   "metadata": {},
   "outputs": [
    {
     "name": "stdout",
     "output_type": "stream",
     "text": [
      "2022-12-24\n",
      "2022-12-24\n"
     ]
    },
    {
     "data": {
      "text/plain": [
       "null"
      ]
     },
     "execution_count": 8,
     "metadata": {},
     "output_type": "execute_result"
    }
   ],
   "source": [
    "import java.time.*;\n",
    "import java.time.format.*;\n",
    "\n",
    "LocalDate date1 = LocalDate.of(2022, 12, 24);\n",
    "LocalDate date2 = LocalDate.parse(\"24/12/2022\", DateTimeFormatter.ofPattern(\"dd/MM/yyyy\"));\n",
    "System.out.println(date1);\n",
    "System.out.println(date2);"
   ]
  },
  {
   "cell_type": "markdown",
   "id": "094e9a46",
   "metadata": {},
   "source": [
    "## When creating a multi-dimensional array, the expression is evaluated from left to right in sequence...\n",
    ".. which means that if you define the length of the array using a variable, the value of that variable can potentially change between each dimension resulting in differing array lengths.\n",
    "\n",
    "For example, imagine we create a variable `arrayLength` and set it to value `2`, then we create a multi-dimensional array and set the first dimension to a length of `arrayLength`, then within the second array-length bracket we change the value of `arrayLength` to `11`. Now we have an array of length `2` where each of the inner arrays have a length of `11`."
   ]
  },
  {
   "cell_type": "code",
   "execution_count": 13,
   "id": "15a0547e",
   "metadata": {},
   "outputs": [
    {
     "name": "stdout",
     "output_type": "stream",
     "text": [
      "Outer Array Length: 2\n",
      "Inner Array Length: 11\n",
      "So we have an array containing 2 arrays which each can contain 11 ints.\n"
     ]
    },
    {
     "data": {
      "text/plain": [
       "null"
      ]
     },
     "execution_count": 13,
     "metadata": {},
     "output_type": "execute_result"
    }
   ],
   "source": [
    "int arrayLength = 2;\n",
    "\n",
    "int intArray [][] = new int[arrayLength][arrayLength=11];\n",
    "System.out.println(\"Outer Array Length: \" + intArray.length);\n",
    "System.out.println(\"Inner Array Length: \" + intArray[0].length);\n",
    "System.out.println(\"So we have an array containing \" + intArray.length + \" arrays which each can contain \" + intArray[0].length + \" ints.\");"
   ]
  },
  {
   "cell_type": "markdown",
   "id": "1e3f1082",
   "metadata": {},
   "source": [
    "## If a Java program runs out of memory the error that will be thrown is `java.lang.OutOfMemoryError` which is a subclass of `java.lang.Error`\n",
    "Additionally, an error will only print a stack trace if:\n",
    "a.) The error was not caught\n",
    "b.) The *catch* block explicitly prints the trace, for example using the `printStackTrace()` method"
   ]
  },
  {
   "cell_type": "markdown",
   "id": "4fef88eb",
   "metadata": {},
   "source": [
    "## The `String` class does not contain an `append()` method\n",
    "`append()` is not one of the methods that both `String` and `StringBuilder` have (unlike, `replace()` for example)."
   ]
  },
  {
   "cell_type": "code",
   "execution_count": 20,
   "id": "cda9b903",
   "metadata": {},
   "outputs": [
    {
     "name": "stdout",
     "output_type": "stream",
     "text": [
      "Hello\n",
      "World\n"
     ]
    },
    {
     "data": {
      "text/plain": [
       "null"
      ]
     },
     "execution_count": 20,
     "metadata": {},
     "output_type": "execute_result"
    }
   ],
   "source": [
    "String s = \"World\";\n",
    "s = s.replace(\"World\", \"Hello\");\n",
    "System.out.println(s);\n",
    "\n",
    "StringBuilder sb = new StringBuilder(\"Hello\");\n",
    "sb.replace(0, sb.length(),\"World\");\n",
    "System.out.println(sb);"
   ]
  },
  {
   "cell_type": "code",
   "execution_count": 21,
   "id": "403a1a25",
   "metadata": {},
   "outputs": [
    {
     "ename": "cannot find symbol",
     "evalue": "cannot find symbol",
     "output_type": "error",
     "traceback": [
      "\u001b[1;31mcannot find symbol\u001b[0;0m",
      "\u001b[1;31m  symbol:   method append(java.lang.String)\u001b[0;0m",
      "\u001b[1;31m  location: variable s of type java.lang.String\u001b[0;0m",
      "\u001b[1;31m s = s.append(\" World\")\u001b[0;0m",
      "\u001b[1;31m     ^       ^           \u001b[0;0m"
     ]
    }
   ],
   "source": [
    "String s = \"Hello\";\n",
    "s = s.append(\" World\");"
   ]
  },
  {
   "cell_type": "markdown",
   "id": "b95ceb32",
   "metadata": {},
   "source": [
    "## You cannot auto-box an `int` primitive into a `Double` object\n",
    "Auto-boxing only occurs between a primitive and it's matching wrapper-class."
   ]
  },
  {
   "cell_type": "markdown",
   "id": "7483f611",
   "metadata": {},
   "source": [
    "## Java allows you to use a class name as a variable name\n",
    "It's not best practice but you won't receive an error. If there's a conflict between the variable name and class name, Java will use *scope* to determine which is used (i.e. whichever has the closest scope will be used)."
   ]
  },
  {
   "cell_type": "code",
   "execution_count": 26,
   "id": "56acf271",
   "metadata": {},
   "outputs": [
    {
     "name": "stdout",
     "output_type": "stream",
     "text": [
      "String\n",
      "4.0\n"
     ]
    },
    {
     "data": {
      "text/plain": [
       "null"
      ]
     },
     "execution_count": 26,
     "metadata": {},
     "output_type": "execute_result"
    }
   ],
   "source": [
    "String String = \"String\";\n",
    "Double Double = 4.0;\n",
    "System.out.println(String);\n",
    "System.out.println(Double);"
   ]
  },
  {
   "cell_type": "markdown",
   "id": "d7b6b52e",
   "metadata": {},
   "source": [
    "## Access modifiers (`public`/`private`/`protected`) are only valid inside the scope of a class, NOT of a method\n",
    "You can use these modifiers to control the access of a class but not for methods or fields/variables."
   ]
  },
  {
   "cell_type": "markdown",
   "id": "6c992b60",
   "metadata": {},
   "source": [
    "## `main` is not a keyword\n",
    "Although `main` is the name of a commonly used method, it is NOT reserved/a keyword. So you can use `main` as a variable name and also as a method (however, it won't function as *the* main method which gives JVM a start point to execute the program)."
   ]
  },
  {
   "cell_type": "code",
   "execution_count": 31,
   "id": "dc73e6ef",
   "metadata": {},
   "outputs": [
    {
     "name": "stdout",
     "output_type": "stream",
     "text": [
      "4\n"
     ]
    },
    {
     "data": {
      "text/plain": [
       "null"
      ]
     },
     "execution_count": 31,
     "metadata": {},
     "output_type": "execute_result"
    }
   ],
   "source": [
    "int main = 4;\n",
    "System.out.println(main);"
   ]
  },
  {
   "cell_type": "code",
   "execution_count": 29,
   "id": "170a93c8",
   "metadata": {},
   "outputs": [
    {
     "data": {
      "text/plain": [
       "com.twosigma.beaker.javash.bkr29df5702.Foo"
      ]
     },
     "execution_count": 29,
     "metadata": {},
     "output_type": "execute_result"
    }
   ],
   "source": [
    "class Foo {\n",
    "    public String main() {\n",
    "        return \"Foo\";\n",
    "    }\n",
    "}"
   ]
  },
  {
   "cell_type": "markdown",
   "id": "7542045b",
   "metadata": {},
   "source": [
    "## `.charAt()` can take a *char* as an argument\n",
    "Though `.charAt()` expects an *int*, you can pass it a *char* without issue because the *char* will be implicitly promoted to an *int*."
   ]
  },
  {
   "cell_type": "markdown",
   "id": "9fe857c2",
   "metadata": {},
   "source": [
    "## A `static` method cannot be overridden by a non-static method *and vice versa*\n",
    "Overriding methods is when you declare a method in a subclass using the same name as a method in the it's parent class. However, there are rules and one of them is that you can't override a *static* method with a *non-static* AND you can't override a *non-static* method with a *static* one."
   ]
  },
  {
   "cell_type": "code",
   "execution_count": 33,
   "id": "f49ec669",
   "metadata": {},
   "outputs": [
    {
     "ename": "ERROR",
     "evalue": " java.lang.IllegalStateException",
     "output_type": "error",
     "traceback": [
      "\u001b[0;31mERROR: java.lang.IllegalStateException: bar() in com.twosigma.beaker.javash.bkr29df5702.Foobar cannot override bar() in com.twosigma.beaker.javash.bkr29df5702.Foo\u001b[0;0m",
      "\u001b[0;31m  overriding method is static\u001b[0;0m",
      "\u001b[0;31m static String bar() {}\u001b[0;0m",
      "\u001b[0;31m ^                     ^ \u001b[0;0m"
     ]
    }
   ],
   "source": [
    "class Foo {\n",
    "    public void bar() {}\n",
    "}\n",
    "\n",
    "class Foobar extends Foo {\n",
    "    static String bar() {}\n",
    "}\n",
    "\n"
   ]
  },
  {
   "cell_type": "markdown",
   "id": "ccbab21e",
   "metadata": {},
   "source": [
    "## Watch out for questions that use `true` and `false` reversed in an expression to throw you off\n",
    "A simple but effective trick. Questions may reverse the boolean primitives `true` and `false` such that `false` appears as the output if the expression evaluates to `true` and vice versa."
   ]
  },
  {
   "cell_type": "code",
   "execution_count": 35,
   "id": "bb9c9753",
   "metadata": {},
   "outputs": [
    {
     "name": "stdout",
     "output_type": "stream",
     "text": [
      "true\n"
     ]
    },
    {
     "data": {
      "text/plain": [
       "null"
      ]
     },
     "execution_count": 35,
     "metadata": {},
     "output_type": "execute_result"
    }
   ],
   "source": [
    "boolean var = false;\n",
    "\n",
    "boolean evaluate = var? false: true;\n",
    "\n",
    "System.out.println(evaluate);"
   ]
  },
  {
   "cell_type": "markdown",
   "id": "23e3e437",
   "metadata": {},
   "source": [
    "Q50"
   ]
  },
  {
   "cell_type": "code",
   "execution_count": null,
   "id": "6c62bcd8",
   "metadata": {},
   "outputs": [],
   "source": []
  }
 ],
 "metadata": {
  "kernelspec": {
   "display_name": "Java",
   "language": "java",
   "name": "java"
  },
  "language_info": {
   "codemirror_mode": "text/x-java",
   "file_extension": ".java",
   "mimetype": "",
   "name": "Java",
   "nbconverter_exporter": "",
   "version": "1.8.0_121"
  },
  "toc": {
   "base_numbering": 1,
   "nav_menu": {},
   "number_sections": false,
   "sideBar": false,
   "skip_h1_title": false,
   "title_cell": "Table of Contents",
   "title_sidebar": "Contents",
   "toc_cell": false,
   "toc_position": {},
   "toc_section_display": false,
   "toc_window_display": false
  }
 },
 "nbformat": 4,
 "nbformat_minor": 5
}
