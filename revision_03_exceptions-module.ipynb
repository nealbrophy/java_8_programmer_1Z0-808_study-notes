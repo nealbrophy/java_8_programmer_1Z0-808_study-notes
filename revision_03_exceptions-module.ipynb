{
 "cells": [
  {
   "cell_type": "markdown",
   "id": "ef7bbdfb",
   "metadata": {},
   "source": [
    "# Revision notes from Exceptions module quiz"
   ]
  },
  {
   "cell_type": "markdown",
   "id": "4d3e6a1c",
   "metadata": {},
   "source": [
    "## When casting, the type on BOTH sides of equals sign matters"
   ]
  },
  {
   "cell_type": "code",
   "execution_count": 12,
   "id": "6cd2f1d1",
   "metadata": {},
   "outputs": [
    {
     "ename": "ERROR",
     "evalue": " java.lang.ClassCastException",
     "output_type": "error",
     "traceback": [
      "\u001b[1;31mERROR: java.lang.ClassCastException: java.lang.Integer cannot be cast to java.lang.String\u001b[0;0m"
     ]
    }
   ],
   "source": [
    "Object o = new Integer(1);\n",
    "String s = (String) o;\n",
    "System.out.println(s);"
   ]
  },
  {
   "cell_type": "markdown",
   "id": "555a43ac",
   "metadata": {},
   "source": [
    "## `java.io.IOException` is always thrown programmatically (i.e. explicitly thrown by the programmer)\n",
    "`IOException` is never thrown by the JVM without having been explicitly thrown in the code."
   ]
  },
  {
   "cell_type": "markdown",
   "id": "b058b239",
   "metadata": {},
   "source": [
    "## `NumberFormatException` is always thrown programmatically\n",
    "`NumberFormatException` is never thrown by the JVM without having been explicitly thrown in the code."
   ]
  },
  {
   "cell_type": "markdown",
   "id": "b5411f95",
   "metadata": {},
   "source": [
    "## `ExceptionInInitializerError`, `NullPointerException`, and `ArrayIndexOutOfBounds` are thrown by the JVM\n",
    "These exceptions do not need to be explicitly thrown in the code."
   ]
  },
  {
   "cell_type": "markdown",
   "id": "6b1bd313",
   "metadata": {},
   "source": [
    "## A method that declares an exception isn't required to throw that exception\n",
    "Java won't throw an error if the method doesn't throw the exception which is declared."
   ]
  },
  {
   "cell_type": "code",
   "execution_count": 13,
   "id": "b42eedd2",
   "metadata": {},
   "outputs": [
    {
     "data": {
      "text/plain": [
       "com.twosigma.beaker.javash.bkrfb271382.Foo"
      ]
     },
     "execution_count": 13,
     "metadata": {},
     "output_type": "execute_result"
    }
   ],
   "source": [
    "class Foo {\n",
    "    public void test() throws ArithmeticException {\n",
    "        System.out.println();\n",
    "    }\n",
    "}"
   ]
  },
  {
   "cell_type": "markdown",
   "id": "df256db8",
   "metadata": {},
   "source": [
    "## RuntimeExceptions can be thrown in any method\n",
    "`RuntimeException` and it's children can be thrown in any method."
   ]
  },
  {
   "cell_type": "markdown",
   "id": "4fe2fa6c",
   "metadata": {},
   "source": [
    "## A method cannot throw a more broad checked exception than that which is declared\n",
    "If you declare that a method throws a particular checked exception, you cannot then have the method body throw a more general/broad checked exception (regardless of whether or not it's related to the declared exception)."
   ]
  },
  {
   "cell_type": "code",
   "execution_count": 19,
   "id": "5df877b5",
   "metadata": {},
   "outputs": [
    {
     "ename": "ERROR",
     "evalue": " java.lang.IllegalStateException",
     "output_type": "error",
     "traceback": [
      "\u001b[1;31mERROR: java.lang.IllegalStateException: unreported exception java.lang.Exception; must be caught or declared to be thrown\u001b[0;0m",
      "\u001b[1;31m throw new Exception();\u001b[0;0m",
      "\u001b[1;31m ^                     ^ \u001b[0;0m"
     ]
    }
   ],
   "source": [
    "import java.io.IOException;\n",
    "\n",
    "public class Foo {\n",
    "    public void test() throws IOException {\n",
    "        throw new Exception();\n",
    "    }\n",
    "}"
   ]
  },
  {
   "cell_type": "markdown",
   "id": "078890b6",
   "metadata": {},
   "source": [
    "## Errors can be handled or declared but it is considered bad practice\n",
    "Although it's bad practive to declare or handle `Error` type exceptions there's no rule to prevent you from doing so."
   ]
  },
  {
   "cell_type": "markdown",
   "id": "caa2d661",
   "metadata": {},
   "source": [
    "## Exceptions can be returned by a method\n",
    "Any Java type, including `Exception` can be a return type. However, in a method that does so the exception object will be returned rather than thrown."
   ]
  },
  {
   "cell_type": "code",
   "execution_count": null,
   "id": "62368659",
   "metadata": {},
   "outputs": [],
   "source": []
  }
 ],
 "metadata": {
  "kernelspec": {
   "display_name": "Java",
   "language": "java",
   "name": "java"
  },
  "language_info": {
   "codemirror_mode": "text/x-java",
   "file_extension": ".java",
   "mimetype": "",
   "name": "Java",
   "nbconverter_exporter": "",
   "version": "1.8.0_121"
  },
  "toc": {
   "base_numbering": 1,
   "nav_menu": {},
   "number_sections": false,
   "sideBar": false,
   "skip_h1_title": false,
   "title_cell": "Table of Contents",
   "title_sidebar": "Contents",
   "toc_cell": false,
   "toc_position": {},
   "toc_section_display": false,
   "toc_window_display": false
  }
 },
 "nbformat": 4,
 "nbformat_minor": 5
}
