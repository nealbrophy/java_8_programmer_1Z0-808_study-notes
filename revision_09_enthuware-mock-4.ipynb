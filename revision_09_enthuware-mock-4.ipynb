{
 "cells": [
  {
   "cell_type": "markdown",
   "id": "8ac23c82",
   "metadata": {},
   "source": [
    "# Revision notes from Enthuware Mock Test 4"
   ]
  },
  {
   "cell_type": "markdown",
   "id": "2bb294eb",
   "metadata": {},
   "source": [
    "## Chained assignment works in Java but chained initialization does not\n",
    "Java allows you to assign multiple variables to the same value in a single line like this:\n",
    "<br>`a = b = c = 5;`\n",
    "\n",
    "However, it doesn't allow chained initialization:\n",
    "<br>`int a = b = c = 5;`"
   ]
  },
  {
   "cell_type": "code",
   "execution_count": 3,
   "id": "65e366a5",
   "metadata": {},
   "outputs": [
    {
     "name": "stdout",
     "output_type": "stream",
     "text": [
      "5 5 5\n"
     ]
    },
    {
     "data": {
      "text/plain": [
       "null"
      ]
     },
     "execution_count": 3,
     "metadata": {},
     "output_type": "execute_result"
    }
   ],
   "source": [
    "int a, b, c;\n",
    "a = b = c = 5;\n",
    "System.out.println(a + \" \" + b + \" \" + c);"
   ]
  },
  {
   "cell_type": "code",
   "execution_count": 5,
   "id": "d0836e2b",
   "metadata": {},
   "outputs": [
    {
     "ename": "cannot find symbol",
     "evalue": "cannot find symbol",
     "output_type": "error",
     "traceback": [
      "\u001b[1;31mcannot find symbol\u001b[0;0m",
      "\u001b[1;31m  symbol:   variable b\u001b[0;0m",
      "\u001b[0;31m  location: class com.twosigma.beaker.javash.bkr6728cae8.BeakerWrapperClass1261714175Id7521dca12c714cef98ac7bae4468b798\u001b[0;0m",
      "\u001b[0;31m int a = b = c = 5\u001b[0;0m",
      "\u001b[0;31m         ^^         \u001b[0;0m",
      "\u001b[0;31m\u001b[0;0m",
      "\u001b[0;31mcannot find symbol\u001b[0;0m",
      "\u001b[0;31m  symbol:   variable c\u001b[0;0m",
      "\u001b[0;31m  location: class com.twosigma.beaker.javash.bkr6728cae8.BeakerWrapperClass1261714175Id7521dca12c714cef98ac7bae4468b798\u001b[0;0m",
      "\u001b[0;31m int a = b = c = 5\u001b[0;0m",
      "\u001b[0;31m             ^^     \u001b[0;0m"
     ]
    }
   ],
   "source": [
    "int a = b = c = 5; // will error out"
   ]
  },
  {
   "cell_type": "markdown",
   "id": "1484aecb",
   "metadata": {},
   "source": [
    "## `final` variables can be *hidden* in subclasses\n",
    "It's possible to hide `final` variables in a subclass."
   ]
  },
  {
   "cell_type": "code",
   "execution_count": 8,
   "id": "0459c23d",
   "metadata": {},
   "outputs": [
    {
     "data": {
      "text/plain": [
       "com.twosigma.beaker.javash.bkr6728cae8.One"
      ]
     },
     "execution_count": 8,
     "metadata": {},
     "output_type": "execute_result"
    }
   ],
   "source": [
    "class One {\n",
    "    final int num = 1;\n",
    "}\n",
    "\n",
    "class Two extends One {\n",
    "    int num = 2;\n",
    "}"
   ]
  },
  {
   "cell_type": "markdown",
   "id": "91990d8f",
   "metadata": {},
   "source": [
    "## `isArray()` is a class method which returns `true` if the class is an Array\n",
    "You can call `isArray()` on a class to get a boolean which confirms whether or not the class it's called on is Array. This method will not work if called directly on an array object."
   ]
  },
  {
   "cell_type": "code",
   "execution_count": 19,
   "id": "b590badc",
   "metadata": {},
   "outputs": [
    {
     "name": "stdout",
     "output_type": "stream",
     "text": [
      "true\n",
      "false\n"
     ]
    },
    {
     "data": {
      "text/plain": [
       "null"
      ]
     },
     "execution_count": 19,
     "metadata": {},
     "output_type": "execute_result"
    }
   ],
   "source": [
    "int [] ia = {1, 2, 3};\n",
    "System.out.println(ia.getClass().isArray());\n",
    "\n",
    "Object o = new Object();\n",
    "System.out.println(o.getClass().isArray());"
   ]
  },
  {
   "cell_type": "code",
   "execution_count": 17,
   "id": "73052067",
   "metadata": {},
   "outputs": [
    {
     "ename": "cannot find symbol",
     "evalue": "cannot find symbol",
     "output_type": "error",
     "traceback": [
      "\u001b[1;31mcannot find symbol\u001b[0;0m",
      "\u001b[1;31m  symbol:   method isArray()\u001b[0;0m",
      "\u001b[1;31m  location: variable ia of type int[]\u001b[0;0m",
      "\u001b[1;31m System.out.println(ia.isArray())\u001b[0;0m",
      "\u001b[1;31m                    ^         ^    \u001b[0;0m"
     ]
    }
   ],
   "source": [
    "int [] ia = {1, 2, 3};\n",
    "System.out.println(ia.isArray());"
   ]
  },
  {
   "cell_type": "markdown",
   "id": "3361fd8a",
   "metadata": {},
   "source": [
    "## `final` is an acceptable modifier for the *main* method and will not interfer with execution\n",
    "`final` when used on a method means that the method cannot be overridden (though it can still be hidden). Making a `static` method `final` prevents a subclass from implementing the same static method. So, when used with the *main* method, there's essentially no effect:"
   ]
  },
  {
   "cell_type": "code",
   "execution_count": 20,
   "id": "688d422e",
   "metadata": {},
   "outputs": [
    {
     "data": {
      "text/plain": [
       "test.beaker.Foo"
      ]
     },
     "execution_count": 20,
     "metadata": {},
     "output_type": "execute_result"
    }
   ],
   "source": [
    "package test.beaker;\n",
    "\n",
    "class Foo {\n",
    "    public final static void main(String [] args) {\n",
    "        System.out.println(\"This is the main method\");\n",
    "    }\n",
    "}"
   ]
  },
  {
   "cell_type": "code",
   "execution_count": 21,
   "id": "fd2d6677",
   "metadata": {},
   "outputs": [
    {
     "data": {
      "text/plain": [
       "null"
      ]
     },
     "execution_count": 21,
     "metadata": {},
     "output_type": "execute_result"
    }
   ],
   "source": [
    "package test.beaker;\n",
    "\n",
    "Foo f = new Foo();"
   ]
  },
  {
   "cell_type": "markdown",
   "id": "b82c7621",
   "metadata": {},
   "source": [
    "## `ArrayList` implements `RandomAccess`\n",
    "`RandomAccess` is an interface used by *List* implementations to indicate they support fast random access."
   ]
  },
  {
   "cell_type": "markdown",
   "id": "42f84e50",
   "metadata": {},
   "source": [
    "## `ArrayList` allows you to access it's elements in a random order\n",
    "Since you can access any element by it's index using the `.get();` method."
   ]
  },
  {
   "cell_type": "markdown",
   "id": "8de2881c",
   "metadata": {},
   "source": [
    "## The use of the word `super` to access the members of a parent class only works for classes\n",
    "Thus if you try to use `super.methodName();` to access an *interface* method it won't work (it would work to access a parent class' method). If you want to access a method from an interface you need to prefix `super` with the interface name: `<interface name>.super.<method name>`. However, this can only be done if the class you're trying to access it from directly implements the interface in question."
   ]
  },
  {
   "cell_type": "markdown",
   "id": "62522b42",
   "metadata": {},
   "source": [
    "## It's possible/acceptable to redeclare an implemented method as `abstract` in an abstract class or sub-interface\n",
    "Java will not object if you redeclare a default or concrete method as abstract in an abstract subclass or subinterface, it just means that any concrete class which extends/implements the class/interface that redeclared the method will need to reimplement it."
   ]
  },
  {
   "cell_type": "code",
   "execution_count": 46,
   "id": "7ceab2b3",
   "metadata": {},
   "outputs": [
    {
     "data": {
      "text/plain": [
       "com.twosigma.beaker.javash.bkr6728cae8.Baby"
      ]
     },
     "execution_count": 46,
     "metadata": {},
     "output_type": "execute_result"
    }
   ],
   "source": [
    "interface Baby {\n",
    "    public default String hello() {\n",
    "        return \"Hello\";\n",
    "    }\n",
    "}\n",
    "\n",
    "interface Toddler extends Baby {\n",
    "    public String hello(); // redeclare the \"hello\" method as abstract within an subinterface\n",
    "}\n",
    "\n",
    "abstract class AnotherBaby implements Baby {\n",
    "    public abstract String hello(); // redeclaring the \"hello\" method as abstract within an abstract class\n",
    "}\n",
    "\n",
    "class Child implements Toddler {\n",
    "    public String hello() {\n",
    "        return \"Hiya\";\n",
    "    }\n",
    "}"
   ]
  },
  {
   "cell_type": "markdown",
   "id": "d9f976ab",
   "metadata": {},
   "source": [
    "## REMEMBER: The *default* no-args constructor is not automatically provided if the class defines it's own >0 args constructor\n",
    "Since the default no-args constructor implicitly calls `super()` it's tempting to think that any constructor you define will include an implicit call to `super()` but that's not the case. If you define a constructor for your class with >0 args then there will NOT be a default no-args constructor automatically provided which also means no implicit call to `super()` unless you explicitly call it within your defined constructor."
   ]
  },
  {
   "cell_type": "markdown",
   "id": "8359297a",
   "metadata": {},
   "source": [
    "## A `return` in a `finally` block supercedes a `return` in `try`/`catch` blocks\n",
    "If a try/catch has a `finally` block associated with it and there is a `return` in either/both the try/catch AS WELL AS in the `finally`, the return in the `finally` block will supercede the others as `finally` is always the last thing executed in a try/catch/finally and is executed before anything is returned."
   ]
  },
  {
   "cell_type": "code",
   "execution_count": 1,
   "id": "aefdca46",
   "metadata": {},
   "outputs": [
    {
     "data": {
      "text/plain": [
       "Goodbue"
      ]
     },
     "execution_count": 1,
     "metadata": {},
     "output_type": "execute_result"
    }
   ],
   "source": [
    "try {\n",
    "    return \"Hello\";\n",
    "}\n",
    "catch(Exception e) {}\n",
    "finally {\n",
    "    return \"Goodbye\";\n",
    "}"
   ]
  },
  {
   "cell_type": "code",
   "execution_count": 3,
   "id": "b620d0ed",
   "metadata": {},
   "outputs": [
    {
     "data": {
      "text/plain": [
       "Goodbue"
      ]
     },
     "execution_count": 3,
     "metadata": {},
     "output_type": "execute_result"
    }
   ],
   "source": [
    "try {\n",
    "    throw new Exception();\n",
    "}\n",
    "catch(Exception e) {\n",
    "    return \"Oh well\";\n",
    "}\n",
    "finally {\n",
    "    return \"Goodbye\";\n",
    "}"
   ]
  },
  {
   "cell_type": "markdown",
   "id": "3b2fa835",
   "metadata": {},
   "source": [
    "## `System.gc()` is equivalent to `Runtime.getRuntime().gc()`\n",
    "May not come up in the exam but it's worth knowing that if you see `Runtime.getRuntime().gc()` it is equivalent to calling `System.gc()`; both ask the JVM to perform garbage collection, however, there's no guarantee that the JVM will do so."
   ]
  },
  {
   "cell_type": "markdown",
   "id": "8a253158",
   "metadata": {},
   "source": [
    "## Variables cannot be `abstract` or `native`\n",
    "These modifiers can only be used for member methods."
   ]
  },
  {
   "cell_type": "markdown",
   "id": "909f98b0",
   "metadata": {},
   "source": [
    "## REMEMBER: A switch statement can take `byte`, `char`, `short`, `int`, and `String`\n",
    "Permitted types are:\n",
    "- `byte` \n",
    "- `char`\n",
    "- `short`\n",
    "- `int`\n",
    "- `String`\n",
    "- `enum`\n",
    "- `Byte`\n",
    "- `Character`\n",
    "- `Short`\n",
    "- `Integer`\n",
    "\n",
    "The following are __NOT__ permitted in a switch:\n",
    "- `long`\n",
    "- `float`\n",
    "- `double`\n",
    "- `boolean`\n",
    "- `Long`\n",
    "- `Float`\n",
    "- `Double`\n",
    "- `Boolean`"
   ]
  },
  {
   "cell_type": "markdown",
   "id": "9ffc6b7f",
   "metadata": {},
   "source": [
    "## Each *case label* in a *switch* must be assignable to the same *type* as the *switch variable*\n",
    "The compiler will throw an error if you try to use a case label which cannot be assigned to a reference type matching the *switch variable*. For example, if you are using a switch with a `byte` type variable and try to use a `boolean`, `float`, `double`, `String`, or an integer value which is outside the permitted range for a `byte` (-128 to 127), you will get a compiler error."
   ]
  },
  {
   "cell_type": "markdown",
   "id": "adb13af2",
   "metadata": {},
   "source": [
    "## You don't need to know the specific integral value that a character represents\n",
    "However, it's worth remembering that all English language characters (both upper and lowercase) are below the 127 maximum value allower by a `byte`"
   ]
  },
  {
   "cell_type": "markdown",
   "id": "445ffdad",
   "metadata": {},
   "source": [
    "## A `do`/`while` loop cannot take instantiation or increment within the while condition\n",
    "Unlike a `for` loop, you cannot put instantiation or increment/decrement between a `while`'s parentheses; it will only accept a `boolean` or an expression that evaluates to a `boolean`."
   ]
  },
  {
   "cell_type": "markdown",
   "id": "1f4f4ddc",
   "metadata": {},
   "source": [
    "## While you can use empty curly braces assign an empty array to an array ref variable AND arrays are objects...\n",
    "..an empty set of curly braces alone is not a valid object itself.\n",
    "\n",
    "So, while `int [] ia = {};` is a valid way to create an empty array and assign to the reference `ia`.\n",
    "\n",
    "Doing `Object [] oa = { new Object(), \"string\", {}, new Integer(5)};` will throw a compiler error as `{}` alone is not a valid object."
   ]
  },
  {
   "cell_type": "code",
   "execution_count": 5,
   "id": "a052627b",
   "metadata": {},
   "outputs": [
    {
     "data": {
      "text/plain": [
       "null"
      ]
     },
     "execution_count": 5,
     "metadata": {},
     "output_type": "execute_result"
    }
   ],
   "source": [
    "int [] ia = {};"
   ]
  },
  {
   "cell_type": "code",
   "execution_count": 8,
   "id": "6f077fb8",
   "metadata": {},
   "outputs": [
    {
     "ename": "illegal initializer for java.lang.Object",
     "evalue": "illegal initializer for java.lang.Object",
     "output_type": "error",
     "traceback": [
      "\u001b[1;31millegal initializer for java.lang.Object\u001b[0;0m",
      "\u001b[1;31mct(), new Integer(5), \"Hello\", {}}\u001b[0;0m",
      "\u001b[1;31m                               ^ ^  \u001b[0;0m"
     ]
    }
   ],
   "source": [
    "Object [] oa = {new Object(), new Integer(5), \"Hello\", {}};"
   ]
  },
  {
   "cell_type": "markdown",
   "id": "44b1c3d6",
   "metadata": {},
   "source": [
    "## A constructor can take the same type as itself as an argument\n",
    "It seems a little confusing, but a constructor can take an object of the type the constructor creates as an argument."
   ]
  },
  {
   "cell_type": "code",
   "execution_count": 12,
   "id": "a95d21fb",
   "metadata": {},
   "outputs": [
    {
     "data": {
      "text/plain": [
       "test.beaker.Example"
      ]
     },
     "execution_count": 12,
     "metadata": {},
     "output_type": "execute_result"
    }
   ],
   "source": [
    "package test.beaker;\n",
    "\n",
    "class Example {\n",
    "    \n",
    "    public Example() {}\n",
    "    \n",
    "    public Example(Example ex) {\n",
    "        System.out.println(\"I'm the example class constructor\");\n",
    "    }\n",
    "}"
   ]
  },
  {
   "cell_type": "code",
   "execution_count": 13,
   "id": "59a0a1c1",
   "metadata": {},
   "outputs": [
    {
     "name": "stdout",
     "output_type": "stream",
     "text": [
      "I'm the example class constructor\n"
     ]
    },
    {
     "data": {
      "text/plain": [
       "null"
      ]
     },
     "execution_count": 13,
     "metadata": {},
     "output_type": "execute_result"
    }
   ],
   "source": [
    "package test.beaker;\n",
    "\n",
    "Example e1 = new Example();\n",
    "\n",
    "Example e2 = new Example(e1);"
   ]
  },
  {
   "cell_type": "markdown",
   "id": "d204bbcb",
   "metadata": {},
   "source": [
    "## A constructor _CANNOT_ be  `final`, `static`, or `abstract`\n",
    "While a constructo CAN be `public`, `private`, `protected`, and `<default: package private>`, it *CANNOT* be `final`, `static`, or `abstract`."
   ]
  },
  {
   "cell_type": "markdown",
   "id": "7395674b",
   "metadata": {},
   "source": [
    "## REMEMBER: The condition of a `while`/`do while` loop is evaluated on each iteration\n",
    "This means that if there's an assignment within the parens, it will be reassigned on each loop (providing the assignment returns a `boolean`)."
   ]
  },
  {
   "cell_type": "code",
   "execution_count": 18,
   "id": "bc59bf85",
   "metadata": {},
   "outputs": [
    {
     "name": "stdout",
     "output_type": "stream",
     "text": [
      "false\n",
      "true\n",
      "false\n",
      "3\n"
     ]
    },
    {
     "data": {
      "text/plain": [
       "null"
      ]
     },
     "execution_count": 18,
     "metadata": {},
     "output_type": "execute_result"
    }
   ],
   "source": [
    "boolean bool = false;\n",
    "int i = 5;\n",
    "do{ // remember a do while loop always executes it's code block at least ONCE\n",
    "    i-- ;\n",
    "    System.out.println(bool);// first loop, prints: false. second loop prints: true\n",
    "} while (bool = !bool); // sets the value of bool to it's opposite on each loop: 1st loop sets to \"true\" causing the loop to repeat, 2nd loop sets to \"false\" ending the loop\n",
    "System.out.println(b); // after loop as finished we see the value printed is: false\n",
    "System.out.println( i );"
   ]
  },
  {
   "cell_type": "markdown",
   "id": "a4fc80b8",
   "metadata": {},
   "source": [
    "## REMEMBER: A `double`/`float`/`long` cannot be assigned to an `int` without an explicit cast\n",
    "Even if you're using `Integer`'s `.parseInt()` method, you cannot assign a `float`, `double`, or `long` value to an `int` variable."
   ]
  },
  {
   "cell_type": "code",
   "execution_count": 26,
   "id": "01aeff15",
   "metadata": {},
   "outputs": [
    {
     "data": {
      "text/plain": [
       "null"
      ]
     },
     "execution_count": 26,
     "metadata": {},
     "output_type": "execute_result"
    }
   ],
   "source": [
    "int i = (int) 4.3;\n",
    "int j = (int) 71.5f;\n",
    "int k = (int) 2000d;"
   ]
  },
  {
   "cell_type": "code",
   "execution_count": 27,
   "id": "076c4d40",
   "metadata": {},
   "outputs": [
    {
     "ename": "ERROR",
     "evalue": " java.lang.NumberFormatException",
     "output_type": "error",
     "traceback": [
      "\u001b[1;31mERROR: java.lang.NumberFormatException: For input string: \"2.5\"\u001b[0;0m"
     ]
    }
   ],
   "source": [
    "int l = Integer.parseInt(\"2.5\");"
   ]
  },
  {
   "cell_type": "markdown",
   "id": "7e62b00f",
   "metadata": {},
   "source": [
    "## A date/datetime parsing exception is a *runtime* expression\n",
    "The date/time related classes throw a `java.time.DateTimeException` which extends `RuntimeException`."
   ]
  },
  {
   "cell_type": "code",
   "execution_count": null,
   "id": "cfcb6dfd",
   "metadata": {},
   "outputs": [],
   "source": []
  }
 ],
 "metadata": {
  "kernelspec": {
   "display_name": "Java",
   "language": "java",
   "name": "java"
  },
  "language_info": {
   "codemirror_mode": "text/x-java",
   "file_extension": ".java",
   "mimetype": "",
   "name": "Java",
   "nbconverter_exporter": "",
   "version": "1.8.0_121"
  },
  "toc": {
   "base_numbering": 1,
   "nav_menu": {},
   "number_sections": false,
   "sideBar": false,
   "skip_h1_title": false,
   "title_cell": "Table of Contents",
   "title_sidebar": "Contents",
   "toc_cell": false,
   "toc_position": {},
   "toc_section_display": false,
   "toc_window_display": false
  }
 },
 "nbformat": 4,
 "nbformat_minor": 5
}
