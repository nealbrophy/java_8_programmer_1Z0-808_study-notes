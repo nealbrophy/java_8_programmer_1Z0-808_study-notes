{
 "cells": [
  {
   "cell_type": "markdown",
   "id": "8ac23c82",
   "metadata": {},
   "source": [
    "# Revision notes from Enthuware Mock Test 4"
   ]
  },
  {
   "cell_type": "markdown",
   "id": "2bb294eb",
   "metadata": {},
   "source": [
    "## Chained assignment works in Java but chained initialization does not\n",
    "Java allows you to assign multiple variables to the same value in a single line like this:\n",
    "<br>`a = b = c = 5;`\n",
    "\n",
    "However, it doesn't allow chained initialization:\n",
    "<br>`int a = b = c = 5;`"
   ]
  },
  {
   "cell_type": "code",
   "execution_count": 3,
   "id": "65e366a5",
   "metadata": {},
   "outputs": [
    {
     "name": "stdout",
     "output_type": "stream",
     "text": [
      "5 5 5\n"
     ]
    },
    {
     "data": {
      "text/plain": [
       "null"
      ]
     },
     "execution_count": 3,
     "metadata": {},
     "output_type": "execute_result"
    }
   ],
   "source": [
    "int a, b, c;\n",
    "a = b = c = 5;\n",
    "System.out.println(a + \" \" + b + \" \" + c);"
   ]
  },
  {
   "cell_type": "code",
   "execution_count": 5,
   "id": "d0836e2b",
   "metadata": {},
   "outputs": [
    {
     "ename": "cannot find symbol",
     "evalue": "cannot find symbol",
     "output_type": "error",
     "traceback": [
      "\u001b[1;31mcannot find symbol\u001b[0;0m",
      "\u001b[1;31m  symbol:   variable b\u001b[0;0m",
      "\u001b[0;31m  location: class com.twosigma.beaker.javash.bkr6728cae8.BeakerWrapperClass1261714175Id7521dca12c714cef98ac7bae4468b798\u001b[0;0m",
      "\u001b[0;31m int a = b = c = 5\u001b[0;0m",
      "\u001b[0;31m         ^^         \u001b[0;0m",
      "\u001b[0;31m\u001b[0;0m",
      "\u001b[0;31mcannot find symbol\u001b[0;0m",
      "\u001b[0;31m  symbol:   variable c\u001b[0;0m",
      "\u001b[0;31m  location: class com.twosigma.beaker.javash.bkr6728cae8.BeakerWrapperClass1261714175Id7521dca12c714cef98ac7bae4468b798\u001b[0;0m",
      "\u001b[0;31m int a = b = c = 5\u001b[0;0m",
      "\u001b[0;31m             ^^     \u001b[0;0m"
     ]
    }
   ],
   "source": [
    "int a = b = c = 5; // will error out"
   ]
  },
  {
   "cell_type": "markdown",
   "id": "1484aecb",
   "metadata": {},
   "source": [
    "## `final` variables can be *hidden* in subclasses\n",
    "It's possible to hide `final` variables in a subclass."
   ]
  },
  {
   "cell_type": "code",
   "execution_count": 8,
   "id": "0459c23d",
   "metadata": {},
   "outputs": [
    {
     "data": {
      "text/plain": [
       "com.twosigma.beaker.javash.bkr6728cae8.One"
      ]
     },
     "execution_count": 8,
     "metadata": {},
     "output_type": "execute_result"
    }
   ],
   "source": [
    "class One {\n",
    "    final int num = 1;\n",
    "}\n",
    "\n",
    "class Two extends One {\n",
    "    int num = 2;\n",
    "}"
   ]
  },
  {
   "cell_type": "markdown",
   "id": "91990d8f",
   "metadata": {},
   "source": [
    "## `isArray()` is a class method which returns `true` if the class is an Array\n",
    "You can call `isArray()` on a class to get a boolean which confirms whether or not the class it's called on is Array. This method will not work if called directly on an array object."
   ]
  },
  {
   "cell_type": "code",
   "execution_count": 19,
   "id": "b590badc",
   "metadata": {},
   "outputs": [
    {
     "name": "stdout",
     "output_type": "stream",
     "text": [
      "true\n",
      "false\n"
     ]
    },
    {
     "data": {
      "text/plain": [
       "null"
      ]
     },
     "execution_count": 19,
     "metadata": {},
     "output_type": "execute_result"
    }
   ],
   "source": [
    "int [] ia = {1, 2, 3};\n",
    "System.out.println(ia.getClass().isArray());\n",
    "\n",
    "Object o = new Object();\n",
    "System.out.println(o.getClass().isArray());"
   ]
  },
  {
   "cell_type": "code",
   "execution_count": 17,
   "id": "73052067",
   "metadata": {},
   "outputs": [
    {
     "ename": "cannot find symbol",
     "evalue": "cannot find symbol",
     "output_type": "error",
     "traceback": [
      "\u001b[1;31mcannot find symbol\u001b[0;0m",
      "\u001b[1;31m  symbol:   method isArray()\u001b[0;0m",
      "\u001b[1;31m  location: variable ia of type int[]\u001b[0;0m",
      "\u001b[1;31m System.out.println(ia.isArray())\u001b[0;0m",
      "\u001b[1;31m                    ^         ^    \u001b[0;0m"
     ]
    }
   ],
   "source": [
    "int [] ia = {1, 2, 3};\n",
    "System.out.println(ia.isArray());"
   ]
  },
  {
   "cell_type": "markdown",
   "id": "3361fd8a",
   "metadata": {},
   "source": [
    "## `final` is an acceptable modifier for the *main* method and will not interfer with execution\n",
    "`final` when used on a method means that the method cannot be overridden (though it can still be hidden). Making a `static` method `final` prevents a subclass from implementing the same static method. So, when used with the *main* method, there's essentially no effect:"
   ]
  },
  {
   "cell_type": "code",
   "execution_count": 20,
   "id": "688d422e",
   "metadata": {},
   "outputs": [
    {
     "data": {
      "text/plain": [
       "test.beaker.Foo"
      ]
     },
     "execution_count": 20,
     "metadata": {},
     "output_type": "execute_result"
    }
   ],
   "source": [
    "package test.beaker;\n",
    "\n",
    "class Foo {\n",
    "    public final static void main(String [] args) {\n",
    "        System.out.println(\"This is the main method\");\n",
    "    }\n",
    "}"
   ]
  },
  {
   "cell_type": "code",
   "execution_count": 21,
   "id": "fd2d6677",
   "metadata": {},
   "outputs": [
    {
     "data": {
      "text/plain": [
       "null"
      ]
     },
     "execution_count": 21,
     "metadata": {},
     "output_type": "execute_result"
    }
   ],
   "source": [
    "package test.beaker;\n",
    "\n",
    "Foo f = new Foo();"
   ]
  },
  {
   "cell_type": "markdown",
   "id": "b82c7621",
   "metadata": {},
   "source": [
    "## `ArrayList` implements `RandomAccess`\n",
    "`RandomAccess` is an interface used by *List* implementations to indicate they support fast random access."
   ]
  },
  {
   "cell_type": "markdown",
   "id": "42f84e50",
   "metadata": {},
   "source": [
    "## `ArrayList` allows you to access it's elements in a random order\n",
    "Since you can access any element by it's index using the `.get();` method."
   ]
  },
  {
   "cell_type": "markdown",
   "id": "8de2881c",
   "metadata": {},
   "source": [
    "## The use of the word `super` to access the members of a parent class only works for classes\n",
    "Thus if you try to use `super.methodName();` to access an *interface* method it won't work (it would work to access a parent class' method). If you want to access a method from an interface you need to prefix `super` with the interface name: `<interface name>.super.<method name>`. However, this can only be done if the class you're trying to access it from directly implements the interface in question."
   ]
  },
  {
   "cell_type": "markdown",
   "id": "62522b42",
   "metadata": {},
   "source": [
    "## It's possible/acceptable to redeclare an implemented method as `abstract` in an abstract class or sub-interface\n",
    "Java will not object if you redeclare a default or concrete method as abstract in an abstract subclass or subinterface, it just means that any concrete class which extends/implements the class/interface that redeclared the method will need to reimplement it."
   ]
  },
  {
   "cell_type": "code",
   "execution_count": 46,
   "id": "7ceab2b3",
   "metadata": {},
   "outputs": [
    {
     "data": {
      "text/plain": [
       "com.twosigma.beaker.javash.bkr6728cae8.Baby"
      ]
     },
     "execution_count": 46,
     "metadata": {},
     "output_type": "execute_result"
    }
   ],
   "source": [
    "interface Baby {\n",
    "    public default String hello() {\n",
    "        return \"Hello\";\n",
    "    }\n",
    "}\n",
    "\n",
    "interface Toddler extends Baby {\n",
    "    public String hello(); // redeclare the \"hello\" method as abstract within an subinterface\n",
    "}\n",
    "\n",
    "abstract class AnotherBaby implements Baby {\n",
    "    public abstract String hello(); // redeclaring the \"hello\" method as abstract within an abstract class\n",
    "}\n",
    "\n",
    "class Child implements Toddler {\n",
    "    public String hello() {\n",
    "        return \"Hiya\";\n",
    "    }\n",
    "}"
   ]
  },
  {
   "cell_type": "markdown",
   "id": "d9f976ab",
   "metadata": {},
   "source": [
    "Q26"
   ]
  },
  {
   "cell_type": "code",
   "execution_count": null,
   "id": "3cb0c7fb",
   "metadata": {},
   "outputs": [],
   "source": []
  }
 ],
 "metadata": {
  "kernelspec": {
   "display_name": "Java",
   "language": "java",
   "name": "java"
  },
  "language_info": {
   "codemirror_mode": "text/x-java",
   "file_extension": ".java",
   "mimetype": "",
   "name": "Java",
   "nbconverter_exporter": "",
   "version": "1.8.0_121"
  },
  "toc": {
   "base_numbering": 1,
   "nav_menu": {},
   "number_sections": false,
   "sideBar": false,
   "skip_h1_title": false,
   "title_cell": "Table of Contents",
   "title_sidebar": "Contents",
   "toc_cell": false,
   "toc_position": {},
   "toc_section_display": false,
   "toc_window_display": false
  }
 },
 "nbformat": 4,
 "nbformat_minor": 5
}
