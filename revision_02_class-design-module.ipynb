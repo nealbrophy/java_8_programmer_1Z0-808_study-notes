{
 "cells": [
  {
   "cell_type": "markdown",
   "id": "fdd71963",
   "metadata": {},
   "source": [
    "## Casting an object to it's parent-class type doesn't change the object's type (just the reference type)\n",
    "If you have two classes, *Parent* and *Child*, and *Child* overrides a method inherited from *Parent*, calling that method from a Child object which has been cast as a Parent reference type will still output the Child version of the method.\n",
    "\n",
    "When you cast the *Child* object and assign to a *Parent* reference you don't actually change the type of the object, you just tell Java you want to treat it like a *Parent* object. However, the internal implementation of the object remains intact. So Java will look at the reference and check if the method you're trying to call exists in the parent, it does so it allows the object to execute the method, but the object's version of the method is still the overridden one."
   ]
  },
  {
   "cell_type": "code",
   "execution_count": 14,
   "id": "03eb0823",
   "metadata": {},
   "outputs": [
    {
     "data": {
      "text/plain": [
       "test.beaker.Parent"
      ]
     },
     "execution_count": 14,
     "metadata": {},
     "output_type": "execute_result"
    }
   ],
   "source": [
    "package test.beaker;\n",
    "\n",
    "class Parent {\n",
    "    public boolean returnsBool() { // parent's returnsBool method returns 'true'\n",
    "        return true;\n",
    "    }\n",
    "    \n",
    "    public void strPrint(String str) {\n",
    "        System.out.println(str);\n",
    "    }\n",
    "}\n",
    "\n",
    "class Child extends Parent {\n",
    "    @Override\n",
    "    public boolean returnsBool() { // child overrides returnsBool method to return false\n",
    "        return false;\n",
    "    }\n",
    "    \n",
    "    public void newStrPrint(String str) {\n",
    "        System.out.println(str);\n",
    "    }\n",
    "}"
   ]
  },
  {
   "cell_type": "code",
   "execution_count": 15,
   "id": "4909fd12",
   "metadata": {},
   "outputs": [
    {
     "name": "stdout",
     "output_type": "stream",
     "text": [
      "false\n",
      "Foo\n"
     ]
    },
    {
     "data": {
      "text/plain": [
       "null"
      ]
     },
     "execution_count": 15,
     "metadata": {},
     "output_type": "execute_result"
    }
   ],
   "source": [
    "package test.beaker;\n",
    "\n",
    "Parent p = (Parent) new Child(); // create a new Child object and assign it to a Parent type reference\n",
    "System.out.println(p.returnsBool()); // calling the returnsBool method calls the Child class' overridden version despite the reference being of type Parent\n",
    "p.strPrint(\"Foo\");"
   ]
  },
  {
   "cell_type": "markdown",
   "id": "7a0f538a",
   "metadata": {},
   "source": [
    "## A `null` value can always be passed as an object value regardless of type\n",
    "If you call a method which expects an Object parameter, you can was `null` without running into any compile errors. However you may get a runtime error depending on what action the method tries to take using the passed in `null`."
   ]
  },
  {
   "cell_type": "code",
   "execution_count": 21,
   "id": "290b00c4",
   "metadata": {},
   "outputs": [
    {
     "data": {
      "text/plain": [
       "test.beaker.Foo"
      ]
     },
     "execution_count": 21,
     "metadata": {},
     "output_type": "execute_result"
    }
   ],
   "source": [
    "package test.beaker;\n",
    "\n",
    "class Foo {\n",
    "    public static void checkClass(Object o) {\n",
    "        System.out.println(o.getClass());\n",
    "    }\n",
    "}"
   ]
  },
  {
   "cell_type": "code",
   "execution_count": 22,
   "id": "fc476165",
   "metadata": {},
   "outputs": [
    {
     "ename": "cannot find symbol",
     "evalue": "cannot find symbol",
     "output_type": "error",
     "traceback": [
      "\u001b[1;31mcannot find symbol\u001b[0;0m",
      "\u001b[1;31m  symbol:   method isInstanceOfObject(<nulltype>)\u001b[0;0m",
      "\u001b[1;31m  location: class test.beaker.Foo\u001b[0;0m",
      "\u001b[1;31m Foo.isInstanceOfObject(null)\u001b[0;0m",
      "\u001b[1;31m ^                     ^       \u001b[0;0m"
     ]
    }
   ],
   "source": [
    "package test.beaker;\n",
    "\n",
    "Foo.isInstanceOfObject(null);"
   ]
  },
  {
   "cell_type": "markdown",
   "id": "2d3bc515",
   "metadata": {},
   "source": [
    "## Variables can never be abstract\n",
    "You may see a simple seeming question which asks what modifiers do interface *variables* have, take note that the question is __VARIABLES__ not methods. Interface methods are assumed to be `public` but can also be `default`, `abstract`, and `static`. Interface *variables* can only be `public static` and `final`."
   ]
  },
  {
   "cell_type": "markdown",
   "id": "41ee57e8",
   "metadata": {},
   "source": [
    "## Abstract classes can `implement` Interfaces without implementing the methods therein\n",
    "It's easy to think that any time you see `implements` before an Interface that all of the Interface's non-default methods must be implemented but remember Abstract classes can implement an Interface while leaving the methods `abstract` and thus the first concrete class that `extends` the abstract class must implement the methods."
   ]
  },
  {
   "cell_type": "markdown",
   "id": "09befad4",
   "metadata": {},
   "source": [
    "## Return types are only co-variant if the overriding method's return type is a *subclass* of the parent method\n",
    "So, the return type must be the same or a subclass of the return type from the original method NOT a superclass."
   ]
  },
  {
   "cell_type": "markdown",
   "id": "da7be31f",
   "metadata": {},
   "source": [
    "## For overriding non-private methods in a parent class both must be `static` or neither should be\n",
    "To override a non-private method either both should be `static` in which case you're __hiding__ rather than *overriding*, or NEITHER should be static (in which case you'd be *overriding*)."
   ]
  },
  {
   "cell_type": "markdown",
   "id": "9a2e0972",
   "metadata": {},
   "source": [
    "## A `static` method in an interface must have a method body\n",
    "Any interface method declared as `static` must have a method body."
   ]
  },
  {
   "cell_type": "markdown",
   "id": "6bb25d97",
   "metadata": {},
   "source": [
    "## Calling a hidden method depends on the reference\n",
    "This is a little like the inverse of the rule at the top of this sheet where a calling an overridden method on a child object which has been cast to it's parent type will call the overridden version (despite the reference being to the parent, which holds the original version of the method).\n",
    "\n",
    "In the case of *hidden* methods, the choice of which method is run depends on where it is referenced."
   ]
  },
  {
   "cell_type": "code",
   "execution_count": null,
   "id": "e3fe0cdf",
   "metadata": {},
   "outputs": [],
   "source": []
  }
 ],
 "metadata": {
  "kernelspec": {
   "display_name": "Java",
   "language": "java",
   "name": "java"
  },
  "language_info": {
   "codemirror_mode": "text/x-java",
   "file_extension": ".java",
   "mimetype": "",
   "name": "Java",
   "nbconverter_exporter": "",
   "version": "1.8.0_121"
  },
  "toc": {
   "base_numbering": 1,
   "nav_menu": {},
   "number_sections": false,
   "sideBar": false,
   "skip_h1_title": false,
   "title_cell": "Table of Contents",
   "title_sidebar": "Contents",
   "toc_cell": false,
   "toc_position": {},
   "toc_section_display": false,
   "toc_window_display": false
  }
 },
 "nbformat": 4,
 "nbformat_minor": 5
}
