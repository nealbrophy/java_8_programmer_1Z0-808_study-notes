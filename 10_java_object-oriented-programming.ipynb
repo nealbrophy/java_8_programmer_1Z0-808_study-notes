{
 "cells": [
  {
   "cell_type": "markdown",
   "id": "a39f5f06",
   "metadata": {},
   "source": [
    "# Object Oriented Programming\n",
    "## What is object oriented programming?\n",
    "OOP is a programming method that tries to model software on real world objects and their interactions. As such a fundamental aspect of OOP is the creation of objects which contain fields/variables and functions/methods. In order to create objects you first need a class which will act as the blueprint or recipe for the object. A class is essentially a reusable set of instructions for the creation of objects. For example, in pseudo-code it might look something like this:\n",
    "- create a `Shoes` class:\n",
    "    - class takes `shoeType`, `size`, `brand`, `color`, and `price` parameters\n",
    "    - creates an instance (an object) of type `Shoe` and assigns the `shoeType`, `size`, `brand`, `color`, and `price` properties for that specific instance\n",
    "<br><br>\n",
    "- create object `expensivePurpleShoes` which is an instance of `Shoes` and has the properties:\n",
    "    - `shoeType=\"dress\"`\n",
    "    - `size=8`\n",
    "    - `brand=\"Luxury Max\"`\n",
    "    - `color=\"purple\"`\n",
    "    - `price=2000`\n",
    "    \n",
    "## Benefits of OOP\n",
    "Some of the key benefits of OOP are:\n",
    "1. __Modularity__: self-contained bundles of code (objects/classes/packages) which can be imported and exported as needed\n",
    "2. __Information hiding__: the ability to have fields and methods within a class/object which cannot be directly accessed\n",
    "3. __Code re-use__: the modularity and atomic nature of OOP code encourages code re-use\n",
    "4. __Improved debugging and testing__: since one of the focuses of OOP is modularity, the goal is to hack self contained bundles of code with a very specific purpose and thus more specific errors\n",
    "5. __Popularity__: some other popular languages that use OOP are C#, F#, C++, Perl, Python\n",
    "\n",
    "## Key terms\n",
    "- __Objects__: the \"things\" we create for a specific purpose e.g. a Shoe object, a Shopping Cart object, a Window object, a Button object\n",
    "- __Classes__: the blueprints which tell Java how to create an object of that class\n",
    "- __Abstraction__: the creation of classes from *less specific* to *more specific* e.g. a Clothes class which is a parent of a MensClothes class which is a parent of a MensShirts class\n",
    "- __Polymorphism__: the ability of child classes to inherit and change variables & methods from a parent class\n",
    "- __Inheritance__: the passing down of variables & methods from parent class to child class\n",
    "- __Encapsulation__: the protection and hiding of certain data within a class/object such that it can only be accessed via provided helper methods (getters & setters)"
   ]
  },
  {
   "cell_type": "code",
   "execution_count": null,
   "id": "73e427ba",
   "metadata": {},
   "outputs": [],
   "source": []
  }
 ],
 "metadata": {
  "kernelspec": {
   "display_name": "Java",
   "language": "java",
   "name": "java"
  },
  "language_info": {
   "codemirror_mode": "text/x-java",
   "file_extension": ".java",
   "mimetype": "",
   "name": "Java",
   "nbconverter_exporter": "",
   "version": "1.8.0_121"
  },
  "toc": {
   "base_numbering": 1,
   "nav_menu": {},
   "number_sections": false,
   "sideBar": false,
   "skip_h1_title": false,
   "title_cell": "Table of Contents",
   "title_sidebar": "Contents",
   "toc_cell": false,
   "toc_position": {},
   "toc_section_display": false,
   "toc_window_display": false
  }
 },
 "nbformat": 4,
 "nbformat_minor": 5
}
