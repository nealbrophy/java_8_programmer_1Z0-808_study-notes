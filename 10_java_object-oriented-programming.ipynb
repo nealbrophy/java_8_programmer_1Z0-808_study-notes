{
 "cells": [
  {
   "cell_type": "markdown",
   "id": "a39f5f06",
   "metadata": {},
   "source": [
    "# Object Oriented Programming\n",
    "## What is object oriented programming?\n",
    "OOP is a programming method that tries to model software on real world objects and their interactions. As such a fundamental aspect of OOP is the creation of objects which contain fields/variables and functions/methods. In order to create objects you first need a class which will act as the blueprint or recipe for the object. A class is essentially a reusable set of instructions for the creation of objects. For example, in pseudo-code it might look something like this:\n",
    "- create a `Shoes` class:\n",
    "    - class takes `shoeType`, `size`, `brand`, `color`, and `price` parameters\n",
    "    - creates an instance (an object) of type `Shoe` and assigns the `shoeType`, `size`, `brand`, `color`, and `price` properties for that specific instance\n",
    "<br><br>\n",
    "- create object `expensivePurpleShoes` which is an instance of `Shoes` and has the properties:\n",
    "    - `shoeType=\"dress\"`\n",
    "    - `size=8`\n",
    "    - `brand=\"Luxury Max\"`\n",
    "    - `color=\"purple\"`\n",
    "    - `price=2000`\n",
    "    \n",
    "As Java is at its core an Object Oriented language, all classes inherit from Java's base `java.lang.Object` class. Even if a class doesn't directly inherit from *Object*, at some point in its history a parent class will. For example, take the `java.util.ArrayList` class which has a family tree like this:\n",
    "<br><br>`java.lang.Object\n",
    "    |__java.util.AbstractCollection\n",
    "            |__java.util.AbstractList\n",
    "                    |__java.util.ArrayList\n",
    "            `"
   ]
  },
  {
   "cell_type": "markdown",
   "id": "dc381ad8",
   "metadata": {},
   "source": [
    "## Benefits of OOP\n",
    "Some of the key benefits of OOP are:\n",
    "1. __Modularity__: self-contained bundles of code (objects/classes/packages) which can be imported and exported as needed\n",
    "2. __Information hiding__: the ability to have fields and methods within a class/object which cannot be directly accessed\n",
    "3. __Code re-use__: the modularity and atomic nature of OOP code encourages code re-use\n",
    "4. __Improved debugging and testing__: since one of the focuses of OOP is modularity, the goal is to hack self contained bundles of code with a very specific purpose and thus more specific errors\n",
    "5. __Popularity__: some other popular languages that use OOP are C#, F#, C++, Perl, Python"
   ]
  },
  {
   "cell_type": "markdown",
   "id": "cd7c47a1",
   "metadata": {},
   "source": [
    "## Key terms\n",
    "- __Objects__: the \"things\" we create for a specific purpose e.g. a Shoe object, a Shopping Cart object, a Window object, a Button object\n",
    "- __Classes__: the blueprints which tell Java how to create an object of that class\n",
    "- __Abstraction__: the creation of classes from *less specific* to *more specific* e.g. a Clothes class which is a parent of a MensClothes class which is a parent of a MensShirts class\n",
    "- __Polymorphism__: the ability of child classes to inherit and change variables & methods from a parent class\n",
    "- __Inheritance__: the passing down of variables & methods from parent class to child class\n",
    "- __Encapsulation__: the protection and hiding of certain data within a class/object such that it can only be accessed via provided helper methods (getters & setters)"
   ]
  },
  {
   "cell_type": "markdown",
   "id": "1beaa893",
   "metadata": {},
   "source": [
    "## Object Oriented Design\n",
    "Object oriented design is the process of analysing and designing objects/products. The phases involved are:\n",
    "- Analysis\n",
    "    - Identification of problem(s) to be solved by object/product\n",
    "    - Identification of key components of object/product\n",
    "- Design\n",
    "    - Use data from analysis phase\n",
    "    - Create blueprints/models for final object/product\n",
    "- OOP\n",
    "    - Implement the blueprints from design phase\n",
    "    \n",
    "### Design principles\n",
    "As part of OOPD you will often be working within or applying a specific set of design principles. Some common design principles are:\n",
    "- SOLID\n",
    "- GRASP\n",
    "- DRY\n",
    "- CRC"
   ]
  },
  {
   "cell_type": "markdown",
   "id": "9d5fcf49",
   "metadata": {},
   "source": [
    "## UML (Unified Modeling Language)\n",
    "UML is a graphical representation of classes/objects often used in the design phase to help blueprint your program/classes/objects and the relationships therein. It can be used to:\n",
    "- Model objects, attributes, operations, and relationships\n",
    "- Model dynamic behaviour(s) such as the specific interactions between objects/class and the resulting changes\n",
    "\n",
    "There are various types of diagrams that can be created with UML, some common examples are:\n",
    "1. Structure diagrams: modeling specific \"things\" i.e. classes, objects\n",
    "2. Behaviour diagrams: modeling the behaviour(s) of a system/program\n",
    "3. Interaction diagrams: modeling program flow i.e. the various paths of data through a program\n",
    "4. Use Case diagrams: modeling systems, actors, and the interactions between e.g. a banking program, the users of the program, and the kinds of interactions users would have with it\n",
    "5. State chart: models the state of an object as it progresses through a particular process\n",
    "\n",
    "For example, lets say we want to create a *SuperCar* class. The UML model might look something like this:"
   ]
  },
  {
   "cell_type": "raw",
   "id": "7b220b45",
   "metadata": {},
   "source": [
    " _______________\n",
    "| SuperCar      |\n",
    " ---------------\n",
    "| color         |\n",
    "| maxSpeed      |\n",
    "| fuelType      |\n",
    " ---------------\n",
    "| startEngine() |\n",
    "| brake()       |\n",
    " ---------------"
   ]
  },
  {
   "cell_type": "markdown",
   "id": "38def6c2",
   "metadata": {},
   "source": [
    "Which would then be the basis for a class like this:"
   ]
  },
  {
   "cell_type": "code",
   "execution_count": 1,
   "id": "05d80d04",
   "metadata": {},
   "outputs": [
    {
     "data": {
      "text/plain": [
       "com.twosigma.beaker.javash.bkr9554a6a6.SuperCar"
      ]
     },
     "execution_count": 1,
     "metadata": {},
     "output_type": "execute_result"
    }
   ],
   "source": [
    "class SuperCar {\n",
    "    String color;\n",
    "    double maxSpeed;\n",
    "    String fuelType;\n",
    "    \n",
    "    public void startEngine() {}\n",
    "    public void brake() {}\n",
    "}"
   ]
  },
  {
   "cell_type": "markdown",
   "id": "7594e5ee",
   "metadata": {},
   "source": [
    "## DRY (Don't Repeat Yourself)\n",
    "DRY is a design principle that aims to reduce the duplication of code by writing modular, re-usable code. Following a \"write once, call when needed\" concept. DRY is primarily achieved through proper planning.\n",
    "\n",
    "One example of DRY in action might be CSS (Cascading Style Sheets) used to style HTML pages. You will often have a single style sheet that lays out the styling for an entire website including all sub-pages and each HTML document is linked to that one styles sheet. Contrast this with the pre-CSS method of styling HTML where each page would need to have the styles embedded within the HTML document (so if you wanted to change a font or color across the whole site you would need to edit every HTML document)."
   ]
  },
  {
   "cell_type": "markdown",
   "id": "249be766",
   "metadata": {},
   "source": [
    "## CRC (Class Responsibility Collaboration) Card\n",
    "CRC is an alternative to UML Use Cases, which documents the responsibilities and collaborations of a class. The goal of a CRC is to examine:\n",
    "- What the class is\n",
    "- What the class does\n",
    "- What the class knows\n",
    "\n",
    "A simple CRC might look like this:"
   ]
  },
  {
   "cell_type": "raw",
   "id": "c54b18ac",
   "metadata": {},
   "source": [
    " -------------------------------------------\n",
    "|                 ShopWebsite               |\n",
    " -------------------------------------------\n",
    "|   *Responsibilities*   | *Collaborators*  |\n",
    " -------------------------------------------\n",
    "| Display info           | Product database |\n",
    " -------------------------------------------\n",
    "| Accept orders          | Order database   |\n",
    " -------------------------------------------\n",
    "| Send confirmation      | Customer database|\n",
    " -------------------------------------------\n",
    "| Notify of stock levels |                  |\n",
    " -------------------------------------------"
   ]
  },
  {
   "cell_type": "markdown",
   "id": "81bf38bb",
   "metadata": {},
   "source": [
    "## SOLID\n",
    "SOLID is a series of best practice principles for Object Oriented Design created by *Bob Martin*. The acronym stands for:\n",
    "- Single responsibility\n",
    "- Open-closed\n",
    "- Liskov substitution\n",
    "- Interface segregation\n",
    "- Dependency inversion\n",
    "\n",
    "### SRP: Single Responsibility Principle\n",
    "_A class should only ever have one reason to change_ \n",
    "<br>Every class/module should have one job and everything within that class/module should be focused towards that one job. Benefits include being easier to maintain and easier to understand.\n",
    "\n",
    "### OCP: Open/Closed Principle\n",
    "_A class should be open for *extension* but closed for *modification*._\n",
    "<br>If additional features/functionality is needed, inheritance should be used to do so, leaving the base class as it is.\n",
    "\n",
    "### LSP: Liskov Substitution Principle\n",
    "_Functions that use references to base classes should be able to use child classes._ \n",
    "<br>If we've followed the rest of the design principles, it should be possible for us to substitute a child class in place of one of its relative parents without sacrificing functionality.\n",
    "\n",
    "### ISP: Interface Segregation Principle\n",
    "_Clients should not be forced to depend on interfaces they don't use._-Bob Martin \n",
    "<br>If they're not using it, they shouldn't need it. Don't create an interface that does too many things. Try to be as granular as possible and break larger interfaces into multiple smaller ones if it makes sense to do so.\n",
    "\n",
    "### DIP: Dependency Inverstion Principle\n",
    "_Abstractions should not depend on details, details should depend on abstractions._\n",
    "<br>High level modules should not depend on low level modules and both should depend on abstractions. Essentially what we're talking about here is working from less-specific to more-specific. Parent classes shouldn't know child classes. More detailed child classes should depend on more abstract parents."
   ]
  },
  {
   "cell_type": "markdown",
   "id": "882eedf5",
   "metadata": {},
   "source": [
    "## GRASP (General Responsibility Assignment Software Patterns)\n",
    "GRASP is a list of 9 principles that define best practices for Object Oriented Design with a focus on the responsibilities of classes.\n",
    "1. Information Expert\n",
    "2. Creator\n",
    "3. Low Coupling\n",
    "4. High Cohesion\n",
    "5. Controller\n",
    "6. Polymorphism\n",
    "7. Pure Fabrication\n",
    "8. Indirection\n",
    "9. Protected Variations"
   ]
  },
  {
   "cell_type": "markdown",
   "id": "c1c2f68b",
   "metadata": {},
   "source": [
    "### Information Expert (or just \"Expert\")\n",
    "__Problem__: What is a basic principle by which we can assign responsibilities to objects?\n",
    "<br>__Solution__: Responsibility should fall to the class which has the needed information for the task at hand i.e. finding the right class for the job."
   ]
  },
  {
   "cell_type": "markdown",
   "id": "82bbc101",
   "metadata": {},
   "source": [
    "### Creator\n",
    "__Problem__: Who should be responsible for creating new objects?\n",
    "<br>__Solution__: Assign responsibility to the class that __a.)__ contains other objects __b.)__ uses other objects __c.)__ has the information needed to create other objects"
   ]
  },
  {
   "cell_type": "markdown",
   "id": "9810fd46",
   "metadata": {},
   "source": [
    "### Low Coupling\n",
    "__Problem__: How can we promote re-use and also reduce the interdependence of objects?\n",
    "<br>__Solution__: Stress *low coupling* so that one object's dependence on another is minimal."
   ]
  },
  {
   "cell_type": "markdown",
   "id": "543ad58e",
   "metadata": {},
   "source": [
    "### High Cohesion\n",
    "__Problem__: How can we ensure the responsibilities of an object are as singular/focused as possible?\n",
    "<br>__Solution__: Try to use *high cohesion* so that the responsibilities are as focused and self-contained as possible. High cohesion is closely related to low coupling."
   ]
  },
  {
   "cell_type": "markdown",
   "id": "482a0837",
   "metadata": {},
   "source": [
    "### Controller\n",
    "__Problem__: How can we ensure that objects not part of the UI are handling requests properly?\n",
    "<br>__Solution__: Keep the UI separate from the non-UI by using a *controller* which takes requests from the UI and assigns it to the appropriate non-UI object. Similar to MVC (Model View Controller)."
   ]
  },
  {
   "cell_type": "markdown",
   "id": "8c65c029",
   "metadata": {},
   "source": [
    "### Polymorphism\n",
    "__Problem__: How can we use an object as if it were an object of its superclass?\n",
    "<br>__Solution__: Use *polymorphism* to ensure you can substitute a child for a parent and still be of the same type."
   ]
  },
  {
   "cell_type": "markdown",
   "id": "40f6c217",
   "metadata": {},
   "source": [
    "### Pure Fabrication\n",
    "__Problem__: What do you do if you need to perform operations which don't belong with/in any of your existing objects?\n",
    "<br>__Solution__: Create a new class specficially for this purpose."
   ]
  },
  {
   "cell_type": "markdown",
   "id": "80b6b59d",
   "metadata": {},
   "source": [
    "### Indirection\n",
    "__Problem__: How can we decouple objects to better support re-use?\n",
    "<br>__Solution__: Create an intermediary class to act as the middle-man between objects where necessary.\n",
    "\n",
    "For example, if you have two classes which need to communicate but in order to do so would dilute the single-responsibility of each class, you can create another class act as intermediary between them."
   ]
  },
  {
   "cell_type": "markdown",
   "id": "f498eaf2",
   "metadata": {},
   "source": [
    "### Protected Variations\n",
    "__Problem__: How do we avoid changes in one object impacting other objects?\n",
    "<br>__Solution__: Identify points where changes seems likely and use well structured interfaces (as in points of contact/interaction, not the `interface` abstract data type) to stabilize changes and minimize variations."
   ]
  },
  {
   "cell_type": "code",
   "execution_count": null,
   "id": "fed30715",
   "metadata": {},
   "outputs": [],
   "source": []
  }
 ],
 "metadata": {
  "kernelspec": {
   "display_name": "Java",
   "language": "java",
   "name": "java"
  },
  "language_info": {
   "codemirror_mode": "text/x-java",
   "file_extension": ".java",
   "mimetype": "",
   "name": "Java",
   "nbconverter_exporter": "",
   "version": "1.8.0_121"
  },
  "toc": {
   "base_numbering": 1,
   "nav_menu": {},
   "number_sections": false,
   "sideBar": false,
   "skip_h1_title": false,
   "title_cell": "Table of Contents",
   "title_sidebar": "Contents",
   "toc_cell": false,
   "toc_position": {},
   "toc_section_display": false,
   "toc_window_display": false
  }
 },
 "nbformat": 4,
 "nbformat_minor": 5
}
