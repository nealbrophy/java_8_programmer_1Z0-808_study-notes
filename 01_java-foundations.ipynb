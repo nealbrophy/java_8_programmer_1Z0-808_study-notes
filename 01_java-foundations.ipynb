{
 "cells": [
  {
   "cell_type": "markdown",
   "id": "fece54f6",
   "metadata": {},
   "source": [
    "# Java Foundations: Refresher\n",
    "Before pursuing the Java Associate cert you should have a decent foundational understanding of Java. This short refresher is not sufficient to cover the basics, it's just a refresher for those already familiar with Java."
   ]
  },
  {
   "cell_type": "markdown",
   "id": "4e1d118b",
   "metadata": {},
   "source": [
    "## Classes: The building block of Java programs\n",
    "Classes are the main building block of Java. A `Class` is like a blueprint (or recipe if you prefer) which you can use to build `Objects`. To make use of most classes you first need to *instantiate* and object of that class."
   ]
  },
  {
   "cell_type": "markdown",
   "id": "9adf776b",
   "metadata": {},
   "source": [
    "### Fields & Methods: the ingredients & instructions\n",
    "If a class is a recipe then fields and methods are the ingredients & instructions within the recipe.\n",
    "\n",
    "Fields are holders of data, they contain information about the class and/or any objects created from the class.\n",
    "\n",
    "Methods are the actions that a class or object can take. They most often act upon the fields.\n",
    "\n",
    "For example, imagine a class `Cheesecake`. The `Cheesecake` class might contain fields such as `eggs` or `sugar` and methods such as `mixEggsAndSugar`. In this example eggs and sugar are names representing whichever version of those ingredients we use (for example `eggs` could be free-range or vegan, `sugar` could be caster or brown."
   ]
  },
  {
   "cell_type": "code",
   "execution_count": 3,
   "id": "05bd3a16",
   "metadata": {},
   "outputs": [
    {
     "data": {
      "text/plain": [
       "com.twosigma.beaker.javash.bkr2e144c8d.Cheesecake"
      ]
     },
     "execution_count": 3,
     "metadata": {},
     "output_type": "execute_result"
    }
   ],
   "source": [
    "public class Cheesecake {\n",
    "    String sugar = \"brown\";\n",
    "    String eggs = \"vegan\";\n",
    "    public String mixEggsAndSugar() {\n",
    "        return sugar + \" sugar and \" + eggs + \" eggs have been mixed\";\n",
    "    }\n",
    "}"
   ]
  },
  {
   "cell_type": "markdown",
   "id": "4f2dc4de",
   "metadata": {},
   "source": [
    "### Creating a class\n",
    "To create a basic class you need to create a `.java` file. The name of the file should be __identical__ to the `public` class you're creating (you can have multiple classes declared within a `.java` file but only one can be `public` and its name must match the file). By declaring a class to be `public` you're telling Java that it can be used by other classes.\n",
    "\n",
    "So, in our `Cheesecake` example above, the file would be named `Cheesecake.java`.\n",
    "\n",
    "#### Adding variables/fields to a class\n",
    "To populate a class with fields (aka variables) you simply need to declare the `type` (`String`, `int`, `double`, `boolean`) of the variable and its *access modifier*. If you declare a variable to be `static` it becomes a class variable. If you declare a variable without the static keyword it becomes an instance variable.\n",
    "<br>`String myStr = \"Hello\";`\n",
    "<br>\n",
    "#### Adding methods\n",
    "Adding a method is very similar to adding a variable except that the `type` you assign determines the type *returned* by the method. If your method won't be returning anything you declare it as `void`, and you need to end your method name with parentheses `()`.\n",
    "<br>`public void sayHello() { System.out.println(myStr) }`"
   ]
  },
  {
   "cell_type": "code",
   "execution_count": 5,
   "id": "bebd5a12",
   "metadata": {},
   "outputs": [
    {
     "data": {
      "text/plain": [
       "com.twosigma.beaker.javash.bkr2e144c8d.MyFirstClass"
      ]
     },
     "execution_count": 5,
     "metadata": {},
     "output_type": "execute_result"
    }
   ],
   "source": [
    "// within MyFirstClass.java\n",
    "public class MyFirstClass {\n",
    "    String myString = \"I am a string\";\n",
    "    int myNumber = 7;\n",
    "    \n",
    "    public void printMe() {\n",
    "        System.out.println(myString + myNumber);\n",
    "    }\n",
    "}"
   ]
  },
  {
   "cell_type": "markdown",
   "id": "cb1b667f",
   "metadata": {},
   "source": [
    "### Comments\n",
    "An important part of any programming language are comments. Comments allow you to include notes within your program which will not be executed. Java has three types of comments.\n",
    "\n",
    "- Single line comments, which start with `//` and only cover a single line\n",
    "<br>`// this is a single line comment`\n",
    "<br><br>\n",
    "- Multi line comments, which start with `/*` and continue until they reach `*/`. Anything between will be considered a comment and ignored by the JVM (Java Virtual Machine, which executes the code).\n",
    "<br>`/* This is a multi`\n",
    "<br>`line comment */`\n",
    "<br><br>\n",
    "- Javadoc strings, which start with `/**` and continue until they readh `*/`. These are very similar to multiline comments but can be recognised by a Javadoc tool which is used to automatically create documentation.\n",
    "<br>`/** This is a documentation comment`\n",
    "<br>`for use with the Javadoc tool */`"
   ]
  },
  {
   "cell_type": "markdown",
   "id": "68770ae4",
   "metadata": {},
   "source": [
    "### The `main` method\n",
    "Java's `main` method is where all Java programs begin execution. It is the entry-point for the JVM to run your code.\n",
    "\n",
    "Not every class should have a main method but one should in order to start executing your code. You declare the main method like so:\n",
    "`public static void main(String [] args)`\n",
    "\n",
    "Breaking that down we're saying:\n",
    "- `public`: this method can be accessed by any class\n",
    "- `static`: this is a class method and as such can be called directly without instantiating an object first\n",
    "- `void`: it returns nothing\n",
    "- `main`: the name of the method (has to be `main` as the JVM will look for a main method)\n",
    "- `(String [] args)`: the method takes a String array named `args`"
   ]
  },
  {
   "cell_type": "markdown",
   "id": "0d57471d",
   "metadata": {},
   "source": [
    "## Compiling and Running\n",
    "Once you've got your `.java` file, you need to compile it using the `javac` command (unless you're using a full IDE which likely compiles it for you automatically once you save the file.\n",
    "\n",
    "Assuming you're not using an IDE you would open a terminal (or command-prompt) and navigate to the directory where you saved your `.java` file. Then run `javac MyClassName.java`. If there are no error messages you will now see a `.class` file in the same directory as your `.java` file. This is a Java class file, a compiled & executable version of your class from the `.java` file.\n",
    "\n",
    "To run your newly compiled program, in terminal/cmd-prompt again execute: `java MyClassName` (you don't need to say `.class` as the JVM will assume that)."
   ]
  },
  {
   "cell_type": "markdown",
   "id": "4b12bf64",
   "metadata": {},
   "source": [
    "## Packages and Imports\n",
    "Java comes with many, many built-in class. These classes are organised into *packages*. Not all of the available packages are automatically imported, most aren't. The `java.lang` package is the base package which contains all of the most important classes & members of the Java language, however, there are many frequently used classes & members which aren't automatically imported. If we want to use such a class we need to `import` it from its `package` into our program.\n",
    "\n",
    "For example, lets say your program needs a random number generated. Java provides this functionality in the `Random` class which is within the `java.util` package. To make use of it we first need to import it like so:\n",
    "<br>`import java.util.Random`\n",
    "<br>\n",
    "We can also do a more general import if there are many classes within the same package that we want:\n",
    "<br>`import java.util.*`\n",
    "<br>\n",
    "The `*` says import everything from the `java.util` package."
   ]
  },
  {
   "cell_type": "markdown",
   "id": "539f1276",
   "metadata": {},
   "source": [
    "### Fully qualified names\n",
    "You don't always need to import a class or member from its package in order to use it. You can instead refer to the class/member using its *fully qualifed name*, where basically instead of importing the class/member you instead tell the JVM its exact address so that it can make use of it without importing.\n",
    "\n",
    "`java.util.Random` is the fully qualitied name of the Random class. The JVM also won't object if you do both; import a class and use its fully qualified name. However, doing so is redundant and just creating additional work for yourself."
   ]
  },
  {
   "cell_type": "markdown",
   "id": "3b2cf44a",
   "metadata": {},
   "source": [
    "### Creating a package\n",
    "If you don't specify a package at the start of your class file, Java will create your class in the *default package*. Generally speaking for any serious development, you should name your packages.\n",
    "\n",
    "Naming a package is largely dependent on your directory structure (the place where you save the `.java` files). Lets say we have two classes as follows:"
   ]
  },
  {
   "cell_type": "markdown",
   "id": "1627dd86",
   "metadata": {},
   "source": [
    "*// in directory \"/home/Bob/Documents/projects/projectAlpha/MyFirstClass.java\"*\n",
    "<br>`package projectAlpha;`\n",
    "<br>\n",
    "<br>`public class MyFirstClass {`\n",
    "<br>&nbsp;&nbsp;&nbsp;&nbsp;`static String foo = \"Hello World!\";`\n",
    "<br>`}`\n"
   ]
  },
  {
   "cell_type": "markdown",
   "id": "6ae238a2",
   "metadata": {},
   "source": [
    "*// in directory \"/home/Bob/Documents/projects/projectBeta/MySecondClass.java\"*\n",
    "<br>`package projectBeta;`\n",
    "<br>\n",
    "<br>`import packageAlpha.MyFirstClass;`\n",
    "<br>\n",
    "<br>`public class MySecondClass {`\n",
    "<br>&nbsp;&nbsp;&nbsp;&nbsp;`public static void main(String [] args) {`\n",
    "<br>&nbsp;&nbsp;&nbsp;&nbsp;&nbsp;&nbsp;&nbsp;&nbsp;`System.out.println(MyFirstClass.foo);`\n",
    "<br>&nbsp;&nbsp;&nbsp;&nbsp;`}`\n",
    "<br>`}`"
   ]
  },
  {
   "cell_type": "markdown",
   "id": "09915b0f",
   "metadata": {},
   "source": [
    "__NOTE__: The package statement must be the *FIRST* non-comment in your program (followed by any `import`s and finally your `class`. `package` and `import` statements cannot be placed inside a class."
   ]
  },
  {
   "cell_type": "markdown",
   "id": "1369d2b0",
   "metadata": {},
   "source": [
    "## Creating Objects\n",
    "Now that we have some classes, we can create some objects using them. To create an object you simply declare a new variable with your class name as the type and follow it with your class name + parentheses.\n",
    "\n",
    "So, if we want to create an object from our `MyFirstClass` class, we can do so like this:\n",
    "<br>`MyFirstClass obj = new MyFirstClass();`\n",
    "<br>\n",
    "What we're saying there is:\n",
    "- create a variable named `obj` \n",
    "- which is of type `MyFirstClass`\n",
    "- use that class' constructor (`MyFirstClass()`) to instantiate an object and assign to the `obj` variable\n",
    "\n",
    "What we end up with is a variable named `obj` that contains an instance object of class `MyFirstClass`. You can now use `obj` to access any fields or methods belonging to that object."
   ]
  },
  {
   "cell_type": "markdown",
   "id": "c82737e1",
   "metadata": {},
   "source": [
    "### Instance initializers\n",
    "When you see curly-braces (`{}`) which aren't attached to a method these are *instance initalizers*. If you create a program which initializes multiple fields in various places you need to keep track of the order of initialization:\n",
    "- Fields and instance initializer blocks are executed in the order they apear in the file\n",
    "- The contructor will execute *after* all fields and initializers have completed\n",
    "\n",
    "NOTE: you can't refer to a field before it has been initialized. So if you do something like this:\n",
    "<br>`{ System.out.println(foo); }`\n",
    "<br>`String foo = \"Hello World!\";`\n",
    "<br>\n",
    "You'll get a compilation error as the initializer block tries to access `foo` before its been initialized.\n",
    "\n",
    "Likewise, you should keep in mind the order of initialization (*fields & blocks, then constructors*) to ensure you understand how a piece of code will run. Take the following example:"
   ]
  },
  {
   "cell_type": "code",
   "execution_count": 10,
   "id": "dbce0f72",
   "metadata": {},
   "outputs": [
    {
     "data": {
      "text/plain": [
       "com.twosigma.beaker.javash.bkr2e144c8d.NumberShouter"
      ]
     },
     "execution_count": 10,
     "metadata": {},
     "output_type": "execute_result"
    }
   ],
   "source": [
    "public class NumberShouter {\n",
    "    public NumberShouter(){\n",
    "        number = 7;\n",
    "    }\n",
    "    \n",
    "    public static void main (String [] args) {\n",
    "        NumberShouter ns = new NumberShouter();\n",
    "        System.out.println(ns.number);\n",
    "    }\n",
    "    private int number = 22;\n",
    "    {number = 465;}\n",
    "}\n",
    "\n",
    "// output: 7\n",
    "// - first number is set to 22\n",
    "// - then it's set to 465\n",
    "// - finally, since fields & blocks have run, the constructor executes which sets number to 7"
   ]
  },
  {
   "cell_type": "markdown",
   "id": "26d470ee",
   "metadata": {},
   "source": [
    "## Primitive types\n",
    "Java has 8 built in data types called *primitive types*.\n",
    "\n",
    "name|type|example\n",
    ":--|:--|:--\n",
    "`boolean`|true or false|`true`\n",
    "`byte`|8-bit integral|`123`\n",
    "`short`|16-bit integral|`123`\n",
    "`int`|32-bit integral|`123`\n",
    "`long`|64-bit integral|`123`\n",
    "`float`|32-bit floating-point/decimal|`123.04`\n",
    "`double`|64-bit floating-point/decimal|`123.04`\n",
    "`char`|16-bit Unicode value| `a`\n"
   ]
  },
  {
   "cell_type": "markdown",
   "id": "c9e56dc6",
   "metadata": {},
   "source": [
    "One of these values present in your code is known as a `literal`. Java makes certain assumptions about some literals which can lead to confusion. \n",
    "\n",
    "For example, any whole-number present (e.g. `246`) is assumed to be an `int`. So if you type `long l = 4000000000;` Java will object because it assumes that number is an `int` but `4_000_000_000` is greater than the maximum allowed for an `int`. To avoid issues we need to add an `l` or `L` at the end of the number to tell Java to treat it as a `long`. So `long l = 4_000_000_000L;` won't cause any errors.\n",
    "\n",
    "A similar example relates to decimals. Java assumes any decimal literal is a `double`. Which means `float f = 41.46;` will cause an error even though this number is within the range allowed for floats. Java sees that as *float f = double-literal* and since floats are smaller than doubles Java tells us we can't assign a double value to a float. To get around this, we can add an `f` or `F` to the end of any decimal literal to make it a float. So, `float f = 41.46f` will work."
   ]
  },
  {
   "cell_type": "markdown",
   "id": "4f8f8a52",
   "metadata": {},
   "source": [
    "## Variable initialization\n",
    "In Java some variables have a default value, meaning that even if you don't initialize them they still contain a value of some sort and won't necessarily throw and error if doing something like printing them. Other variables, however, do not have a default value and will throw an error if you try to print them before initialization.\n",
    "\n",
    "Local variables are variables defined within methods. These __DO NOT__ have a default value. So, this would throw an error:\n",
    "<br>`String s1;`\n",
    "<br>`System.out.println(s1);`\n",
    "\n",
    "Instance and Class variables have default values as follows:\n",
    "\n",
    "type|default value\n",
    ":--|:--\n",
    "`boolean`|`false`\n",
    "`byte`,`short`,`int`,`long`|`0` (in the type's bit length)\n",
    "`float`,`double`|`0.0` (in the type's bit length)\n",
    "`char`|`\\u0000` (NUL)\n",
    "Object references|`null`\n",
    "\n",
    "If you simply try to print one of these default values you won't have any problems but if you try to call methods on a `null` object, you will get an error."
   ]
  },
  {
   "cell_type": "markdown",
   "id": "5a9ee49e",
   "metadata": {},
   "source": [
    "### Variable Scope\n",
    "It's important to understand variable scope. Scope is the domain in which a variable exists. Imagine a large bubble with many smaller bubbles inside it. Now imagine the surface of each bubble is like a two way mirror but reversed so those inside the bubble can see out but those outside the bubble can't see in.\n",
    "\n",
    "This large bubble is the `global` scope and the bubbles within are various `local` scopes. \n",
    "\n",
    "Any variables you declare in the global scope are visible from within the smaller bubbles (except `private` variables but we'll cover that later). However, any variables you declare within the `local` scope of the smaller bubbles are only visible from within the bubble that holds the variable. Now imagine that each of the smaller inner bubbles have even smaller bubbles inside them. Each of those smaller bubbles have their own local scopes.\n",
    "\n",
    "Every time you see a set of curly-braces, imagine those as the walls of a bubble and remember that within those braces you're in a different scope than outside them."
   ]
  },
  {
   "cell_type": "markdown",
   "id": "37c31977",
   "metadata": {},
   "source": [
    "## Memory in Java\n",
    "All Java objects are stored in your running program's `heap` memory. *The heap* is a term for the pool of memory which is allocated to your program. As your program runs any objects that get created are stored in this heap and the variables you assign the objects to are *pointers* pointing to the location in memory where the object is stored. \n",
    "\n",
    "As objects become unreachable *automatic garbage collection* will dispose of them. Objects become unreachable when:\n",
    "1. There are no longer any references pointing to it (e.g. if you assign a variable that was pointing to the object, to point to a different object)\n",
    "2. All references to the object have gone out of scope"
   ]
  },
  {
   "cell_type": "markdown",
   "id": "83a55329",
   "metadata": {},
   "source": [
    "### The `System.gc()` method\n",
    "This method is a way of suggesting that Java may want to run the garbage collector but it is not guaranteed that by calling this method you will trigger garbage collection."
   ]
  },
  {
   "cell_type": "markdown",
   "id": "c1d2f7cc",
   "metadata": {},
   "source": [
    "### The `finalize()` method\n",
    "Java allows the creation of a `finalize()` method which may or may not get called. The method gets called if garbage collection tries to collect the object to which is belongs. If the garbage collection doesn't happen, then `finalize()` doesn't get called. If the garbage collection tries to collect the object but fails (because it's still in use) then `finalize()` doesn't get called a second time."
   ]
  },
  {
   "cell_type": "markdown",
   "id": "45a01a23",
   "metadata": {},
   "source": [
    "## The Benefits of Java\n",
    "Some key benefits of Java that are likely to be on the exam are:\n",
    "- __Object Oriented__: Java is an Object Oriented language which means its based around classes and objects.\n",
    "- __Encapsulation__: Encapsulation is the ability to protect or hide data.\n",
    "- __Platform Independent__: Java programs are famously \"compile once, run anywhere\". Meaning that it doesn't matter if you're on Windows or Mac or Linux as long as the JRE (Java Runtime Environment) is available for your platform, then it can run a Java program and that program doesn't need to be specifically compiled for one platform or another.\n",
    "- __Robust__: In this instance robust refers to Java's prevention of memory leaks by having automatica garbage collection.\n",
    "- __Simple__: Simple here is in reference to Java as compared to languages like C++.\n",
    "- __Secure__: Since Java programs are run inside the JVM (Java Virtual Machine) which sandboxes the programs, it's difficulat for Java to programs to cause unintended harm to systems they run on."
   ]
  }
 ],
 "metadata": {
  "kernelspec": {
   "display_name": "Java",
   "language": "java",
   "name": "java"
  },
  "language_info": {
   "codemirror_mode": "text/x-java",
   "file_extension": ".java",
   "mimetype": "",
   "name": "Java",
   "nbconverter_exporter": "",
   "version": "1.8.0_121"
  }
 },
 "nbformat": 4,
 "nbformat_minor": 5
}
