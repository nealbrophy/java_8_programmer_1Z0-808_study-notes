{
 "cells": [
  {
   "cell_type": "markdown",
   "id": "56cf12e9",
   "metadata": {},
   "source": [
    "# Java's `StringBuilder` Class\n",
    "Java has a class called `StringBuilder` which provides a *mutable* alternative to `String`. Unlike `String`, `StringBuilder` objects need to be instantiated using the `new` keyword like any other object.\n",
    "<br>`StringBuilder myString = new StringBuilder(\"Hello\");`"
   ]
  },
  {
   "cell_type": "code",
   "execution_count": 1,
   "id": "d1d121b8",
   "metadata": {},
   "outputs": [
    {
     "name": "stdout",
     "output_type": "stream",
     "text": [
      "bar\n"
     ]
    },
    {
     "data": {
      "text/plain": [
       "null"
      ]
     },
     "execution_count": 1,
     "metadata": {},
     "output_type": "execute_result"
    }
   ],
   "source": [
    "StringBuilder foo = new StringBuilder(\"bar\");\n",
    "System.out.println(foo);"
   ]
  },
  {
   "cell_type": "markdown",
   "id": "932c6384",
   "metadata": {},
   "source": [
    "## The benefits of `StringBuilder`\n",
    "Some of the benefits of `StringBuilder` are:\n",
    "- many useful methods for manipulating value (e.g. append, delete, insert, replace)\n",
    "- better performance due to mutability (i.e. it doesn't create a new object in memory every time the string is changed)\n",
    "- can be created with an initial capacity\n",
    "\n",
    "However, using `StringBuilder` instead of `String` isn't always appropriate and some of the benefits of using `String` include:\n",
    "- possibly \"safer\" due to immutability\n",
    "- some APIs may require `String`\n",
    "- has many more methods than `StringBuilder`"
   ]
  },
  {
   "cell_type": "code",
   "execution_count": null,
   "id": "0a2cb8bb",
   "metadata": {},
   "outputs": [],
   "source": []
  }
 ],
 "metadata": {
  "kernelspec": {
   "display_name": "Java",
   "language": "java",
   "name": "java"
  },
  "language_info": {
   "codemirror_mode": "text/x-java",
   "file_extension": ".java",
   "mimetype": "",
   "name": "Java",
   "nbconverter_exporter": "",
   "version": "1.8.0_121"
  },
  "toc": {
   "base_numbering": 1,
   "nav_menu": {},
   "number_sections": false,
   "sideBar": false,
   "skip_h1_title": false,
   "title_cell": "Table of Contents",
   "title_sidebar": "Contents",
   "toc_cell": false,
   "toc_position": {},
   "toc_section_display": false,
   "toc_window_display": false
  }
 },
 "nbformat": 4,
 "nbformat_minor": 5
}
