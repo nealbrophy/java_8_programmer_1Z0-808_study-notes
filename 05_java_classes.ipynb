{
 "cells": [
  {
   "cell_type": "markdown",
   "id": "2fe824f4",
   "metadata": {},
   "source": [
    "# Java Classes\n",
    "Java classes are defined in a `.java` file which is then compiled using, for example, `javac FileName.java` in terminal which creates a `.class` file containing Java bytecode. "
   ]
  },
  {
   "cell_type": "markdown",
   "id": "d24ae120",
   "metadata": {},
   "source": [
    "## The basic structure of a Java class\n",
    "The structure of a class is commonly as follows:\n",
    "- Package statement: e.g. `package myJavaFiles.myClasses;`\n",
    "    - The package statement is optional but recommended and is essentially the path to the class you're defining. For example if I create a *Hello* class in a directory *myJavaFiles/myClasses* the package statement might be as above. If present, the package statement must be the first line in your file.\n",
    "- Import statement: e.g. `import myJavaFiles.myClasses.FirstClass;`\n",
    "    - The import statement allows you to import any classes, variables, or functions from other packages/classes which you intend to use in the class you're defining. If present, import statements must be placed before your class in the file.\n",
    "- Public class declaration: e.g. `public class FirstClass {}`\n",
    "    - The public class is normally the primary class you're defining in your file (your class file can contain multiple classes but only one *public* class) and the name of your file should match your public class. For example if my class is named `FirstClass` as above then my file name has to be `FirstClass.java`.\n",
    "- Variable: e.g. `String myStringVar`, `int myInt = 1` etc\n",
    "    - Variables (sometimes called \"fields\") are the holders of information within your class. Variables often describe the state or attributes of your class.\n",
    "- Constructor(s): e.g. `public FirstClass() {}`\n",
    "    - Constructors are methods which are called at the time of object instantiation. The format for a constructor is to use the same name as the class it belongs to, followed by parentheses. If you don't define a constructor the default constructor will be used. If you do define a constructor, then the default constructor will be overwritten.\n",
    "- Methods: e.g. `public String myStringReturner() {}`, `public static void main(String [] args){}`\n",
    "    - Methods are the functions which reside in your class. If variables describe the state of your class/objects, then methods are the actions that your class/objects can perform."
   ]
  },
  {
   "cell_type": "code",
   "execution_count": 5,
   "id": "4bdda84d",
   "metadata": {},
   "outputs": [
    {
     "data": {
      "text/plain": [
       "test.beaker.MyClass"
      ]
     },
     "execution_count": 5,
     "metadata": {},
     "output_type": "execute_result"
    }
   ],
   "source": [
    "package test.beaker; // required by beakerx \n",
    "\n",
    "public class MyClass {// class\n",
    "    String s = \"abcd\"; // class variables\n",
    "    int i = 123;\n",
    "    \n",
    "    public MyClass() {// constructor\n",
    "        this.s = s; // instance vars\n",
    "        this.i = i;\n",
    "    }\n",
    "    \n",
    "    public String stringReturner() {// method\n",
    "        return this.s + \" \" + this.i;\n",
    "    }\n",
    "}"
   ]
  },
  {
   "cell_type": "code",
   "execution_count": 8,
   "id": "460e2c8c",
   "metadata": {},
   "outputs": [
    {
     "name": "stdout",
     "output_type": "stream",
     "text": [
      "abcd 123\n"
     ]
    },
    {
     "data": {
      "text/plain": [
       "null"
      ]
     },
     "execution_count": 8,
     "metadata": {},
     "output_type": "execute_result"
    }
   ],
   "source": [
    "package test.beaker;\n",
    "\n",
    "MyClass newObj = new MyClass(); // instantiate an object from our class\n",
    "System.out.println(newObj.stringReturner());// print output of method call"
   ]
  },
  {
   "cell_type": "markdown",
   "id": "2cc0cdc3",
   "metadata": {},
   "source": [
    "## Package statement\n",
    "As noted above, the `package` keyword is used to group classes together. A package is implemented as a folder and, like a folder, provides a *namespace* to a class. For example if we have a class like this:\n",
    "<br>`package com.myfiles.myclasses;`\n",
    "<br>`public class MyFirstClass {}`\n",
    "\n",
    "That would describe a directory structure such as this:\n",
    "<br>`+com`\n",
    "<br>`|__+myfiles`\n",
    "<br>&nbsp;&nbsp;&nbsp;&nbsp;`|__+myclasses`\n",
    "<br>&nbsp;&nbsp;&nbsp;&nbsp;&nbsp;&nbsp;&nbsp;&nbsp;`|__+MyFirstClass.java`"
   ]
  },
  {
   "cell_type": "markdown",
   "id": "ea1e80f2",
   "metadata": {},
   "source": [
    "## Imports\n",
    "You can import a particular class or function using the `import` keyword. However, you can also forgo the import statement and instead refer to any external classes/functions etc using their *fully qualified domain name*. For example, if we had another class which used `MyFirstClass` we could either:\n",
    "- Import with `import com.myfiles.myclasses.MyFirstClass`\n",
    "- Not import and simply refer to the class within our file using `com.myfiles.myclasses.MyFirstClass`\n",
    "\n",
    "Example: `com.myfiles.myclasses.MyFirstClass mfc = new com.myfiles.myclasses.MyFirstClass();`\n",
    "\n",
    "You can also import all classes from a particular package using: `import com.myfiles.myclasses.*`. However, this is not considered a best practice.\n",
    "\n",
    "__NOTE__: if the class you're importing is in the same package as the class you want to use it, you don't need an import statement or fully qualified domain name."
   ]
  },
  {
   "cell_type": "markdown",
   "id": "eb4fb0f8",
   "metadata": {},
   "source": [
    "## The `final` keyword\n",
    "In Java we can use the keyword `final` to declare constant variables, functions/methods, and classes. In the case of variables/functions/methods this prevents them from being reassigned. In the case of classes, it prevents the class from being extended by other classes.\n",
    "\n",
    "__NOTE__: `final` references must always refer to the same object, however, the contents of the the object can be modified."
   ]
  },
  {
   "cell_type": "code",
   "execution_count": 9,
   "id": "30bae8ca",
   "metadata": {},
   "outputs": [
    {
     "ename": "cannot assign a value to final variable s",
     "evalue": "cannot assign a value to final variable s",
     "output_type": "error",
     "traceback": [
      "\u001b[1;31mcannot assign a value to final variable s\u001b[0;0m",
      "\u001b[1;31m s = \"Goodbye\"\u001b[0;0m",
      "\u001b[1;31m ^^             \u001b[0;0m"
     ]
    }
   ],
   "source": [
    "final String s = \"Hello\";\n",
    "s = \"Goodbye\"; // will throw an error"
   ]
  },
  {
   "cell_type": "markdown",
   "id": "7a09925b",
   "metadata": {},
   "source": [
    "## The `static` keyword\n",
    "The `static` modifier keyword is used to declare methods & variables as class-level (often referred to as *class methods*/*class variables*. This means that they can be used/accessed without first instantiating an object of the class to which they belong. One common use is when all objects of a certain class need to share a particular variable/method. \n",
    "\n",
    "### Static methods (aka class methods)\n",
    "An example of a static method that you would already have seen is the `main` method:;\n",
    "<br>`public static void main (String [] args) {}`\n",
    "\n",
    "Breaking this up into each word what it means is:\n",
    "- `public`: can be used by other classes\n",
    "- `static`: it lives in the class in which it was defined and can be accessed directly on the class (i.e. without instantiating an object of the class)\n",
    "- `void`: does not return anything\n",
    "- `main`: the name of the method\n",
    "- `(String [] args)`: accepts an argument array of type String\n",
    "\n",
    "There are many `static` methods included in Java's `java.lang.Math` class for example. Static methods are often used in place of constructors to perform tasks related to object initialization. \n",
    "\n",
    "__NOTE__: static methods CANNOT access non-static methods/variables within the same class. If you try to do so you will get an error stating that a non-static method cannot be called from a static context.\n",
    "\n",
    "### Static variables (aka class variables)\n",
    "Static variables are:\n",
    "- Limited to a single copy per JVM\n",
    "- Useful for containing shared data (all object instances instantiated from the class which contains the static var, can access the static var)\n",
    "- Initialized when the containing class is first loaded\n",
    "\n",
    "### `static` initializer block\n",
    "A static initializer block, is a block of code prefixed by the word `static` and surrounded by braces `{}` and is commonly used to initialize class variables."
   ]
  },
  {
   "cell_type": "code",
   "execution_count": 6,
   "id": "575d058e",
   "metadata": {},
   "outputs": [
    {
     "data": {
      "text/plain": [
       "test.beaker.NewClass"
      ]
     },
     "execution_count": 6,
     "metadata": {},
     "output_type": "execute_result"
    }
   ],
   "source": [
    "package test.beaker; // needed by beakerx\n",
    "\n",
    "public class NewClass {\n",
    "    public static String classString; // static or class variable\n",
    "    public static int classInt; // static or class variable\n",
    "    \n",
    "    static {// static initializer block\n",
    "        System.out.println(\"Initializing static vars....\");\n",
    "        classString = \"Hello\";\n",
    "        classInt = 41;\n",
    "    }\n",
    "}"
   ]
  },
  {
   "cell_type": "code",
   "execution_count": 7,
   "id": "bbd9c58a",
   "metadata": {},
   "outputs": [
    {
     "name": "stdout",
     "output_type": "stream",
     "text": [
      "Initializing static vars....\n",
      "Class string accessed from myNewObj01: Hello\n",
      "Class string accessed from myNewObj02: Hello\n",
      "Class int accessed directly from NewClass: 41\n"
     ]
    },
    {
     "data": {
      "text/plain": [
       "null"
      ]
     },
     "execution_count": 7,
     "metadata": {},
     "output_type": "execute_result"
    }
   ],
   "source": [
    "package test.beaker;\n",
    "\n",
    "NewClass myNewObj01 = new NewClass();\n",
    "NewClass myNewObj02 = new NewClass();\n",
    "\n",
    "System.out.println(\"Class string accessed from myNewObj01: \" + myNewObj01.classString);\n",
    "System.out.println(\"Class string accessed from myNewObj02: \" + myNewObj01.classString);\n",
    "System.out.println(\"Class int accessed directly from NewClass: \" + NewClass.classInt);\n"
   ]
  },
  {
   "cell_type": "markdown",
   "id": "195d5679",
   "metadata": {},
   "source": [
    "## Static imports\n",
    "You can also use `static` when importing static members of a class in order to make them useable under their simple name (rather than by their fully qualified name)."
   ]
  },
  {
   "cell_type": "code",
   "execution_count": 12,
   "id": "e6b08235",
   "metadata": {},
   "outputs": [
    {
     "name": "stdout",
     "output_type": "stream",
     "text": [
      "0.9143271548875568\n"
     ]
    },
    {
     "data": {
      "text/plain": [
       "null"
      ]
     },
     "execution_count": 12,
     "metadata": {},
     "output_type": "execute_result"
    }
   ],
   "source": [
    "import static java.lang.Math.random;\n",
    "\n",
    "System.out.println(random());"
   ]
  },
  {
   "cell_type": "markdown",
   "id": "2b36ab19",
   "metadata": {},
   "source": [
    "## Immutable Classes\n",
    "An immutable class is a class whose object state cannot be modified once created; any modification of the object will result in a new immutable object. One example of an immutable class is Java's Java.lang.String class; you cannot change a String object, when you try a new String is created in memory.\n",
    "\n",
    "To create an immutable class, the class should be declared as `final` so that it cannot be *extended*, all fields should be declared as `private` and `final`, there should be no *setter* methods, and all fields should be initialized via the *constructor*.\n",
    "\n",
    "Lets first look at a generic, mutable class:"
   ]
  },
  {
   "cell_type": "code",
   "execution_count": 19,
   "id": "30cf00d3",
   "metadata": {},
   "outputs": [
    {
     "data": {
      "text/plain": [
       "test.beaker.Human"
      ]
     },
     "execution_count": 19,
     "metadata": {},
     "output_type": "execute_result"
    }
   ],
   "source": [
    "package test.beaker; // needed by beakerx\n",
    "\n",
    "public class Human {\n",
    "    private String name;\n",
    "    private int age;\n",
    "    public Human(String name, int age) {\n",
    "        super();\n",
    "        this.name = name;\n",
    "        this.age = age;\n",
    "    }\n",
    "    \n",
    "    public void identify() {\n",
    "        System.out.println(\"Hello, my name is \" + this.name + \" and I am \" + this.age + \" years old.\");\n",
    "    }\n",
    "    \n",
    "    public void setName(String name){\n",
    "        this.name = name;\n",
    "    }\n",
    "    \n",
    "    public void setAge(int age) {\n",
    "        this.age = age;\n",
    "    }\n",
    "}"
   ]
  },
  {
   "cell_type": "code",
   "execution_count": 23,
   "id": "70f8b815",
   "metadata": {},
   "outputs": [
    {
     "name": "stdout",
     "output_type": "stream",
     "text": [
      "Hello, my name is Neal and I am 39 years old.\n",
      "Hello, my name is Jim and I am 86 years old.\n"
     ]
    },
    {
     "data": {
      "text/plain": [
       "null"
      ]
     },
     "execution_count": 23,
     "metadata": {},
     "output_type": "execute_result"
    }
   ],
   "source": [
    "package test.beaker;\n",
    "\n",
    "Human neal = new Human(\"Neal\",39);\n",
    "neal.identify();\n",
    "\n",
    "neal.setName(\"Jim\");\n",
    "neal.setAge(86);\n",
    "neal.identify();"
   ]
  },
  {
   "cell_type": "markdown",
   "id": "43ae46d6",
   "metadata": {},
   "source": [
    "So currently, we can create a human object but nothing stops us from changing the fields. As demonstrated above we can change the `neal` object's name & age field such that they no longer represent neal.\n",
    "\n",
    "Let's make the human class immutable."
   ]
  },
  {
   "cell_type": "code",
   "execution_count": 25,
   "id": "ac7435d0",
   "metadata": {},
   "outputs": [
    {
     "data": {
      "text/plain": [
       "test.beaker.ImmutableHuman"
      ]
     },
     "execution_count": 25,
     "metadata": {},
     "output_type": "execute_result"
    }
   ],
   "source": [
    "package test.beaker; // needed by beakerx\n",
    "\n",
    "public final class ImmutableHuman { // add FINAL modifier\n",
    "    private final String name; // make fields FINAL also\n",
    "    private final int age;\n",
    "    \n",
    "    public ImmutableHuman(String name, int age) {\n",
    "        this.name = name;\n",
    "        this.age = age;\n",
    "    }\n",
    "    \n",
    "    public void identify() {\n",
    "        System.out.println(\"Hello, my name is \" + this.name + \" and I am \" + this.age + \" years old.\");\n",
    "    }\n",
    "\n",
    "}"
   ]
  },
  {
   "cell_type": "code",
   "execution_count": 32,
   "id": "d4338863",
   "metadata": {},
   "outputs": [
    {
     "name": "stdout",
     "output_type": "stream",
     "text": [
      "Hello, my name is Jim and I am 86 years old.\n"
     ]
    },
    {
     "data": {
      "text/plain": [
       "null"
      ]
     },
     "execution_count": 32,
     "metadata": {},
     "output_type": "execute_result"
    }
   ],
   "source": [
    "package test.beaker;\n",
    "\n",
    "ImmutableHuman jim = new ImmutableHuman(\"Jim\", 86);\n",
    "jim.identify();"
   ]
  },
  {
   "cell_type": "markdown",
   "id": "12ef409b",
   "metadata": {},
   "source": [
    "And if we try to re-assign the name:"
   ]
  },
  {
   "cell_type": "code",
   "execution_count": 39,
   "id": "5bd9436c",
   "metadata": {},
   "outputs": [
    {
     "ename": "name has private access in test.beaker.ImmutableHuman",
     "evalue": "name has private access in test.beaker.ImmutableHuman",
     "output_type": "error",
     "traceback": [
      "\u001b[1;31mname has private access in test.beaker.ImmutableHuman\u001b[0;0m",
      "\u001b[1;31m mike.name = \"Peter\"\u001b[0;0m",
      "\u001b[1;31m ^        ^           \u001b[0;0m"
     ]
    }
   ],
   "source": [
    "package test.beaker;\n",
    "\n",
    "ImmutableHuman mike = new ImmutableHuman(\"mike\", 41);\n",
    "\n",
    "mike.name = \"Peter\";\n",
    "\n",
    "// NOTE: we can still re-assign the \"mike\" variable to point to a different object, but can't change the object that was first instantiated as mike.\n",
    "// if we want to prevent mike from being re-assigned we can declare the variable as `final` also."
   ]
  },
  {
   "cell_type": "markdown",
   "id": "8bac4704",
   "metadata": {},
   "source": [
    "## Constructors\n",
    "A *constructor* is a special type of method which tells Java what to do when instantiating objects of the class in which the constructor is defined. There is a default constructor in Java which is used if no user-defined constructor is provided. However, if you do provide a constructor then the default is not used. This means that if you define a constructor which has an empty body, when an object is instantiated using the class that constructor belongs to it will essentially be empty (no methods or variables).\n",
    "\n",
    "Constructors look like this:\n",
    "<br>`public <classname>() {}` where classname is the same name as the class this constructor is within"
   ]
  },
  {
   "cell_type": "code",
   "execution_count": 10,
   "id": "8f789da2",
   "metadata": {},
   "outputs": [
    {
     "data": {
      "text/plain": [
       "test.beaker.Foo"
      ]
     },
     "execution_count": 10,
     "metadata": {},
     "output_type": "execute_result"
    }
   ],
   "source": [
    "package test.beaker;\n",
    "\n",
    "public class Foo {\n",
    "    private String bar;\n",
    "    \n",
    "    public Foo(String b) { // String argument constructor\n",
    "        super(); // calls the default constructor\n",
    "        this.bar = b; // assigns the instance variable\n",
    "    }\n",
    "    \n",
    "    public String getBar() { // getter method\n",
    "        return this.bar;\n",
    "    }\n",
    "}"
   ]
  },
  {
   "cell_type": "markdown",
   "id": "830ecbe5",
   "metadata": {},
   "source": [
    "Above we created a class *Foo* and defined a constructor that takes a `String` argument. Since we only declared one version of the constructor (i.e. we didn't overload it), this means that we have to pass a string to the constructor when instantiating a *Foo* object."
   ]
  },
  {
   "cell_type": "code",
   "execution_count": 11,
   "id": "7e836e3b",
   "metadata": {},
   "outputs": [
    {
     "ename": "constructor Foo in class test.beaker.Foo cannot be applied to given types;",
     "evalue": "constructor Foo in class test.beaker.Foo cannot be applied to given types;",
     "output_type": "error",
     "traceback": [
      "\u001b[1;31mconstructor Foo in class test.beaker.Foo cannot be applied to given types;\u001b[0;0m",
      "\u001b[1;31m  required: java.lang.String\u001b[0;0m",
      "\u001b[1;31m  found: no arguments\u001b[0;0m",
      "\u001b[1;31m  reason: actual and formal argument lists differ in length\u001b[0;0m",
      "\u001b[1;31m Foo f = new Foo()\u001b[0;0m",
      "\u001b[1;31m         ^        ^ \u001b[0;0m"
     ]
    }
   ],
   "source": [
    "package test.beaker;\n",
    "\n",
    "Foo f = new Foo(); // will throw an error since we didn't pass a String"
   ]
  },
  {
   "cell_type": "markdown",
   "id": "70eec14f",
   "metadata": {},
   "source": [
    "### Calling a constructor from a constructor\n",
    "When overloading constructors a common strategy is to have your constructors call other version of the constructor using `this()`. `this()` is essentially saying *call the constructor for the class I'm in*."
   ]
  },
  {
   "cell_type": "code",
   "execution_count": 18,
   "id": "e949510e",
   "metadata": {},
   "outputs": [
    {
     "data": {
      "text/plain": [
       "test.beaker.Hello"
      ]
     },
     "execution_count": 18,
     "metadata": {},
     "output_type": "execute_result"
    }
   ],
   "source": [
    "package test.beaker;\n",
    "\n",
    "public class Hello {\n",
    "    private StringBuilder toWhom;\n",
    "    \n",
    "    public Hello() {\n",
    "        super();\n",
    "        this.toWhom = new StringBuilder(\"Hello World\");\n",
    "    }\n",
    "    \n",
    "    public Hello(String who) {\n",
    "        this(); // calls the no-argument version of constructor\n",
    "        this.toWhom.append(\" and \" + who);\n",
    "    }\n",
    "    \n",
    "    public Hello(String who, String who2, String who3) {\n",
    "        this(who); // calls the one-argument version of constructor\n",
    "        this.toWhom.append(\" and \" + who2);\n",
    "        this.toWhom.append(\" and \" + who3);\n",
    "    }\n",
    "    \n",
    "    public void print() {\n",
    "        System.out.println(this.toWhom);\n",
    "    }\n",
    "}"
   ]
  },
  {
   "cell_type": "code",
   "execution_count": 19,
   "id": "4f9d5190",
   "metadata": {},
   "outputs": [
    {
     "name": "stdout",
     "output_type": "stream",
     "text": [
      "Hello World\n",
      "Hello World and Bob\n",
      "Hello World and Bob and Ed and Tom\n"
     ]
    },
    {
     "data": {
      "text/plain": [
       "null"
      ]
     },
     "execution_count": 19,
     "metadata": {},
     "output_type": "execute_result"
    }
   ],
   "source": [
    "package test.beaker;\n",
    "\n",
    "Hello h1 = new Hello();\n",
    "h1.print();\n",
    "Hello h2 = new Hello(\"Bob\");\n",
    "h2.print();\n",
    "Hello h3 = new Hello(\"Bob\", \"Ed\", \"Tom\");\n",
    "h3.print();"
   ]
  },
  {
   "cell_type": "markdown",
   "id": "4dade1f1",
   "metadata": {},
   "source": [
    "### Order of Intialization\n",
    "Since you can initialize variables in a number of ways (at variable declaration, in an instance initializer block, static var declaration, static initializer block, in a constructor), how do we know what order this initialization happens?\n",
    "\n",
    "This is the order of initialization:\n",
    "1. *Superclass* - if there is a superclass, it's members are initialized first\n",
    "2. *Static vars/initializers* - `static` vars and `static` initializers\n",
    "3. *Instance vars/initializers* - instance variables & initializers\n",
    "4. *Constructor*"
   ]
  }
 ],
 "metadata": {
  "kernelspec": {
   "display_name": "Java",
   "language": "java",
   "name": "java"
  },
  "language_info": {
   "codemirror_mode": "text/x-java",
   "file_extension": ".java",
   "mimetype": "",
   "name": "Java",
   "nbconverter_exporter": "",
   "version": "1.8.0_121"
  },
  "toc": {
   "base_numbering": 1,
   "nav_menu": {},
   "number_sections": false,
   "sideBar": false,
   "skip_h1_title": false,
   "title_cell": "Table of Contents",
   "title_sidebar": "Contents",
   "toc_cell": false,
   "toc_position": {},
   "toc_section_display": false,
   "toc_window_display": false
  }
 },
 "nbformat": 4,
 "nbformat_minor": 5
}
