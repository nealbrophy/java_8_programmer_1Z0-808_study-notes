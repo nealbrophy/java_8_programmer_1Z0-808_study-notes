{
 "cells": [
  {
   "cell_type": "markdown",
   "id": "2fe824f4",
   "metadata": {},
   "source": [
    "# Java Classes\n",
    "Java classes are defined in a `.java` file which is then compiled using, for example, `javac FileName.java` in terminal which creates a `.class` file containing Java bytecode. "
   ]
  },
  {
   "cell_type": "markdown",
   "id": "d24ae120",
   "metadata": {},
   "source": [
    "## The basic structure of a Java class\n",
    "The structure of a class is commonly as follows:\n",
    "- Package statement: e.g. `package myJavaFiles.myClasses;`\n",
    "    - The package statement is optional but recommended and is essentially the path to the class you're defining. For example if I create a *Hello* class in a directory *myJavaFiles/myClasses* the package statement might be as above. If present, the package statement must be the first line in your file.\n",
    "- Import statement: e.g. `import myJavaFiles.myClasses.FirstClass;`\n",
    "    - The import statement allows you to import any classes, variables, or functions from other packages/classes which you intend to use in the class you're defining. If present, import statements must be placed before your class in the file.\n",
    "- Public class declaration: e.g. `public class FirstClass {}`\n",
    "    - The public class is normally the primary class you're defining in your file (your class file can contain multiple classes but only one *public* class) and the name of your file should match your public class. For example if my class is named `FirstClass` as above then my file name has to be `FirstClass.java`.\n",
    "- Variable: e.g. `String myStringVar`, `int myInt = 1` etc\n",
    "    - Variables (sometimes called \"fields\") are the holders of information within your class. Variables often describe the state or attributes of your class.\n",
    "- Constructor(s): e.g. `public FirstClass() {}`\n",
    "    - Constructors are methods which are called at the time of object instantiation. The format for a constructor is to use the same name as the class it belongs to, followed by parentheses. If you don't define a constructor the default constructor will be used. If you do define a constructor, then the default constructor will be overwritten.\n",
    "- Methods: e.g. `public String myStringReturner() {}`, `public static void main(String [] args){}`\n",
    "    - Methods are the functions which reside in your class. If variables describe the state of your class/objects, then methods are the actions that your class/objects can perform."
   ]
  },
  {
   "cell_type": "code",
   "execution_count": 5,
   "id": "4bdda84d",
   "metadata": {},
   "outputs": [
    {
     "data": {
      "text/plain": [
       "test.beaker.MyClass"
      ]
     },
     "execution_count": 5,
     "metadata": {},
     "output_type": "execute_result"
    }
   ],
   "source": [
    "package test.beaker; // required by beakerx \n",
    "\n",
    "public class MyClass {// class\n",
    "    String s = \"abcd\"; // class variables\n",
    "    int i = 123;\n",
    "    \n",
    "    public MyClass() {// constructor\n",
    "        this.s = s; // instance vars\n",
    "        this.i = i;\n",
    "    }\n",
    "    \n",
    "    public String stringReturner() {// method\n",
    "        return this.s + \" \" + this.i;\n",
    "    }\n",
    "}"
   ]
  },
  {
   "cell_type": "code",
   "execution_count": 8,
   "id": "460e2c8c",
   "metadata": {},
   "outputs": [
    {
     "name": "stdout",
     "output_type": "stream",
     "text": [
      "abcd 123\n"
     ]
    },
    {
     "data": {
      "text/plain": [
       "null"
      ]
     },
     "execution_count": 8,
     "metadata": {},
     "output_type": "execute_result"
    }
   ],
   "source": [
    "package test.beaker;\n",
    "\n",
    "MyClass newObj = new MyClass(); // instantiate an object from our class\n",
    "System.out.println(newObj.stringReturner());// print output of method call"
   ]
  },
  {
   "cell_type": "markdown",
   "id": "2cc0cdc3",
   "metadata": {},
   "source": [
    "## Package statement\n",
    "As noted above, the `package` keyword is used to group classes together. A package is implemented as a folder and, like a folder, provides a *namespace* to a class. For example if we have a class like this:\n",
    "<br>`package com.myfiles.myclasses;`\n",
    "<br>`public class MyFirstClass {}`\n",
    "\n",
    "That would describe a directory structure such as this:\n",
    "<br>`+com`\n",
    "<br>`|__+myfiles`\n",
    "<br>&nbsp;&nbsp;&nbsp;&nbsp;`|__+myclasses`\n",
    "<br>&nbsp;&nbsp;&nbsp;&nbsp;&nbsp;&nbsp;&nbsp;&nbsp;`|__+MyFirstClass.java`"
   ]
  },
  {
   "cell_type": "markdown",
   "id": "ea1e80f2",
   "metadata": {},
   "source": [
    "## Imports\n",
    "You can import a particular class or function using the `import` keyword. However, you can also forgo the import statement and instead refer to any external classes/functions etc using their *fully qualified domain name*. For example, if we had another class which used `MyFirstClass` we could either:\n",
    "- Import with `import com.myfiles.myclasses.MyFirstClass`\n",
    "- Not import and simply refer to the class within our file using `com.myfiles.myclasses.MyFirstClass`\n",
    "\n",
    "Example: `com.myfiles.myclasses.MyFirstClass mfc = new com.myfiles.myclasses.MyFirstClass();`\n",
    "\n",
    "You can also import all classes from a particular package using: `import com.myfiles.myclasses.*`. However, this is not considered a best practice.\n",
    "\n",
    "__NOTE__: if the class you're importing is in the same package as the class you want to use it, you don't need an import statement or fully qualified domain name."
   ]
  },
  {
   "cell_type": "markdown",
   "id": "eb4fb0f8",
   "metadata": {},
   "source": [
    "## The `final` keyword\n",
    "In Java we can use the keyword `final` to declare constant variables, functions/methods, and classes. In the case of variables/functions/methods this prevents them from being reassigned. In the case of classes, it prevents the class from being extended by other classes.\n",
    "\n",
    "__NOTE__: `final` references must always refer to the same object, however, the contents of the the object can be modified."
   ]
  },
  {
   "cell_type": "code",
   "execution_count": 9,
   "id": "30bae8ca",
   "metadata": {},
   "outputs": [
    {
     "ename": "cannot assign a value to final variable s",
     "evalue": "cannot assign a value to final variable s",
     "output_type": "error",
     "traceback": [
      "\u001b[1;31mcannot assign a value to final variable s\u001b[0;0m",
      "\u001b[1;31m s = \"Goodbye\"\u001b[0;0m",
      "\u001b[1;31m ^^             \u001b[0;0m"
     ]
    }
   ],
   "source": [
    "final String s = \"Hello\";\n",
    "s = \"Goodbye\"; // will throw an error"
   ]
  }
 ],
 "metadata": {
  "kernelspec": {
   "display_name": "Java",
   "language": "java",
   "name": "java"
  },
  "language_info": {
   "codemirror_mode": "text/x-java",
   "file_extension": ".java",
   "mimetype": "",
   "name": "Java",
   "nbconverter_exporter": "",
   "version": "1.8.0_121"
  },
  "toc": {
   "base_numbering": 1,
   "nav_menu": {},
   "number_sections": false,
   "sideBar": false,
   "skip_h1_title": false,
   "title_cell": "Table of Contents",
   "title_sidebar": "Contents",
   "toc_cell": false,
   "toc_position": {},
   "toc_section_display": false,
   "toc_window_display": false
  }
 },
 "nbformat": 4,
 "nbformat_minor": 5
}
