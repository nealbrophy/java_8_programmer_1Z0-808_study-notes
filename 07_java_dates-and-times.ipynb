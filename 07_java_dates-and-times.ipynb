{
 "cells": [
  {
   "cell_type": "markdown",
   "id": "92d2cd8e",
   "metadata": {},
   "source": [
    "# Dates and Times in Java\n",
    "Java provides classes for working with dates and times in the `java.time` package which you will need to import."
   ]
  },
  {
   "cell_type": "markdown",
   "id": "4447a176",
   "metadata": {},
   "source": [
    "## Date and Time classes\n",
    "The 3 main classes for working with dates & times in Java 8 are:\n",
    "\n",
    "Class|Functionality\n",
    ":--|:--\n",
    "`LocalDate`|Date only, no time\n",
    "`LocalTime`|Time only, no date\n",
    "`LocalDateTime`|Date and Time but no timezone\n",
    "\n",
    "According to *Oracle recommends avoiding time zones unless you really need them*. If you do really need them the `ZonedDateTime` class handles them.\n",
    "\n",
    "### `.now()` method\n",
    "Each of the above classes has a method called `.now()` which returns the current local date/time."
   ]
  },
  {
   "cell_type": "code",
   "execution_count": 1,
   "id": "43f79a44",
   "metadata": {},
   "outputs": [
    {
     "name": "stdout",
     "output_type": "stream",
     "text": [
      "2022-01-10\n",
      "11:36:59.225\n",
      "2022-01-10T11:36:59.226\n"
     ]
    },
    {
     "data": {
      "text/plain": [
       "null"
      ]
     },
     "execution_count": 1,
     "metadata": {},
     "output_type": "execute_result"
    }
   ],
   "source": [
    "import java.time.*; // lazily import everything\n",
    "\n",
    "System.out.println(LocalDate.now()); // outputs date only\n",
    "System.out.println(LocalTime.now()); // outputs time only\n",
    "System.out.println(LocalDateTime.now()); // outputs both"
   ]
  },
  {
   "cell_type": "markdown",
   "id": "8ba8a788",
   "metadata": {},
   "source": [
    "## Creating Date and Time objects\n",
    "You cannot instantiate Date and Time objects the way you would for many other classes (i.e. using a constructor like `new LocalDate()` or `new LocalTime()`). Instead you will use each classes respective `.of()` method as follows:\n",
    "<br>`LocalDate myDate = LocalDate.of(int year, [int month OR Month month], int dayOfMonth);`\n",
    "<br>`LocalTime myTime = LocalTime.of(int hour, int minutes, int seconds [optional], int nanoseconds [optional]);`\n",
    "<br>`LocalDateTime myDateTime = LocalDateTime.of(int year, int month/Month month, int dayOfMonth, int hour, int minute, int seconds [optional], int nanoseconds [optional]);`\n",
    "\n",
    "In the case of *LocalDateTime* you can also pass *LocalDate* and *LocalTime* objects rather than the separate components:\n",
    "<br>`LocalDateTime myDateTime = LocalDateTime.of(LocalDate date, LocalTime time);`\n"
   ]
  },
  {
   "cell_type": "code",
   "execution_count": 49,
   "id": "39bca14b",
   "metadata": {},
   "outputs": [
    {
     "name": "stdout",
     "output_type": "stream",
     "text": [
      "MONDAY\n",
      "JANUARY\n",
      "2022\n",
      "10\n"
     ]
    },
    {
     "data": {
      "text/plain": [
       "null"
      ]
     },
     "execution_count": 49,
     "metadata": {},
     "output_type": "execute_result"
    }
   ],
   "source": [
    "import java.time.*;\n",
    "\n",
    "LocalDate ld = LocalDate.of(2022, Month.JANUARY, 10);\n",
    "LocalTime lt = LocalTime.of(11, 47, 05);\n",
    "LocalDateTime ldt = LocalDateTime.of(ld, lt);\n",
    "\n",
    "System.out.println(ldt.getDayOfWeek());\n",
    "System.out.println(ldt.getMonth());\n",
    "System.out.println(ldt.getYear());\n",
    "System.out.println(ldt.getDayOfYear());"
   ]
  },
  {
   "cell_type": "markdown",
   "id": "524fb003",
   "metadata": {},
   "source": [
    "## Adjusting Dates and Times\n",
    "Date and Time objects are immutable like Strings, which means that if we want to change them we need to re-assign the outcome of an operation to a reference variable. There are several methods available for adjusting dates/times:"
   ]
  },
  {
   "cell_type": "code",
   "execution_count": 17,
   "id": "998ee6c2",
   "metadata": {},
   "outputs": [
    {
     "name": "stdout",
     "output_type": "stream",
     "text": [
      "2022-01-10\n",
      "2022-02-10\n",
      "2022-02-24\n",
      "2022-05-24\n",
      "2026-05-24\n",
      "\n",
      "13:29:23.239\n",
      "11:29:23.239\n",
      "11:05:23.239\n",
      "11:03:23.239\n"
     ]
    },
    {
     "data": {
      "text/plain": [
       "null"
      ]
     },
     "execution_count": 17,
     "metadata": {},
     "output_type": "execute_result"
    }
   ],
   "source": [
    "import java.time.*;\n",
    "\n",
    "LocalDate ld = LocalDate.now();\n",
    "System.out.println(ld);\n",
    "\n",
    "ld = ld.plusDays(31); // add 31 days\n",
    "System.out.println(ld);\n",
    "\n",
    "ld = ld.plusWeeks(2); // add 2 weeks\n",
    "System.out.println(ld);\n",
    "\n",
    "ld = ld.plusMonths(3); // add 3 months\n",
    "System.out.println(ld);\n",
    "\n",
    "ld = ld.plusYears(4); // add 4 years\n",
    "System.out.println(ld);\n",
    "\n",
    "System.out.println(); // empty line\n",
    "\n",
    "LocalTime lt = LocalTime.now();\n",
    "System.out.println(lt);\n",
    "\n",
    "lt = lt.minusHours(2); // reduce by 2 hrs\n",
    "System.out.println(lt);\n",
    "\n",
    "lt = lt.minusMinutes(24); // reduce by 24 mins\n",
    "System.out.println(lt);\n",
    "\n",
    "lt = lt.minusSeconds(120); // reduce by 120 secs\n",
    "System.out.println(lt);"
   ]
  },
  {
   "cell_type": "markdown",
   "id": "b2ce608f",
   "metadata": {},
   "source": [
    "## The Old Way\n",
    "Prior to Java 8 date/time objects were instantiated like any other object using the `Date` and `Calendar` classes in the `java.util` package:\n",
    "\n",
    "Action|Old Way|New Way\n",
    ":--|:--|:--\n",
    "import|`import java.util.*;`|`import java.time.*;`\n",
    "Create time object with current time (no date)|NA|`LocalTime ltime = LocalTime.now();`\n",
    "Create date object with current date (no time)|NA|`LocalDate ldate = LocalDate.now();`\n",
    "Create date object with current date and time|`Date d = new Date();`|`LocalDateTime ldt = LocalDateTime.now();`\n",
    "Create date object with specified date and time|`Calendar c = new GregorianCalendar(2022, Calendar.JANUARY, 10);`|`LocalDate ld = LocalDate.of(2022, Month.JANUARY, 10);`"
   ]
  },
  {
   "cell_type": "markdown",
   "id": "a2a90266",
   "metadata": {},
   "source": [
    "## Converting to `long`\n",
    "*LocalDate* has a method for converting into `long` (this is based on the *[UNIX epoch](https://duckduckgo.com/l/?uddg=https%3A%2F%2Fwww.howtogeek.com%2F759337%2Fwhat-is-the-unix-epoch-and-how-does-unix-time-work%2F&notrut=duckduck_in)*):"
   ]
  },
  {
   "cell_type": "code",
   "execution_count": 28,
   "id": "b7d94d4b",
   "metadata": {},
   "outputs": [
    {
     "name": "stdout",
     "output_type": "stream",
     "text": [
      "LocalDate is: 2022-01-10\n",
      "LocalDate long is: 19002\n"
     ]
    },
    {
     "data": {
      "text/plain": [
       "null"
      ]
     },
     "execution_count": 28,
     "metadata": {},
     "output_type": "execute_result"
    }
   ],
   "source": [
    "import java.time.*;\n",
    "\n",
    "LocalDate ld = LocalDate.now();\n",
    "System.out.println(\"LocalDate is: \" + ld);\n",
    "\n",
    "long ldLong = ld.toEpochDay();\n",
    "System.out.println(\"LocalDate long is: \" + ldLong);\n"
   ]
  },
  {
   "cell_type": "markdown",
   "id": "f5688800",
   "metadata": {},
   "source": [
    "## Period class\n",
    "The `Period` class allows you to create an object representing a particular period of time and also has method of manipulating the period.\n",
    "\n",
    "__NOTE__: `Period` does NOT allow chaining."
   ]
  },
  {
   "cell_type": "code",
   "execution_count": 106,
   "id": "eaa24bc6",
   "metadata": {},
   "outputs": [
    {
     "data": {
      "text/plain": [
       "null"
      ]
     },
     "execution_count": 106,
     "metadata": {},
     "output_type": "execute_result"
    }
   ],
   "source": [
    "import java.time.*;\n",
    "\n",
    "Period annual = Period.ofYears(1); // every year\n",
    "Period monthly = Period.ofMonths(1); // every month\n",
    "Period quarterly = Period.ofMonths(3); // every 3 months\n",
    "Period biAnnual = Period.ofMonths(6); // every 6 months\n",
    "Period everySecondDay = Period.ofDays(2); // every second day\n",
    "Period everyYearAndHalf = Period.of(1, 6, 0); // every year and 6 months\n",
    "Period nowTilChristmas = Period.between(LocalDate.now(), LocalDate.of(2022, 12, 25));"
   ]
  },
  {
   "cell_type": "markdown",
   "id": "bdf14fc9",
   "metadata": {},
   "source": [
    "## Duration class\n",
    "The `Duration` class is for smaller units of time:"
   ]
  },
  {
   "cell_type": "code",
   "execution_count": 45,
   "id": "01d7bd0e",
   "metadata": {},
   "outputs": [
    {
     "data": {
      "text/plain": [
       "null"
      ]
     },
     "execution_count": 45,
     "metadata": {},
     "output_type": "execute_result"
    }
   ],
   "source": [
    "import java.time.*;\n",
    "\n",
    "Duration hours = Duration.ofHours(2);\n",
    "Duration minutes = Duration.ofMinutes(30);\n",
    "Duration seconds = Duration.ofSeconds(15);\n",
    "Duration nanoSeconds = Duration.ofNanos(100);"
   ]
  },
  {
   "cell_type": "markdown",
   "id": "860fe784",
   "metadata": {},
   "source": [
    "## DateTimeFormatter\n",
    "The `DateTimeFormatter` class allows you to format any type of date or time object:"
   ]
  },
  {
   "cell_type": "code",
   "execution_count": 63,
   "id": "bc1d9d9c",
   "metadata": {},
   "outputs": [
    {
     "name": "stdout",
     "output_type": "stream",
     "text": [
      "1/10/22\n",
      "January 10, 2022\n",
      "01|10|22\n",
      "2:20:47 PM\n",
      "02~20~47\n"
     ]
    },
    {
     "data": {
      "text/plain": [
       "null"
      ]
     },
     "execution_count": 63,
     "metadata": {},
     "output_type": "execute_result"
    }
   ],
   "source": [
    "import java.time.*;\n",
    "import java.time.format.*;\n",
    "\n",
    "LocalTime lt = LocalTime.now();\n",
    "LocalDate ld = LocalDate.now();\n",
    "LocalDateTime ldt = LocalDateTime.now();\n",
    "\n",
    "DateTimeFormatter shortFormatDate = DateTimeFormatter.ofLocalizedDate(FormatStyle.SHORT);\n",
    "DateTimeFormatter longFormatDate = DateTimeFormatter.ofLocalizedDate(FormatStyle.LONG);\n",
    "DateTimeFormatter custFormatDate = DateTimeFormatter.ofPattern(\"MM|DD|YY\");\n",
    "\n",
    "DateTimeFormatter medFormatTime = DateTimeFormatter.ofLocalizedTime(FormatStyle.MEDIUM);\n",
    "DateTimeFormatter custFormatTime = DateTimeFormatter.ofPattern(\"hh~mm~ss\");\n",
    "\n",
    "System.out.println(ld.format(shortFormatDate)); // short format date\n",
    "System.out.println(ldt.format(longFormatDate)); // long format date\n",
    "System.out.println(ldt.format(custFormatDate)); // long format date\n",
    "System.out.println(lt.format(medFormatTime)); // short format time\n",
    "System.out.println(lt.format(custFormatTime)); // short format time\n",
    "\n"
   ]
  },
  {
   "cell_type": "markdown",
   "id": "b2dc677e",
   "metadata": {},
   "source": [
    "## ZonedDateTime\n",
    "ZonedDateTime is an immutable date-time object which includes a time-zone. The class includes methods which allow you to convert objects from one timezone to another."
   ]
  },
  {
   "cell_type": "code",
   "execution_count": 22,
   "id": "d82f2226",
   "metadata": {},
   "outputs": [
    {
     "name": "stdout",
     "output_type": "stream",
     "text": [
      "2022-01-11T15:18:18.369Z[Europe/Dublin]\n",
      "2022-01-11T16:18:18.369+01:00[Europe/Paris]\n"
     ]
    },
    {
     "data": {
      "text/plain": [
       "null"
      ]
     },
     "execution_count": 22,
     "metadata": {},
     "output_type": "execute_result"
    }
   ],
   "source": [
    "import java.time.*;\n",
    "\n",
    "ZoneId CET = ZoneId.of(\"Europe/Paris\");\n",
    "ZoneId BST = ZoneId.of(\"Europe/London\");\n",
    "\n",
    "ZonedDateTime zdtHere = ZonedDateTime.now();\n",
    "System.out.println(zdtHere);\n",
    "ZonedDateTime zdtSweden = zdtHere.toOffsetDateTime().atZoneSameInstant(CET);\n",
    "System.out.println(zdtSweden);"
   ]
  },
  {
   "cell_type": "markdown",
   "id": "c3bc4a89",
   "metadata": {},
   "source": [
    "## Method Chart\n",
    "Below is a chart of some useful date/time methods:\n",
    "\n",
    "Method|Use|Example\n",
    ":--|:--|:--\n",
    "`.now()`|Creates an instance using system clock|`LocalDate myDate = LocalDate.now();`\n",
    "`.of()`|Creates an instance using the given arguments|`LocalTime lunch = LocalTime.of(13,0);`\n",
    "`.get()`|Returns part of current state of object|`myDate.get(ChronoField.DAY_OF_WEEK);`\n",
    "`.with()`|Returns copy of object with one element changed|`myDate.withMonth(12);`\n",
    "`.plus()`|Returns copy of object with amount added|`myDate.plusDays(14);`\n",
    "`.minus()`|Returns copy of object with amount deducted|`myDate.minusYears(2);`\n",
    "`.to()`|Converts object to different type|`LocalDate.now().toSecondOfDay();`\n",
    "`.at()`|Combines object with another, return LocalDateTime object|`myDate.at(LocalTime.now());`\n",
    "`.until()`|Calculates amount of time from object until another date|`LocalDate.of(1915,8,12).until(LocalDate.now(), ChronoUnit.YEARS);`\n",
    "`.isBefore()`|Compares object to argument, returns boolean|`myDate.isBefore(LocalDate.of(1915,8,12));`\n",
    "`.isAfter()`|Compares object to argument, returns boolean|`myDate.isAfter(LocalDate.of(1915,8,12));`\n",
    "`.isLeapYear()`|Checks if object is leap year, returns boolean|`myDate.isLeapYear();`"
   ]
  },
  {
   "cell_type": "code",
   "execution_count": 84,
   "id": "9e46fda2",
   "metadata": {},
   "outputs": [
    {
     "name": "stdout",
     "output_type": "stream",
     "text": [
      "2022-01-11T16:14:08.496\n",
      "\n",
      "Today is day 2 of the week.\n",
      "\n",
      "2022-10-11T16:14:08.496\n",
      "\n",
      "Tomorrow is: 2022-01-12T16:14:08.496\n",
      "\n",
      "This time last year was 2021-01-11T16:14:08.496\n",
      "\n",
      "Right now is second 58448 of the day.\n",
      "\n",
      "This time 4 years ago was 2018-01-11T16:14:08.497\n",
      "\n",
      "August 12th 1915 was 106 years ago.\n",
      "\n",
      "Today is before August 12th 1915? false\n",
      "\n",
      "Today is after August 12th 1915? true\n",
      "\n",
      "1915 was a leap year? false\n"
     ]
    },
    {
     "data": {
      "text/plain": [
       "null"
      ]
     },
     "execution_count": 84,
     "metadata": {},
     "output_type": "execute_result"
    }
   ],
   "source": [
    "import java.time.*;\n",
    "import java.time.temporal.*;\n",
    "\n",
    "LocalDateTime today = LocalDateTime.now();\n",
    "System.out.println(today);\n",
    "\n",
    "System.out.println(\"\\nToday is day \" + today.get(ChronoField.DAY_OF_WEEK) + \" of the week.\");\n",
    "\n",
    "LocalDateTime nextOct = today.withMonth(10);\n",
    "System.out.println(\"\\n\" + nextOct);\n",
    "\n",
    "LocalDateTime tomorrow = today.plusDays(1);\n",
    "System.out.println(\"\\nTomorrow is: \" + tomorrow);\n",
    "\n",
    "LocalDateTime lastYear = today.minusYears(1);\n",
    "System.out.println(\"\\nThis time last year was \" + lastYear);\n",
    "\n",
    "int secondOfDay = LocalTime.now().toSecondOfDay();\n",
    "System.out.println(\"\\nRight now is second \" + secondOfDay + \" of the day.\");\n",
    "\n",
    "System.out.println(\"\\nThis time 4 years ago was \" + LocalDate.of(2018, 1, 11).atTime(LocalTime.now()));\n",
    "\n",
    "System.out.println(\"\\nAugust 12th 1915 was \" + LocalDate.of(1915,8,12).until(LocalDate.now(), ChronoUnit.YEARS) + \" years ago.\");\n",
    "\n",
    "System.out.println(\"\\nToday is before August 12th 1915? \" + LocalDate.now().isBefore(LocalDate.parse(\"1915-08-12\")));\n",
    "\n",
    "System.out.println(\"\\nToday is after August 12th 1915? \" + LocalDate.now().isAfter(LocalDate.of(1915, 8, 12)));\n",
    "\n",
    "System.out.println(\"\\n1915 was a leap year? \" + LocalDate.of(1915, 8, 12).isLeapYear());"
   ]
  },
  {
   "cell_type": "markdown",
   "id": "a490fe4e",
   "metadata": {},
   "source": [
    "## Instant\n",
    "The `Instant` class stores an instant in time and is useful for timestamps. The instant is stored as seconds (`long`) and nanoseconds (`int`) in UTC. Can be paired with `isBefore` and `isAfter` methods to great effect."
   ]
  },
  {
   "cell_type": "code",
   "execution_count": 87,
   "id": "d7dea3d8",
   "metadata": {},
   "outputs": [
    {
     "name": "stdout",
     "output_type": "stream",
     "text": [
      "2022-01-11T16:19:25.057Z\n",
      "2022-01-11T16:19:25.058Z\n",
      "false\n"
     ]
    },
    {
     "data": {
      "text/plain": [
       "null"
      ]
     },
     "execution_count": 87,
     "metadata": {},
     "output_type": "execute_result"
    }
   ],
   "source": [
    "import java.time.*;\n",
    "\n",
    "Instant now = Instant.now();\n",
    "System.out.println(now);\n",
    "Instant noNow = Instant.now();\n",
    "System.out.println(noNow);\n",
    "\n",
    "System.out.println(now.isAfter(noNow));"
   ]
  },
  {
   "cell_type": "markdown",
   "id": "03125d2d",
   "metadata": {},
   "source": [
    "## TemporalUnit and ChronoUnit\n",
    "`TemporalUnit` is an interface which represents a unit of time. It's implemented by the *enum* `ChronoUnit` class."
   ]
  },
  {
   "cell_type": "code",
   "execution_count": 100,
   "id": "10e1046e",
   "metadata": {},
   "outputs": [
    {
     "name": "stdout",
     "output_type": "stream",
     "text": [
      "There are 354 days until New Years Eve.\n"
     ]
    },
    {
     "data": {
      "text/plain": [
       "null"
      ]
     },
     "execution_count": 100,
     "metadata": {},
     "output_type": "execute_result"
    }
   ],
   "source": [
    "import java.time.*;\n",
    "import static java.time.temporal.ChronoUnit.*;\n",
    "import static java.time.temporal.TemporalAdjusters.*;\n",
    "\n",
    "LocalDate today = LocalDate.now();\n",
    "LocalDate newYearsEve = today.withMonth(12).with(lastDayOfMonth());\n",
    "long daysTil = DAYS.between(today, newYearsEve);\n",
    "System.out.println(\"There are \" + daysTil + \" days until New Years Eve.\");"
   ]
  },
  {
   "cell_type": "markdown",
   "id": "7e437202",
   "metadata": {},
   "source": [
    "## Populating  dates in a more readable manner\n",
    "One of the goals of the updated Date/Time API in Java 8 was to allow for more readable creation of date objects. To that end you can chain methods to create dates in a way that makes the intention more readable to others:"
   ]
  },
  {
   "cell_type": "code",
   "execution_count": 111,
   "id": "8d673166",
   "metadata": {},
   "outputs": [
    {
     "data": {
      "text/plain": [
       "null"
      ]
     },
     "execution_count": 111,
     "metadata": {},
     "output_type": "execute_result"
    }
   ],
   "source": [
    "import java.time.*;\n",
    "\n",
    "// Shorter but Not readable\n",
    "LocalDate popsBirthday = LocalDate.of(1915, 8, 12);\n",
    "\n",
    "// more readable\n",
    "LocalDate popsBDay = Year.of(1915).atMonth(8).atDay(12);\n",
    "ZonedDateTime flightLandsLocal = LocalDate.of(2022, 1, 16).atTime(15, 45).atZone(ZoneId.of(\"Europe/Paris\"));"
   ]
  }
 ],
 "metadata": {
  "kernelspec": {
   "display_name": "Java",
   "language": "java",
   "name": "java"
  },
  "language_info": {
   "codemirror_mode": "text/x-java",
   "file_extension": ".java",
   "mimetype": "",
   "name": "Java",
   "nbconverter_exporter": "",
   "version": "1.8.0_121"
  },
  "toc": {
   "base_numbering": 1,
   "nav_menu": {},
   "number_sections": false,
   "sideBar": false,
   "skip_h1_title": false,
   "title_cell": "Table of Contents",
   "title_sidebar": "Contents",
   "toc_cell": false,
   "toc_position": {},
   "toc_section_display": false,
   "toc_window_display": false
  }
 },
 "nbformat": 4,
 "nbformat_minor": 5
}
