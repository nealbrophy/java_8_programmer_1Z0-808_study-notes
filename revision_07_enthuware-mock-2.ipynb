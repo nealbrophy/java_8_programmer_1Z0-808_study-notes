{
 "cells": [
  {
   "cell_type": "markdown",
   "id": "eeb11bcc",
   "metadata": {},
   "source": [
    "# Revision notes from Enthuware Mock Test 02"
   ]
  },
  {
   "cell_type": "markdown",
   "id": "c441d4ba",
   "metadata": {},
   "source": [
    "## Switch statements can't use booleans for the expression or case label\n",
    "Switch statements can use:\n",
    "- `byte`\n",
    "- `short`\n",
    "- `char`\n",
    "- `int`\n",
    "- `enum`\n",
    "- `String`\n",
    "- `Character`\n",
    "- `Byte`\n",
    "- `Short`\n",
    "- `Integer`"
   ]
  },
  {
   "cell_type": "markdown",
   "id": "40cc4f65",
   "metadata": {},
   "source": [
    "## Pre-increment/pre-decrement operation doesn't supercede prior invokations of the incremented/decremented variable in a left-to-right expression\n",
    "If you have an expression performing multiple operations of equal value and one of the operations is a pre-increment/decrement, the increment/decrement operation will happen when it is reached (i.e. it doesn't change the value of the variable its operating on until it is reached when moving from left to right).\n",
    "\n",
    "Lets look at an example:"
   ]
  },
  {
   "cell_type": "code",
   "execution_count": 1,
   "id": "a0142032",
   "metadata": {},
   "outputs": [
    {
     "name": "stdout",
     "output_type": "stream",
     "text": [
      "11\n"
     ]
    },
    {
     "data": {
      "text/plain": [
       "null"
      ]
     },
     "execution_count": 1,
     "metadata": {},
     "output_type": "execute_result"
    }
   ],
   "source": [
    "int a = 2;\n",
    "\n",
    "int b = a + a + (a * a) + ++a;\n",
    "// so, does the pre-increment of a impact the earlier references to a in the expression? i.e. will it be 2 + 2 + (2 * 2) + 3 [OUTPUT: 11] or 3 + 3 + (3 * 3) + 3 [OUTPUT: 18]?\n",
    "// the order of the operations will be\n",
    "// 1. parentheses (since parens have precedence)\n",
    "// 2. the rest of the operations are all addition, so they have the same precedence and will execute left-to-right\n",
    "System.out.println(b);"
   ]
  },
  {
   "cell_type": "markdown",
   "id": "a8b43900",
   "metadata": {},
   "source": [
    "## `private` members of a class can be accessed from within the same class\n",
    "So, if you have a `private` member variable being access appropriately from within a *main method* that is inside the same class the variable was declared in, it will not cause an error."
   ]
  },
  {
   "cell_type": "code",
   "execution_count": 5,
   "id": "c6381f56",
   "metadata": {},
   "outputs": [
    {
     "data": {
      "text/plain": [
       "test.beaker.Foo"
      ]
     },
     "execution_count": 5,
     "metadata": {},
     "output_type": "execute_result"
    }
   ],
   "source": [
    "// will not execute normally since we're inside a beaker cell but also won't throw any errors\n",
    "package test.beaker;\n",
    "\n",
    "class Foo {\n",
    "    private int i = 0;\n",
    "    \n",
    "    public static void main(String [] args) {\n",
    "        Foo f = new Foo();\n",
    "        f.i = 2; // access the private variable via an instance of Foo from within the main method\n",
    "        System.out.println(f.i);\n",
    "    }\n",
    "}"
   ]
  },
  {
   "cell_type": "markdown",
   "id": "be8da179",
   "metadata": {},
   "source": [
    "## `.getClass()` always returns the class of the object on which it's called regardless of the type of the reference pointing to it\n",
    "For example if you have a `String`-object which is being pointed to by an *Object*-type variable and call `.getClass()` on it, you will get `java.lang.String`"
   ]
  },
  {
   "cell_type": "code",
   "execution_count": 8,
   "id": "3b3098ea",
   "metadata": {},
   "outputs": [
    {
     "name": "stdout",
     "output_type": "stream",
     "text": [
      "class java.lang.String\n"
     ]
    },
    {
     "data": {
      "text/plain": [
       "null"
      ]
     },
     "execution_count": 8,
     "metadata": {},
     "output_type": "execute_result"
    }
   ],
   "source": [
    "Object o = new String(\"Hello\"); // String-type object assigned to an Object-type reference\n",
    "System.out.println(o.getClass()); // call getClass on the reference"
   ]
  },
  {
   "cell_type": "markdown",
   "id": "257f05ea",
   "metadata": {},
   "source": [
    "## You cannot use `==` to compare objects of unrelated classes\n",
    "Java will know at compile time that the two objects can never be equal since they're of different, unrelated classes and it will throw a compiler error. You can, however, use the `.equals()` method to compare objects of different, unrelated classes (it will return `false`, but it's still a valid, executable piece of code)."
   ]
  },
  {
   "cell_type": "code",
   "execution_count": 9,
   "id": "cb81e359",
   "metadata": {},
   "outputs": [
    {
     "ename": "incomparable types",
     "evalue": " int[] and java.lang.String",
     "output_type": "error",
     "traceback": [
      "\u001b[1;31mincomparable types: int[] and java.lang.String\u001b[0;0m",
      "\u001b[1;31m System.out.println(ia == s)\u001b[0;0m",
      "\u001b[1;31m                    ^      ^  \u001b[0;0m"
     ]
    }
   ],
   "source": [
    "// compare unrelated objects with ==\n",
    "int [] ia = {1, 2};\n",
    "String s = \"Hello\";\n",
    "\n",
    "System.out.println(ia == s);"
   ]
  },
  {
   "cell_type": "code",
   "execution_count": 11,
   "id": "adf41a58",
   "metadata": {},
   "outputs": [
    {
     "name": "stdout",
     "output_type": "stream",
     "text": [
      "false\n"
     ]
    },
    {
     "data": {
      "text/plain": [
       "null"
      ]
     },
     "execution_count": 11,
     "metadata": {},
     "output_type": "execute_result"
    }
   ],
   "source": [
    "// compare unrelated objects with .equals()\n",
    "\n",
    "int [] ia = {1, 2};\n",
    "String s = \"Hello\";\n",
    "\n",
    "System.out.println(ia.equals(s));"
   ]
  },
  {
   "cell_type": "markdown",
   "id": "3eab269e",
   "metadata": {},
   "source": [
    "## `java.lang.Number` is not `final` and can be extended\n",
    "The wrapper classes `Integer`, `Long`, `Double` etc extend `Number` (however, those classes are themselves `final`).\n",
    "\n",
    "The following are `final` classes:\n",
    "- `String`\n",
    "- `StringBuilder`\n",
    "- `StringBuffer`\n",
    "- `Boolean`\n",
    "- `Integer`\n",
    "- `Long`\n",
    "- `Short`\n",
    "- `Character`\n",
    "- `Byte`\n",
    "- `Float`\n",
    "- `Double`\n",
    "- `System`"
   ]
  },
  {
   "cell_type": "markdown",
   "id": "6ba836fc",
   "metadata": {},
   "source": [
    "## A labeled *break* or *continue* must always exist within the loop where the label is declared\n",
    "You can't break a labeled-loop from outside the loop."
   ]
  },
  {
   "cell_type": "code",
   "execution_count": 14,
   "id": "37da7d3a",
   "metadata": {},
   "outputs": [
    {
     "ename": "undefined label",
     "evalue": " LABEL1",
     "output_type": "error",
     "traceback": [
      "\u001b[1;31mundefined label: LABEL1\u001b[0;0m",
      "\u001b[1;31m break LABEL1;\u001b[0;0m",
      "\u001b[1;31m ^            ^ \u001b[0;0m"
     ]
    }
   ],
   "source": [
    "int i = 0;\n",
    "LABEL1:\n",
    "    for (; i < 5; i++) {\n",
    "        System.out.println(\"Inside LABEL1\");\n",
    "        LABEL2:\n",
    "            System.out.println(\"Inside LABEL2\");\n",
    "    }\n",
    "if (i>3) {\n",
    "    System.out.println(\"Breaking LABEL1 from outside\");\n",
    "    break LABEL1;\n",
    "}"
   ]
  },
  {
   "cell_type": "markdown",
   "id": "f5ff157e",
   "metadata": {},
   "source": [
    "## When assigning object reference variables to an array the object is passed by reference (similar to passing an object as a method argument)\n",
    "So, if you create an array and add to it using a reference-variable, you're actually just storing the reference/pointer not the variable itself. This means that if you redirect the reference variable outside the array to point to another object, the array index will still point to the original object."
   ]
  },
  {
   "cell_type": "code",
   "execution_count": 5,
   "id": "39ef08a9",
   "metadata": {},
   "outputs": [
    {
     "name": "stdout",
     "output_type": "stream",
     "text": [
      "null\n",
      "Hello\n"
     ]
    },
    {
     "data": {
      "text/plain": [
       "null"
      ]
     },
     "execution_count": 5,
     "metadata": {},
     "output_type": "execute_result"
    }
   ],
   "source": [
    "String s = new String(\"Hello\"); // create object and assign to variable o1\n",
    "\n",
    "String [] sa = new String[3]; // create object array\n",
    "sa[0] = s; // assign array index 1 to point to the same object as o1\n",
    "\n",
    "s = null; // redirect o1 to point to null\n",
    "\n",
    "System.out.println(s); // s now contains null\n",
    "System.out.println(sa[0]); // sa[0] still contains the reference to the original String object"
   ]
  },
  {
   "cell_type": "markdown",
   "id": "e9adb8db",
   "metadata": {},
   "source": [
    "## An overridden method will still supercede the original even if called from within the constructor of the original class\n",
    "Let's say we have a class *X* which has a *greet()* method that prints \"Hello\". Then we have a class *Y* which overrides *X*'s *greet* method to say \"Hi\". Within *X*'s constructor the *greet* method is called. If we create a new instance of *Y* the implicit call to `super()` will execute *X*'s constructor and call *greet()*, however, since this is all being done from instantiation of a *Y* object, the overridden version of *greet()* will be used."
   ]
  },
  {
   "cell_type": "code",
   "execution_count": 10,
   "id": "c62933d9",
   "metadata": {},
   "outputs": [
    {
     "data": {
      "text/plain": [
       "test.beaker.X"
      ]
     },
     "execution_count": 10,
     "metadata": {},
     "output_type": "execute_result"
    }
   ],
   "source": [
    "package test.beaker;\n",
    "\n",
    "class X {\n",
    "    public void greet() {\n",
    "        System.out.println(\"Hello\"); // X's version of greet says \"Hello\"\n",
    "    }\n",
    "    \n",
    "    public X() {\n",
    "        greet();\n",
    "    }\n",
    "}\n",
    "\n",
    "class Y extends X {\n",
    "    public void greet() {\n",
    "        System.out.println(\"Hi\"); // Y's overridden version of greet says \"Hi\"\n",
    "    }\n",
    "}"
   ]
  },
  {
   "cell_type": "code",
   "execution_count": 11,
   "id": "d9bde961",
   "metadata": {},
   "outputs": [
    {
     "name": "stdout",
     "output_type": "stream",
     "text": [
      "Hi\n"
     ]
    },
    {
     "data": {
      "text/plain": [
       "null"
      ]
     },
     "execution_count": 11,
     "metadata": {},
     "output_type": "execute_result"
    }
   ],
   "source": [
    "package test.beaker;\n",
    "\n",
    "Y y1 = new Y(); // instantiate a new Y object which implicitly calls `super()` which in turn calls `greet()`\n",
    "// OUTPUT: Hi\n",
    "// even though the call to greet() was within X's constructor, the fact that we got it from a Y instantiation causes the overridden version of greet() to be executed"
   ]
  },
  {
   "cell_type": "markdown",
   "id": "eb2869fd",
   "metadata": {},
   "source": [
    "## If a constructor makes use of a static or instance variable which hasn't yet been initialized, the default value will be used\n",
    "This sounds pretty straightforward but is easy to overlook when dealing with multiple classes. First, imagine we have class *One* and class *Two* where *Two* extends *One* and overrides a method within. Now let's say that *One*'s constructor includes a call to the method that's been overridden AND that the overridden method makes use of an instance variable from *Two*. So, we know from the example above that if we instantiate an object of *Two* there will be an implicit call to `super()` and the overridden method will be used but what's easy to overlook is that even though this is being triggered by instantiation of an object of type *Two*, execution hasn't actually gotten to *Two* yet (it's still within the call to `super()` i.e. *One*'s constructor). Since no instance of *Two* exists yet, no instance variables have been initialized and thus the default value for whatever type of variable it is (i.e. `0` for an int, `null` for an Object etc) will be used."
   ]
  },
  {
   "cell_type": "code",
   "execution_count": 21,
   "id": "58584f9c",
   "metadata": {},
   "outputs": [
    {
     "data": {
      "text/plain": [
       "test.beaker.One"
      ]
     },
     "execution_count": 21,
     "metadata": {},
     "output_type": "execute_result"
    }
   ],
   "source": [
    "package test.beaker;\n",
    "\n",
    "class One {\n",
    "    public String dance = \"mashed-potato\";\n",
    "    public One() {\n",
    "        dance();\n",
    "    }\n",
    "    \n",
    "    public void dance() {\n",
    "        System.out.printf(\"the %s!\", dance);\n",
    "    }\n",
    "}\n",
    "\n",
    "class Two extends One {\n",
    "    public String newDance = \"alligator\";\n",
    "    public void dance() {\n",
    "        System.out.printf(\"Do the %s!\", newDance);\n",
    "    }\n",
    "}"
   ]
  },
  {
   "cell_type": "code",
   "execution_count": 23,
   "id": "aaae3a68",
   "metadata": {},
   "outputs": [
    {
     "name": "stdout",
     "output_type": "stream",
     "text": [
      "Do the null!"
     ]
    },
    {
     "data": {
      "text/plain": [
       "null"
      ]
     },
     "execution_count": 23,
     "metadata": {},
     "output_type": "execute_result"
    }
   ],
   "source": [
    "package test.beaker;\n",
    "\n",
    "Two t1 = new Two();\n",
    "// since we're instantiating a Two object the overridden version of dance() is used\n",
    "// however, the overriden version of dance uses the variable newDance which is an instance variable for objects of type Two\n",
    "// but no objects of Two exist yet! We're in the process of creating one but the constructor hasn't gotten as far as Two instantiation yet\n",
    "// it's still working through the implicit call to `super()`"
   ]
  },
  {
   "cell_type": "markdown",
   "id": "1c5ecbc0",
   "metadata": {},
   "source": [
    "## An object of a class that implements an interface can be cast to a reference of that interface\n",
    "This sounds like gibberish but what it means is, if you have an object of type *Car* and the *Car* class `implements` *Automobile* then you can create a *Car* object and then assign that object to an *Automobile* type reference"
   ]
  },
  {
   "cell_type": "code",
   "execution_count": 51,
   "id": "77f27f1e",
   "metadata": {},
   "outputs": [
    {
     "data": {
      "text/plain": [
       "test.beaker.Automobile"
      ]
     },
     "execution_count": 51,
     "metadata": {},
     "output_type": "execute_result"
    }
   ],
   "source": [
    "package test.beaker;\n",
    "\n",
    "interface Automobile {}\n",
    "interface TurboEngine {}\n",
    "\n",
    "class Car implements Automobile {}\n",
    "\n",
    "class SuperCar extends Car implements TurboEngine {}"
   ]
  },
  {
   "cell_type": "code",
   "execution_count": 56,
   "id": "ce4b6217",
   "metadata": {},
   "outputs": [
    {
     "data": {
      "text/plain": [
       "null"
      ]
     },
     "execution_count": 56,
     "metadata": {},
     "output_type": "execute_result"
    }
   ],
   "source": [
    "package test.beaker;\n",
    "\n",
    "SuperCar sc = new SuperCar(); // create a SuperCar object\n",
    "\n",
    "Automobile a = sc; // SuperCar fits inside an Automobile because it \"is a\" Car which itself implements Automobile\n",
    "\n",
    "TurboEngine te = (TurboEngine) a; // this is the interesting one, even though Automobile and TurboEngine aren't related, we can cast a to a TurboEngine\n",
    "// this works because the object that a is pointing to is a SuperCar which implements TurboEngine"
   ]
  },
  {
   "cell_type": "markdown",
   "id": "8fc72b47",
   "metadata": {},
   "source": [
    "## Numbers with scientific notation for Euler's number `e` are always of type `double` in Java\n",
    "The scientific notation `e` represents *times 10 raised to the power of*. So, `23e4` means *23x10^2* or *23x10x10*. This notation is often used for abbreviating extremely large numbers so Java assumes that this notation represents a `double`. This means that even if you have a fairly small number like *2e2* which would easily fit inside an `int` or `float` it's still assumed to be a double."
   ]
  },
  {
   "cell_type": "code",
   "execution_count": 75,
   "id": "a4d15a61",
   "metadata": {},
   "outputs": [
    {
     "name": "stdout",
     "output_type": "stream",
     "text": [
      "200.0\n"
     ]
    },
    {
     "data": {
      "text/plain": [
       "null"
      ]
     },
     "execution_count": 75,
     "metadata": {},
     "output_type": "execute_result"
    }
   ],
   "source": [
    "System.out.println(2e2);"
   ]
  },
  {
   "cell_type": "markdown",
   "id": "8d25eefb",
   "metadata": {},
   "source": [
    "## A number starting `0` is *Octal* and is considered an `int`, a number starting `0x` is *Hexadecimal*\n",
    "Octal, Hexadecimal, Decimal, Binary are all integers in Java. "
   ]
  },
  {
   "cell_type": "code",
   "execution_count": null,
   "id": "7286f2df",
   "metadata": {},
   "outputs": [],
   "source": []
  }
 ],
 "metadata": {
  "kernelspec": {
   "display_name": "Java",
   "language": "java",
   "name": "java"
  },
  "language_info": {
   "codemirror_mode": "text/x-java",
   "file_extension": ".java",
   "mimetype": "",
   "name": "Java",
   "nbconverter_exporter": "",
   "version": "1.8.0_121"
  },
  "toc": {
   "base_numbering": 1,
   "nav_menu": {},
   "number_sections": false,
   "sideBar": false,
   "skip_h1_title": false,
   "title_cell": "Table of Contents",
   "title_sidebar": "Contents",
   "toc_cell": false,
   "toc_position": {},
   "toc_section_display": false,
   "toc_window_display": false
  }
 },
 "nbformat": 4,
 "nbformat_minor": 5
}
