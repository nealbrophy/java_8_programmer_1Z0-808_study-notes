{
 "cells": [
  {
   "cell_type": "markdown",
   "id": "eeb11bcc",
   "metadata": {},
   "source": [
    "# Revision notes from Enthuware Mock Test 02"
   ]
  },
  {
   "cell_type": "markdown",
   "id": "c441d4ba",
   "metadata": {},
   "source": [
    "## Switch statements can't use booleans for the expression or case label\n",
    "Switch statements can use:\n",
    "- `byte`\n",
    "- `short`\n",
    "- `char`\n",
    "- `int`\n",
    "- `enum`\n",
    "- `String`\n",
    "- `Character`\n",
    "- `Byte`\n",
    "- `Short`\n",
    "- `Integer`"
   ]
  },
  {
   "cell_type": "markdown",
   "id": "40cc4f65",
   "metadata": {},
   "source": [
    "## Pre-increment/pre-decrement operation doesn't supercede prior invokations of the incremented/decremented variable in a left-to-right expression\n",
    "If you have an expression performing multiple operations of equal value and one of the operations is a pre-increment/decrement, the increment/decrement operation will happen when it is reached (i.e. it doesn't change the value of the variable its operating on until it is reached when moving from left to right).\n",
    "\n",
    "Lets look at an example:"
   ]
  },
  {
   "cell_type": "code",
   "execution_count": 1,
   "id": "a0142032",
   "metadata": {},
   "outputs": [
    {
     "name": "stdout",
     "output_type": "stream",
     "text": [
      "11\n"
     ]
    },
    {
     "data": {
      "text/plain": [
       "null"
      ]
     },
     "execution_count": 1,
     "metadata": {},
     "output_type": "execute_result"
    }
   ],
   "source": [
    "int a = 2;\n",
    "\n",
    "int b = a + a + (a * a) + ++a;\n",
    "// so, does the pre-increment of a impact the earlier references to a in the expression? i.e. will it be 2 + 2 + (2 * 2) + 3 [OUTPUT: 11] or 3 + 3 + (3 * 3) + 3 [OUTPUT: 18]?\n",
    "// the order of the operations will be\n",
    "// 1. parentheses (since parens have precedence)\n",
    "// 2. the rest of the operations are all addition, so they have the same precedence and will execute left-to-right\n",
    "System.out.println(b);"
   ]
  },
  {
   "cell_type": "markdown",
   "id": "a8b43900",
   "metadata": {},
   "source": [
    "## `private` members of a class can be accessed from within the same class\n",
    "So, if you have a `private` member variable being access appropriately from within a *main method* that is inside the same class the variable was declared in, it will not cause an error."
   ]
  },
  {
   "cell_type": "code",
   "execution_count": 5,
   "id": "c6381f56",
   "metadata": {},
   "outputs": [
    {
     "data": {
      "text/plain": [
       "test.beaker.Foo"
      ]
     },
     "execution_count": 5,
     "metadata": {},
     "output_type": "execute_result"
    }
   ],
   "source": [
    "// will not execute normally since we're inside a beaker cell but also won't throw any errors\n",
    "package test.beaker;\n",
    "\n",
    "class Foo {\n",
    "    private int i = 0;\n",
    "    \n",
    "    public static void main(String [] args) {\n",
    "        Foo f = new Foo();\n",
    "        f.i = 2; // access the private variable via an instance of Foo from within the main method\n",
    "        System.out.println(f.i);\n",
    "    }\n",
    "}"
   ]
  },
  {
   "cell_type": "markdown",
   "id": "be8da179",
   "metadata": {},
   "source": [
    "## `.getClass()` always returns the class of the object on which it's called regardless of the type of the reference pointing to it\n",
    "For example if you have a `String`-object which is being pointed to by an *Object*-type variable and call `.getClass()` on it, you will get `java.lang.String`"
   ]
  },
  {
   "cell_type": "code",
   "execution_count": 8,
   "id": "3b3098ea",
   "metadata": {},
   "outputs": [
    {
     "name": "stdout",
     "output_type": "stream",
     "text": [
      "class java.lang.String\n"
     ]
    },
    {
     "data": {
      "text/plain": [
       "null"
      ]
     },
     "execution_count": 8,
     "metadata": {},
     "output_type": "execute_result"
    }
   ],
   "source": [
    "Object o = new String(\"Hello\"); // String-type object assigned to an Object-type reference\n",
    "System.out.println(o.getClass()); // call getClass on the reference"
   ]
  },
  {
   "cell_type": "markdown",
   "id": "257f05ea",
   "metadata": {},
   "source": [
    "## You cannot use `==` to compare objects of unrelated classes\n",
    "Java will know at compile time that the two objects can never be equal since they're of different, unrelated classes and it will throw a compiler error. You can, however, use the `.equals()` method to compare objects of different, unrelated classes (it will return `false`, but it's still a valid, executable piece of code)."
   ]
  },
  {
   "cell_type": "code",
   "execution_count": 9,
   "id": "cb81e359",
   "metadata": {},
   "outputs": [
    {
     "ename": "incomparable types",
     "evalue": " int[] and java.lang.String",
     "output_type": "error",
     "traceback": [
      "\u001b[1;31mincomparable types: int[] and java.lang.String\u001b[0;0m",
      "\u001b[1;31m System.out.println(ia == s)\u001b[0;0m",
      "\u001b[1;31m                    ^      ^  \u001b[0;0m"
     ]
    }
   ],
   "source": [
    "// compare unrelated objects with ==\n",
    "int [] ia = {1, 2};\n",
    "String s = \"Hello\";\n",
    "\n",
    "System.out.println(ia == s);"
   ]
  },
  {
   "cell_type": "code",
   "execution_count": 11,
   "id": "adf41a58",
   "metadata": {},
   "outputs": [
    {
     "name": "stdout",
     "output_type": "stream",
     "text": [
      "false\n"
     ]
    },
    {
     "data": {
      "text/plain": [
       "null"
      ]
     },
     "execution_count": 11,
     "metadata": {},
     "output_type": "execute_result"
    }
   ],
   "source": [
    "// compare unrelated objects with .equals()\n",
    "\n",
    "int [] ia = {1, 2};\n",
    "String s = \"Hello\";\n",
    "\n",
    "System.out.println(ia.equals(s));"
   ]
  },
  {
   "cell_type": "markdown",
   "id": "3eab269e",
   "metadata": {},
   "source": [
    "## `java.lang.Number` is not `final` and can be extended\n",
    "The wrapper classes `Integer`, `Long`, `Double` etc extend `Number` (however, those classes are themselves `final`).\n",
    "\n",
    "The following are `final` classes:\n",
    "- `String`\n",
    "- `StringBuilder`\n",
    "- `StringBuffer`\n",
    "- `Boolean`\n",
    "- `Integer`\n",
    "- `Long`\n",
    "- `Short`\n",
    "- `Character`\n",
    "- `Byte`\n",
    "- `Float`\n",
    "- `Double`\n",
    "- `System`"
   ]
  },
  {
   "cell_type": "markdown",
   "id": "6ba836fc",
   "metadata": {},
   "source": [
    "## A labeled *break* or *continue* must always exist within the loop where the label is declared\n",
    "You can't break a labeled-loop from outside the loop."
   ]
  },
  {
   "cell_type": "code",
   "execution_count": 14,
   "id": "37da7d3a",
   "metadata": {},
   "outputs": [
    {
     "ename": "undefined label",
     "evalue": " LABEL1",
     "output_type": "error",
     "traceback": [
      "\u001b[1;31mundefined label: LABEL1\u001b[0;0m",
      "\u001b[1;31m break LABEL1;\u001b[0;0m",
      "\u001b[1;31m ^            ^ \u001b[0;0m"
     ]
    }
   ],
   "source": [
    "int i = 0;\n",
    "LABEL1:\n",
    "    for (; i < 5; i++) {\n",
    "        System.out.println(\"Inside LABEL1\");\n",
    "        LABEL2:\n",
    "            System.out.println(\"Inside LABEL2\");\n",
    "    }\n",
    "if (i>3) {\n",
    "    System.out.println(\"Breaking LABEL1 from outside\");\n",
    "    break LABEL1;\n",
    "}"
   ]
  },
  {
   "cell_type": "markdown",
   "id": "f5ff157e",
   "metadata": {},
   "source": [
    "Q51"
   ]
  },
  {
   "cell_type": "code",
   "execution_count": null,
   "id": "39ef08a9",
   "metadata": {},
   "outputs": [],
   "source": []
  }
 ],
 "metadata": {
  "kernelspec": {
   "display_name": "Java",
   "language": "java",
   "name": "java"
  },
  "language_info": {
   "codemirror_mode": "text/x-java",
   "file_extension": ".java",
   "mimetype": "",
   "name": "Java",
   "nbconverter_exporter": "",
   "version": "1.8.0_121"
  },
  "toc": {
   "base_numbering": 1,
   "nav_menu": {},
   "number_sections": false,
   "sideBar": false,
   "skip_h1_title": false,
   "title_cell": "Table of Contents",
   "title_sidebar": "Contents",
   "toc_cell": false,
   "toc_position": {},
   "toc_section_display": false,
   "toc_window_display": false
  }
 },
 "nbformat": 4,
 "nbformat_minor": 5
}
