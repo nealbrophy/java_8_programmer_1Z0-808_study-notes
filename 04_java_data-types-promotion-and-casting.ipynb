{
 "cells": [
  {
   "cell_type": "markdown",
   "id": "3df731a8",
   "metadata": {},
   "source": [
    "# Data types, promotion, and casting in Java\n",
    "This notebook will give an overview of data-types as well as discuss promotion and casting."
   ]
  },
  {
   "cell_type": "markdown",
   "id": "0108f82d",
   "metadata": {},
   "source": [
    "## Primitive Data Types\n",
    "The primitive data types in Java are:\n",
    "- Integral (`byte`, `short`, `int`, `long`)\n",
    "- Floating point (`float`, `double`)\n",
    "- Textual (`char`)\n",
    "- Logical (`boolean`)\n",
    "\n",
    "### Integral Types\n",
    "Type|Length|Range\n",
    ":--|:--|:--\n",
    "`byte`|8 bits|$$-2^{7} \\Rightarrow (2^{7}-1)$$ (aka `-128` to `127`)\n",
    "`short`|16 bits|$$-2^{15} \\Rightarrow (2^{15}-1)$$ (aka `-32,768` to `32,767`)\n",
    "`int`|32 bits|$$-2^{31} \\Rightarrow (2^{31}-1)$$ (aka `-2,147,483,648` to `2,147,483,647`)\n",
    "`long`|64 bits|$$-2^{63} \\Rightarrow (2^{63}-1)$$ (aka `-9,223,372,036,854,775,808` to `9,223,372,036,854,775,807`)\n",
    "\n",
    "The default type for integral literals in Java is `int` and the JVM will assume an integral literal is an `int` unless otherwise declared/cast.\n",
    "\n",
    "### Floating Point Types\n",
    "Type|Length\n",
    ":--|:--\n",
    "`float`|32 bits\n",
    "`double`|64 bits\n",
    "\n",
    "The default type for floating literals is `double` and the JVM will assume a floating literal is a `double` unless declared with `F` at the end of the literal (e.g. `0.1F`) or cast;.\n",
    "\n",
    "### Textual Type\n",
    "Type|Length\n",
    ":--|:--\n",
    "`char`|16 bits\n",
    "\n",
    "To declare a `char` you must use single quotes (e.g. `char myChar = 'U';`)."
   ]
  },
  {
   "cell_type": "markdown",
   "id": "be6695c7",
   "metadata": {},
   "source": [
    "## Constants\n",
    "You can declare a variable to be *constant* (i.e. it's value cannot change) using the `final` keyword. Convention is to put constant variable names all UPPERCASE with underscores (`_`) separating words."
   ]
  },
  {
   "cell_type": "code",
   "execution_count": 2,
   "id": "ce1c82d2",
   "metadata": {},
   "outputs": [
    {
     "ename": "cannot assign a value to final variable MY_CONSTANT_INT",
     "evalue": "cannot assign a value to final variable MY_CONSTANT_INT",
     "output_type": "error",
     "traceback": [
      "\u001b[1;31mcannot assign a value to final variable MY_CONSTANT_INT\u001b[0;0m",
      "\u001b[1;31m MY_CONSTANT_INT = 7\u001b[0;0m",
      "\u001b[1;31m ^              ^     \u001b[0;0m"
     ]
    }
   ],
   "source": [
    "final int MY_CONSTANT_INT = 5;\n",
    "MY_CONSTANT_INT = 7; // Will throw an error"
   ]
  },
  {
   "cell_type": "markdown",
   "id": "b850297d",
   "metadata": {},
   "source": [
    "## Promotion\n",
    "Promotion is when you convert one type to a larger type. If you assign a small type to a larger type using `=` the JVM will automatically convert the type to the larger.\n",
    "\n",
    "For example, given the integral types:\n",
    "`byte < short < int < long`\n",
    "<br>\n",
    "`byte myByte = 1;`\n",
    "<br>\n",
    "`short myShort = myByte;`\n",
    "\n",
    "Similarly since integral types are smaller than floating types:\n",
    "<br>\n",
    "`int myInt = 32;`\n",
    "<br>\n",
    "`float myFloat = myInt;`\n",
    "\n",
    "Something to keep in mind is that since Java assumes any integral literal to be an `int`, that if you declare a `long` variable and don't put an `L` at the end of the literal, what you're actually doing is assigning an `int` literal to a `double` variable and Java will automatically promote it as such.\n",
    "\n",
    "**CAUTION**: Keep the ranges of types in mind when doing large sums, as if the result of an sum exceeds the maximum value allowed by the type, the value will be warped. If you need to, for example, multiply two large `int`s and there's a risk that the result will exceed the max value of `int` type, you can make one of the `int`s a `long` and Java will make sure the result is a `long`."
   ]
  },
  {
   "cell_type": "markdown",
   "id": "26abb72e",
   "metadata": {},
   "source": [
    "## Casting\n",
    "Casting is the functionality Java provides to allow you to promote (or demote) types. To do so, you simply put your target type in parenthesis between the `=` and the value."
   ]
  },
  {
   "cell_type": "code",
   "execution_count": 5,
   "id": "0b3c2466",
   "metadata": {},
   "outputs": [
    {
     "data": {
      "text/plain": [
       "null"
      ]
     },
     "execution_count": 5,
     "metadata": {},
     "output_type": "execute_result"
    }
   ],
   "source": [
    "int num1 = 1;\n",
    "float num2 = 3.0F;\n",
    "byte num3 = (byte) (num1 + num2); // Java doesn't throw an error because we are explicitly telling the JVM to cast the sum of the int & float to a smaller"
   ]
  },
  {
   "cell_type": "markdown",
   "id": "ca40ed26",
   "metadata": {},
   "source": [
    "## Compiler Assumptions for Integral and Floating Point Types\n",
    "- Most operations result in `int` or `long`\n",
    "    - `byte`, `char`, and `short` values are automatically promoted to `int` prior to an operation\n",
    "    - If an expression contains a `long`, the entire expression is promoted to `long`\n",
    "- If an expression contains a floating point, the entire expression is promoted to floating point\n",
    "- All literal floating point values are viewed as `double`\n",
    "\n",
    "### Possible problem with automatic promotion\n",
    "One issue you can run into with automatic promotion is if you try to assign the result of a, for example, `short` operation to a `short` variable. Since Java automatically promotes the `shorts` to `int` before completing the operation, you are essentially trying to assigne an `int` to a `float` and Java will throw a compiler error."
   ]
  },
  {
   "cell_type": "code",
   "execution_count": 6,
   "id": "a1c8d777",
   "metadata": {},
   "outputs": [
    {
     "ename": "incompatible types",
     "evalue": " possible lossy conversion from int to short",
     "output_type": "error",
     "traceback": [
      "\u001b[1;31mincompatible types: possible lossy conversion from int to short\u001b[0;0m",
      "\u001b[1;31m z = x + y\u001b[0;0m",
      "\u001b[1;31m     ^    ^ \u001b[0;0m"
     ]
    }
   ],
   "source": [
    "short x, y, z;\n",
    "x = 1;\n",
    "y = 2;\n",
    "z = x + y; // Will error out"
   ]
  },
  {
   "cell_type": "code",
   "execution_count": 8,
   "id": "c006c261",
   "metadata": {},
   "outputs": [
    {
     "data": {
      "text/plain": [
       "null"
      ]
     },
     "execution_count": 8,
     "metadata": {},
     "output_type": "execute_result"
    }
   ],
   "source": [
    "short a, b, c;\n",
    "a = 1;\n",
    "b = 2;\n",
    "c = (short) (a + b); // casting the operation to short prevents error but can result in a loss of precision"
   ]
  }
 ],
 "metadata": {
  "kernelspec": {
   "display_name": "Java",
   "language": "java",
   "name": "java"
  },
  "language_info": {
   "codemirror_mode": "text/x-java",
   "file_extension": ".java",
   "mimetype": "",
   "name": "Java",
   "nbconverter_exporter": "",
   "version": "1.8.0_121"
  },
  "toc": {
   "base_numbering": 1,
   "nav_menu": {},
   "number_sections": false,
   "sideBar": false,
   "skip_h1_title": false,
   "title_cell": "Table of Contents",
   "title_sidebar": "Contents",
   "toc_cell": false,
   "toc_position": {},
   "toc_section_display": false,
   "toc_window_display": false
  }
 },
 "nbformat": 4,
 "nbformat_minor": 5
}
