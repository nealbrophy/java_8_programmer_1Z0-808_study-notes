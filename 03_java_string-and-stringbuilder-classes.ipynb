{
 "cells": [
  {
   "cell_type": "markdown",
   "id": "a5718600",
   "metadata": {},
   "source": [
    "# Java's String and StringBuilder classes"
   ]
  },
  {
   "cell_type": "markdown",
   "id": "602ee271",
   "metadata": {},
   "source": [
    "## The `String` class\n",
    "Java's `String` class is used to access useful `String` methods and to instantiate `String` objects. There are 2 main ways to create Strings in Java:\n",
    "1. `String myString = \"this is my String\";` in this case you are creating a variable of type `String` and assigning it as a pointer to the String object \"this is my String\". We have only created one String object (the literal \"this is my String\") which is stored in the *String pool*.\n",
    "2. `String myString = new String(\"this is my String\");` here we instantiate a new String object using standard object instantiation. This is not considered best practice as we have created 2 objects, the string literal \"this is my String\" in the *String pool* and also a String object in *heap* memory which contains the same value.\n",
    "\n",
    "Method 1 is preferred as it is more memory efficient. When creating Strings using this method, Java will compare the string literal you pass in with the strings currently stored in the *pool*  and if the literal is already present, it will simply point your variable to that existing memory address.\n",
    "\n",
    "### Concatenating strings\n",
    "Strings can be concatenated using the addition symbol (`+`) or by calling the `.concat()` method on one string, passing the string to be concatenated as an argumentl (e.g. `myStringOne.concat(myStringTwo);`). When you concatenate and assign a variable pointer to the result, you are actually creating a new String object in memory. So the original string(s) and the new concatenated version will both exist in the *pool* (however, if you re-assigned the pointer for the original String to point to the new concatenated version the original likely no longer has any variables pointing to it and will eventually be automatically garbage collected).\n"
   ]
  },
  {
   "cell_type": "markdown",
   "id": "b4cdfb4d",
   "metadata": {},
   "source": [
    "### `.length()` method\n",
    "The `.length()` method can be used to determine how many characters/digits are in a string."
   ]
  },
  {
   "cell_type": "code",
   "execution_count": 1,
   "id": "88e65b05",
   "metadata": {},
   "outputs": [
    {
     "name": "stdout",
     "output_type": "stream",
     "text": [
      "12\n"
     ]
    },
    {
     "data": {
      "text/plain": [
       "null"
      ]
     },
     "execution_count": 1,
     "metadata": {},
     "output_type": "execute_result"
    }
   ],
   "source": [
    "String myString = \"Hello world!\";\n",
    "System.out.println(myString.length());"
   ]
  },
  {
   "cell_type": "markdown",
   "id": "eb6e5406",
   "metadata": {},
   "source": [
    "### `.trim()` method\n",
    "The `.trim()` method will strip leading and trailing whitespace from a string."
   ]
  },
  {
   "cell_type": "code",
   "execution_count": 4,
   "id": "9ba5387e",
   "metadata": {},
   "outputs": [
    {
     "name": "stdout",
     "output_type": "stream",
     "text": [
      "hello\n"
     ]
    },
    {
     "data": {
      "text/plain": [
       "null"
      ]
     },
     "execution_count": 4,
     "metadata": {},
     "output_type": "execute_result"
    }
   ],
   "source": [
    "String whiteSpaceString = \"            hello            \".trim();\n",
    "System.out.println(whiteSpaceString);"
   ]
  },
  {
   "cell_type": "markdown",
   "id": "9f0fcc96",
   "metadata": {},
   "source": [
    "### `.toLowerCase()` method\n",
    "The `.toLowerCase()` method converts all the characters in a string to their lowercase version.\n",
    "\n",
    "**NOTE**: the result must be stored in a variable as it doesn't mutate the original string."
   ]
  },
  {
   "cell_type": "code",
   "execution_count": 6,
   "id": "3eca2707",
   "metadata": {},
   "outputs": [
    {
     "name": "stdout",
     "output_type": "stream",
     "text": [
      "The value of originalUpperString is: HELLO WORLD\n",
      "The value of newLowerString is: hello world\n"
     ]
    },
    {
     "data": {
      "text/plain": [
       "null"
      ]
     },
     "execution_count": 6,
     "metadata": {},
     "output_type": "execute_result"
    }
   ],
   "source": [
    "String originalUpperString = \"HELLO WORLD\";\n",
    "originalUpperString.toLowerCase();\n",
    "System.out.println(\"The value of originalUpperString is: \" + originalUpperString); // outputs the original version as the string hasn't been changed\n",
    "\n",
    "String newLowerString = originalUpperString.toLowerCase();\n",
    "System.out.println(\"The value of newLowerString is: \" + newLowerString);"
   ]
  },
  {
   "cell_type": "markdown",
   "id": "bf99ee57",
   "metadata": {},
   "source": [
    "### `.indexOf()` method\n",
    "The `.indexOf()` method returns the index of whatever character is passed to it."
   ]
  },
  {
   "cell_type": "code",
   "execution_count": 8,
   "id": "f453ad7a",
   "metadata": {},
   "outputs": [
    {
     "name": "stdout",
     "output_type": "stream",
     "text": [
      "5\n"
     ]
    },
    {
     "data": {
      "text/plain": [
       "null"
      ]
     },
     "execution_count": 8,
     "metadata": {},
     "output_type": "execute_result"
    }
   ],
   "source": [
    "String anXInside = \"helloxworld\";\n",
    "int xIndex = anXInside.indexOf(\"x\");\n",
    "System.out.println(xIndex);"
   ]
  },
  {
   "cell_type": "markdown",
   "id": "56cf12e9",
   "metadata": {},
   "source": [
    "# Java's `StringBuilder` Class\n",
    "Java has a class called `StringBuilder` which provides a *mutable* alternative to `String`. Unlike `String`, `StringBuilder` objects need to be instantiated using the `new` keyword like any other object.\n",
    "<br>`StringBuilder myString = new StringBuilder(\"Hello\");`"
   ]
  },
  {
   "cell_type": "code",
   "execution_count": 1,
   "id": "d1d121b8",
   "metadata": {},
   "outputs": [
    {
     "name": "stdout",
     "output_type": "stream",
     "text": [
      "bar\n"
     ]
    },
    {
     "data": {
      "text/plain": [
       "null"
      ]
     },
     "execution_count": 1,
     "metadata": {},
     "output_type": "execute_result"
    }
   ],
   "source": [
    "StringBuilder foo = new StringBuilder(\"bar\");\n",
    "System.out.println(foo);"
   ]
  },
  {
   "cell_type": "markdown",
   "id": "932c6384",
   "metadata": {},
   "source": [
    "## The benefits of `StringBuilder`\n",
    "Some of the benefits of `StringBuilder` are:\n",
    "- many useful methods for manipulating value (e.g. append, delete, insert, replace)\n",
    "- better performance due to mutability (i.e. it doesn't create a new object in memory every time the string is changed)\n",
    "- can be created with an initial capacity\n",
    "\n",
    "However, using `StringBuilder` instead of `String` isn't always appropriate and some of the benefits of using `String` include:\n",
    "- possibly \"safer\" due to immutability\n",
    "- some APIs may require `String`\n",
    "- has many more methods than `StringBuilder`"
   ]
  },
  {
   "cell_type": "code",
   "execution_count": 18,
   "id": "0a2cb8bb",
   "metadata": {},
   "outputs": [
    {
     "name": "stdout",
     "output_type": "stream",
     "text": [
      "Hello\n",
      "HelloWorld?\n",
      "HelloWorld\n",
      "Hello World\n"
     ]
    },
    {
     "data": {
      "text/plain": [
       "null"
      ]
     },
     "execution_count": 18,
     "metadata": {},
     "output_type": "execute_result"
    }
   ],
   "source": [
    "StringBuilder myChangeableString = new StringBuilder(\"Hello\");\n",
    "System.out.println(myChangeableString);\n",
    "myChangeableString.append(\"World?\"); // append to the end of original string\n",
    "System.out.println(myChangeableString);\n",
    "myChangeableString.delete(10,11); // delete the character between indices 10 and 11\n",
    "System.out.println(myChangeableString);\n",
    "myChangeableString.insert(5, \" \"); // insert a space at index 5\n",
    "System.out.println(myChangeableString);"
   ]
  },
  {
   "cell_type": "code",
   "execution_count": null,
   "id": "4a7d55de",
   "metadata": {},
   "outputs": [],
   "source": []
  }
 ],
 "metadata": {
  "kernelspec": {
   "display_name": "Java",
   "language": "java",
   "name": "java"
  },
  "language_info": {
   "codemirror_mode": "text/x-java",
   "file_extension": ".java",
   "mimetype": "",
   "name": "Java",
   "nbconverter_exporter": "",
   "version": "1.8.0_121"
  },
  "toc": {
   "base_numbering": 1,
   "nav_menu": {},
   "number_sections": false,
   "sideBar": false,
   "skip_h1_title": false,
   "title_cell": "Table of Contents",
   "title_sidebar": "Contents",
   "toc_cell": false,
   "toc_position": {},
   "toc_section_display": false,
   "toc_window_display": false
  }
 },
 "nbformat": 4,
 "nbformat_minor": 5
}
