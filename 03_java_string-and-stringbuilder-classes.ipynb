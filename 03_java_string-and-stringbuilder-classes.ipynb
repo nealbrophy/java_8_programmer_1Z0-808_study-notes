{
 "cells": [
  {
   "cell_type": "markdown",
   "id": "a5718600",
   "metadata": {},
   "source": [
    "# Java's String and StringBuilder classes"
   ]
  },
  {
   "cell_type": "markdown",
   "id": "602ee271",
   "metadata": {},
   "source": [
    "## The `String` class\n",
    "Java's `String` class is used to access useful `String` methods and to instantiate `String` objects. There are 2 main ways to create Strings in Java:\n",
    "1. `String myString = \"this is my String\";` in this case you are creating a variable of type `String` and assigning it as a pointer to the String object \"this is my String\". We have only created one String object (the literal \"this is my String\") which is stored in the *String pool*.\n",
    "2. `String myString = new String(\"this is my String\");` here we instantiate a new String object using standard object instantiation. This is not considered best practice as we have created 2 objects, the string literal \"this is my String\" in the *String pool* and also a String object in *heap* memory which contains the same value.\n",
    "\n",
    "Method 1 is preferred as it is more memory efficient. When creating Strings using this method, Java will compare the string literal you pass in with the strings currently stored in the *pool*  and if the literal is already present, it will simply point your variable to that existing memory address.\n",
    "\n",
    "### Concatenating strings\n",
    "Strings can be concatenated using the addition symbol (`+`) or by calling the `.concat()` method on one string, passing the string to be concatenated as an argumentl (e.g. `myStringOne.concat(myStringTwo);`). When you concatenate and assign a variable pointer to the result, you are actually creating a new String object in memory. So the original string(s) and the new concatenated version will both exist in the *pool* (however, if you re-assigned the pointer for the original String to point to the new concatenated version the original likely no longer has any variables pointing to it and will eventually be automatically garbage collected).\n"
   ]
  },
  {
   "cell_type": "markdown",
   "id": "b4cdfb4d",
   "metadata": {},
   "source": [
    "### `.length()` method\n",
    "The `.length()` method can be used to determine how many characters/digits are in a string."
   ]
  },
  {
   "cell_type": "code",
   "execution_count": 1,
   "id": "88e65b05",
   "metadata": {},
   "outputs": [
    {
     "name": "stdout",
     "output_type": "stream",
     "text": [
      "12\n"
     ]
    },
    {
     "data": {
      "text/plain": [
       "null"
      ]
     },
     "execution_count": 1,
     "metadata": {},
     "output_type": "execute_result"
    }
   ],
   "source": [
    "String myString = \"Hello world!\";\n",
    "System.out.println(myString.length());"
   ]
  },
  {
   "cell_type": "markdown",
   "id": "eb6e5406",
   "metadata": {},
   "source": [
    "### `.trim()` method\n",
    "The `.trim()` method will strip leading and trailing whitespace from a string."
   ]
  },
  {
   "cell_type": "code",
   "execution_count": 4,
   "id": "9ba5387e",
   "metadata": {},
   "outputs": [
    {
     "name": "stdout",
     "output_type": "stream",
     "text": [
      "hello\n"
     ]
    },
    {
     "data": {
      "text/plain": [
       "null"
      ]
     },
     "execution_count": 4,
     "metadata": {},
     "output_type": "execute_result"
    }
   ],
   "source": [
    "String whiteSpaceString = \"            hello            \".trim();\n",
    "System.out.println(whiteSpaceString);"
   ]
  },
  {
   "cell_type": "markdown",
   "id": "9f0fcc96",
   "metadata": {},
   "source": [
    "### `.toLowerCase()` method\n",
    "The `.toLowerCase()` method converts all the characters in a string to their lowercase version.\n",
    "\n",
    "**NOTE**: the result must be stored in a variable as it doesn't mutate the original string."
   ]
  },
  {
   "cell_type": "code",
   "execution_count": 6,
   "id": "3eca2707",
   "metadata": {},
   "outputs": [
    {
     "name": "stdout",
     "output_type": "stream",
     "text": [
      "The value of originalUpperString is: HELLO WORLD\n",
      "The value of newLowerString is: hello world\n"
     ]
    },
    {
     "data": {
      "text/plain": [
       "null"
      ]
     },
     "execution_count": 6,
     "metadata": {},
     "output_type": "execute_result"
    }
   ],
   "source": [
    "String originalUpperString = \"HELLO WORLD\";\n",
    "originalUpperString.toLowerCase();\n",
    "System.out.println(\"The value of originalUpperString is: \" + originalUpperString); // outputs the original version as the string hasn't been changed\n",
    "\n",
    "String newLowerString = originalUpperString.toLowerCase();\n",
    "System.out.println(\"The value of newLowerString is: \" + newLowerString);"
   ]
  },
  {
   "cell_type": "markdown",
   "id": "bf99ee57",
   "metadata": {},
   "source": [
    "### `.indexOf()` method\n",
    "The `.indexOf()` method returns the index of whatever character is passed to it (or `-1` if it can't find the character)."
   ]
  },
  {
   "cell_type": "code",
   "execution_count": 28,
   "id": "f453ad7a",
   "metadata": {
    "scrolled": true
   },
   "outputs": [
    {
     "name": "stdout",
     "output_type": "stream",
     "text": [
      "5\n",
      "-1\n"
     ]
    },
    {
     "data": {
      "text/plain": [
       "null"
      ]
     },
     "execution_count": 28,
     "metadata": {},
     "output_type": "execute_result"
    }
   ],
   "source": [
    "String anXInside = \"helloxworld\";\n",
    "int xIndex = anXInside.indexOf(\"x\");\n",
    "System.out.println(xIndex);\n",
    "System.out.println(anXInside.indexOf(\"z\")); // -1 since there's no \"z\""
   ]
  },
  {
   "cell_type": "markdown",
   "id": "60382043",
   "metadata": {},
   "source": [
    "### `.lastIndexOf()` method\n",
    "Extracts the farthest occurence of the given letter."
   ]
  },
  {
   "cell_type": "code",
   "execution_count": 29,
   "id": "200be4fc",
   "metadata": {},
   "outputs": [
    {
     "name": "stdout",
     "output_type": "stream",
     "text": [
      "35\n"
     ]
    },
    {
     "data": {
      "text/plain": [
       "null"
      ]
     },
     "execution_count": 29,
     "metadata": {},
     "output_type": "execute_result"
    }
   ],
   "source": [
    "String s = \"You spin me right round baby right round\";\n",
    "System.out.println(s.lastIndexOf(\"round\"));"
   ]
  },
  {
   "cell_type": "markdown",
   "id": "56cf12e9",
   "metadata": {},
   "source": [
    "# Java's `StringBuilder` Class\n",
    "Java has a class called `StringBuilder` which provides a *mutable* alternative to `String`. Unlike `String`, `StringBuilder` objects need to be instantiated using the `new` keyword like any other object.\n",
    "<br>`StringBuilder myString = new StringBuilder(\"Hello\");`"
   ]
  },
  {
   "cell_type": "code",
   "execution_count": 1,
   "id": "d1d121b8",
   "metadata": {},
   "outputs": [
    {
     "name": "stdout",
     "output_type": "stream",
     "text": [
      "bar\n"
     ]
    },
    {
     "data": {
      "text/plain": [
       "null"
      ]
     },
     "execution_count": 1,
     "metadata": {},
     "output_type": "execute_result"
    }
   ],
   "source": [
    "StringBuilder foo = new StringBuilder(\"bar\");\n",
    "System.out.println(foo);"
   ]
  },
  {
   "cell_type": "markdown",
   "id": "932c6384",
   "metadata": {},
   "source": [
    "## The benefits of `StringBuilder`\n",
    "Some of the benefits of `StringBuilder` are:\n",
    "- many useful methods for manipulating value (e.g. append, delete, insert, replace)\n",
    "- better performance due to mutability (i.e. it doesn't create a new object in memory every time the string is changed)\n",
    "- can be created with an initial capacity\n",
    "\n",
    "However, using `StringBuilder` instead of `String` isn't always appropriate and some of the benefits of using `String` include:\n",
    "- possibly \"safer\" due to immutability\n",
    "- some APIs may require `String`\n",
    "- has many more methods than `StringBuilder`"
   ]
  },
  {
   "cell_type": "code",
   "execution_count": 40,
   "id": "0a2cb8bb",
   "metadata": {},
   "outputs": [
    {
     "name": "stdout",
     "output_type": "stream",
     "text": [
      "Hello\n",
      "HelloWorld?\n",
      "HelloWorld!\n",
      "HelloWorld\n",
      "Hello World\n",
      "dlroW olleH\n"
     ]
    },
    {
     "data": {
      "text/plain": [
       "null"
      ]
     },
     "execution_count": 40,
     "metadata": {},
     "output_type": "execute_result"
    }
   ],
   "source": [
    "StringBuilder myChangeableString = new StringBuilder(\"Hello\");\n",
    "System.out.println(myChangeableString);\n",
    "\n",
    "myChangeableString.append(\"World?\"); // append to the end of original string\n",
    "System.out.println(myChangeableString);\n",
    "\n",
    "myChangeableString.setCharAt(10, '!'); // change the ? char to !\n",
    "System.out.println(myChangeableString);\n",
    "\n",
    "myChangeableString.delete(10,11); // delete the character between indices 10 and 11\n",
    "System.out.println(myChangeableString);\n",
    "\n",
    "myChangeableString.insert(5, \" \"); // insert a space at index 5\n",
    "System.out.println(myChangeableString);\n",
    "\n",
    "StringBuilder myReversedString = myChangeableString.reverse(); // reverse the string\n",
    "System.out.println(myReversedString);"
   ]
  },
  {
   "cell_type": "markdown",
   "id": "fb185bb2",
   "metadata": {},
   "source": [
    "### Capacity\n",
    "StringBuilder objects have an initial capacity of 16 but this grows and shrinks as needed. At any one time the capacity is the number of characters used + 16.\n",
    "\n",
    "You can check the capacity of your StringBuilder object using it's `.capacity()` method."
   ]
  },
  {
   "cell_type": "code",
   "execution_count": 35,
   "id": "b936cf2e",
   "metadata": {},
   "outputs": [
    {
     "name": "stdout",
     "output_type": "stream",
     "text": [
      "16\n",
      "21\n",
      "35\n"
     ]
    },
    {
     "data": {
      "text/plain": [
       "null"
      ]
     },
     "execution_count": 35,
     "metadata": {},
     "output_type": "execute_result"
    }
   ],
   "source": [
    "StringBuilder sb1 = new StringBuilder();\n",
    "System.out.println(sb1.capacity());\n",
    "\n",
    "StringBuilder sb2 = new StringBuilder(\"Hello\");\n",
    "System.out.println(sb2.capacity());\n",
    "\n",
    "StringBuilder sb3 = new StringBuilder(\"Hello there world!!\");\n",
    "System.out.println(sb3.capacity());"
   ]
  },
  {
   "cell_type": "markdown",
   "id": "be44a037",
   "metadata": {},
   "source": [
    "## Comparing Strings\n",
    "Since Strings are objects, using the equality operator (`==`) is not very reliable. For example, if you have `String s1 = \"hello\"` and `String s2 = new String(\"hello\")` the equality operator will return false because you're trying to compare two different objects (even though they contain the same literal). Java provides some String comparison methods to avoid this."
   ]
  },
  {
   "cell_type": "markdown",
   "id": "b8fd61ef",
   "metadata": {},
   "source": [
    "### `.equals()` method\n",
    "This method is called on a String and has another string passed to it as an argument."
   ]
  },
  {
   "cell_type": "code",
   "execution_count": 3,
   "id": "358f2a0f",
   "metadata": {},
   "outputs": [
    {
     "name": "stdout",
     "output_type": "stream",
     "text": [
      "true\n",
      "false\n"
     ]
    },
    {
     "data": {
      "text/plain": [
       "null"
      ]
     },
     "execution_count": 3,
     "metadata": {},
     "output_type": "execute_result"
    }
   ],
   "source": [
    "String s1 = \"hello\";\n",
    "String s2 = \"hello\";\n",
    "String s3 = \"world\";\n",
    "System.out.println(s1.equals(s2)); // true\n",
    "System.out.println(s2.equals(s3)); // false"
   ]
  },
  {
   "cell_type": "markdown",
   "id": "04f3b6f1",
   "metadata": {},
   "source": [
    "### `.equalsIgnoreCase()` method\n",
    "The same as `.equals()` but ignores whether the letters are different cases."
   ]
  },
  {
   "cell_type": "code",
   "execution_count": 5,
   "id": "9a842952",
   "metadata": {},
   "outputs": [
    {
     "name": "stdout",
     "output_type": "stream",
     "text": [
      "true\n",
      "false\n"
     ]
    },
    {
     "data": {
      "text/plain": [
       "null"
      ]
     },
     "execution_count": 5,
     "metadata": {},
     "output_type": "execute_result"
    }
   ],
   "source": [
    "String s4 = \"HELlo\";\n",
    "String s5 = \"hello\";\n",
    "String s6 = \"World\";\n",
    "System.out.println(s4.equalsIgnoreCase(s5));\n",
    "System.out.println(s5.equalsIgnoreCase(s6));"
   ]
  },
  {
   "cell_type": "markdown",
   "id": "72b438e0",
   "metadata": {},
   "source": [
    "### `.compare()` method\n",
    "Will compare the lexicographical value of each character in the Strings and return an integer expressing the difference (or lack thereof) between the String it was called on and the string it was passed."
   ]
  },
  {
   "cell_type": "code",
   "execution_count": 8,
   "id": "5f3ed262",
   "metadata": {},
   "outputs": [
    {
     "name": "stdout",
     "output_type": "stream",
     "text": [
      "0\n",
      "-32\n",
      "3\n"
     ]
    },
    {
     "data": {
      "text/plain": [
       "null"
      ]
     },
     "execution_count": 8,
     "metadata": {},
     "output_type": "execute_result"
    }
   ],
   "source": [
    "String s7 = \"Hello\";\n",
    "String s8 = \"Hello\";\n",
    "String s9 = \"hello\";\n",
    "String s10 = \"Helicopter\";\n",
    "System.out.println(s7.compareTo(s8)); // 0 = no difference, the strings are the same value\n",
    "System.out.println(s7.compareTo(s9)); // -32 = s7 has a lexicographical value 32 less than s9 \n",
    "// (uppercase chars are \"less\" than lowercase as their unicode codepoint is smaller)\n",
    "System.out.println(s7.compareTo(s10)); // 3 = s7 has a lexicographical value 3 more than s10 (\"l\" > \"i\")\n",
    "// remember it's comparing the codepoint value of each character not the total length of the String"
   ]
  },
  {
   "cell_type": "markdown",
   "id": "94137870",
   "metadata": {},
   "source": [
    "### `.intern()` method\n",
    "The `.intern()` method returns a \"canonical representation\" of the String object. We know that when creating String objects Java checks if the String being created already exists in the *String pool* and if so it doesn't create a new String in the pool (even if a new object containing that String is created in heap memory)."
   ]
  },
  {
   "cell_type": "code",
   "execution_count": 42,
   "id": "63d9b64a",
   "metadata": {},
   "outputs": [
    {
     "name": "stdout",
     "output_type": "stream",
     "text": [
      "true\n"
     ]
    },
    {
     "data": {
      "text/plain": [
       "null"
      ]
     },
     "execution_count": 42,
     "metadata": {},
     "output_type": "execute_result"
    }
   ],
   "source": [
    "String myString = \"hello\";\n",
    "String myString2 = new String(\"hello\");\n",
    "System.out.println(myString.intern() == myString2.intern());"
   ]
  },
  {
   "cell_type": "markdown",
   "id": "8ef8000d",
   "metadata": {},
   "source": [
    "## Extracting characters from Strings\n",
    "There are a number of methods for extracting, working with the characters within a String."
   ]
  },
  {
   "cell_type": "markdown",
   "id": "901e515e",
   "metadata": {},
   "source": [
    "### `.charAt()` method\n",
    "This method allows you to extract the character at a specific index within the String."
   ]
  },
  {
   "cell_type": "code",
   "execution_count": 14,
   "id": "5990194b",
   "metadata": {},
   "outputs": [
    {
     "name": "stdout",
     "output_type": "stream",
     "text": [
      "o\n",
      "a\n",
      "Hello"
     ]
    },
    {
     "data": {
      "text/plain": [
       "null"
      ]
     },
     "execution_count": 14,
     "metadata": {},
     "output_type": "execute_result"
    }
   ],
   "source": [
    "String longStr = \"Hello everybody, welcome to the world of Java\";\n",
    "System.out.println(longStr.charAt(4)); // \"o\" the char at index 4\n",
    "System.out.println(longStr.charAt(longStr.length()-1)); // \"a\" the last char\n",
    "char sPart1 = longStr.charAt(0);\n",
    "char sPart2 = longStr.charAt(1);\n",
    "char sPart3 = longStr.charAt(2);\n",
    "char sPart4 = longStr.charAt(3);\n",
    "char sPart5 = longStr.charAt(4);\n",
    "System.out.printf(\"%s%s%s%s%s\", sPart1, sPart2, sPart3, sPart4, sPart5);"
   ]
  },
  {
   "cell_type": "markdown",
   "id": "dd011478",
   "metadata": {},
   "source": [
    "### `.getChars()` method\n",
    "This method will extract the characters between two passed in indices and inserts them into a charArray at a given index.\n",
    "`.getChars(startIndex, numOfCharsToExtract, charArrayToAddTo, charArrayIndex)`"
   ]
  },
  {
   "cell_type": "code",
   "execution_count": 22,
   "id": "c4e6d2b2",
   "metadata": {},
   "outputs": [
    {
     "name": "stdout",
     "output_type": "stream",
     "text": [
      "Hello world\n"
     ]
    },
    {
     "data": {
      "text/plain": [
       "null"
      ]
     },
     "execution_count": 22,
     "metadata": {},
     "output_type": "execute_result"
    }
   ],
   "source": [
    "String longStr = \"Hello everybody, welcome to the world of Java\";\n",
    "char [] extractedChars = new char [11];\n",
    "int start = 0;\n",
    "int end = 5;\n",
    "longStr.getChars(start, end, extractedChars, 0);\n",
    "extractedChars[5] = ' ';\n",
    "start = 32;\n",
    "end = 37;\n",
    "longStr.getChars(start, end, extractedChars, 6);\n",
    "System.out.println(extractedChars);"
   ]
  },
  {
   "cell_type": "markdown",
   "id": "78535a94",
   "metadata": {},
   "source": [
    "## Extracting and modifying Strings from/within Strings\n",
    "The previous methods were specifically for extracting *characters* from Strings and while you can then ouput the chars as if they were Strings, it's not very efficient. To work with Strings within Strings Java provides the below methods."
   ]
  },
  {
   "cell_type": "markdown",
   "id": "d6a54ba4",
   "metadata": {},
   "source": [
    "### `.substring()` method\n",
    "Can take X arguments. If you pass a single index, it will extract the remainder of the String starting at that index up to the end of the String. If you pass two indices, it will extract the String between them (exclusive).\n",
    "\n",
    "`String.substring(startIndex, [optional] endIndex);`"
   ]
  },
  {
   "cell_type": "code",
   "execution_count": 24,
   "id": "a0d5a6a8",
   "metadata": {},
   "outputs": [
    {
     "name": "stdout",
     "output_type": "stream",
     "text": [
      "Hello world\n"
     ]
    },
    {
     "data": {
      "text/plain": [
       "null"
      ]
     },
     "execution_count": 24,
     "metadata": {},
     "output_type": "execute_result"
    }
   ],
   "source": [
    "String longStr = \"Hello everybody, welcome to the world of Java\";\n",
    "System.out.println(longStr.substring(0, 5) + \" \" + longStr.substring(32, 37));"
   ]
  },
  {
   "cell_type": "markdown",
   "id": "f3b3594f",
   "metadata": {},
   "source": [
    "## `StringTokenizer` class **LEGACY**\n",
    "`StringTokenizer` is a class which allows you to divide a given String into \"tokens\", smaller pieces of information such as key value pairs. This class is now *legacy* and it is not recommended for use in modern Java development.\n",
    "\n",
    "To use this class you must first import it from the `java.util` package. You then instantiate a `StringTokenizer` object and pass a String to it's constructor:\n",
    "`StringTokenizer st = new StringTokenizer(\"Hello world\");`\n",
    "\n",
    "You can also pass delimiters to control what parts of the String are separated into \"tokens\":\n",
    "`StringTokenizer st = new StringTokenizer(string, delimiters);`"
   ]
  },
  {
   "cell_type": "code",
   "execution_count": 43,
   "id": "9ff67f96",
   "metadata": {},
   "outputs": [
    {
     "name": "stdout",
     "output_type": "stream",
     "text": [
      "Name: Bob\n",
      "Occupation: Teacher\n",
      "Country Of Residence: Mexico\n"
     ]
    },
    {
     "data": {
      "text/plain": [
       "null"
      ]
     },
     "execution_count": 43,
     "metadata": {},
     "output_type": "execute_result"
    }
   ],
   "source": [
    "import java.util.StringTokenizer;\n",
    "\n",
    "String s = \"Name=Bob,Occupation=Teacher,Country Of Residence=Mexico\";\n",
    "StringTokenizer st = new StringTokenizer(s, \"=,\");// create tokenizer object\n",
    "while (st.hasMoreTokens()) { // iterate through object\n",
    "    String key = st.nextToken();\n",
    "    String value = st.nextToken();\n",
    "    System.out.println(key + \": \" + value);\n",
    "}"
   ]
  }
 ],
 "metadata": {
  "kernelspec": {
   "display_name": "Java",
   "language": "java",
   "name": "java"
  },
  "language_info": {
   "codemirror_mode": "text/x-java",
   "file_extension": ".java",
   "mimetype": "",
   "name": "Java",
   "nbconverter_exporter": "",
   "version": "1.8.0_121"
  },
  "toc": {
   "base_numbering": 1,
   "nav_menu": {},
   "number_sections": false,
   "sideBar": false,
   "skip_h1_title": false,
   "title_cell": "Table of Contents",
   "title_sidebar": "Contents",
   "toc_cell": false,
   "toc_position": {},
   "toc_section_display": false,
   "toc_window_display": false
  }
 },
 "nbformat": 4,
 "nbformat_minor": 5
}
