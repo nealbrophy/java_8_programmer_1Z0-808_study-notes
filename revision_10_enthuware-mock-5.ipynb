{
 "cells": [
  {
   "cell_type": "markdown",
   "id": "a66afff6",
   "metadata": {},
   "source": [
    "# Revision notes from Enthuware Mock Test 4"
   ]
  },
  {
   "cell_type": "markdown",
   "id": "ddd1c1e4",
   "metadata": {},
   "source": [
    "## Inheritance of *state*, *type*, *implementation*\n",
    "- *Inheritace of state* refers to the inheritance of instance fields/variables.\n",
    "\n",
    "- *Inheritance of implementation* refers to the inheritance of instance methods.\n",
    "\n",
    "- *Inheritance of types* refers to Java's ability to inherit from multiple *interfaces* and/or extend from multiple *classes*."
   ]
  },
  {
   "cell_type": "markdown",
   "id": "47076cda",
   "metadata": {},
   "source": [
    "## You cannot throw a checked exception from a `catch` block unless the catch itself is nested within a `try` or...\n",
    "The method which holds the `catch` is declared to throw the checked exception."
   ]
  },
  {
   "cell_type": "code",
   "execution_count": 1,
   "id": "b9e61f53",
   "metadata": {},
   "outputs": [
    {
     "ename": "ERROR",
     "evalue": " java.lang.Exception",
     "output_type": "error",
     "traceback": [
      "\u001b[1;31mERROR: java.lang.Exception\u001b[0;0m"
     ]
    }
   ],
   "source": [
    "try {\n",
    "    throw new Exception();\n",
    "}\n",
    "\n",
    "catch (Exception e) {\n",
    "    throw new Exception();\n",
    "}"
   ]
  },
  {
   "cell_type": "markdown",
   "id": "982ea9b6",
   "metadata": {},
   "source": [
    "## Wrapper class constructors will not automatically convert larger/greater primitives\n",
    "For example, the constructor for `Short` expects a `short` primitve and will throw an error if you pass an`int` unless you cast it to a `short` first. The principle is the same as when trying to assign an `int` primitive to a `short` variable."
   ]
  },
  {
   "cell_type": "code",
   "execution_count": 9,
   "id": "608a7b84",
   "metadata": {},
   "outputs": [
    {
     "ename": "no suitable constructor found for Short(int)",
     "evalue": "no suitable constructor found for Short(int)",
     "output_type": "error",
     "traceback": [
      "\u001b[1;31mno suitable constructor found for Short(int)\u001b[0;0m",
      "\u001b[1;31m    constructor java.lang.Short.Short(short) is not applicable\u001b[0;0m",
      "\u001b[1;31m      (argument mismatch; possible lossy conversion from int to short)\u001b[0;0m",
      "\u001b[1;31m    constructor java.lang.Short.Short(java.lang.String) is not applicable\u001b[0;0m",
      "\u001b[1;31m      (argument mismatch; int cannot be converted to java.lang.String)\u001b[0;0m",
      "\u001b[1;31m Short s = new Short(7)\u001b[0;0m",
      "\u001b[1;31m           ^           ^ \u001b[0;0m"
     ]
    }
   ],
   "source": [
    "// Short constructor with an int\n",
    "Short s = new Short(7);"
   ]
  },
  {
   "cell_type": "code",
   "execution_count": 10,
   "id": "3355b6b4",
   "metadata": {},
   "outputs": [
    {
     "data": {
      "text/plain": [
       "null"
      ]
     },
     "execution_count": 10,
     "metadata": {},
     "output_type": "execute_result"
    }
   ],
   "source": [
    "// Short constructor with an int cast to a short\n",
    "Short s = new Short((short)7);"
   ]
  },
  {
   "cell_type": "markdown",
   "id": "8b5b37fd",
   "metadata": {},
   "source": [
    "## A reference to static field only initializes the class which declares that static field\n",
    "This is a tricky one; basically if you have a static field which is inherited by a child class and then during program execution that static field is referred to via the child class (e.g. `ChildClass.staticField`) this will NOT cause intialization of the child class since in this case the child class didn't declare the static field (it inherited it).\n",
    "\n",
    "So, a question about this is testing your knowledge of when/what causes initialization of a class."
   ]
  },
  {
   "cell_type": "code",
   "execution_count": 16,
   "id": "a4c8ddcd",
   "metadata": {},
   "outputs": [
    {
     "data": {
      "text/plain": [
       "test.beaker.Parent"
      ]
     },
     "execution_count": 16,
     "metadata": {},
     "output_type": "execute_result"
    }
   ],
   "source": [
    "package test.beaker;\n",
    "\n",
    "class Parent { \n",
    "    static { System.out.println(\"Parent initialized\");}\n",
    "    static String nickName; // we're declaring a static field 'nickName' in the Parent class which will be inherited by any children\n",
    "}\n",
    "\n",
    "class Mammy extends Parent { // Mammy extends Parent and so inherits the field 'nickName'\n",
    "    static {\n",
    "        System.out.println(\"Mammy initialized\");\n",
    "        nickName = \"Mammy\"; // here we're using a static initializer block to set nickName to 'Mammy'\n",
    "    } \n",
    "}"
   ]
  },
  {
   "cell_type": "code",
   "execution_count": 19,
   "id": "ffe18b19",
   "metadata": {},
   "outputs": [
    {
     "name": "stdout",
     "output_type": "stream",
     "text": [
      "null\n"
     ]
    },
    {
     "data": {
      "text/plain": [
       "null"
      ]
     },
     "execution_count": 19,
     "metadata": {},
     "output_type": "execute_result"
    }
   ],
   "source": [
    "package test.beaker;\n",
    "\n",
    "System.out.println(Mammy.nickName); // prints null\n",
    "\n",
    "// EXPLANATION: since referencing a static field only initializes the class which DECLARES that field\n",
    "// only Parent is initialized which is why we see 'Parent initialized' but not 'Mammy initialized'\n",
    "// Java essentially looks at 'nickName' and sees it is \"static\" so it goes straight to where it was declared\n",
    "// and initializes that class so that the 'nickName' field exists. Mammy never gets initialized, thus we never set the value of \n",
    "// nickName to 'Mammy'"
   ]
  },
  {
   "cell_type": "markdown",
   "id": "61a36278",
   "metadata": {},
   "source": [
    "## A `char` holding the value `0` if printed, will print a blank space\n",
    "If the `char` is cast to an `int` first, it will print `0`"
   ]
  },
  {
   "cell_type": "code",
   "execution_count": 7,
   "id": "62ff1487",
   "metadata": {},
   "outputs": [
    {
     "name": "stdout",
     "output_type": "stream",
     "text": [
      "char value: \u0000\n",
      "int value: 0\n"
     ]
    },
    {
     "data": {
      "text/plain": [
       "null"
      ]
     },
     "execution_count": 7,
     "metadata": {},
     "output_type": "execute_result"
    }
   ],
   "source": [
    "char c = 0;\n",
    "System.out.println(\"char value: \" + c);\n",
    "System.out.println(\"int value: \" + (int)c);"
   ]
  },
  {
   "cell_type": "markdown",
   "id": "33c285d4",
   "metadata": {},
   "source": [
    "## If a parent class method throws a checked exception and a child's inherited version doesn't...\n",
    "...if you try to access the child version via a parent reference, even though the overridden version of the method is contained within the object, Java will detect that the parent version of the method throws a checked exception which must be caught or handled.\n",
    "\n",
    "This sounds more confusing than it is so lets look at an example:"
   ]
  },
  {
   "cell_type": "code",
   "execution_count": 20,
   "id": "ad0adeb5",
   "metadata": {},
   "outputs": [
    {
     "data": {
      "text/plain": [
       "test.beaker.A"
      ]
     },
     "execution_count": 20,
     "metadata": {},
     "output_type": "execute_result"
    }
   ],
   "source": [
    "package test.beaker;\n",
    "\n",
    "class A {\n",
    "    protected void m() throws Exception { // this version of m() throws an exception\n",
    "        System.out.println(\"I'm the exception throwing method!\");\n",
    "    }\n",
    "}\n",
    "\n",
    "class B extends A {\n",
    "    public void m() { // this version of m() does NOT throw an exception\n",
    "        System.out.println(\"I'm the overridden method which doesn't throw an exception!\");\n",
    "    }\n",
    "}\n",
    "\n",
    "class Tester {\n",
    "    public Tester() {\n",
    "        A a = new B(); // even though this is a B object and thus contains the overridden version of m(), since we've assigned it to an A reference\n",
    "        try {          // when Java sees we're trying to call m() from an A reference it knows that A's version of that method throws a checked exception\n",
    "            a.m();     // so we have to either encase it in a try/catch or declare it to be thrown\n",
    "        }\n",
    "        catch (Exception e) {}\n",
    "        // a.m(); // here's a call to a.m() without a try/catch, if you uncomment this line you'll see that it gives a compile error\n",
    "    }\n",
    "}"
   ]
  },
  {
   "cell_type": "code",
   "execution_count": 21,
   "id": "456d5ab4",
   "metadata": {},
   "outputs": [
    {
     "name": "stdout",
     "output_type": "stream",
     "text": [
      "I'm the overridden method which doesn't throw an exception!\n"
     ]
    },
    {
     "data": {
      "text/plain": [
       "null"
      ]
     },
     "execution_count": 21,
     "metadata": {},
     "output_type": "execute_result"
    }
   ],
   "source": [
    "package test.beaker;\n",
    "\n",
    "Tester t = new Tester();"
   ]
  },
  {
   "cell_type": "markdown",
   "id": "2f44ad86",
   "metadata": {},
   "source": [
    "## String's `.replace()` method returns a new String\n",
    "This is a simple enough one to grasp but easy to overlook. As we know, calling `.replace()` on a string returns a new version of the string it's called on with whatever replacement is passed in. This doesn't change the string it's called on (as strings are immutable) but you can re-assign your string variable to point to the new string returned by `.replace()`.\n",
    "\n",
    "Since a new string is returned, if you try to compare the output of `.replace()` to another output of `.replace()` (even if the characters are the same )using the equality operator `==` it will return false; as you'd be comparing two new string objects.\n",
    "\n",
    "__However__, if you compare the original string to the output of `.replace()` but don't actually make any changes via the method it will return `true`."
   ]
  },
  {
   "cell_type": "code",
   "execution_count": 29,
   "id": "b8c2d087",
   "metadata": {},
   "outputs": [
    {
     "name": "stdout",
     "output_type": "stream",
     "text": [
      "The output of s1==s2: false\n",
      "The output of s==s3: true\n"
     ]
    },
    {
     "data": {
      "text/plain": [
       "null"
      ]
     },
     "execution_count": 29,
     "metadata": {},
     "output_type": "execute_result"
    }
   ],
   "source": [
    "String s = \"Hello\";\n",
    "String s1 = s.replace('H', 'h'); // s1 = 'hello'\n",
    "String s2 = s.replace('H', 'h'); // s2 = 'hello'\n",
    "String s3 = s.replace('o', 'o'); // s3 uses .replace() but doesn't make any changes to the original string\n",
    "System.out.println(\"The output of s1==s2: \" + (s1 == s2)); // returns false since they're two different string objects\n",
    "System.out.println(\"The output of s==s3: \" + (s == s3));"
   ]
  },
  {
   "cell_type": "code",
   "execution_count": null,
   "id": "235c8b67",
   "metadata": {},
   "outputs": [],
   "source": []
  }
 ],
 "metadata": {
  "kernelspec": {
   "display_name": "Java",
   "language": "java",
   "name": "java"
  },
  "language_info": {
   "codemirror_mode": "text/x-java",
   "file_extension": ".java",
   "mimetype": "",
   "name": "Java",
   "nbconverter_exporter": "",
   "version": "1.8.0_121"
  },
  "toc": {
   "base_numbering": 1,
   "nav_menu": {},
   "number_sections": false,
   "sideBar": false,
   "skip_h1_title": false,
   "title_cell": "Table of Contents",
   "title_sidebar": "Contents",
   "toc_cell": false,
   "toc_position": {},
   "toc_section_display": false,
   "toc_window_display": false
  }
 },
 "nbformat": 4,
 "nbformat_minor": 5
}
