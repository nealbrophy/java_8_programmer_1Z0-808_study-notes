{
 "cells": [
  {
   "cell_type": "markdown",
   "id": "a66afff6",
   "metadata": {},
   "source": [
    "# Revision notes from Enthuware Mock Test 5"
   ]
  },
  {
   "cell_type": "markdown",
   "id": "ddd1c1e4",
   "metadata": {},
   "source": [
    "## Inheritance of *state*, *type*, *implementation*\n",
    "- *Inheritace of state* refers to the inheritance of instance fields/variables.\n",
    "\n",
    "- *Inheritance of implementation* refers to the inheritance of instance methods.\n",
    "\n",
    "- *Inheritance of types* refers to Java's ability to inherit from multiple *interfaces* and/or extend from multiple *classes*."
   ]
  },
  {
   "cell_type": "markdown",
   "id": "47076cda",
   "metadata": {},
   "source": [
    "## You cannot throw a checked exception from a `catch` block unless the catch itself is nested within a `try` or...\n",
    "The method which holds the `catch` is declared to throw the checked exception."
   ]
  },
  {
   "cell_type": "code",
   "execution_count": 1,
   "id": "b9e61f53",
   "metadata": {},
   "outputs": [
    {
     "ename": "ERROR",
     "evalue": " java.lang.Exception",
     "output_type": "error",
     "traceback": [
      "\u001b[1;31mERROR: java.lang.Exception\u001b[0;0m"
     ]
    }
   ],
   "source": [
    "try {\n",
    "    throw new Exception();\n",
    "}\n",
    "\n",
    "catch (Exception e) {\n",
    "    throw new Exception();\n",
    "}"
   ]
  },
  {
   "cell_type": "markdown",
   "id": "982ea9b6",
   "metadata": {},
   "source": [
    "## Wrapper class constructors will not automatically convert larger/greater primitives\n",
    "For example, the constructor for `Short` expects a `short` primitve and will throw an error if you pass an`int` unless you cast it to a `short` first. The principle is the same as when trying to assign an `int` primitive to a `short` variable."
   ]
  },
  {
   "cell_type": "code",
   "execution_count": 9,
   "id": "608a7b84",
   "metadata": {},
   "outputs": [
    {
     "ename": "no suitable constructor found for Short(int)",
     "evalue": "no suitable constructor found for Short(int)",
     "output_type": "error",
     "traceback": [
      "\u001b[1;31mno suitable constructor found for Short(int)\u001b[0;0m",
      "\u001b[1;31m    constructor java.lang.Short.Short(short) is not applicable\u001b[0;0m",
      "\u001b[1;31m      (argument mismatch; possible lossy conversion from int to short)\u001b[0;0m",
      "\u001b[1;31m    constructor java.lang.Short.Short(java.lang.String) is not applicable\u001b[0;0m",
      "\u001b[1;31m      (argument mismatch; int cannot be converted to java.lang.String)\u001b[0;0m",
      "\u001b[1;31m Short s = new Short(7)\u001b[0;0m",
      "\u001b[1;31m           ^           ^ \u001b[0;0m"
     ]
    }
   ],
   "source": [
    "// Short constructor with an int\n",
    "Short s = new Short(7);"
   ]
  },
  {
   "cell_type": "code",
   "execution_count": 10,
   "id": "3355b6b4",
   "metadata": {},
   "outputs": [
    {
     "data": {
      "text/plain": [
       "null"
      ]
     },
     "execution_count": 10,
     "metadata": {},
     "output_type": "execute_result"
    }
   ],
   "source": [
    "// Short constructor with an int cast to a short\n",
    "Short s = new Short((short)7);"
   ]
  },
  {
   "cell_type": "markdown",
   "id": "8b5b37fd",
   "metadata": {},
   "source": [
    "## A reference to static field only initializes the class which declares that static field\n",
    "This is a tricky one; basically if you have a static field which is inherited by a child class and then during program execution that static field is referred to via the child class (e.g. `ChildClass.staticField`) this will NOT cause intialization of the child class since in this case the child class didn't declare the static field (it inherited it).\n",
    "\n",
    "So, a question about this is testing your knowledge of when/what causes initialization of a class."
   ]
  },
  {
   "cell_type": "code",
   "execution_count": 16,
   "id": "a4c8ddcd",
   "metadata": {},
   "outputs": [
    {
     "data": {
      "text/plain": [
       "test.beaker.Parent"
      ]
     },
     "execution_count": 16,
     "metadata": {},
     "output_type": "execute_result"
    }
   ],
   "source": [
    "package test.beaker;\n",
    "\n",
    "class Parent { \n",
    "    static { System.out.println(\"Parent initialized\");}\n",
    "    static String nickName; // we're declaring a static field 'nickName' in the Parent class which will be inherited by any children\n",
    "}\n",
    "\n",
    "class Mammy extends Parent { // Mammy extends Parent and so inherits the field 'nickName'\n",
    "    static {\n",
    "        System.out.println(\"Mammy initialized\");\n",
    "        nickName = \"Mammy\"; // here we're using a static initializer block to set nickName to 'Mammy'\n",
    "    } \n",
    "}"
   ]
  },
  {
   "cell_type": "code",
   "execution_count": 19,
   "id": "ffe18b19",
   "metadata": {},
   "outputs": [
    {
     "name": "stdout",
     "output_type": "stream",
     "text": [
      "null\n"
     ]
    },
    {
     "data": {
      "text/plain": [
       "null"
      ]
     },
     "execution_count": 19,
     "metadata": {},
     "output_type": "execute_result"
    }
   ],
   "source": [
    "package test.beaker;\n",
    "\n",
    "System.out.println(Mammy.nickName); // prints null\n",
    "\n",
    "// EXPLANATION: since referencing a static field only initializes the class which DECLARES that field\n",
    "// only Parent is initialized which is why we see 'Parent initialized' but not 'Mammy initialized'\n",
    "// Java essentially looks at 'nickName' and sees it is \"static\" so it goes straight to where it was declared\n",
    "// and initializes that class so that the 'nickName' field exists. Mammy never gets initialized, thus we never set the value of \n",
    "// nickName to 'Mammy'"
   ]
  },
  {
   "cell_type": "markdown",
   "id": "61a36278",
   "metadata": {},
   "source": [
    "## A `char` holding the value `0` if printed, will print a blank space\n",
    "If the `char` is cast to an `int` first, it will print `0`"
   ]
  },
  {
   "cell_type": "code",
   "execution_count": 7,
   "id": "62ff1487",
   "metadata": {},
   "outputs": [
    {
     "name": "stdout",
     "output_type": "stream",
     "text": [
      "char value: \u0000\n",
      "int value: 0\n"
     ]
    },
    {
     "data": {
      "text/plain": [
       "null"
      ]
     },
     "execution_count": 7,
     "metadata": {},
     "output_type": "execute_result"
    }
   ],
   "source": [
    "char c = 0;\n",
    "System.out.println(\"char value: \" + c);\n",
    "System.out.println(\"int value: \" + (int)c);"
   ]
  },
  {
   "cell_type": "markdown",
   "id": "33c285d4",
   "metadata": {},
   "source": [
    "## If a parent class method throws a checked exception and a child's inherited version doesn't...\n",
    "...if you try to access the child version via a parent reference, even though the overridden version of the method is contained within the object, Java will detect that the parent version of the method throws a checked exception which must be caught or handled.\n",
    "\n",
    "This sounds more confusing than it is so lets look at an example:"
   ]
  },
  {
   "cell_type": "code",
   "execution_count": 20,
   "id": "ad0adeb5",
   "metadata": {},
   "outputs": [
    {
     "data": {
      "text/plain": [
       "test.beaker.A"
      ]
     },
     "execution_count": 20,
     "metadata": {},
     "output_type": "execute_result"
    }
   ],
   "source": [
    "package test.beaker;\n",
    "\n",
    "class A {\n",
    "    protected void m() throws Exception { // this version of m() throws an exception\n",
    "        System.out.println(\"I'm the exception throwing method!\");\n",
    "    }\n",
    "}\n",
    "\n",
    "class B extends A {\n",
    "    public void m() { // this version of m() does NOT throw an exception\n",
    "        System.out.println(\"I'm the overridden method which doesn't throw an exception!\");\n",
    "    }\n",
    "}\n",
    "\n",
    "class Tester {\n",
    "    public Tester() {\n",
    "        A a = new B(); // even though this is a B object and thus contains the overridden version of m(), since we've assigned it to an A reference\n",
    "        try {          // when Java sees we're trying to call m() from an A reference it knows that A's version of that method throws a checked exception\n",
    "            a.m();     // so we have to either encase it in a try/catch or declare it to be thrown\n",
    "        }\n",
    "        catch (Exception e) {}\n",
    "        // a.m(); // here's a call to a.m() without a try/catch, if you uncomment this line you'll see that it gives a compile error\n",
    "    }\n",
    "}"
   ]
  },
  {
   "cell_type": "code",
   "execution_count": 21,
   "id": "456d5ab4",
   "metadata": {},
   "outputs": [
    {
     "name": "stdout",
     "output_type": "stream",
     "text": [
      "I'm the overridden method which doesn't throw an exception!\n"
     ]
    },
    {
     "data": {
      "text/plain": [
       "null"
      ]
     },
     "execution_count": 21,
     "metadata": {},
     "output_type": "execute_result"
    }
   ],
   "source": [
    "package test.beaker;\n",
    "\n",
    "Tester t = new Tester();"
   ]
  },
  {
   "cell_type": "markdown",
   "id": "2f44ad86",
   "metadata": {},
   "source": [
    "## String's `.replace()` method returns a new String\n",
    "This is a simple enough one to grasp but easy to overlook. As we know, calling `.replace()` on a string returns a new version of the string it's called on with whatever replacement is passed in. This doesn't change the string it's called on (as strings are immutable) but you can re-assign your string variable to point to the new string returned by `.replace()`.\n",
    "\n",
    "Since a new string is returned, if you try to compare the output of `.replace()` to another output of `.replace()` (even if the characters are the same )using the equality operator `==` it will return false; as you'd be comparing two new string objects.\n",
    "\n",
    "__However__, if you compare the original string to the output of `.replace()` but don't actually make any changes via the method it will return `true`."
   ]
  },
  {
   "cell_type": "code",
   "execution_count": 29,
   "id": "b8c2d087",
   "metadata": {
    "scrolled": true
   },
   "outputs": [
    {
     "name": "stdout",
     "output_type": "stream",
     "text": [
      "The output of s1==s2: false\n",
      "The output of s==s3: true\n"
     ]
    },
    {
     "data": {
      "text/plain": [
       "null"
      ]
     },
     "execution_count": 29,
     "metadata": {},
     "output_type": "execute_result"
    }
   ],
   "source": [
    "String s = \"Hello\";\n",
    "String s1 = s.replace('H', 'h'); // s1 = 'hello'\n",
    "String s2 = s.replace('H', 'h'); // s2 = 'hello'\n",
    "String s3 = s.replace('o', 'o'); // s3 uses .replace() but doesn't make any changes to the original string\n",
    "System.out.println(\"The output of s1==s2: \" + (s1 == s2)); // returns false since they're two different string objects\n",
    "System.out.println(\"The output of s==s3: \" + (s == s3));"
   ]
  },
  {
   "cell_type": "markdown",
   "id": "140b5a21",
   "metadata": {},
   "source": [
    "## *CONSTANT* values up to an `int` can be assigned to variables of lesser size (e.g. `short`, `byte`) providing that the value fits\n",
    "So, assigning an `int` variable to a `short` or `byte` will cause an error *unless* the `int` is `final` (i.e. a constant)."
   ]
  },
  {
   "cell_type": "code",
   "execution_count": 5,
   "id": "235c8b67",
   "metadata": {},
   "outputs": [
    {
     "data": {
      "text/plain": [
       "null"
      ]
     },
     "execution_count": 5,
     "metadata": {},
     "output_type": "execute_result"
    }
   ],
   "source": [
    "// a final int (a constant) = NO ERROR\n",
    "final int i = 85;\n",
    "short s = i;"
   ]
  },
  {
   "cell_type": "code",
   "execution_count": 6,
   "id": "12fbaf2c",
   "metadata": {},
   "outputs": [
    {
     "ename": "incompatible types",
     "evalue": " possible lossy conversion from int to short",
     "output_type": "error",
     "traceback": [
      "\u001b[1;31mincompatible types: possible lossy conversion from int to short\u001b[0;0m",
      "\u001b[1;31m short s = i\u001b[0;0m",
      "\u001b[1;31m           ^^ \u001b[0;0m"
     ]
    }
   ],
   "source": [
    "// an int variable = ERROR\n",
    "int i = 85;\n",
    "short s = i;"
   ]
  },
  {
   "cell_type": "markdown",
   "id": "4a50a5f9",
   "metadata": {},
   "source": [
    "## Operands of mathematical operators are ALWAYS promoted to *at least* an `int`\n",
    "So, any time you perform a mathematical operation on an integral type it will be promoted to *at least* an `int`. This means you need to be careful when assigning the outcome of those operations even if you know the outcome would fit into a smaller type (such as `short` or `byte`) Java will have already promoted the operands to at least an `int` and you would need to either assign to an `int` or cast back down to a `byte`/`short`."
   ]
  },
  {
   "cell_type": "code",
   "execution_count": 7,
   "id": "7a897b8c",
   "metadata": {},
   "outputs": [
    {
     "ename": "incompatible types",
     "evalue": " possible lossy conversion from int to byte",
     "output_type": "error",
     "traceback": [
      "\u001b[1;31mincompatible types: possible lossy conversion from int to byte\u001b[0;0m",
      "\u001b[1;31m byte result = b1 + b2\u001b[0;0m",
      "\u001b[1;31m               ^      ^ \u001b[0;0m"
     ]
    }
   ],
   "source": [
    "byte b1 = 5;\n",
    "byte b2 = 2;\n",
    "byte result = b1 + b2; // Error as you're trying to assign an int to a byte"
   ]
  },
  {
   "cell_type": "code",
   "execution_count": 9,
   "id": "5b78f6a2",
   "metadata": {},
   "outputs": [
    {
     "data": {
      "text/plain": [
       "null"
      ]
     },
     "execution_count": 9,
     "metadata": {},
     "output_type": "execute_result"
    }
   ],
   "source": [
    "byte b1 = 5;\n",
    "byte b2 = 2;\n",
    "byte result = (byte)(b1+b2); // casting the result of the operation (note the parentheses) to a byte works"
   ]
  },
  {
   "cell_type": "markdown",
   "id": "d9424861",
   "metadata": {},
   "source": [
    "## Compount assignment operators (`+=`, `*=` etc) have an internal cast to the original type\n",
    "So, when you do `variable1 *= variable2` the operation is equivalent to `variable1 = (variable1-type)(variable1 * variable2)`. This can have unexpected results if you're not mindful."
   ]
  },
  {
   "cell_type": "code",
   "execution_count": 11,
   "id": "9e1e4423",
   "metadata": {},
   "outputs": [
    {
     "name": "stdout",
     "output_type": "stream",
     "text": [
      "20\n"
     ]
    },
    {
     "data": {
      "text/plain": [
       "null"
      ]
     },
     "execution_count": 11,
     "metadata": {},
     "output_type": "execute_result"
    }
   ],
   "source": [
    "short s = 1;\n",
    "s *= 20.57; // this is equivalent to: s = (short)(s * 20.57) so the result will automatically be cast back to a short\n",
    "System.out.println(s);"
   ]
  },
  {
   "cell_type": "markdown",
   "id": "3fa75a00",
   "metadata": {},
   "source": [
    "## REMEMBER: A `ClassCastException` is a `RuntimeException` NOT a compile-time error\n",
    "This is something I seem to struggle to remember; if you try to cast an object of class `A` to a `B` type where `B` is a child of `A`, you will get a `java.lang.ClassCastException` which is a `Runtime` exception NOT a compile-time error."
   ]
  },
  {
   "cell_type": "code",
   "execution_count": 12,
   "id": "bb4d442e",
   "metadata": {},
   "outputs": [
    {
     "data": {
      "text/plain": [
       "test.beaker.A"
      ]
     },
     "execution_count": 12,
     "metadata": {},
     "output_type": "execute_result"
    }
   ],
   "source": [
    "package test.beaker;\n",
    "\n",
    "class A {}\n",
    "class B extends A {}"
   ]
  },
  {
   "cell_type": "code",
   "execution_count": 14,
   "id": "b054ac72",
   "metadata": {},
   "outputs": [
    {
     "ename": "ERROR",
     "evalue": " java.lang.ClassCastException",
     "output_type": "error",
     "traceback": [
      "\u001b[1;31mERROR: java.lang.ClassCastException: test.beaker.A cannot be cast to test.beaker.B\u001b[0;0m"
     ]
    }
   ],
   "source": [
    "package test.beaker;\n",
    "\n",
    "A a = new A();\n",
    "B b = new B();\n",
    "b = (B) a; // we're trying to fit an A-type object into a B-type reference, if the object was a B-type assigned to an A reference casting it to a B would work"
   ]
  },
  {
   "cell_type": "code",
   "execution_count": 16,
   "id": "c5ffdbdb",
   "metadata": {},
   "outputs": [
    {
     "data": {
      "text/plain": [
       "null"
      ]
     },
     "execution_count": 16,
     "metadata": {},
     "output_type": "execute_result"
    }
   ],
   "source": [
    "package test.beaker;\n",
    "\n",
    "A a = new B();\n",
    "B b = (B) a; // casting here works because the inner object is already B-type, it's just assigned to an A reference"
   ]
  },
  {
   "cell_type": "markdown",
   "id": "c3490058",
   "metadata": {},
   "source": [
    "## `StringBuilder` does NOT have a `trim()` method\n",
    "`.trim()` is a `String` method, not `StringBuilder`."
   ]
  },
  {
   "cell_type": "markdown",
   "id": "1d411577",
   "metadata": {},
   "source": [
    "## Watch out for sneaky questions that include confusing or bad code but nest it within a loop that will never be executed\n",
    "Be careful to examine the conditions of any loop to ensure it will actually execute before making any determinations about the code within the loop. A question may include code which will definitely throw an exception but nest it within a `while` loop that never executes and thus no exception is thrown."
   ]
  },
  {
   "cell_type": "code",
   "execution_count": 19,
   "id": "40345150",
   "metadata": {},
   "outputs": [
    {
     "data": {
      "text/plain": [
       "test.beaker.Dodgy"
      ]
     },
     "execution_count": 19,
     "metadata": {},
     "output_type": "execute_result"
    }
   ],
   "source": [
    "package test.beaker;\n",
    "\n",
    "class Dodgy {\n",
    "    static int sint = 4;\n",
    "    public Dodgy() {\n",
    "        while(sint > 5) {\n",
    "            throw new ArithmeticException();\n",
    "        }\n",
    "        System.out.println(\"No exception\");\n",
    "    }\n",
    "}"
   ]
  },
  {
   "cell_type": "code",
   "execution_count": 20,
   "id": "038959b2",
   "metadata": {},
   "outputs": [
    {
     "name": "stdout",
     "output_type": "stream",
     "text": [
      "No exception\n"
     ]
    },
    {
     "data": {
      "text/plain": [
       "null"
      ]
     },
     "execution_count": 20,
     "metadata": {},
     "output_type": "execute_result"
    }
   ],
   "source": [
    "package test.beaker;\n",
    "\n",
    "Dodgy d = new Dodgy();"
   ]
  },
  {
   "cell_type": "markdown",
   "id": "c9f636b3",
   "metadata": {},
   "source": [
    "## The exam may include a question which asks you about how an existing program could be changed to fit new requirements\n",
    "Be mindful that such a question may be asking you to make a judgement about whether such revisions to an existing program would break other programs which make use of the code. So, you be given a piece of code and asked *how could you change the output of X without causing problems for other existing programs that make use of the code?*. In such a case the correct answer *may* be that you can't accomplish the goal, particularly if the desired outcome requires making previously `public` fields/methods `private`."
   ]
  },
  {
   "cell_type": "markdown",
   "id": "95362724",
   "metadata": {},
   "source": [
    "## Be mindful of parentheses placement when casting floating-point numbers\n",
    "This is simple enough but worth keeping in mind, that the outcome of an operation can vary widely depending on the placement of parentheses when casting floating-point numbers."
   ]
  },
  {
   "cell_type": "code",
   "execution_count": 23,
   "id": "5b99e802",
   "metadata": {},
   "outputs": [
    {
     "name": "stdout",
     "output_type": "stream",
     "text": [
      "17\n",
      "18\n"
     ]
    },
    {
     "data": {
      "text/plain": [
       "null"
      ]
     },
     "execution_count": 23,
     "metadata": {},
     "output_type": "execute_result"
    }
   ],
   "source": [
    "float f = 5.4f;\n",
    "double d = 12.7;\n",
    "\n",
    "int a = (int) f + (int) d; // here we're casting the values of 'f' and 'd' to int BEFORE the operation which means 5 + 12 and that\n",
    "System.out.println(a);\n",
    "\n",
    "int b = (int)(f + d); // here we're casting the output of 'f + d' to an int which means 5.4 + 12.7 = 18.1 then casts to 18\n",
    "System.out.println(b);"
   ]
  },
  {
   "cell_type": "markdown",
   "id": "1551e90b",
   "metadata": {},
   "source": [
    "## A `break` without a label always breaks the innermost loop\n",
    "Simple but worth repeating."
   ]
  },
  {
   "cell_type": "markdown",
   "id": "afdb07c4",
   "metadata": {},
   "source": [
    "## REMEMBER: Chained `if` and `else` act like opening and closing braces\n",
    "Any `else` is automatically assumed to pair with it's closest un-elsed `if` working outward from the innermost pair. So, if you chain multiple `if`/`else` just be mindful that each `else` acts as a closing brace for the previous un-closed `if` and works from the innermost nested pair outward."
   ]
  },
  {
   "cell_type": "code",
   "execution_count": 26,
   "id": "8c0de5ce",
   "metadata": {},
   "outputs": [
    {
     "name": "stdout",
     "output_type": "stream",
     "text": [
      "SECOND If\n"
     ]
    },
    {
     "data": {
      "text/plain": [
       "null"
      ]
     },
     "execution_count": 26,
     "metadata": {},
     "output_type": "execute_result"
    }
   ],
   "source": [
    "boolean bool = true;\n",
    "\n",
    "if (bool)\n",
    "if (bool)\n",
    "System.out.println(\"SECOND If\"); // I execute if both IFs are true\n",
    "else\n",
    "System.out.println(\"Else for SECOND If\"); // I can never be reached\n",
    "else\n",
    "System.out.println(\"Else for FIRST If\"); // I execute if the FIRST If is false"
   ]
  },
  {
   "cell_type": "markdown",
   "id": "31d5b171",
   "metadata": {},
   "source": [
    "## When instantiating objects of a child class there is always an implicit call to `super()` inserted by the JVM\n",
    "Even when you define a constructor for your child object and don't explicitly call `super()`, Java will automatically insert such a call for you. This is why it's important to be mindful of whether or not a super-class has a no-argument constructor (if not you need to make sure to explicitly call `super()` with the required arguments)."
   ]
  },
  {
   "cell_type": "markdown",
   "id": "af457245",
   "metadata": {},
   "source": [
    "## When casting an object you are telling the compiler that at runtime the object will refer to an object of the type being cast\n",
    "The compiler will check if it's __possible__ for the object in question to be of the type in your cast (i.e. that they are related), however, since no objects have been instantiated at compile-time there's no way to know for certain; it's possible that at runtime the object in question won't actually be the type you said it would and the result is a `ClassCastException`.\n",
    "\n",
    "If the compiler can tell that the cast in question is never possible because it's not possible for the object being cast to be of the type it's casting to, then you'll get a compiler error."
   ]
  },
  {
   "cell_type": "code",
   "execution_count": 35,
   "id": "027c31b2",
   "metadata": {},
   "outputs": [
    {
     "data": {
      "text/plain": [
       "test.beaker.Super"
      ]
     },
     "execution_count": 35,
     "metadata": {},
     "output_type": "execute_result"
    }
   ],
   "source": [
    "package test.beaker;\n",
    "\n",
    "class Super {}\n",
    "\n",
    "class Sub1 extends Super {}\n",
    "\n",
    "class Sub2 extends Super {}"
   ]
  },
  {
   "cell_type": "code",
   "execution_count": 39,
   "id": "9a37a427",
   "metadata": {},
   "outputs": [
    {
     "ename": "ERROR",
     "evalue": " java.lang.ClassCastException",
     "output_type": "error",
     "traceback": [
      "\u001b[1;31mERROR: java.lang.ClassCastException: test.beaker.Super cannot be cast to test.beaker.Sub1\u001b[0;0m"
     ]
    }
   ],
   "source": [
    "package test.beaker;\n",
    "\n",
    "// Example where it passes compile but throws an error at runtime\n",
    "\n",
    "Super sup = new Super();\n",
    "Sub1 sub1 = new Sub1();\n",
    "Sub2 sub2 = new Sub2();\n",
    "\n",
    "sub1 = (Sub1) sup;"
   ]
  },
  {
   "cell_type": "code",
   "execution_count": 41,
   "id": "c5789ce2",
   "metadata": {},
   "outputs": [
    {
     "ename": "incompatible types",
     "evalue": " test.beaker.Sub2 cannot be converted to test.beaker.Sub1",
     "output_type": "error",
     "traceback": [
      "\u001b[1;31mincompatible types: test.beaker.Sub2 cannot be converted to test.beaker.Sub1\u001b[0;0m",
      "\u001b[1;31m sub1Again = (Sub2) sub2Again\u001b[0;0m",
      "\u001b[1;31m             ^               ^ \u001b[0;0m"
     ]
    }
   ],
   "source": [
    "package test.beaker;\n",
    "\n",
    "// Example where it fails at compile time\n",
    "Super supAgain = new Super();\n",
    "Sub1 sub1Again = new Sub1();\n",
    "Sub2 sub2Again = new Sub2();\n",
    "sub1Again = (Sub2) sub2Again;"
   ]
  },
  {
   "cell_type": "markdown",
   "id": "32f41e93",
   "metadata": {},
   "source": [
    "## `Booleab.TRUE` and `Boolean.FALSE` are *constant* wrapper OBJECTS\n",
    "So, if a method returns either of these it is return a Boolean object not the primitive values `false` or `true`."
   ]
  },
  {
   "cell_type": "markdown",
   "id": "cfd02aed",
   "metadata": {},
   "source": [
    "## Wrapper class' `.parse<type>()` methods return primitives not objects\n",
    "The `.valueOf()` method will return an object of the wrapper type but the `parse` methods simply return the primitive value of the argument passed."
   ]
  },
  {
   "cell_type": "markdown",
   "id": "f2122fac",
   "metadata": {},
   "source": [
    "## When accessing fields/variables via an object, it is the type of the *reference variable* that you need to pay attention to\n",
    "Unlike instance methods which are determined by the *object type*, data (fields/variables) is determined by the type of the *reference variable* which is pointing to the object."
   ]
  },
  {
   "cell_type": "code",
   "execution_count": 50,
   "id": "a46c414d",
   "metadata": {},
   "outputs": [
    {
     "data": {
      "text/plain": [
       "test.beaker.Balloon"
      ]
     },
     "execution_count": 50,
     "metadata": {},
     "output_type": "execute_result"
    }
   ],
   "source": [
    "package test.beaker;\n",
    "\n",
    "class Balloon {\n",
    "    boolean willFloat = false;\n",
    "    \n",
    "    public String letGo() {\n",
    "        return \"Sinks to ground\";\n",
    "    }\n",
    "}\n",
    "\n",
    "class HeliumBalloon extends Balloon {\n",
    "    boolean willFloat = true; // hides the willFloat variable IF ACCESSED VIA a HeliumBalloon REFERENCE\n",
    "    \n",
    "    public String letGo() { // overrides the letGo() method if access via a HeliumBalloon OBJECT\n",
    "        return \"Floats away\";\n",
    "    }\n",
    "}"
   ]
  },
  {
   "cell_type": "code",
   "execution_count": 54,
   "id": "168583c8",
   "metadata": {},
   "outputs": [
    {
     "name": "stdout",
     "output_type": "stream",
     "text": [
      "\n",
      "Balloon ref + HeliumBalloon obj:\n",
      "Will I float... false\n",
      "Let's try... Floats away\n",
      "\n",
      "HeliumBalloon ref + HeliumBalloon obj:\n",
      "Will I float... true\n",
      "Let's try... Floats away\n",
      "\n",
      "Balloon ref + Balloon obj:\n",
      "Will I float... false\n",
      "Let's try... Sinks to ground\n"
     ]
    },
    {
     "data": {
      "text/plain": [
       "null"
      ]
     },
     "execution_count": 54,
     "metadata": {},
     "output_type": "execute_result"
    }
   ],
   "source": [
    "package test.beaker;\n",
    "\n",
    "Balloon b1 = new HeliumBalloon();\n",
    "System.out.println(\"\\nBalloon ref + HeliumBalloon obj:\");\n",
    "System.out.println(\"Will I float... \" + b1.willFloat + \"\\nLet's try... \" + b1.letGo());\n",
    "\n",
    "HeliumBalloon b2 = new HeliumBalloon();\n",
    "System.out.println(\"\\nHeliumBalloon ref + HeliumBalloon obj:\");\n",
    "System.out.println(\"Will I float... \" + b2.willFloat + \"\\nLet's try... \" + b2.letGo());\n",
    "\n",
    "Balloon b3 = new Balloon();\n",
    "System.out.println(\"\\nBalloon ref + Balloon obj:\");\n",
    "System.out.println(\"Will I float... \" + b3.willFloat + \"\\nLet's try... \" + b3.letGo());"
   ]
  },
  {
   "cell_type": "markdown",
   "id": "f9794d04",
   "metadata": {},
   "source": [
    "## None of the wrapper classes have a no-argument constructor\n",
    "They all expect an agument to be passed when creating a new object."
   ]
  },
  {
   "cell_type": "markdown",
   "id": "a3c23dba",
   "metadata": {},
   "source": [
    "## REMEMBER: `null` can always be passed where an object argument is expected\n",
    "This means that if you have an overridden method with several versions expecting an object argument and you pass `null` to the method, since several version can accept `null` the most specific version will be used."
   ]
  },
  {
   "cell_type": "code",
   "execution_count": 55,
   "id": "77c0ff69",
   "metadata": {},
   "outputs": [
    {
     "data": {
      "text/plain": [
       "test.beaker.SpecificityExample"
      ]
     },
     "execution_count": 55,
     "metadata": {},
     "output_type": "execute_result"
    }
   ],
   "source": [
    "package test.beaker;\n",
    "\n",
    "class SpecificityExample {\n",
    "    public void exMethod(Object o) {\n",
    "        System.out.println(\"I expect an object, which is the ultimate parent class and thus I'm the LEAST specific method\");\n",
    "    }\n",
    "    \n",
    "    public void exMethod(java.io.IOException io) {\n",
    "        System.out.println(\"I expect an IOException object which is more specific than object\");\n",
    "    }\n",
    "    \n",
    "    public void exMethod(java.io.FileNotFoundException fnf) {\n",
    "        System.out.println(\"I expect a FileNotFoundException which is more specific than IOException and thus I'm the MOST specific method\");\n",
    "    }\n",
    "}"
   ]
  },
  {
   "cell_type": "code",
   "execution_count": 56,
   "id": "1d732f2b",
   "metadata": {},
   "outputs": [
    {
     "name": "stdout",
     "output_type": "stream",
     "text": [
      "I expect a FileNotFoundException which is more specific than IOException and thus I'm the MOST specific method\n"
     ]
    },
    {
     "data": {
      "text/plain": [
       "null"
      ]
     },
     "execution_count": 56,
     "metadata": {},
     "output_type": "execute_result"
    }
   ],
   "source": [
    "package test.beaker;\n",
    "\n",
    "SpecificityExample se = new SpecificityExample();\n",
    "se.exMethod(null);"
   ]
  },
  {
   "cell_type": "code",
   "execution_count": null,
   "id": "f459e5be",
   "metadata": {},
   "outputs": [],
   "source": []
  }
 ],
 "metadata": {
  "kernelspec": {
   "display_name": "Java",
   "language": "java",
   "name": "java"
  },
  "language_info": {
   "codemirror_mode": "text/x-java",
   "file_extension": ".java",
   "mimetype": "",
   "name": "Java",
   "nbconverter_exporter": "",
   "version": "1.8.0_121"
  },
  "toc": {
   "base_numbering": 1,
   "nav_menu": {},
   "number_sections": false,
   "sideBar": false,
   "skip_h1_title": false,
   "title_cell": "Table of Contents",
   "title_sidebar": "Contents",
   "toc_cell": false,
   "toc_position": {},
   "toc_section_display": false,
   "toc_window_display": false
  }
 },
 "nbformat": 4,
 "nbformat_minor": 5
}
